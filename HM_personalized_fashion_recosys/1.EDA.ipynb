{
 "cells": [
  {
   "cell_type": "markdown",
   "metadata": {
    "id": "vY-xbZyAjXQ_"
   },
   "source": [
    "# H&M Personalized Fashion 1/2 - Exploratory Data Analysis\n",
    "\n",
    "---\n",
    "\n",
    "## Introduction\n",
    "\n",
    "__H&M Group__ is a family of brands and businesses with 53 online markets and approximately 4,850 stores. The online store offers shoppers an extensive selection of products to browse through. But with too many choices, customers might not quickly find what interests them or what they are looking for, and ultimately, they might not make a purchase. To enhance the shopping experience, __product recommendations are key__. More importantly, helping customers make the right choices also has a positive implications for sustainability, as it reduces returns, and thereby minimizes emissions from transportation.\n",
    "\n",
    "The goal of this data science challenge is to develop product recommendations __based on data from previous transactions, as well as from customer and product meta data__. The available meta data spans from simple data, such as garment type and customer age, to text data from product descriptions, to image data from garment images. _Here we're not going to use the images_.\n",
    "\n",
    "\n",
    "This project is divided in 2 parts:\n",
    "  - the first one (this notebook) is an EDA in order to gain insights from the available datasets, and to know how to prepare the dataset for the 2nd step\n",
    "  - in a second notebook: we'll use the python library _LightFM_ to build different recommendations models.\n",
    "\n",
    "---\n",
    "\n",
    "## First insight\n",
    "\n",
    "Let's start by importing all the libraries we're going to use, and load the three datasets relative to the customers, articles and transactions:"
   ]
  },
  {
   "cell_type": "code",
   "execution_count": null,
   "metadata": {
    "colab": {
     "base_uri": "https://localhost:8080/"
    },
    "executionInfo": {
     "elapsed": 94667,
     "status": "ok",
     "timestamp": 1689945571832,
     "user": {
      "displayName": "jean rochefort",
      "userId": "04520792891621341900"
     },
     "user_tz": -120
    },
    "id": "pqsBPm2ou_TQ",
    "outputId": "bf1ae7ef-0924-47cd-8b27-fc140adb7b0d"
   },
   "outputs": [
    {
     "name": "stdout",
     "output_type": "stream",
     "text": [
      "Drive already mounted at /content/drive; to attempt to forcibly remount, call drive.mount(\"/content/drive\", force_remount=True).\n"
     ]
    }
   ],
   "source": [
    "import numpy as np\n",
    "import pandas as pd\n",
    "\n",
    "import matplotlib.pyplot as plt\n",
    "import seaborn as sns\n",
    "import plotly.express as px\n",
    "\n",
    "# plotly as pandas backend\n",
    "# pd.options.plotting.backend = \"plotly\"\n",
    "\n",
    "\n",
    "\n",
    "import os\n",
    "from scipy import sparse\n",
    "\n",
    "ENV = \"COLAB\"  # \"LOCAL\"  #\n",
    "\n",
    "if ENV == \"COLAB\":\n",
    "    from google.colab import drive\n",
    "    drive.mount('/content/drive')\n",
    "    dir_path = \"drive/MyDrive/recomm/projet/\"\n",
    "else:\n",
    "    dir_path = \"../../../dataset/\"\n",
    "\n",
    "\n",
    "file_customers = \"customers.csv\"\n",
    "file_articles = \"articles.csv\"\n",
    "file_transactions = \"transactions_train.csv\"\n",
    "\n",
    "\n",
    "df_customers = pd.read_csv(dir_path + file_customers)\n",
    "df_articles = pd.read_csv(dir_path + file_articles)\n",
    "df_transactions = pd.read_csv(dir_path + file_transactions)"
   ]
  },
  {
   "cell_type": "markdown",
   "metadata": {
    "id": "_M3RsPaEjXRG"
   },
   "source": [
    "Usually informations on the customers are more used for marketings (clustering / segmentation & KYC) purpose rather than for building the recommendation system. In order to get a big picture, we can start by a description of each datasets' features (type, number & percentage of missing values, number & percentage of unique values and so on):\n",
    "\n",
    "__Metadata for each `customer_id` in dataset__"
   ]
  },
  {
   "cell_type": "code",
   "execution_count": null,
   "metadata": {
    "colab": {
     "base_uri": "https://localhost:8080/",
     "height": 269
    },
    "executionInfo": {
     "elapsed": 6219,
     "status": "ok",
     "timestamp": 1689945578028,
     "user": {
      "displayName": "jean rochefort",
      "userId": "04520792891621341900"
     },
     "user_tz": -120
    },
    "id": "K_ePjHIh7sk4",
    "outputId": "2863c299-1994-4dc2-dc2c-2ff65b797e7f"
   },
   "outputs": [
    {
     "data": {
      "text/html": [
       "\n",
       "\n",
       "  <div id=\"df-51922206-0239-4654-bc83-ce53fedf13ff\">\n",
       "    <div class=\"colab-df-container\">\n",
       "      <div>\n",
       "<style scoped>\n",
       "    .dataframe tbody tr th:only-of-type {\n",
       "        vertical-align: middle;\n",
       "    }\n",
       "\n",
       "    .dataframe tbody tr th {\n",
       "        vertical-align: top;\n",
       "    }\n",
       "\n",
       "    .dataframe thead th {\n",
       "        text-align: right;\n",
       "    }\n",
       "</style>\n",
       "<table border=\"1\" class=\"dataframe\">\n",
       "  <thead>\n",
       "    <tr style=\"text-align: right;\">\n",
       "      <th></th>\n",
       "      <th>feature</th>\n",
       "      <th>type</th>\n",
       "      <th># null</th>\n",
       "      <th>% null</th>\n",
       "      <th># unique</th>\n",
       "      <th>% unique</th>\n",
       "      <th>sample</th>\n",
       "    </tr>\n",
       "  </thead>\n",
       "  <tbody>\n",
       "    <tr>\n",
       "      <th>0</th>\n",
       "      <td>customer_id</td>\n",
       "      <td>object</td>\n",
       "      <td>0</td>\n",
       "      <td>0.00</td>\n",
       "      <td>1371980</td>\n",
       "      <td>100.00</td>\n",
       "      <td>[00000dbacae5abe5e23885899a1fa44253a17956c6d1c...</td>\n",
       "    </tr>\n",
       "    <tr>\n",
       "      <th>1</th>\n",
       "      <td>FN</td>\n",
       "      <td>float64</td>\n",
       "      <td>895050</td>\n",
       "      <td>65.24</td>\n",
       "      <td>1</td>\n",
       "      <td>0.00</td>\n",
       "      <td>[nan, 1.0]</td>\n",
       "    </tr>\n",
       "    <tr>\n",
       "      <th>2</th>\n",
       "      <td>Active</td>\n",
       "      <td>float64</td>\n",
       "      <td>907576</td>\n",
       "      <td>66.15</td>\n",
       "      <td>1</td>\n",
       "      <td>0.00</td>\n",
       "      <td>[nan, 1.0]</td>\n",
       "    </tr>\n",
       "    <tr>\n",
       "      <th>3</th>\n",
       "      <td>club_member_status</td>\n",
       "      <td>object</td>\n",
       "      <td>6062</td>\n",
       "      <td>0.44</td>\n",
       "      <td>3</td>\n",
       "      <td>0.00</td>\n",
       "      <td>[ACTIVE, nan, PRE-CREATE, LEFT CLUB]</td>\n",
       "    </tr>\n",
       "    <tr>\n",
       "      <th>4</th>\n",
       "      <td>fashion_news_frequency</td>\n",
       "      <td>object</td>\n",
       "      <td>16009</td>\n",
       "      <td>1.17</td>\n",
       "      <td>4</td>\n",
       "      <td>0.00</td>\n",
       "      <td>[NONE, Regularly, nan, Monthly, None]</td>\n",
       "    </tr>\n",
       "    <tr>\n",
       "      <th>5</th>\n",
       "      <td>age</td>\n",
       "      <td>float64</td>\n",
       "      <td>15861</td>\n",
       "      <td>1.16</td>\n",
       "      <td>84</td>\n",
       "      <td>0.01</td>\n",
       "      <td>[49.0, 25.0, 24.0, 54.0, 52.0]</td>\n",
       "    </tr>\n",
       "    <tr>\n",
       "      <th>6</th>\n",
       "      <td>postal_code</td>\n",
       "      <td>object</td>\n",
       "      <td>0</td>\n",
       "      <td>0.00</td>\n",
       "      <td>352899</td>\n",
       "      <td>25.72</td>\n",
       "      <td>[52043ee2162cf5aa7ee79974281641c6f11a68d276429...</td>\n",
       "    </tr>\n",
       "  </tbody>\n",
       "</table>\n",
       "</div>\n",
       "      <button class=\"colab-df-convert\" onclick=\"convertToInteractive('df-51922206-0239-4654-bc83-ce53fedf13ff')\"\n",
       "              title=\"Convert this dataframe to an interactive table.\"\n",
       "              style=\"display:none;\">\n",
       "\n",
       "  <svg xmlns=\"http://www.w3.org/2000/svg\" height=\"24px\"viewBox=\"0 0 24 24\"\n",
       "       width=\"24px\">\n",
       "    <path d=\"M0 0h24v24H0V0z\" fill=\"none\"/>\n",
       "    <path d=\"M18.56 5.44l.94 2.06.94-2.06 2.06-.94-2.06-.94-.94-2.06-.94 2.06-2.06.94zm-11 1L8.5 8.5l.94-2.06 2.06-.94-2.06-.94L8.5 2.5l-.94 2.06-2.06.94zm10 10l.94 2.06.94-2.06 2.06-.94-2.06-.94-.94-2.06-.94 2.06-2.06.94z\"/><path d=\"M17.41 7.96l-1.37-1.37c-.4-.4-.92-.59-1.43-.59-.52 0-1.04.2-1.43.59L10.3 9.45l-7.72 7.72c-.78.78-.78 2.05 0 2.83L4 21.41c.39.39.9.59 1.41.59.51 0 1.02-.2 1.41-.59l7.78-7.78 2.81-2.81c.8-.78.8-2.07 0-2.86zM5.41 20L4 18.59l7.72-7.72 1.47 1.35L5.41 20z\"/>\n",
       "  </svg>\n",
       "      </button>\n",
       "\n",
       "\n",
       "\n",
       "    <div id=\"df-4a0679bb-a5eb-4e16-a718-a09fc0b2e614\">\n",
       "      <button class=\"colab-df-quickchart\" onclick=\"quickchart('df-4a0679bb-a5eb-4e16-a718-a09fc0b2e614')\"\n",
       "              title=\"Suggest charts.\"\n",
       "              style=\"display:none;\">\n",
       "\n",
       "<svg xmlns=\"http://www.w3.org/2000/svg\" height=\"24px\"viewBox=\"0 0 24 24\"\n",
       "     width=\"24px\">\n",
       "    <g>\n",
       "        <path d=\"M19 3H5c-1.1 0-2 .9-2 2v14c0 1.1.9 2 2 2h14c1.1 0 2-.9 2-2V5c0-1.1-.9-2-2-2zM9 17H7v-7h2v7zm4 0h-2V7h2v10zm4 0h-2v-4h2v4z\"/>\n",
       "    </g>\n",
       "</svg>\n",
       "      </button>\n",
       "    </div>\n",
       "\n",
       "<style>\n",
       "  .colab-df-quickchart {\n",
       "    background-color: #E8F0FE;\n",
       "    border: none;\n",
       "    border-radius: 50%;\n",
       "    cursor: pointer;\n",
       "    display: none;\n",
       "    fill: #1967D2;\n",
       "    height: 32px;\n",
       "    padding: 0 0 0 0;\n",
       "    width: 32px;\n",
       "  }\n",
       "\n",
       "  .colab-df-quickchart:hover {\n",
       "    background-color: #E2EBFA;\n",
       "    box-shadow: 0px 1px 2px rgba(60, 64, 67, 0.3), 0px 1px 3px 1px rgba(60, 64, 67, 0.15);\n",
       "    fill: #174EA6;\n",
       "  }\n",
       "\n",
       "  [theme=dark] .colab-df-quickchart {\n",
       "    background-color: #3B4455;\n",
       "    fill: #D2E3FC;\n",
       "  }\n",
       "\n",
       "  [theme=dark] .colab-df-quickchart:hover {\n",
       "    background-color: #434B5C;\n",
       "    box-shadow: 0px 1px 3px 1px rgba(0, 0, 0, 0.15);\n",
       "    filter: drop-shadow(0px 1px 2px rgba(0, 0, 0, 0.3));\n",
       "    fill: #FFFFFF;\n",
       "  }\n",
       "</style>\n",
       "\n",
       "    <script>\n",
       "      async function quickchart(key) {\n",
       "        const containerElement = document.querySelector('#' + key);\n",
       "        const charts = await google.colab.kernel.invokeFunction(\n",
       "            'suggestCharts', [key], {});\n",
       "      }\n",
       "    </script>\n",
       "\n",
       "      <script>\n",
       "\n",
       "function displayQuickchartButton(domScope) {\n",
       "  let quickchartButtonEl =\n",
       "    domScope.querySelector('#df-4a0679bb-a5eb-4e16-a718-a09fc0b2e614 button.colab-df-quickchart');\n",
       "  quickchartButtonEl.style.display =\n",
       "    google.colab.kernel.accessAllowed ? 'block' : 'none';\n",
       "}\n",
       "\n",
       "        displayQuickchartButton(document);\n",
       "      </script>\n",
       "      <style>\n",
       "    .colab-df-container {\n",
       "      display:flex;\n",
       "      flex-wrap:wrap;\n",
       "      gap: 12px;\n",
       "    }\n",
       "\n",
       "    .colab-df-convert {\n",
       "      background-color: #E8F0FE;\n",
       "      border: none;\n",
       "      border-radius: 50%;\n",
       "      cursor: pointer;\n",
       "      display: none;\n",
       "      fill: #1967D2;\n",
       "      height: 32px;\n",
       "      padding: 0 0 0 0;\n",
       "      width: 32px;\n",
       "    }\n",
       "\n",
       "    .colab-df-convert:hover {\n",
       "      background-color: #E2EBFA;\n",
       "      box-shadow: 0px 1px 2px rgba(60, 64, 67, 0.3), 0px 1px 3px 1px rgba(60, 64, 67, 0.15);\n",
       "      fill: #174EA6;\n",
       "    }\n",
       "\n",
       "    [theme=dark] .colab-df-convert {\n",
       "      background-color: #3B4455;\n",
       "      fill: #D2E3FC;\n",
       "    }\n",
       "\n",
       "    [theme=dark] .colab-df-convert:hover {\n",
       "      background-color: #434B5C;\n",
       "      box-shadow: 0px 1px 3px 1px rgba(0, 0, 0, 0.15);\n",
       "      filter: drop-shadow(0px 1px 2px rgba(0, 0, 0, 0.3));\n",
       "      fill: #FFFFFF;\n",
       "    }\n",
       "  </style>\n",
       "\n",
       "      <script>\n",
       "        const buttonEl =\n",
       "          document.querySelector('#df-51922206-0239-4654-bc83-ce53fedf13ff button.colab-df-convert');\n",
       "        buttonEl.style.display =\n",
       "          google.colab.kernel.accessAllowed ? 'block' : 'none';\n",
       "\n",
       "        async function convertToInteractive(key) {\n",
       "          const element = document.querySelector('#df-51922206-0239-4654-bc83-ce53fedf13ff');\n",
       "          const dataTable =\n",
       "            await google.colab.kernel.invokeFunction('convertToInteractive',\n",
       "                                                     [key], {});\n",
       "          if (!dataTable) return;\n",
       "\n",
       "          const docLinkHtml = 'Like what you see? Visit the ' +\n",
       "            '<a target=\"_blank\" href=https://colab.research.google.com/notebooks/data_table.ipynb>data table notebook</a>'\n",
       "            + ' to learn more about interactive tables.';\n",
       "          element.innerHTML = '';\n",
       "          dataTable['output_type'] = 'display_data';\n",
       "          await google.colab.output.renderOutput(dataTable, element);\n",
       "          const docLink = document.createElement('div');\n",
       "          docLink.innerHTML = docLinkHtml;\n",
       "          element.appendChild(docLink);\n",
       "        }\n",
       "      </script>\n",
       "    </div>\n",
       "  </div>\n"
      ],
      "text/plain": [
       "                  feature     type  # null  % null  # unique  % unique  \\\n",
       "0             customer_id   object       0    0.00   1371980    100.00   \n",
       "1                      FN  float64  895050   65.24         1      0.00   \n",
       "2                  Active  float64  907576   66.15         1      0.00   \n",
       "3      club_member_status   object    6062    0.44         3      0.00   \n",
       "4  fashion_news_frequency   object   16009    1.17         4      0.00   \n",
       "5                     age  float64   15861    1.16        84      0.01   \n",
       "6             postal_code   object       0    0.00    352899     25.72   \n",
       "\n",
       "                                              sample  \n",
       "0  [00000dbacae5abe5e23885899a1fa44253a17956c6d1c...  \n",
       "1                                         [nan, 1.0]  \n",
       "2                                         [nan, 1.0]  \n",
       "3               [ACTIVE, nan, PRE-CREATE, LEFT CLUB]  \n",
       "4              [NONE, Regularly, nan, Monthly, None]  \n",
       "5                     [49.0, 25.0, 24.0, 54.0, 52.0]  \n",
       "6  [52043ee2162cf5aa7ee79974281641c6f11a68d276429...  "
      ]
     },
     "execution_count": 2,
     "metadata": {},
     "output_type": "execute_result"
    }
   ],
   "source": [
    "def describe_df(df):\n",
    "    list_item = []\n",
    "    for col in df.columns:\n",
    "        list_item.append([\n",
    "            col,\n",
    "            df[col].dtype,\n",
    "            df[col].isna().sum(),\n",
    "            round(df[col].isna().sum()/len(df[col])*100, 2),\n",
    "            df[col].nunique(),\n",
    "            round(df[col].nunique()/len(df[col])*100, 2),\n",
    "            list(df[col].unique()[:5])\n",
    "        ])\n",
    "    return pd.DataFrame(\n",
    "        columns=['feature', 'type', '# null', '% null', '# unique', '% unique', 'sample'],\n",
    "        data = list_item\n",
    "    )\n",
    "\n",
    "\n",
    "assert df_customers.customer_id.nunique() == df_customers.shape[0]\n",
    "describe_df(df_customers)"
   ]
  },
  {
   "cell_type": "markdown",
   "metadata": {
    "id": "PDMSWTApjXRI"
   },
   "source": [
    "__Detailed metadata for each article_id available for purchase:__\n",
    "\n",
    "\n",
    "This database contains information about the assortiment of H&M shops.\n",
    "\n",
    "Unique indentifier of an article:\n",
    "- `article_id` (int64) - an unique 9-digit identifier of the article, 105 542 unique values (as the length of the database)\n",
    "\n",
    "5 product related columns:\n",
    "- `product_code` (int64) - 6-digit product code (the first 6 digits of article_id, 47 224 unique values\n",
    "- `prod_name` (object) - name of a product, 45 875 unique values\n",
    "- `product_type_no` (int64) - product type number, 131 unique values\n",
    "- `product_type_name` (object) - name of a product type, equivalent of product_type_no\n",
    "- `product_group_name` (object) - name of a product group, in total 19 groups\n",
    "\n",
    "\n",
    "2 columns related to the pattern:\n",
    "\n",
    "- `graphical_appearance_no` (int64) - code of a pattern, 30 unique values\n",
    "- `graphical_appearance_name` (object) - name of a pattern, 30 unique values\n",
    "\n",
    "2 columns related to the color:\n",
    "\n",
    "- `colour_group_code` (int64) - code of a color, 50 unique values\n",
    "- `colour_group_name` (object) - name of a color, 50 unique values\n",
    "\n",
    "4 columns related to perceived colour (general tone):\n",
    "\n",
    "- `perceived_colour_value_id` - perceived color id, 8 unique values\n",
    "- `perceived_colour_value_name` - perceived color name, 8 unique values\n",
    "- `perceived_colour_master_id` - perceived master color id, 20 unique values\n",
    "- `perceived_colour_master_name` - perceived master color name, 20 unique values\n",
    "\n",
    "2 columns related to the department:\n",
    "\n",
    "- `department_no` - department number, 299 unique values\n",
    "- `department_name` - department name, 299 unique values\n",
    "\n",
    "4 columns related to the index, which is actually a top-level category:\n",
    "\n",
    "- `index_code` - index code, 10 unique values\n",
    "- `index_name` - index name, 10 unique values\n",
    "- `index_group_no` - index group code, 5 unique values\n",
    "- `index_group_name` - index group code, 5 unique values\n",
    "\n",
    "2 columns related to the section:\n",
    "\n",
    "- `section_no` - section number, 56 unique values\n",
    "- `section_name` - section name, 56 unique values\n",
    "\n",
    "2 columns related to the garment group:\n",
    "\n",
    "- `garment_group_n` - section number, 56 unique values\n",
    "- `garment_group_name` - section name, 56 unique values\n",
    "\n",
    "1 column with a detailed description of the article:\n",
    "\n",
    "- `detail_desc` - 43 404 unique values"
   ]
  },
  {
   "cell_type": "code",
   "execution_count": null,
   "metadata": {
    "colab": {
     "base_uri": "https://localhost:8080/",
     "height": 833
    },
    "executionInfo": {
     "elapsed": 778,
     "status": "ok",
     "timestamp": 1689945578801,
     "user": {
      "displayName": "jean rochefort",
      "userId": "04520792891621341900"
     },
     "user_tz": -120
    },
    "id": "2XyY1YbxrRJI",
    "outputId": "3fe0c919-c022-4858-fe37-782e910521db"
   },
   "outputs": [
    {
     "data": {
      "text/html": [
       "\n",
       "\n",
       "  <div id=\"df-8979b985-c9aa-4590-9071-2481b9c286ba\">\n",
       "    <div class=\"colab-df-container\">\n",
       "      <div>\n",
       "<style scoped>\n",
       "    .dataframe tbody tr th:only-of-type {\n",
       "        vertical-align: middle;\n",
       "    }\n",
       "\n",
       "    .dataframe tbody tr th {\n",
       "        vertical-align: top;\n",
       "    }\n",
       "\n",
       "    .dataframe thead th {\n",
       "        text-align: right;\n",
       "    }\n",
       "</style>\n",
       "<table border=\"1\" class=\"dataframe\">\n",
       "  <thead>\n",
       "    <tr style=\"text-align: right;\">\n",
       "      <th></th>\n",
       "      <th>feature</th>\n",
       "      <th>type</th>\n",
       "      <th># null</th>\n",
       "      <th>% null</th>\n",
       "      <th># unique</th>\n",
       "      <th>% unique</th>\n",
       "      <th>sample</th>\n",
       "    </tr>\n",
       "  </thead>\n",
       "  <tbody>\n",
       "    <tr>\n",
       "      <th>0</th>\n",
       "      <td>article_id</td>\n",
       "      <td>int64</td>\n",
       "      <td>0</td>\n",
       "      <td>0.00</td>\n",
       "      <td>105542</td>\n",
       "      <td>100.00</td>\n",
       "      <td>[108775015, 108775044, 108775051, 110065001, 1...</td>\n",
       "    </tr>\n",
       "    <tr>\n",
       "      <th>1</th>\n",
       "      <td>product_code</td>\n",
       "      <td>int64</td>\n",
       "      <td>0</td>\n",
       "      <td>0.00</td>\n",
       "      <td>47224</td>\n",
       "      <td>44.74</td>\n",
       "      <td>[108775, 110065, 111565, 111586, 111593]</td>\n",
       "    </tr>\n",
       "    <tr>\n",
       "      <th>2</th>\n",
       "      <td>prod_name</td>\n",
       "      <td>object</td>\n",
       "      <td>0</td>\n",
       "      <td>0.00</td>\n",
       "      <td>45875</td>\n",
       "      <td>43.47</td>\n",
       "      <td>[Strap top, Strap top (1), OP T-shirt (Idro), ...</td>\n",
       "    </tr>\n",
       "    <tr>\n",
       "      <th>3</th>\n",
       "      <td>product_type_no</td>\n",
       "      <td>int64</td>\n",
       "      <td>0</td>\n",
       "      <td>0.00</td>\n",
       "      <td>132</td>\n",
       "      <td>0.13</td>\n",
       "      <td>[253, 306, 304, 302, 273]</td>\n",
       "    </tr>\n",
       "    <tr>\n",
       "      <th>4</th>\n",
       "      <td>product_type_name</td>\n",
       "      <td>object</td>\n",
       "      <td>0</td>\n",
       "      <td>0.00</td>\n",
       "      <td>131</td>\n",
       "      <td>0.12</td>\n",
       "      <td>[Vest top, Bra, Underwear Tights, Socks, Leggi...</td>\n",
       "    </tr>\n",
       "    <tr>\n",
       "      <th>5</th>\n",
       "      <td>product_group_name</td>\n",
       "      <td>object</td>\n",
       "      <td>0</td>\n",
       "      <td>0.00</td>\n",
       "      <td>19</td>\n",
       "      <td>0.02</td>\n",
       "      <td>[Garment Upper body, Underwear, Socks &amp; Tights...</td>\n",
       "    </tr>\n",
       "    <tr>\n",
       "      <th>6</th>\n",
       "      <td>graphical_appearance_no</td>\n",
       "      <td>int64</td>\n",
       "      <td>0</td>\n",
       "      <td>0.00</td>\n",
       "      <td>30</td>\n",
       "      <td>0.03</td>\n",
       "      <td>[1010016, 1010017, 1010001, 1010010, 1010019]</td>\n",
       "    </tr>\n",
       "    <tr>\n",
       "      <th>7</th>\n",
       "      <td>graphical_appearance_name</td>\n",
       "      <td>object</td>\n",
       "      <td>0</td>\n",
       "      <td>0.00</td>\n",
       "      <td>30</td>\n",
       "      <td>0.03</td>\n",
       "      <td>[Solid, Stripe, All over pattern, Melange, Tra...</td>\n",
       "    </tr>\n",
       "    <tr>\n",
       "      <th>8</th>\n",
       "      <td>colour_group_code</td>\n",
       "      <td>int64</td>\n",
       "      <td>0</td>\n",
       "      <td>0.00</td>\n",
       "      <td>50</td>\n",
       "      <td>0.05</td>\n",
       "      <td>[9, 10, 11, 12, 13]</td>\n",
       "    </tr>\n",
       "    <tr>\n",
       "      <th>9</th>\n",
       "      <td>colour_group_name</td>\n",
       "      <td>object</td>\n",
       "      <td>0</td>\n",
       "      <td>0.00</td>\n",
       "      <td>50</td>\n",
       "      <td>0.05</td>\n",
       "      <td>[Black, White, Off White, Light Beige, Beige]</td>\n",
       "    </tr>\n",
       "    <tr>\n",
       "      <th>10</th>\n",
       "      <td>perceived_colour_value_id</td>\n",
       "      <td>int64</td>\n",
       "      <td>0</td>\n",
       "      <td>0.00</td>\n",
       "      <td>8</td>\n",
       "      <td>0.01</td>\n",
       "      <td>[4, 3, 1, 2, 5]</td>\n",
       "    </tr>\n",
       "    <tr>\n",
       "      <th>11</th>\n",
       "      <td>perceived_colour_value_name</td>\n",
       "      <td>object</td>\n",
       "      <td>0</td>\n",
       "      <td>0.00</td>\n",
       "      <td>8</td>\n",
       "      <td>0.01</td>\n",
       "      <td>[Dark, Light, Dusty Light, Medium Dusty, Bright]</td>\n",
       "    </tr>\n",
       "    <tr>\n",
       "      <th>12</th>\n",
       "      <td>perceived_colour_master_id</td>\n",
       "      <td>int64</td>\n",
       "      <td>0</td>\n",
       "      <td>0.00</td>\n",
       "      <td>20</td>\n",
       "      <td>0.02</td>\n",
       "      <td>[5, 9, 11, 12, 2]</td>\n",
       "    </tr>\n",
       "    <tr>\n",
       "      <th>13</th>\n",
       "      <td>perceived_colour_master_name</td>\n",
       "      <td>object</td>\n",
       "      <td>0</td>\n",
       "      <td>0.00</td>\n",
       "      <td>20</td>\n",
       "      <td>0.02</td>\n",
       "      <td>[Black, White, Beige, Grey, Blue]</td>\n",
       "    </tr>\n",
       "    <tr>\n",
       "      <th>14</th>\n",
       "      <td>department_no</td>\n",
       "      <td>int64</td>\n",
       "      <td>0</td>\n",
       "      <td>0.00</td>\n",
       "      <td>299</td>\n",
       "      <td>0.28</td>\n",
       "      <td>[1676, 1339, 3608, 6515, 1334]</td>\n",
       "    </tr>\n",
       "    <tr>\n",
       "      <th>15</th>\n",
       "      <td>department_name</td>\n",
       "      <td>object</td>\n",
       "      <td>0</td>\n",
       "      <td>0.00</td>\n",
       "      <td>250</td>\n",
       "      <td>0.24</td>\n",
       "      <td>[Jersey Basic, Clean Lingerie, Tights basic, B...</td>\n",
       "    </tr>\n",
       "    <tr>\n",
       "      <th>16</th>\n",
       "      <td>index_code</td>\n",
       "      <td>object</td>\n",
       "      <td>0</td>\n",
       "      <td>0.00</td>\n",
       "      <td>10</td>\n",
       "      <td>0.01</td>\n",
       "      <td>[A, B, G, F, C]</td>\n",
       "    </tr>\n",
       "    <tr>\n",
       "      <th>17</th>\n",
       "      <td>index_name</td>\n",
       "      <td>object</td>\n",
       "      <td>0</td>\n",
       "      <td>0.00</td>\n",
       "      <td>10</td>\n",
       "      <td>0.01</td>\n",
       "      <td>[Ladieswear, Lingeries/Tights, Baby Sizes 50-9...</td>\n",
       "    </tr>\n",
       "    <tr>\n",
       "      <th>18</th>\n",
       "      <td>index_group_no</td>\n",
       "      <td>int64</td>\n",
       "      <td>0</td>\n",
       "      <td>0.00</td>\n",
       "      <td>5</td>\n",
       "      <td>0.00</td>\n",
       "      <td>[1, 4, 3, 26, 2]</td>\n",
       "    </tr>\n",
       "    <tr>\n",
       "      <th>19</th>\n",
       "      <td>index_group_name</td>\n",
       "      <td>object</td>\n",
       "      <td>0</td>\n",
       "      <td>0.00</td>\n",
       "      <td>5</td>\n",
       "      <td>0.00</td>\n",
       "      <td>[Ladieswear, Baby/Children, Menswear, Sport, D...</td>\n",
       "    </tr>\n",
       "    <tr>\n",
       "      <th>20</th>\n",
       "      <td>section_no</td>\n",
       "      <td>int64</td>\n",
       "      <td>0</td>\n",
       "      <td>0.00</td>\n",
       "      <td>57</td>\n",
       "      <td>0.05</td>\n",
       "      <td>[16, 61, 62, 44, 26]</td>\n",
       "    </tr>\n",
       "    <tr>\n",
       "      <th>21</th>\n",
       "      <td>section_name</td>\n",
       "      <td>object</td>\n",
       "      <td>0</td>\n",
       "      <td>0.00</td>\n",
       "      <td>56</td>\n",
       "      <td>0.05</td>\n",
       "      <td>[Womens Everyday Basics, Womens Lingerie, Wome...</td>\n",
       "    </tr>\n",
       "    <tr>\n",
       "      <th>22</th>\n",
       "      <td>garment_group_no</td>\n",
       "      <td>int64</td>\n",
       "      <td>0</td>\n",
       "      <td>0.00</td>\n",
       "      <td>21</td>\n",
       "      <td>0.02</td>\n",
       "      <td>[1002, 1017, 1021, 1005, 1019]</td>\n",
       "    </tr>\n",
       "    <tr>\n",
       "      <th>23</th>\n",
       "      <td>garment_group_name</td>\n",
       "      <td>object</td>\n",
       "      <td>0</td>\n",
       "      <td>0.00</td>\n",
       "      <td>21</td>\n",
       "      <td>0.02</td>\n",
       "      <td>[Jersey Basic, Under-, Nightwear, Socks and Ti...</td>\n",
       "    </tr>\n",
       "    <tr>\n",
       "      <th>24</th>\n",
       "      <td>detail_desc</td>\n",
       "      <td>object</td>\n",
       "      <td>416</td>\n",
       "      <td>0.39</td>\n",
       "      <td>43404</td>\n",
       "      <td>41.12</td>\n",
       "      <td>[Jersey top with narrow shoulder straps., Micr...</td>\n",
       "    </tr>\n",
       "  </tbody>\n",
       "</table>\n",
       "</div>\n",
       "      <button class=\"colab-df-convert\" onclick=\"convertToInteractive('df-8979b985-c9aa-4590-9071-2481b9c286ba')\"\n",
       "              title=\"Convert this dataframe to an interactive table.\"\n",
       "              style=\"display:none;\">\n",
       "\n",
       "  <svg xmlns=\"http://www.w3.org/2000/svg\" height=\"24px\"viewBox=\"0 0 24 24\"\n",
       "       width=\"24px\">\n",
       "    <path d=\"M0 0h24v24H0V0z\" fill=\"none\"/>\n",
       "    <path d=\"M18.56 5.44l.94 2.06.94-2.06 2.06-.94-2.06-.94-.94-2.06-.94 2.06-2.06.94zm-11 1L8.5 8.5l.94-2.06 2.06-.94-2.06-.94L8.5 2.5l-.94 2.06-2.06.94zm10 10l.94 2.06.94-2.06 2.06-.94-2.06-.94-.94-2.06-.94 2.06-2.06.94z\"/><path d=\"M17.41 7.96l-1.37-1.37c-.4-.4-.92-.59-1.43-.59-.52 0-1.04.2-1.43.59L10.3 9.45l-7.72 7.72c-.78.78-.78 2.05 0 2.83L4 21.41c.39.39.9.59 1.41.59.51 0 1.02-.2 1.41-.59l7.78-7.78 2.81-2.81c.8-.78.8-2.07 0-2.86zM5.41 20L4 18.59l7.72-7.72 1.47 1.35L5.41 20z\"/>\n",
       "  </svg>\n",
       "      </button>\n",
       "\n",
       "\n",
       "\n",
       "    <div id=\"df-8cc77db8-685c-4fa6-a689-270923d4db60\">\n",
       "      <button class=\"colab-df-quickchart\" onclick=\"quickchart('df-8cc77db8-685c-4fa6-a689-270923d4db60')\"\n",
       "              title=\"Suggest charts.\"\n",
       "              style=\"display:none;\">\n",
       "\n",
       "<svg xmlns=\"http://www.w3.org/2000/svg\" height=\"24px\"viewBox=\"0 0 24 24\"\n",
       "     width=\"24px\">\n",
       "    <g>\n",
       "        <path d=\"M19 3H5c-1.1 0-2 .9-2 2v14c0 1.1.9 2 2 2h14c1.1 0 2-.9 2-2V5c0-1.1-.9-2-2-2zM9 17H7v-7h2v7zm4 0h-2V7h2v10zm4 0h-2v-4h2v4z\"/>\n",
       "    </g>\n",
       "</svg>\n",
       "      </button>\n",
       "    </div>\n",
       "\n",
       "<style>\n",
       "  .colab-df-quickchart {\n",
       "    background-color: #E8F0FE;\n",
       "    border: none;\n",
       "    border-radius: 50%;\n",
       "    cursor: pointer;\n",
       "    display: none;\n",
       "    fill: #1967D2;\n",
       "    height: 32px;\n",
       "    padding: 0 0 0 0;\n",
       "    width: 32px;\n",
       "  }\n",
       "\n",
       "  .colab-df-quickchart:hover {\n",
       "    background-color: #E2EBFA;\n",
       "    box-shadow: 0px 1px 2px rgba(60, 64, 67, 0.3), 0px 1px 3px 1px rgba(60, 64, 67, 0.15);\n",
       "    fill: #174EA6;\n",
       "  }\n",
       "\n",
       "  [theme=dark] .colab-df-quickchart {\n",
       "    background-color: #3B4455;\n",
       "    fill: #D2E3FC;\n",
       "  }\n",
       "\n",
       "  [theme=dark] .colab-df-quickchart:hover {\n",
       "    background-color: #434B5C;\n",
       "    box-shadow: 0px 1px 3px 1px rgba(0, 0, 0, 0.15);\n",
       "    filter: drop-shadow(0px 1px 2px rgba(0, 0, 0, 0.3));\n",
       "    fill: #FFFFFF;\n",
       "  }\n",
       "</style>\n",
       "\n",
       "    <script>\n",
       "      async function quickchart(key) {\n",
       "        const containerElement = document.querySelector('#' + key);\n",
       "        const charts = await google.colab.kernel.invokeFunction(\n",
       "            'suggestCharts', [key], {});\n",
       "      }\n",
       "    </script>\n",
       "\n",
       "      <script>\n",
       "\n",
       "function displayQuickchartButton(domScope) {\n",
       "  let quickchartButtonEl =\n",
       "    domScope.querySelector('#df-8cc77db8-685c-4fa6-a689-270923d4db60 button.colab-df-quickchart');\n",
       "  quickchartButtonEl.style.display =\n",
       "    google.colab.kernel.accessAllowed ? 'block' : 'none';\n",
       "}\n",
       "\n",
       "        displayQuickchartButton(document);\n",
       "      </script>\n",
       "      <style>\n",
       "    .colab-df-container {\n",
       "      display:flex;\n",
       "      flex-wrap:wrap;\n",
       "      gap: 12px;\n",
       "    }\n",
       "\n",
       "    .colab-df-convert {\n",
       "      background-color: #E8F0FE;\n",
       "      border: none;\n",
       "      border-radius: 50%;\n",
       "      cursor: pointer;\n",
       "      display: none;\n",
       "      fill: #1967D2;\n",
       "      height: 32px;\n",
       "      padding: 0 0 0 0;\n",
       "      width: 32px;\n",
       "    }\n",
       "\n",
       "    .colab-df-convert:hover {\n",
       "      background-color: #E2EBFA;\n",
       "      box-shadow: 0px 1px 2px rgba(60, 64, 67, 0.3), 0px 1px 3px 1px rgba(60, 64, 67, 0.15);\n",
       "      fill: #174EA6;\n",
       "    }\n",
       "\n",
       "    [theme=dark] .colab-df-convert {\n",
       "      background-color: #3B4455;\n",
       "      fill: #D2E3FC;\n",
       "    }\n",
       "\n",
       "    [theme=dark] .colab-df-convert:hover {\n",
       "      background-color: #434B5C;\n",
       "      box-shadow: 0px 1px 3px 1px rgba(0, 0, 0, 0.15);\n",
       "      filter: drop-shadow(0px 1px 2px rgba(0, 0, 0, 0.3));\n",
       "      fill: #FFFFFF;\n",
       "    }\n",
       "  </style>\n",
       "\n",
       "      <script>\n",
       "        const buttonEl =\n",
       "          document.querySelector('#df-8979b985-c9aa-4590-9071-2481b9c286ba button.colab-df-convert');\n",
       "        buttonEl.style.display =\n",
       "          google.colab.kernel.accessAllowed ? 'block' : 'none';\n",
       "\n",
       "        async function convertToInteractive(key) {\n",
       "          const element = document.querySelector('#df-8979b985-c9aa-4590-9071-2481b9c286ba');\n",
       "          const dataTable =\n",
       "            await google.colab.kernel.invokeFunction('convertToInteractive',\n",
       "                                                     [key], {});\n",
       "          if (!dataTable) return;\n",
       "\n",
       "          const docLinkHtml = 'Like what you see? Visit the ' +\n",
       "            '<a target=\"_blank\" href=https://colab.research.google.com/notebooks/data_table.ipynb>data table notebook</a>'\n",
       "            + ' to learn more about interactive tables.';\n",
       "          element.innerHTML = '';\n",
       "          dataTable['output_type'] = 'display_data';\n",
       "          await google.colab.output.renderOutput(dataTable, element);\n",
       "          const docLink = document.createElement('div');\n",
       "          docLink.innerHTML = docLinkHtml;\n",
       "          element.appendChild(docLink);\n",
       "        }\n",
       "      </script>\n",
       "    </div>\n",
       "  </div>\n"
      ],
      "text/plain": [
       "                         feature    type  # null  % null  # unique  % unique  \\\n",
       "0                     article_id   int64       0    0.00    105542    100.00   \n",
       "1                   product_code   int64       0    0.00     47224     44.74   \n",
       "2                      prod_name  object       0    0.00     45875     43.47   \n",
       "3                product_type_no   int64       0    0.00       132      0.13   \n",
       "4              product_type_name  object       0    0.00       131      0.12   \n",
       "5             product_group_name  object       0    0.00        19      0.02   \n",
       "6        graphical_appearance_no   int64       0    0.00        30      0.03   \n",
       "7      graphical_appearance_name  object       0    0.00        30      0.03   \n",
       "8              colour_group_code   int64       0    0.00        50      0.05   \n",
       "9              colour_group_name  object       0    0.00        50      0.05   \n",
       "10     perceived_colour_value_id   int64       0    0.00         8      0.01   \n",
       "11   perceived_colour_value_name  object       0    0.00         8      0.01   \n",
       "12    perceived_colour_master_id   int64       0    0.00        20      0.02   \n",
       "13  perceived_colour_master_name  object       0    0.00        20      0.02   \n",
       "14                 department_no   int64       0    0.00       299      0.28   \n",
       "15               department_name  object       0    0.00       250      0.24   \n",
       "16                    index_code  object       0    0.00        10      0.01   \n",
       "17                    index_name  object       0    0.00        10      0.01   \n",
       "18                index_group_no   int64       0    0.00         5      0.00   \n",
       "19              index_group_name  object       0    0.00         5      0.00   \n",
       "20                    section_no   int64       0    0.00        57      0.05   \n",
       "21                  section_name  object       0    0.00        56      0.05   \n",
       "22              garment_group_no   int64       0    0.00        21      0.02   \n",
       "23            garment_group_name  object       0    0.00        21      0.02   \n",
       "24                   detail_desc  object     416    0.39     43404     41.12   \n",
       "\n",
       "                                               sample  \n",
       "0   [108775015, 108775044, 108775051, 110065001, 1...  \n",
       "1            [108775, 110065, 111565, 111586, 111593]  \n",
       "2   [Strap top, Strap top (1), OP T-shirt (Idro), ...  \n",
       "3                           [253, 306, 304, 302, 273]  \n",
       "4   [Vest top, Bra, Underwear Tights, Socks, Leggi...  \n",
       "5   [Garment Upper body, Underwear, Socks & Tights...  \n",
       "6       [1010016, 1010017, 1010001, 1010010, 1010019]  \n",
       "7   [Solid, Stripe, All over pattern, Melange, Tra...  \n",
       "8                                 [9, 10, 11, 12, 13]  \n",
       "9       [Black, White, Off White, Light Beige, Beige]  \n",
       "10                                    [4, 3, 1, 2, 5]  \n",
       "11   [Dark, Light, Dusty Light, Medium Dusty, Bright]  \n",
       "12                                  [5, 9, 11, 12, 2]  \n",
       "13                  [Black, White, Beige, Grey, Blue]  \n",
       "14                     [1676, 1339, 3608, 6515, 1334]  \n",
       "15  [Jersey Basic, Clean Lingerie, Tights basic, B...  \n",
       "16                                    [A, B, G, F, C]  \n",
       "17  [Ladieswear, Lingeries/Tights, Baby Sizes 50-9...  \n",
       "18                                   [1, 4, 3, 26, 2]  \n",
       "19  [Ladieswear, Baby/Children, Menswear, Sport, D...  \n",
       "20                               [16, 61, 62, 44, 26]  \n",
       "21  [Womens Everyday Basics, Womens Lingerie, Wome...  \n",
       "22                     [1002, 1017, 1021, 1005, 1019]  \n",
       "23  [Jersey Basic, Under-, Nightwear, Socks and Ti...  \n",
       "24  [Jersey top with narrow shoulder straps., Micr...  "
      ]
     },
     "execution_count": 3,
     "metadata": {},
     "output_type": "execute_result"
    }
   ],
   "source": [
    "assert df_articles.article_id.nunique() == df_articles.shape[0]\n",
    "describe_df(df_articles)"
   ]
  },
  {
   "cell_type": "markdown",
   "metadata": {
    "id": "g6TsWyWVjXRJ"
   },
   "source": [
    "the training data, consisting of the purchases each customer for each date, as well as additional information. Duplicate rows correspond to multiple purchases of the same item. Our task is to predict the `article_id` each customer will purchase :"
   ]
  },
  {
   "cell_type": "code",
   "execution_count": null,
   "metadata": {
    "colab": {
     "base_uri": "https://localhost:8080/",
     "height": 206
    },
    "executionInfo": {
     "elapsed": 49260,
     "status": "ok",
     "timestamp": 1689945628909,
     "user": {
      "displayName": "jean rochefort",
      "userId": "04520792891621341900"
     },
     "user_tz": -120
    },
    "id": "9PuC0a1e8Cf4",
    "outputId": "df30641e-15a0-47a1-eaff-695aaa7f7217"
   },
   "outputs": [
    {
     "data": {
      "text/html": [
       "\n",
       "\n",
       "  <div id=\"df-7447e1f3-44b2-4165-b039-62dbb7724633\">\n",
       "    <div class=\"colab-df-container\">\n",
       "      <div>\n",
       "<style scoped>\n",
       "    .dataframe tbody tr th:only-of-type {\n",
       "        vertical-align: middle;\n",
       "    }\n",
       "\n",
       "    .dataframe tbody tr th {\n",
       "        vertical-align: top;\n",
       "    }\n",
       "\n",
       "    .dataframe thead th {\n",
       "        text-align: right;\n",
       "    }\n",
       "</style>\n",
       "<table border=\"1\" class=\"dataframe\">\n",
       "  <thead>\n",
       "    <tr style=\"text-align: right;\">\n",
       "      <th></th>\n",
       "      <th>feature</th>\n",
       "      <th>type</th>\n",
       "      <th># null</th>\n",
       "      <th>% null</th>\n",
       "      <th># unique</th>\n",
       "      <th>% unique</th>\n",
       "      <th>sample</th>\n",
       "    </tr>\n",
       "  </thead>\n",
       "  <tbody>\n",
       "    <tr>\n",
       "      <th>0</th>\n",
       "      <td>t_dat</td>\n",
       "      <td>datetime64[ns]</td>\n",
       "      <td>0</td>\n",
       "      <td>0.0</td>\n",
       "      <td>734</td>\n",
       "      <td>0.00</td>\n",
       "      <td>[2018-09-20T00:00:00.000000000, 2018-09-21T00:...</td>\n",
       "    </tr>\n",
       "    <tr>\n",
       "      <th>1</th>\n",
       "      <td>customer_id</td>\n",
       "      <td>object</td>\n",
       "      <td>0</td>\n",
       "      <td>0.0</td>\n",
       "      <td>1362281</td>\n",
       "      <td>4.29</td>\n",
       "      <td>[000058a12d5b43e67d225668fa1f8d618c13dc232df0c...</td>\n",
       "    </tr>\n",
       "    <tr>\n",
       "      <th>2</th>\n",
       "      <td>article_id</td>\n",
       "      <td>int64</td>\n",
       "      <td>0</td>\n",
       "      <td>0.0</td>\n",
       "      <td>104547</td>\n",
       "      <td>0.33</td>\n",
       "      <td>[663713001, 541518023, 505221004, 685687003, 6...</td>\n",
       "    </tr>\n",
       "    <tr>\n",
       "      <th>3</th>\n",
       "      <td>price</td>\n",
       "      <td>float64</td>\n",
       "      <td>0</td>\n",
       "      <td>0.0</td>\n",
       "      <td>9857</td>\n",
       "      <td>0.03</td>\n",
       "      <td>[0.0508305084745762, 0.0304915254237288, 0.015...</td>\n",
       "    </tr>\n",
       "    <tr>\n",
       "      <th>4</th>\n",
       "      <td>sales_channel_id</td>\n",
       "      <td>int64</td>\n",
       "      <td>0</td>\n",
       "      <td>0.0</td>\n",
       "      <td>2</td>\n",
       "      <td>0.00</td>\n",
       "      <td>[2, 1]</td>\n",
       "    </tr>\n",
       "  </tbody>\n",
       "</table>\n",
       "</div>\n",
       "      <button class=\"colab-df-convert\" onclick=\"convertToInteractive('df-7447e1f3-44b2-4165-b039-62dbb7724633')\"\n",
       "              title=\"Convert this dataframe to an interactive table.\"\n",
       "              style=\"display:none;\">\n",
       "\n",
       "  <svg xmlns=\"http://www.w3.org/2000/svg\" height=\"24px\"viewBox=\"0 0 24 24\"\n",
       "       width=\"24px\">\n",
       "    <path d=\"M0 0h24v24H0V0z\" fill=\"none\"/>\n",
       "    <path d=\"M18.56 5.44l.94 2.06.94-2.06 2.06-.94-2.06-.94-.94-2.06-.94 2.06-2.06.94zm-11 1L8.5 8.5l.94-2.06 2.06-.94-2.06-.94L8.5 2.5l-.94 2.06-2.06.94zm10 10l.94 2.06.94-2.06 2.06-.94-2.06-.94-.94-2.06-.94 2.06-2.06.94z\"/><path d=\"M17.41 7.96l-1.37-1.37c-.4-.4-.92-.59-1.43-.59-.52 0-1.04.2-1.43.59L10.3 9.45l-7.72 7.72c-.78.78-.78 2.05 0 2.83L4 21.41c.39.39.9.59 1.41.59.51 0 1.02-.2 1.41-.59l7.78-7.78 2.81-2.81c.8-.78.8-2.07 0-2.86zM5.41 20L4 18.59l7.72-7.72 1.47 1.35L5.41 20z\"/>\n",
       "  </svg>\n",
       "      </button>\n",
       "\n",
       "\n",
       "\n",
       "    <div id=\"df-bb6e5455-94c7-40fc-a063-4ec2acc60252\">\n",
       "      <button class=\"colab-df-quickchart\" onclick=\"quickchart('df-bb6e5455-94c7-40fc-a063-4ec2acc60252')\"\n",
       "              title=\"Suggest charts.\"\n",
       "              style=\"display:none;\">\n",
       "\n",
       "<svg xmlns=\"http://www.w3.org/2000/svg\" height=\"24px\"viewBox=\"0 0 24 24\"\n",
       "     width=\"24px\">\n",
       "    <g>\n",
       "        <path d=\"M19 3H5c-1.1 0-2 .9-2 2v14c0 1.1.9 2 2 2h14c1.1 0 2-.9 2-2V5c0-1.1-.9-2-2-2zM9 17H7v-7h2v7zm4 0h-2V7h2v10zm4 0h-2v-4h2v4z\"/>\n",
       "    </g>\n",
       "</svg>\n",
       "      </button>\n",
       "    </div>\n",
       "\n",
       "<style>\n",
       "  .colab-df-quickchart {\n",
       "    background-color: #E8F0FE;\n",
       "    border: none;\n",
       "    border-radius: 50%;\n",
       "    cursor: pointer;\n",
       "    display: none;\n",
       "    fill: #1967D2;\n",
       "    height: 32px;\n",
       "    padding: 0 0 0 0;\n",
       "    width: 32px;\n",
       "  }\n",
       "\n",
       "  .colab-df-quickchart:hover {\n",
       "    background-color: #E2EBFA;\n",
       "    box-shadow: 0px 1px 2px rgba(60, 64, 67, 0.3), 0px 1px 3px 1px rgba(60, 64, 67, 0.15);\n",
       "    fill: #174EA6;\n",
       "  }\n",
       "\n",
       "  [theme=dark] .colab-df-quickchart {\n",
       "    background-color: #3B4455;\n",
       "    fill: #D2E3FC;\n",
       "  }\n",
       "\n",
       "  [theme=dark] .colab-df-quickchart:hover {\n",
       "    background-color: #434B5C;\n",
       "    box-shadow: 0px 1px 3px 1px rgba(0, 0, 0, 0.15);\n",
       "    filter: drop-shadow(0px 1px 2px rgba(0, 0, 0, 0.3));\n",
       "    fill: #FFFFFF;\n",
       "  }\n",
       "</style>\n",
       "\n",
       "    <script>\n",
       "      async function quickchart(key) {\n",
       "        const containerElement = document.querySelector('#' + key);\n",
       "        const charts = await google.colab.kernel.invokeFunction(\n",
       "            'suggestCharts', [key], {});\n",
       "      }\n",
       "    </script>\n",
       "\n",
       "      <script>\n",
       "\n",
       "function displayQuickchartButton(domScope) {\n",
       "  let quickchartButtonEl =\n",
       "    domScope.querySelector('#df-bb6e5455-94c7-40fc-a063-4ec2acc60252 button.colab-df-quickchart');\n",
       "  quickchartButtonEl.style.display =\n",
       "    google.colab.kernel.accessAllowed ? 'block' : 'none';\n",
       "}\n",
       "\n",
       "        displayQuickchartButton(document);\n",
       "      </script>\n",
       "      <style>\n",
       "    .colab-df-container {\n",
       "      display:flex;\n",
       "      flex-wrap:wrap;\n",
       "      gap: 12px;\n",
       "    }\n",
       "\n",
       "    .colab-df-convert {\n",
       "      background-color: #E8F0FE;\n",
       "      border: none;\n",
       "      border-radius: 50%;\n",
       "      cursor: pointer;\n",
       "      display: none;\n",
       "      fill: #1967D2;\n",
       "      height: 32px;\n",
       "      padding: 0 0 0 0;\n",
       "      width: 32px;\n",
       "    }\n",
       "\n",
       "    .colab-df-convert:hover {\n",
       "      background-color: #E2EBFA;\n",
       "      box-shadow: 0px 1px 2px rgba(60, 64, 67, 0.3), 0px 1px 3px 1px rgba(60, 64, 67, 0.15);\n",
       "      fill: #174EA6;\n",
       "    }\n",
       "\n",
       "    [theme=dark] .colab-df-convert {\n",
       "      background-color: #3B4455;\n",
       "      fill: #D2E3FC;\n",
       "    }\n",
       "\n",
       "    [theme=dark] .colab-df-convert:hover {\n",
       "      background-color: #434B5C;\n",
       "      box-shadow: 0px 1px 3px 1px rgba(0, 0, 0, 0.15);\n",
       "      filter: drop-shadow(0px 1px 2px rgba(0, 0, 0, 0.3));\n",
       "      fill: #FFFFFF;\n",
       "    }\n",
       "  </style>\n",
       "\n",
       "      <script>\n",
       "        const buttonEl =\n",
       "          document.querySelector('#df-7447e1f3-44b2-4165-b039-62dbb7724633 button.colab-df-convert');\n",
       "        buttonEl.style.display =\n",
       "          google.colab.kernel.accessAllowed ? 'block' : 'none';\n",
       "\n",
       "        async function convertToInteractive(key) {\n",
       "          const element = document.querySelector('#df-7447e1f3-44b2-4165-b039-62dbb7724633');\n",
       "          const dataTable =\n",
       "            await google.colab.kernel.invokeFunction('convertToInteractive',\n",
       "                                                     [key], {});\n",
       "          if (!dataTable) return;\n",
       "\n",
       "          const docLinkHtml = 'Like what you see? Visit the ' +\n",
       "            '<a target=\"_blank\" href=https://colab.research.google.com/notebooks/data_table.ipynb>data table notebook</a>'\n",
       "            + ' to learn more about interactive tables.';\n",
       "          element.innerHTML = '';\n",
       "          dataTable['output_type'] = 'display_data';\n",
       "          await google.colab.output.renderOutput(dataTable, element);\n",
       "          const docLink = document.createElement('div');\n",
       "          docLink.innerHTML = docLinkHtml;\n",
       "          element.appendChild(docLink);\n",
       "        }\n",
       "      </script>\n",
       "    </div>\n",
       "  </div>\n"
      ],
      "text/plain": [
       "            feature            type  # null  % null  # unique  % unique  \\\n",
       "0             t_dat  datetime64[ns]       0     0.0       734      0.00   \n",
       "1       customer_id          object       0     0.0   1362281      4.29   \n",
       "2        article_id           int64       0     0.0    104547      0.33   \n",
       "3             price         float64       0     0.0      9857      0.03   \n",
       "4  sales_channel_id           int64       0     0.0         2      0.00   \n",
       "\n",
       "                                              sample  \n",
       "0  [2018-09-20T00:00:00.000000000, 2018-09-21T00:...  \n",
       "1  [000058a12d5b43e67d225668fa1f8d618c13dc232df0c...  \n",
       "2  [663713001, 541518023, 505221004, 685687003, 6...  \n",
       "3  [0.0508305084745762, 0.0304915254237288, 0.015...  \n",
       "4                                             [2, 1]  "
      ]
     },
     "execution_count": 4,
     "metadata": {},
     "output_type": "execute_result"
    }
   ],
   "source": [
    "df_transactions.t_dat = pd.to_datetime(df_transactions.t_dat, infer_datetime_format=True)\n",
    "describe_df(df_transactions)"
   ]
  },
  {
   "cell_type": "markdown",
   "metadata": {
    "id": "UIx20cyArRJN"
   },
   "source": [
    "---\n",
    "## Focus on Customers\n",
    "\n",
    "The metadata for each `customer_id` in the dataset consists of `club member status`, whether they `subscribe` to fashion news or not, and `age`. Some types are wrong due to missing values:"
   ]
  },
  {
   "cell_type": "code",
   "execution_count": null,
   "metadata": {
    "colab": {
     "base_uri": "https://localhost:8080/"
    },
    "executionInfo": {
     "elapsed": 13,
     "status": "ok",
     "timestamp": 1689945628911,
     "user": {
      "displayName": "jean rochefort",
      "userId": "04520792891621341900"
     },
     "user_tz": -120
    },
    "id": "7_-P9NTRrRJO",
    "outputId": "b111d003-5fcd-4f94-aa02-c20d45d76348"
   },
   "outputs": [
    {
     "name": "stdout",
     "output_type": "stream",
     "text": [
      "there are 15861 customers whose age is not an integer\n",
      "there are 15861 ages missing\n"
     ]
    }
   ],
   "source": [
    "print(f\"there are {(df_customers.age != df_customers.age.round()).sum()} customers whose age is not an integer\")\n",
    "print(f\"there are {df_customers.age.isnull().sum()} ages missing\")"
   ]
  },
  {
   "cell_type": "markdown",
   "metadata": {
    "id": "aCEHtoTRrRJO"
   },
   "source": [
    "Missing ages are arbitrarily replaced by 0 so that unknow values can be distinguished:"
   ]
  },
  {
   "cell_type": "code",
   "execution_count": null,
   "metadata": {
    "id": "LNAC5VEHrRJO"
   },
   "outputs": [],
   "source": [
    "mapping = {\"FN\": 0, \"Active\": 1, \"club_member_status\": \"N.C\", \"fashion_news_frequency\": \"N.C\", \"age\": 0}\n",
    "\n",
    "df_customers.fillna(value=mapping, inplace=True)\n",
    "df_customers.drop(columns=\"postal_code\", inplace=True)\n",
    "\n",
    "for col in [\"FN\", \"age\", \"Active\"]:\n",
    "    df_customers[col] = df_customers[col].astype(np.int8)"
   ]
  },
  {
   "cell_type": "markdown",
   "metadata": {
    "id": "dRk2P3DYjXRM"
   },
   "source": [
    "Now let's see the ratios of the number of customers for each feature:"
   ]
  },
  {
   "cell_type": "code",
   "execution_count": null,
   "metadata": {
    "colab": {
     "base_uri": "https://localhost:8080/",
     "height": 256
    },
    "executionInfo": {
     "elapsed": 1224,
     "status": "ok",
     "timestamp": 1689945630801,
     "user": {
      "displayName": "jean rochefort",
      "userId": "04520792891621341900"
     },
     "user_tz": -120
    },
    "id": "IjRkP7FVueKI",
    "outputId": "753b8308-ee95-45dd-910c-2a6356c1385b"
   },
   "outputs": [
    {
     "data": {
      "image/png": "[encoded data removed]",
      "text/plain": [
       "<Figure size 1200x600 with 4 Axes>"
      ]
     },
     "metadata": {},
     "output_type": "display_data"
    }
   ],
   "source": [
    "cols = [\"FN\", \"Active\", \"club_member_status\", \"fashion_news_frequency\"]\n",
    "fig, axes = plt.subplots(nrows=1, ncols=len(cols), figsize=(12, 6), tight_layout=True)\n",
    "\n",
    "for i, c in enumerate(cols):\n",
    "  df_customers[c].value_counts().plot.pie(ax=axes[i], title=c)"
   ]
  },
  {
   "cell_type": "code",
   "execution_count": null,
   "metadata": {
    "colab": {
     "base_uri": "https://localhost:8080/",
     "height": 307
    },
    "executionInfo": {
     "elapsed": 1458,
     "status": "ok",
     "timestamp": 1689945632248,
     "user": {
      "displayName": "jean rochefort",
      "userId": "04520792891621341900"
     },
     "user_tz": -120
    },
    "id": "_OLCo1pUuMJK",
    "outputId": "a7fa62ca-6e92-48ca-f791-7e6232fa6180"
   },
   "outputs": [
    {
     "data": {
      "image/png": "[encoded data removed]",
      "text/plain": [
       "<Figure size 1200x300 with 4 Axes>"
      ]
     },
     "metadata": {},
     "output_type": "display_data"
    }
   ],
   "source": [
    "cols = [\"FN\", \"Active\", \"club_member_status\", \"fashion_news_frequency\"]\n",
    "fig, axes = plt.subplots(nrows=1, ncols=len(cols), figsize=(12, 3), tight_layout=True)\n",
    "\n",
    "for i, c in enumerate(cols):\n",
    "  df_customers[c].value_counts().plot.bar(ax=axes[i], title=c)"
   ]
  },
  {
   "cell_type": "markdown",
   "metadata": {
    "id": "_Lf2HIkyjXRN"
   },
   "source": [
    "By visualizing the distribution of the age, we can clearly see that:\n",
    "- there are two types of clients: between 20 & 40, and older than 40 yrs old.\n",
    "- the number of missing values isn't too high"
   ]
  },
  {
   "cell_type": "code",
   "execution_count": null,
   "metadata": {
    "colab": {
     "base_uri": "https://localhost:8080/",
     "height": 251
    },
    "executionInfo": {
     "elapsed": 926,
     "status": "ok",
     "timestamp": 1689945633163,
     "user": {
      "displayName": "jean rochefort",
      "userId": "04520792891621341900"
     },
     "user_tz": -120
    },
    "id": "pKL3K9Row8HP",
    "outputId": "64248ef4-da3c-40df-81a7-6d15732a53cd"
   },
   "outputs": [
    {
     "data": {
      "text/plain": [
       "<Axes: xlabel='age', ylabel='Count'>"
      ]
     },
     "execution_count": 9,
     "metadata": {},
     "output_type": "execute_result"
    },
    {
     "data": {
      "image/png": "[encoded data removed]",
      "text/plain": [
       "<Figure size 600x200 with 1 Axes>"
      ]
     },
     "metadata": {},
     "output_type": "display_data"
    }
   ],
   "source": [
    "plt.figure(figsize=(6, 2))\n",
    "sns.histplot(data=df_customers, x='age', bins=50)"
   ]
  },
  {
   "cell_type": "markdown",
   "metadata": {
    "id": "1ztYqHr9jXRO"
   },
   "source": [
    "The shape of the age distribution remains quite the same for each category of customer:"
   ]
  },
  {
   "cell_type": "code",
   "execution_count": null,
   "metadata": {
    "colab": {
     "base_uri": "https://localhost:8080/",
     "height": 885
    },
    "executionInfo": {
     "elapsed": 8314,
     "status": "ok",
     "timestamp": 1689945641461,
     "user": {
      "displayName": "jean rochefort",
      "userId": "04520792891621341900"
     },
     "user_tz": -120
    },
    "id": "WjshT1Z5zyT9",
    "outputId": "a37e70df-c19b-4277-a57e-7a94f2440fff"
   },
   "outputs": [
    {
     "data": {
      "image/png": "[encoded data removed]",
      "text/plain": [
       "<Figure size 600x200 with 1 Axes>"
      ]
     },
     "metadata": {},
     "output_type": "display_data"
    },
    {
     "data": {
      "image/png": "[encoded data removed]",
      "text/plain": [
       "<Figure size 600x200 with 1 Axes>"
      ]
     },
     "metadata": {},
     "output_type": "display_data"
    },
    {
     "data": {
      "image/png": "[encoded data removed]",
      "text/plain": [
       "<Figure size 600x200 with 1 Axes>"
      ]
     },
     "metadata": {},
     "output_type": "display_data"
    },
    {
     "data": {
      "image/png": "[encoded data removed]",
      "text/plain": [
       "<Figure size 600x200 with 1 Axes>"
      ]
     },
     "metadata": {},
     "output_type": "display_data"
    }
   ],
   "source": [
    "for c in cols:\n",
    "  plt.figure(figsize=(6, 2))\n",
    "  sns.histplot(data=df_customers, x='age', bins=50, hue=c, element=\"poly\")\n",
    "  plt.show()"
   ]
  },
  {
   "cell_type": "markdown",
   "metadata": {
    "id": "0O0G3vZZ1d3o"
   },
   "source": [
    "---\n",
    "\n",
    "## Focus on Articles\n",
    "\n",
    "\n",
    "With a sunburst chart, we visualize the hierarchical structures of the different clothes' categories:\n",
    "- the \"sport\" category is the least represented\n",
    "- while the \"ladieswear\" & the \"baby/children\" seem to be the most important\n",
    "- unlike the \"ladieswear\" composed mostly of \"Garment Upper Body\", the \"baby/children\" clothes are more diversified:"
   ]
  },
  {
   "cell_type": "code",
   "execution_count": null,
   "metadata": {},
   "outputs": [],
   "source": [
    "cols = [\"index_group_name\", \"index_name\",  \"product_group_name\"]\n",
    "df_temp = pd.DataFrame(df_articles[cols].value_counts()).rename(columns={0: \"counts\"}).reset_index()\n",
    "px.sunburst(\n",
    "    df_temp,\n",
    "    path=cols,\n",
    "    values='counts',\n",
    ")"
   ]
  },
  {
   "cell_type": "markdown",
   "metadata": {
    "execution": {
     "iopub.execute_input": "2024-02-21T09:02:41.167396Z",
     "iopub.status.busy": "2024-02-21T09:02:41.167133Z",
     "iopub.status.idle": "2024-02-21T09:02:41.325964Z",
     "shell.execute_reply": "2024-02-21T09:02:41.325351Z",
     "shell.execute_reply.started": "2024-02-21T09:02:41.167380Z"
    }
   },
   "source": [
    "![](01_img/05.png)"
   ]
  },
  {
   "cell_type": "markdown",
   "metadata": {
    "id": "HzWlmFEBjXRP"
   },
   "source": [
    "If we don't group those clothes by `index_group` by rather by `product type`, we can see that the most represented product are: dresses, sweaters, swim wear bodies & trousers:"
   ]
  },
  {
   "cell_type": "code",
   "execution_count": null,
   "metadata": {},
   "outputs": [],
   "source": [
    "def plot_bar(df, column):\n",
    "    long_df = pd.DataFrame(df.groupby(column)['article_id'].count().reset_index().rename({'article_id': 'count'}, axis=1))\n",
    "    fig = px.bar(long_df, x=column, y=\"count\", color=column, title=f\"bar plot for {column} \", width=900, height=550)\n",
    "    fig.show()\n",
    "\n",
    "def plot_hist(df, column):\n",
    "    fig = px.histogram(df, x=column, nbins=10, title=f'{column} distribution ')\n",
    "    fig.show()\n",
    "\n",
    "\n",
    "plot_bar(df_articles,'product_type_name')"
   ]
  },
  {
   "cell_type": "markdown",
   "metadata": {
    "execution": {
     "iopub.execute_input": "2024-02-21T09:03:50.056694Z",
     "iopub.status.busy": "2024-02-21T09:03:50.056275Z",
     "iopub.status.idle": "2024-02-21T09:03:50.167587Z",
     "shell.execute_reply": "2024-02-21T09:03:50.166993Z",
     "shell.execute_reply.started": "2024-02-21T09:03:50.056669Z"
    }
   },
   "source": [
    "![](01_img/06.png)"
   ]
  },
  {
   "cell_type": "code",
   "execution_count": null,
   "metadata": {},
   "outputs": [],
   "source": [
    "plot_bar(df_articles,'product_group_name')"
   ]
  },
  {
   "cell_type": "markdown",
   "metadata": {
    "colab": {
     "base_uri": "https://localhost:8080/",
     "height": 567
    },
    "executionInfo": {
     "elapsed": 24,
     "status": "ok",
     "timestamp": 1689945643739,
     "user": {
      "displayName": "jean rochefort",
      "userId": "04520792891621341900"
     },
     "user_tz": -120
    },
    "id": "EkBMKTbpX4hE",
    "outputId": "30171a23-b79f-4232-a209-c39bd75eef18"
   },
   "source": [
    "![](01_img/07.png)"
   ]
  },
  {
   "cell_type": "code",
   "execution_count": null,
   "metadata": {},
   "outputs": [],
   "source": [
    "plot_bar(df_articles,'graphical_appearance_name')"
   ]
  },
  {
   "cell_type": "markdown",
   "metadata": {
    "execution": {
     "iopub.execute_input": "2024-02-21T09:04:58.057155Z",
     "iopub.status.busy": "2024-02-21T09:04:58.056776Z",
     "iopub.status.idle": "2024-02-21T09:04:58.168011Z",
     "shell.execute_reply": "2024-02-21T09:04:58.167451Z",
     "shell.execute_reply.started": "2024-02-21T09:04:58.057128Z"
    }
   },
   "source": [
    "![](01_img/08.png)"
   ]
  },
  {
   "cell_type": "markdown",
   "metadata": {
    "id": "9ydU5JVfKidh"
   },
   "source": [
    "# Focus an Transactions\n",
    "\n"
   ]
  },
  {
   "cell_type": "markdown",
   "metadata": {
    "id": "wwNC7GWNjXRR"
   },
   "source": [
    "Most item catalogs exhibit the long tail effect (popularity bias): very few items are demanded & sold, whereas most of the articles aren't sold that much."
   ]
  },
  {
   "cell_type": "code",
   "execution_count": null,
   "metadata": {
    "colab": {
     "base_uri": "https://localhost:8080/",
     "height": 385
    },
    "executionInfo": {
     "elapsed": 2798,
     "status": "ok",
     "timestamp": 1689945646931,
     "user": {
      "displayName": "jean rochefort",
      "userId": "04520792891621341900"
     },
     "user_tz": -120
    },
    "id": "DPoE9XGLPQoo",
    "outputId": "5c12c8d3-383d-48a4-ff32-95b62a73f0e7"
   },
   "outputs": [
    {
     "data": {
      "text/plain": [
       "<Axes: >"
      ]
     },
     "execution_count": 15,
     "metadata": {},
     "output_type": "execute_result"
    },
    {
     "data": {
      "image/png": "[encoded data removed]",
      "text/plain": [
       "<Figure size 600x400 with 1 Axes>"
      ]
     },
     "metadata": {},
     "output_type": "display_data"
    }
   ],
   "source": [
    "df_transactions['article_id'].value_counts().reset_index().drop(columns=[\"index\"]).plot(figsize=(6, 4))"
   ]
  },
  {
   "cell_type": "markdown",
   "metadata": {
    "id": "GQNGMoqnjXRR"
   },
   "source": [
    "Curiously, the same is also true for customers. This can be explained by the fact that few customers are in fact societies or resellers that buy high volumnes of items, where as the vast majority of the customers have only bought 1 or 2 items:"
   ]
  },
  {
   "cell_type": "code",
   "execution_count": null,
   "metadata": {
    "colab": {
     "base_uri": "https://localhost:8080/",
     "height": 403
    },
    "executionInfo": {
     "elapsed": 11769,
     "status": "ok",
     "timestamp": 1689945658696,
     "user": {
      "displayName": "jean rochefort",
      "userId": "04520792891621341900"
     },
     "user_tz": -120
    },
    "id": "1e6SxQzKPQsV",
    "outputId": "7e8f44ba-049d-401f-c787-27d042c078c1"
   },
   "outputs": [
    {
     "data": {
      "text/plain": [
       "<Axes: >"
      ]
     },
     "execution_count": 16,
     "metadata": {},
     "output_type": "execute_result"
    },
    {
     "data": {
      "image/png": "[encoded data removed]",
      "text/plain": [
       "<Figure size 600x400 with 1 Axes>"
      ]
     },
     "metadata": {},
     "output_type": "display_data"
    }
   ],
   "source": [
    "df_transactions['customer_id'].value_counts()\\\n",
    "  .reset_index().sort_index().plot(figsize=(6, 4))"
   ]
  },
  {
   "cell_type": "markdown",
   "metadata": {
    "id": "zD0M5xtljXRR"
   },
   "source": [
    "The history of transactions spans three years:"
   ]
  },
  {
   "cell_type": "code",
   "execution_count": null,
   "metadata": {
    "colab": {
     "base_uri": "https://localhost:8080/"
    },
    "executionInfo": {
     "elapsed": 4647,
     "status": "ok",
     "timestamp": 1689945663334,
     "user": {
      "displayName": "jean rochefort",
      "userId": "04520792891621341900"
     },
     "user_tz": -120
    },
    "id": "fz-69laLPQlo",
    "outputId": "c86d745e-e703-49cd-d0f3-6fa1afd2d951"
   },
   "outputs": [
    {
     "data": {
      "text/plain": [
       "array([2018, 2019, 2020])"
      ]
     },
     "execution_count": 17,
     "metadata": {},
     "output_type": "execute_result"
    }
   ],
   "source": [
    "df_transactions[\"t_dat\"].dt.year.unique()"
   ]
  },
  {
   "cell_type": "markdown",
   "metadata": {
    "id": "LgcDhv7YjXRS"
   },
   "source": [
    "Few spikes can be observed from the total daily sales, and can be explained by the shopping events or highly promoted sales at discounted price such as the \"black friday\":"
   ]
  },
  {
   "cell_type": "code",
   "execution_count": null,
   "metadata": {},
   "outputs": [],
   "source": [
    "df_transactions['month'] = df_transactions[\"t_dat\"].dt.month\n",
    "df_transactions['year'] = df_transactions[\"t_dat\"].dt.year\n",
    "df_transactions['dow'] = df_transactions[\"t_dat\"].dt.day_name()\n",
    "\n",
    "df_temp = df_transactions.groupby('t_dat')['price'].agg(['sum', 'mean']).sort_values(by = 't_dat', ascending=False).reset_index()\n",
    "px.line(df_temp, x='t_dat', y='sum', title='Total Sales daily', width=900, height=450).show()"
   ]
  },
  {
   "cell_type": "markdown",
   "metadata": {},
   "source": [
    "![](01_img/11.png)"
   ]
  },
  {
   "cell_type": "markdown",
   "metadata": {
    "id": "mUCWu8r8jXRS"
   },
   "source": [
    "The count of monthly sells shows that more items are sold during the summer (remember the swim wear body as most demanded):"
   ]
  },
  {
   "cell_type": "code",
   "execution_count": null,
   "metadata": {},
   "outputs": [],
   "source": [
    "df_temp = df_transactions.groupby(['year', 'month']).count()[\"article_id\"].reset_index().rename(columns={\"article_id\": \"count\"})\n",
    "px.line(df_temp, x=\"month\", y=\"count\", color='year', width=900, height=350, markers=True)"
   ]
  },
  {
   "cell_type": "markdown",
   "metadata": {},
   "source": [
    "![](01_img/12.png)"
   ]
  },
  {
   "cell_type": "markdown",
   "metadata": {
    "id": "JrToLOJejXRS"
   },
   "source": [
    "2018 is an incomplete year in our dataset, that's why there are fewer sells monthly. But there are also fewer monthly sells in 2020 compared to 2019 for the month"
   ]
  },
  {
   "cell_type": "code",
   "execution_count": null,
   "metadata": {},
   "outputs": [],
   "source": [
    "df_temp = df_transactions.groupby([\"year\", \"month\"]).agg({\"price\": \"sum\"}).reset_index()\n",
    "\n",
    "px.histogram(\n",
    "    df_temp,\n",
    "    x=\"month\",\n",
    "    y=\"price\",\n",
    "    title='Monthly sells for each year',\n",
    "    color='year',\n",
    "    barmode='group',\n",
    "    nbins=12,\n",
    "    width=900,\n",
    "    height=450\n",
    ").show()"
   ]
  },
  {
   "cell_type": "markdown",
   "metadata": {},
   "source": [
    "![](01_img/13.png)"
   ]
  },
  {
   "cell_type": "code",
   "execution_count": null,
   "metadata": {},
   "outputs": [],
   "source": [
    "df_temp = df_transactions.groupby([\"year\", \"dow\"]).agg({\"price\": \"sum\"}).reset_index()\n",
    "\n",
    "px.histogram(\n",
    "    df_temp,\n",
    "    x=\"dow\",\n",
    "    y=\"price\",\n",
    "    title='Daily sells for each year',\n",
    "    color='year',\n",
    "    barmode='group',\n",
    "    nbins=10,\n",
    "    width=900,\n",
    "    height=450\n",
    ").show()"
   ]
  },
  {
   "cell_type": "markdown",
   "metadata": {},
   "source": [
    "![](01_img/14.png)"
   ]
  },
  {
   "cell_type": "markdown",
   "metadata": {
    "id": "nukF_WbwaU8r"
   },
   "source": [
    "---\n",
    "## Transactions analysis for different customers or articles categories\n",
    "\n",
    "Let's keep only few months for the sake of simplicity (and also because it's quite hard to process huge amount of data with limited ressources):"
   ]
  },
  {
   "cell_type": "code",
   "execution_count": null,
   "metadata": {
    "colab": {
     "base_uri": "https://localhost:8080/"
    },
    "executionInfo": {
     "elapsed": 16500,
     "status": "ok",
     "timestamp": 1689945726321,
     "user": {
      "displayName": "jean rochefort",
      "userId": "04520792891621341900"
     },
     "user_tz": -120
    },
    "id": "N6ANAoCJ_Sh9",
    "outputId": "22c8a58f-3f17-4c11-e203-29a2212778e4"
   },
   "outputs": [
    {
     "data": {
      "text/plain": [
       "(6501193, 8)"
      ]
     },
     "execution_count": 22,
     "metadata": {},
     "output_type": "execute_result"
    }
   ],
   "source": [
    "df = df_transactions[(df_transactions.t_dat.dt.year == 2019) & (df_transactions.t_dat.dt.month.isin([5, 6, 7, 9]))]\n",
    "df.shape"
   ]
  },
  {
   "cell_type": "code",
   "execution_count": null,
   "metadata": {
    "colab": {
     "base_uri": "https://localhost:8080/",
     "height": 206
    },
    "executionInfo": {
     "elapsed": 58,
     "status": "ok",
     "timestamp": 1689945726323,
     "user": {
      "displayName": "jean rochefort",
      "userId": "04520792891621341900"
     },
     "user_tz": -120
    },
    "id": "bzw9hskpl4zW",
    "outputId": "67861af8-a2c8-4726-a700-30a1fe4fb789"
   },
   "outputs": [
    {
     "data": {
      "text/html": [
       "\n",
       "\n",
       "  <div id=\"df-c34c1af1-5256-4a06-89cd-708af7e7678d\">\n",
       "    <div class=\"colab-df-container\">\n",
       "      <div>\n",
       "<style scoped>\n",
       "    .dataframe tbody tr th:only-of-type {\n",
       "        vertical-align: middle;\n",
       "    }\n",
       "\n",
       "    .dataframe tbody tr th {\n",
       "        vertical-align: top;\n",
       "    }\n",
       "\n",
       "    .dataframe thead th {\n",
       "        text-align: right;\n",
       "    }\n",
       "</style>\n",
       "<table border=\"1\" class=\"dataframe\">\n",
       "  <thead>\n",
       "    <tr style=\"text-align: right;\">\n",
       "      <th></th>\n",
       "      <th>t_dat</th>\n",
       "      <th>customer_id</th>\n",
       "      <th>article_id</th>\n",
       "      <th>price</th>\n",
       "      <th>sales_channel_id</th>\n",
       "      <th>month</th>\n",
       "      <th>year</th>\n",
       "      <th>dow</th>\n",
       "    </tr>\n",
       "  </thead>\n",
       "  <tbody>\n",
       "    <tr>\n",
       "      <th>0</th>\n",
       "      <td>2018-09-20</td>\n",
       "      <td>000058a12d5b43e67d225668fa1f8d618c13dc232df0ca...</td>\n",
       "      <td>663713001</td>\n",
       "      <td>0.050831</td>\n",
       "      <td>2</td>\n",
       "      <td>9</td>\n",
       "      <td>2018</td>\n",
       "      <td>Thursday</td>\n",
       "    </tr>\n",
       "    <tr>\n",
       "      <th>1</th>\n",
       "      <td>2018-09-20</td>\n",
       "      <td>000058a12d5b43e67d225668fa1f8d618c13dc232df0ca...</td>\n",
       "      <td>541518023</td>\n",
       "      <td>0.030492</td>\n",
       "      <td>2</td>\n",
       "      <td>9</td>\n",
       "      <td>2018</td>\n",
       "      <td>Thursday</td>\n",
       "    </tr>\n",
       "    <tr>\n",
       "      <th>2</th>\n",
       "      <td>2018-09-20</td>\n",
       "      <td>00007d2de826758b65a93dd24ce629ed66842531df6699...</td>\n",
       "      <td>505221004</td>\n",
       "      <td>0.015237</td>\n",
       "      <td>2</td>\n",
       "      <td>9</td>\n",
       "      <td>2018</td>\n",
       "      <td>Thursday</td>\n",
       "    </tr>\n",
       "    <tr>\n",
       "      <th>3</th>\n",
       "      <td>2018-09-20</td>\n",
       "      <td>00007d2de826758b65a93dd24ce629ed66842531df6699...</td>\n",
       "      <td>685687003</td>\n",
       "      <td>0.016932</td>\n",
       "      <td>2</td>\n",
       "      <td>9</td>\n",
       "      <td>2018</td>\n",
       "      <td>Thursday</td>\n",
       "    </tr>\n",
       "    <tr>\n",
       "      <th>4</th>\n",
       "      <td>2018-09-20</td>\n",
       "      <td>00007d2de826758b65a93dd24ce629ed66842531df6699...</td>\n",
       "      <td>685687004</td>\n",
       "      <td>0.016932</td>\n",
       "      <td>2</td>\n",
       "      <td>9</td>\n",
       "      <td>2018</td>\n",
       "      <td>Thursday</td>\n",
       "    </tr>\n",
       "  </tbody>\n",
       "</table>\n",
       "</div>\n",
       "      <button class=\"colab-df-convert\" onclick=\"convertToInteractive('df-c34c1af1-5256-4a06-89cd-708af7e7678d')\"\n",
       "              title=\"Convert this dataframe to an interactive table.\"\n",
       "              style=\"display:none;\">\n",
       "\n",
       "  <svg xmlns=\"http://www.w3.org/2000/svg\" height=\"24px\"viewBox=\"0 0 24 24\"\n",
       "       width=\"24px\">\n",
       "    <path d=\"M0 0h24v24H0V0z\" fill=\"none\"/>\n",
       "    <path d=\"M18.56 5.44l.94 2.06.94-2.06 2.06-.94-2.06-.94-.94-2.06-.94 2.06-2.06.94zm-11 1L8.5 8.5l.94-2.06 2.06-.94-2.06-.94L8.5 2.5l-.94 2.06-2.06.94zm10 10l.94 2.06.94-2.06 2.06-.94-2.06-.94-.94-2.06-.94 2.06-2.06.94z\"/><path d=\"M17.41 7.96l-1.37-1.37c-.4-.4-.92-.59-1.43-.59-.52 0-1.04.2-1.43.59L10.3 9.45l-7.72 7.72c-.78.78-.78 2.05 0 2.83L4 21.41c.39.39.9.59 1.41.59.51 0 1.02-.2 1.41-.59l7.78-7.78 2.81-2.81c.8-.78.8-2.07 0-2.86zM5.41 20L4 18.59l7.72-7.72 1.47 1.35L5.41 20z\"/>\n",
       "  </svg>\n",
       "      </button>\n",
       "\n",
       "\n",
       "\n",
       "    <div id=\"df-8b3e1d0f-2657-4e12-a5cf-334bafa888f5\">\n",
       "      <button class=\"colab-df-quickchart\" onclick=\"quickchart('df-8b3e1d0f-2657-4e12-a5cf-334bafa888f5')\"\n",
       "              title=\"Suggest charts.\"\n",
       "              style=\"display:none;\">\n",
       "\n",
       "<svg xmlns=\"http://www.w3.org/2000/svg\" height=\"24px\"viewBox=\"0 0 24 24\"\n",
       "     width=\"24px\">\n",
       "    <g>\n",
       "        <path d=\"M19 3H5c-1.1 0-2 .9-2 2v14c0 1.1.9 2 2 2h14c1.1 0 2-.9 2-2V5c0-1.1-.9-2-2-2zM9 17H7v-7h2v7zm4 0h-2V7h2v10zm4 0h-2v-4h2v4z\"/>\n",
       "    </g>\n",
       "</svg>\n",
       "      </button>\n",
       "    </div>\n",
       "\n",
       "<style>\n",
       "  .colab-df-quickchart {\n",
       "    background-color: #E8F0FE;\n",
       "    border: none;\n",
       "    border-radius: 50%;\n",
       "    cursor: pointer;\n",
       "    display: none;\n",
       "    fill: #1967D2;\n",
       "    height: 32px;\n",
       "    padding: 0 0 0 0;\n",
       "    width: 32px;\n",
       "  }\n",
       "\n",
       "  .colab-df-quickchart:hover {\n",
       "    background-color: #E2EBFA;\n",
       "    box-shadow: 0px 1px 2px rgba(60, 64, 67, 0.3), 0px 1px 3px 1px rgba(60, 64, 67, 0.15);\n",
       "    fill: #174EA6;\n",
       "  }\n",
       "\n",
       "  [theme=dark] .colab-df-quickchart {\n",
       "    background-color: #3B4455;\n",
       "    fill: #D2E3FC;\n",
       "  }\n",
       "\n",
       "  [theme=dark] .colab-df-quickchart:hover {\n",
       "    background-color: #434B5C;\n",
       "    box-shadow: 0px 1px 3px 1px rgba(0, 0, 0, 0.15);\n",
       "    filter: drop-shadow(0px 1px 2px rgba(0, 0, 0, 0.3));\n",
       "    fill: #FFFFFF;\n",
       "  }\n",
       "</style>\n",
       "\n",
       "    <script>\n",
       "      async function quickchart(key) {\n",
       "        const containerElement = document.querySelector('#' + key);\n",
       "        const charts = await google.colab.kernel.invokeFunction(\n",
       "            'suggestCharts', [key], {});\n",
       "      }\n",
       "    </script>\n",
       "\n",
       "      <script>\n",
       "\n",
       "function displayQuickchartButton(domScope) {\n",
       "  let quickchartButtonEl =\n",
       "    domScope.querySelector('#df-8b3e1d0f-2657-4e12-a5cf-334bafa888f5 button.colab-df-quickchart');\n",
       "  quickchartButtonEl.style.display =\n",
       "    google.colab.kernel.accessAllowed ? 'block' : 'none';\n",
       "}\n",
       "\n",
       "        displayQuickchartButton(document);\n",
       "      </script>\n",
       "      <style>\n",
       "    .colab-df-container {\n",
       "      display:flex;\n",
       "      flex-wrap:wrap;\n",
       "      gap: 12px;\n",
       "    }\n",
       "\n",
       "    .colab-df-convert {\n",
       "      background-color: #E8F0FE;\n",
       "      border: none;\n",
       "      border-radius: 50%;\n",
       "      cursor: pointer;\n",
       "      display: none;\n",
       "      fill: #1967D2;\n",
       "      height: 32px;\n",
       "      padding: 0 0 0 0;\n",
       "      width: 32px;\n",
       "    }\n",
       "\n",
       "    .colab-df-convert:hover {\n",
       "      background-color: #E2EBFA;\n",
       "      box-shadow: 0px 1px 2px rgba(60, 64, 67, 0.3), 0px 1px 3px 1px rgba(60, 64, 67, 0.15);\n",
       "      fill: #174EA6;\n",
       "    }\n",
       "\n",
       "    [theme=dark] .colab-df-convert {\n",
       "      background-color: #3B4455;\n",
       "      fill: #D2E3FC;\n",
       "    }\n",
       "\n",
       "    [theme=dark] .colab-df-convert:hover {\n",
       "      background-color: #434B5C;\n",
       "      box-shadow: 0px 1px 3px 1px rgba(0, 0, 0, 0.15);\n",
       "      filter: drop-shadow(0px 1px 2px rgba(0, 0, 0, 0.3));\n",
       "      fill: #FFFFFF;\n",
       "    }\n",
       "  </style>\n",
       "\n",
       "      <script>\n",
       "        const buttonEl =\n",
       "          document.querySelector('#df-c34c1af1-5256-4a06-89cd-708af7e7678d button.colab-df-convert');\n",
       "        buttonEl.style.display =\n",
       "          google.colab.kernel.accessAllowed ? 'block' : 'none';\n",
       "\n",
       "        async function convertToInteractive(key) {\n",
       "          const element = document.querySelector('#df-c34c1af1-5256-4a06-89cd-708af7e7678d');\n",
       "          const dataTable =\n",
       "            await google.colab.kernel.invokeFunction('convertToInteractive',\n",
       "                                                     [key], {});\n",
       "          if (!dataTable) return;\n",
       "\n",
       "          const docLinkHtml = 'Like what you see? Visit the ' +\n",
       "            '<a target=\"_blank\" href=https://colab.research.google.com/notebooks/data_table.ipynb>data table notebook</a>'\n",
       "            + ' to learn more about interactive tables.';\n",
       "          element.innerHTML = '';\n",
       "          dataTable['output_type'] = 'display_data';\n",
       "          await google.colab.output.renderOutput(dataTable, element);\n",
       "          const docLink = document.createElement('div');\n",
       "          docLink.innerHTML = docLinkHtml;\n",
       "          element.appendChild(docLink);\n",
       "        }\n",
       "      </script>\n",
       "    </div>\n",
       "  </div>\n"
      ],
      "text/plain": [
       "       t_dat                                        customer_id  article_id  \\\n",
       "0 2018-09-20  000058a12d5b43e67d225668fa1f8d618c13dc232df0ca...   663713001   \n",
       "1 2018-09-20  000058a12d5b43e67d225668fa1f8d618c13dc232df0ca...   541518023   \n",
       "2 2018-09-20  00007d2de826758b65a93dd24ce629ed66842531df6699...   505221004   \n",
       "3 2018-09-20  00007d2de826758b65a93dd24ce629ed66842531df6699...   685687003   \n",
       "4 2018-09-20  00007d2de826758b65a93dd24ce629ed66842531df6699...   685687004   \n",
       "\n",
       "      price  sales_channel_id  month  year       dow  \n",
       "0  0.050831                 2      9  2018  Thursday  \n",
       "1  0.030492                 2      9  2018  Thursday  \n",
       "2  0.015237                 2      9  2018  Thursday  \n",
       "3  0.016932                 2      9  2018  Thursday  \n",
       "4  0.016932                 2      9  2018  Thursday  "
      ]
     },
     "execution_count": 23,
     "metadata": {},
     "output_type": "execute_result"
    }
   ],
   "source": [
    "df_transactions.head()"
   ]
  },
  {
   "cell_type": "code",
   "execution_count": null,
   "metadata": {
    "colab": {
     "base_uri": "https://localhost:8080/",
     "height": 224
    },
    "executionInfo": {
     "elapsed": 36861,
     "status": "ok",
     "timestamp": 1689945763134,
     "user": {
      "displayName": "jean rochefort",
      "userId": "04520792891621341900"
     },
     "user_tz": -120
    },
    "id": "fVBCNRsEaIp_",
    "outputId": "6e3a7ccd-cd1e-4eab-c88f-9ae30a59749d"
   },
   "outputs": [
    {
     "name": "stdout",
     "output_type": "stream",
     "text": [
      "Total Memory Usage: 2751.01 MB\n"
     ]
    },
    {
     "data": {
      "text/html": [
       "\n",
       "\n",
       "  <div id=\"df-77691cab-fac4-466c-af06-809cb3ae9364\">\n",
       "    <div class=\"colab-df-container\">\n",
       "      <div>\n",
       "<style scoped>\n",
       "    .dataframe tbody tr th:only-of-type {\n",
       "        vertical-align: middle;\n",
       "    }\n",
       "\n",
       "    .dataframe tbody tr th {\n",
       "        vertical-align: top;\n",
       "    }\n",
       "\n",
       "    .dataframe thead th {\n",
       "        text-align: right;\n",
       "    }\n",
       "</style>\n",
       "<table border=\"1\" class=\"dataframe\">\n",
       "  <thead>\n",
       "    <tr style=\"text-align: right;\">\n",
       "      <th></th>\n",
       "      <th>t_dat</th>\n",
       "      <th>price</th>\n",
       "      <th>sales_channel_id</th>\n",
       "      <th>month</th>\n",
       "      <th>year</th>\n",
       "      <th>dow</th>\n",
       "      <th>index_group_name</th>\n",
       "      <th>index_name</th>\n",
       "      <th>section_name</th>\n",
       "      <th>FN</th>\n",
       "      <th>Active</th>\n",
       "      <th>club_member_status</th>\n",
       "      <th>fashion_news_frequency</th>\n",
       "      <th>age</th>\n",
       "    </tr>\n",
       "  </thead>\n",
       "  <tbody>\n",
       "    <tr>\n",
       "      <th>0</th>\n",
       "      <td>2019-05-01</td>\n",
       "      <td>0.050831</td>\n",
       "      <td>2</td>\n",
       "      <td>5</td>\n",
       "      <td>2019</td>\n",
       "      <td>&lt;bound method PandasDelegate._add_delegate_acc...</td>\n",
       "      <td>Divided</td>\n",
       "      <td>Divided</td>\n",
       "      <td>Ladies Denim</td>\n",
       "      <td>0</td>\n",
       "      <td>1</td>\n",
       "      <td>PRE-CREATE</td>\n",
       "      <td>NONE</td>\n",
       "      <td>55</td>\n",
       "    </tr>\n",
       "    <tr>\n",
       "      <th>1</th>\n",
       "      <td>2019-05-01</td>\n",
       "      <td>0.050831</td>\n",
       "      <td>2</td>\n",
       "      <td>5</td>\n",
       "      <td>2019</td>\n",
       "      <td>&lt;bound method PandasDelegate._add_delegate_acc...</td>\n",
       "      <td>Ladieswear</td>\n",
       "      <td>Ladieswear</td>\n",
       "      <td>Womens Everyday Collection</td>\n",
       "      <td>0</td>\n",
       "      <td>1</td>\n",
       "      <td>PRE-CREATE</td>\n",
       "      <td>NONE</td>\n",
       "      <td>55</td>\n",
       "    </tr>\n",
       "    <tr>\n",
       "      <th>2</th>\n",
       "      <td>2019-05-01</td>\n",
       "      <td>0.016932</td>\n",
       "      <td>2</td>\n",
       "      <td>5</td>\n",
       "      <td>2019</td>\n",
       "      <td>&lt;bound method PandasDelegate._add_delegate_acc...</td>\n",
       "      <td>Ladieswear</td>\n",
       "      <td>Lingeries/Tights</td>\n",
       "      <td>Womens Lingerie</td>\n",
       "      <td>0</td>\n",
       "      <td>1</td>\n",
       "      <td>PRE-CREATE</td>\n",
       "      <td>NONE</td>\n",
       "      <td>55</td>\n",
       "    </tr>\n",
       "    <tr>\n",
       "      <th>3</th>\n",
       "      <td>2019-05-01</td>\n",
       "      <td>0.033881</td>\n",
       "      <td>2</td>\n",
       "      <td>5</td>\n",
       "      <td>2019</td>\n",
       "      <td>&lt;bound method PandasDelegate._add_delegate_acc...</td>\n",
       "      <td>Ladieswear</td>\n",
       "      <td>Ladieswear</td>\n",
       "      <td>Womens Everyday Collection</td>\n",
       "      <td>0</td>\n",
       "      <td>1</td>\n",
       "      <td>PRE-CREATE</td>\n",
       "      <td>NONE</td>\n",
       "      <td>55</td>\n",
       "    </tr>\n",
       "    <tr>\n",
       "      <th>4</th>\n",
       "      <td>2019-05-01</td>\n",
       "      <td>0.016932</td>\n",
       "      <td>2</td>\n",
       "      <td>5</td>\n",
       "      <td>2019</td>\n",
       "      <td>&lt;bound method PandasDelegate._add_delegate_acc...</td>\n",
       "      <td>Ladieswear</td>\n",
       "      <td>Ladieswear</td>\n",
       "      <td>Womens Everyday Collection</td>\n",
       "      <td>0</td>\n",
       "      <td>1</td>\n",
       "      <td>PRE-CREATE</td>\n",
       "      <td>NONE</td>\n",
       "      <td>55</td>\n",
       "    </tr>\n",
       "  </tbody>\n",
       "</table>\n",
       "</div>\n",
       "      <button class=\"colab-df-convert\" onclick=\"convertToInteractive('df-77691cab-fac4-466c-af06-809cb3ae9364')\"\n",
       "              title=\"Convert this dataframe to an interactive table.\"\n",
       "              style=\"display:none;\">\n",
       "\n",
       "  <svg xmlns=\"http://www.w3.org/2000/svg\" height=\"24px\"viewBox=\"0 0 24 24\"\n",
       "       width=\"24px\">\n",
       "    <path d=\"M0 0h24v24H0V0z\" fill=\"none\"/>\n",
       "    <path d=\"M18.56 5.44l.94 2.06.94-2.06 2.06-.94-2.06-.94-.94-2.06-.94 2.06-2.06.94zm-11 1L8.5 8.5l.94-2.06 2.06-.94-2.06-.94L8.5 2.5l-.94 2.06-2.06.94zm10 10l.94 2.06.94-2.06 2.06-.94-2.06-.94-.94-2.06-.94 2.06-2.06.94z\"/><path d=\"M17.41 7.96l-1.37-1.37c-.4-.4-.92-.59-1.43-.59-.52 0-1.04.2-1.43.59L10.3 9.45l-7.72 7.72c-.78.78-.78 2.05 0 2.83L4 21.41c.39.39.9.59 1.41.59.51 0 1.02-.2 1.41-.59l7.78-7.78 2.81-2.81c.8-.78.8-2.07 0-2.86zM5.41 20L4 18.59l7.72-7.72 1.47 1.35L5.41 20z\"/>\n",
       "  </svg>\n",
       "      </button>\n",
       "\n",
       "\n",
       "\n",
       "    <div id=\"df-0a6e0c8d-41ef-4b7a-8f87-3b742ffba6c9\">\n",
       "      <button class=\"colab-df-quickchart\" onclick=\"quickchart('df-0a6e0c8d-41ef-4b7a-8f87-3b742ffba6c9')\"\n",
       "              title=\"Suggest charts.\"\n",
       "              style=\"display:none;\">\n",
       "\n",
       "<svg xmlns=\"http://www.w3.org/2000/svg\" height=\"24px\"viewBox=\"0 0 24 24\"\n",
       "     width=\"24px\">\n",
       "    <g>\n",
       "        <path d=\"M19 3H5c-1.1 0-2 .9-2 2v14c0 1.1.9 2 2 2h14c1.1 0 2-.9 2-2V5c0-1.1-.9-2-2-2zM9 17H7v-7h2v7zm4 0h-2V7h2v10zm4 0h-2v-4h2v4z\"/>\n",
       "    </g>\n",
       "</svg>\n",
       "      </button>\n",
       "    </div>\n",
       "\n",
       "<style>\n",
       "  .colab-df-quickchart {\n",
       "    background-color: #E8F0FE;\n",
       "    border: none;\n",
       "    border-radius: 50%;\n",
       "    cursor: pointer;\n",
       "    display: none;\n",
       "    fill: #1967D2;\n",
       "    height: 32px;\n",
       "    padding: 0 0 0 0;\n",
       "    width: 32px;\n",
       "  }\n",
       "\n",
       "  .colab-df-quickchart:hover {\n",
       "    background-color: #E2EBFA;\n",
       "    box-shadow: 0px 1px 2px rgba(60, 64, 67, 0.3), 0px 1px 3px 1px rgba(60, 64, 67, 0.15);\n",
       "    fill: #174EA6;\n",
       "  }\n",
       "\n",
       "  [theme=dark] .colab-df-quickchart {\n",
       "    background-color: #3B4455;\n",
       "    fill: #D2E3FC;\n",
       "  }\n",
       "\n",
       "  [theme=dark] .colab-df-quickchart:hover {\n",
       "    background-color: #434B5C;\n",
       "    box-shadow: 0px 1px 3px 1px rgba(0, 0, 0, 0.15);\n",
       "    filter: drop-shadow(0px 1px 2px rgba(0, 0, 0, 0.3));\n",
       "    fill: #FFFFFF;\n",
       "  }\n",
       "</style>\n",
       "\n",
       "    <script>\n",
       "      async function quickchart(key) {\n",
       "        const containerElement = document.querySelector('#' + key);\n",
       "        const charts = await google.colab.kernel.invokeFunction(\n",
       "            'suggestCharts', [key], {});\n",
       "      }\n",
       "    </script>\n",
       "\n",
       "      <script>\n",
       "\n",
       "function displayQuickchartButton(domScope) {\n",
       "  let quickchartButtonEl =\n",
       "    domScope.querySelector('#df-0a6e0c8d-41ef-4b7a-8f87-3b742ffba6c9 button.colab-df-quickchart');\n",
       "  quickchartButtonEl.style.display =\n",
       "    google.colab.kernel.accessAllowed ? 'block' : 'none';\n",
       "}\n",
       "\n",
       "        displayQuickchartButton(document);\n",
       "      </script>\n",
       "      <style>\n",
       "    .colab-df-container {\n",
       "      display:flex;\n",
       "      flex-wrap:wrap;\n",
       "      gap: 12px;\n",
       "    }\n",
       "\n",
       "    .colab-df-convert {\n",
       "      background-color: #E8F0FE;\n",
       "      border: none;\n",
       "      border-radius: 50%;\n",
       "      cursor: pointer;\n",
       "      display: none;\n",
       "      fill: #1967D2;\n",
       "      height: 32px;\n",
       "      padding: 0 0 0 0;\n",
       "      width: 32px;\n",
       "    }\n",
       "\n",
       "    .colab-df-convert:hover {\n",
       "      background-color: #E2EBFA;\n",
       "      box-shadow: 0px 1px 2px rgba(60, 64, 67, 0.3), 0px 1px 3px 1px rgba(60, 64, 67, 0.15);\n",
       "      fill: #174EA6;\n",
       "    }\n",
       "\n",
       "    [theme=dark] .colab-df-convert {\n",
       "      background-color: #3B4455;\n",
       "      fill: #D2E3FC;\n",
       "    }\n",
       "\n",
       "    [theme=dark] .colab-df-convert:hover {\n",
       "      background-color: #434B5C;\n",
       "      box-shadow: 0px 1px 3px 1px rgba(0, 0, 0, 0.15);\n",
       "      filter: drop-shadow(0px 1px 2px rgba(0, 0, 0, 0.3));\n",
       "      fill: #FFFFFF;\n",
       "    }\n",
       "  </style>\n",
       "\n",
       "      <script>\n",
       "        const buttonEl =\n",
       "          document.querySelector('#df-77691cab-fac4-466c-af06-809cb3ae9364 button.colab-df-convert');\n",
       "        buttonEl.style.display =\n",
       "          google.colab.kernel.accessAllowed ? 'block' : 'none';\n",
       "\n",
       "        async function convertToInteractive(key) {\n",
       "          const element = document.querySelector('#df-77691cab-fac4-466c-af06-809cb3ae9364');\n",
       "          const dataTable =\n",
       "            await google.colab.kernel.invokeFunction('convertToInteractive',\n",
       "                                                     [key], {});\n",
       "          if (!dataTable) return;\n",
       "\n",
       "          const docLinkHtml = 'Like what you see? Visit the ' +\n",
       "            '<a target=\"_blank\" href=https://colab.research.google.com/notebooks/data_table.ipynb>data table notebook</a>'\n",
       "            + ' to learn more about interactive tables.';\n",
       "          element.innerHTML = '';\n",
       "          dataTable['output_type'] = 'display_data';\n",
       "          await google.colab.output.renderOutput(dataTable, element);\n",
       "          const docLink = document.createElement('div');\n",
       "          docLink.innerHTML = docLinkHtml;\n",
       "          element.appendChild(docLink);\n",
       "        }\n",
       "      </script>\n",
       "    </div>\n",
       "  </div>\n"
      ],
      "text/plain": [
       "       t_dat     price  sales_channel_id  month  year  \\\n",
       "0 2019-05-01  0.050831                 2      5  2019   \n",
       "1 2019-05-01  0.050831                 2      5  2019   \n",
       "2 2019-05-01  0.016932                 2      5  2019   \n",
       "3 2019-05-01  0.033881                 2      5  2019   \n",
       "4 2019-05-01  0.016932                 2      5  2019   \n",
       "\n",
       "                                                 dow index_group_name  \\\n",
       "0  <bound method PandasDelegate._add_delegate_acc...          Divided   \n",
       "1  <bound method PandasDelegate._add_delegate_acc...       Ladieswear   \n",
       "2  <bound method PandasDelegate._add_delegate_acc...       Ladieswear   \n",
       "3  <bound method PandasDelegate._add_delegate_acc...       Ladieswear   \n",
       "4  <bound method PandasDelegate._add_delegate_acc...       Ladieswear   \n",
       "\n",
       "         index_name                section_name  FN  Active  \\\n",
       "0           Divided                Ladies Denim   0       1   \n",
       "1        Ladieswear  Womens Everyday Collection   0       1   \n",
       "2  Lingeries/Tights             Womens Lingerie   0       1   \n",
       "3        Ladieswear  Womens Everyday Collection   0       1   \n",
       "4        Ladieswear  Womens Everyday Collection   0       1   \n",
       "\n",
       "  club_member_status fashion_news_frequency  age  \n",
       "0         PRE-CREATE                   NONE   55  \n",
       "1         PRE-CREATE                   NONE   55  \n",
       "2         PRE-CREATE                   NONE   55  \n",
       "3         PRE-CREATE                   NONE   55  \n",
       "4         PRE-CREATE                   NONE   55  "
      ]
     },
     "execution_count": 24,
     "metadata": {},
     "output_type": "execute_result"
    }
   ],
   "source": [
    "df = df.merge(df_articles[[\"article_id\", \"index_group_name\", \"index_name\", \"section_name\"]], on='article_id')\n",
    "df.drop(columns=[\"article_id\"], inplace=True)#, \"month\", \"year\"])\n",
    "del df_articles\n",
    "\n",
    "\n",
    "df = df.merge(df_customers, on='customer_id')\n",
    "df.drop(columns=[\"customer_id\"], inplace=True)\n",
    "del df_customers\n",
    "\n",
    "\n",
    "# df.drop(columns=[\"postal_code\"], inplace=True)\n",
    "df['month'] = df.t_dat.dt.month\n",
    "# df['year'] = df.t_dat.dt.year\n",
    "df['dow'] = df.t_dat.dt.day_name\n",
    "print(f\"Total Memory Usage: {df.memory_usage(deep=True).sum() / 1024**2:.2f} MB\")\n",
    "df.head()"
   ]
  },
  {
   "cell_type": "code",
   "execution_count": null,
   "metadata": {},
   "outputs": [],
   "source": [
    "df['dow'] = df[\"t_dat\"].dt.day_name()\n",
    "\n",
    "\n",
    "def plot_var_accross_time(var):\n",
    "  for time_scale in ['month', 'dow']:\n",
    "    df_temp = df.groupby([time_scale, var]).count()[\"t_dat\"].reset_index().rename(columns={\"t_dat\": \"count\"})\n",
    "    px.line(df_temp, x=time_scale, y=\"count\", color=var, width=900, height=350, markers=True, title=f'Evolution of transactions for different {var} for each {time_scale} over 2019').show()\n",
    "\n",
    "\n",
    "plot_var_accross_time(\"index_group_name\")"
   ]
  },
  {
   "cell_type": "markdown",
   "metadata": {},
   "source": [
    "![](01_img/15.png)"
   ]
  },
  {
   "cell_type": "code",
   "execution_count": null,
   "metadata": {},
   "outputs": [],
   "source": [
    "plot_var_accross_time(\"index_name\")"
   ]
  },
  {
   "cell_type": "markdown",
   "metadata": {},
   "source": [
    "![](01_img/16.png)"
   ]
  },
  {
   "cell_type": "code",
   "execution_count": null,
   "metadata": {},
   "outputs": [],
   "source": [
    "plot_var_accross_time(\"Active\")"
   ]
  },
  {
   "cell_type": "markdown",
   "metadata": {},
   "source": [
    "![](01_img/18.png)"
   ]
  }
 ],
 "metadata": {
  "colab": {
   "provenance": []
  },
  "kernelspec": {
   "display_name": "Python 3 (ipykernel)",
   "language": "python",
   "name": "python3"
  },
  "language_info": {
   "codemirror_mode": {
    "name": "ipython",
    "version": 3
   },
   "file_extension": ".py",
   "mimetype": "text/x-python",
   "name": "python",
   "nbconvert_exporter": "python",
   "pygments_lexer": "ipython3",
   "version": "3.10.12"
  }
 },
 "nbformat": 4,
 "nbformat_minor": 4
}
