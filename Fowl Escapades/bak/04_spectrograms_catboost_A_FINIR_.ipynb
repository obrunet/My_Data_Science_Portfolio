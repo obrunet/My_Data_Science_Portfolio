{
 "cells": [
  {
   "cell_type": "code",
   "execution_count": 5,
   "metadata": {
    "colab": {
     "base_uri": "https://localhost:8080/",
     "height": 123
    },
    "colab_type": "code",
    "executionInfo": {
     "elapsed": 23610,
     "status": "ok",
     "timestamp": 1585429094778,
     "user": {
      "displayName": "jean rochefort",
      "photoUrl": "",
      "userId": "04520792891621341900"
     },
     "user_tz": -60
    },
    "id": "qcmcK4Aa4n3r",
    "outputId": "f125f895-e2e1-4b5d-c1e8-020759066b13"
   },
   "outputs": [
    {
     "name": "stdout",
     "output_type": "stream",
     "text": [
      "Go to this URL in a browser: https://accounts.google.com/o/oauth2/auth?client_id=947318989803-6bn6qk8qdgf4n4g3pfee6491hc0brc4i.apps.googleusercontent.com&redirect_uri=urn%3aietf%3awg%3aoauth%3a2.0%3aoob&response_type=code&scope=email%20https%3a%2f%2fwww.googleapis.com%2fauth%2fdocs.test%20https%3a%2f%2fwww.googleapis.com%2fauth%2fdrive%20https%3a%2f%2fwww.googleapis.com%2fauth%2fdrive.photos.readonly%20https%3a%2f%2fwww.googleapis.com%2fauth%2fpeopleapi.readonly\n",
      "\n",
      "Enter your authorization code:\n",
      "··········\n",
      "Mounted at /content/drive\n"
     ]
    }
   ],
   "source": [
    "from google.colab import drive\n",
    "drive.mount('/content/drive')"
   ]
  },
  {
   "cell_type": "code",
   "execution_count": 6,
   "metadata": {
    "colab": {
     "base_uri": "https://localhost:8080/",
     "height": 467
    },
    "colab_type": "code",
    "executionInfo": {
     "elapsed": 2347,
     "status": "ok",
     "timestamp": 1585429101583,
     "user": {
      "displayName": "jean rochefort",
      "photoUrl": "",
      "userId": "04520792891621341900"
     },
     "user_tz": -60
    },
    "id": "sp0kRZTcaIuO",
    "outputId": "dcb75562-f484-4646-a6a4-113d697408f3"
   },
   "outputs": [
    {
     "name": "stdout",
     "output_type": "stream",
     "text": [
      "01.first_try_with_splitted_spec.ipynb\n",
      "01.spectrograms_all_loop1.h5\n",
      "01.spectrograms_all_loop2.h5\n",
      "01.spectrograms_all_loop3.h5\n",
      "01.spectrograms_first_try_batch_size_32_loop.h5\n",
      "02_spec_all.ipynb\n",
      "03_spectrograms_clean.ipynb\n",
      "04_spectrograms_catboost_clean.ipynb\n",
      "audio_signal_3d.jpeg\n",
      "Graph\n",
      "references\n",
      "SampleSubmission.csv\n",
      "Spectrograms_1_Train\n",
      "Spectrograms_2_Test\n",
      "Spectrograms_all_classified\n",
      "Spectrograms_splitted_classified\n",
      "submission_iteration_1.csv\n",
      "submission_iteration_2.csv\n",
      "submission_iteration_3.csv\n",
      "Test\n",
      "Test.csv\n",
      "Train\n",
      "Train.csv\n",
      "viz.png\n",
      "x_test.csv\n",
      "x_train.csv\n"
     ]
    }
   ],
   "source": [
    "!ls drive/My\\ Drive/zindi"
   ]
  },
  {
   "cell_type": "code",
   "execution_count": 0,
   "metadata": {
    "colab": {},
    "colab_type": "code",
    "id": "HVqIKM3x4vXR"
   },
   "outputs": [],
   "source": [
    "import pandas as pd\n",
    "import numpy as np\n",
    "\n",
    "import IPython.display as ipd\n",
    "from matplotlib import pyplot as plt\n",
    "import seaborn as sns\n",
    "\n",
    "import librosa # package for music and audio processing, & features extraction \n",
    "import os, shutil, glob"
   ]
  },
  {
   "cell_type": "markdown",
   "metadata": {
    "colab_type": "text",
    "id": "kiq5gbtfyMKv"
   },
   "source": [
    "set the path"
   ]
  },
  {
   "cell_type": "code",
   "execution_count": 0,
   "metadata": {
    "colab": {},
    "colab_type": "code",
    "id": "vGoDGyT2yMKv"
   },
   "outputs": [],
   "source": [
    "path_colab = 'drive/My Drive/zindi/'\n",
    "path_jupyt = './'\n",
    "\n",
    "# set to True with colab or False with jupyter\n",
    "colab = True\n",
    "path = path_colab if colab else path_jupyt"
   ]
  },
  {
   "cell_type": "markdown",
   "metadata": {
    "colab_type": "text",
    "id": "b_9F0aM0yMKy"
   },
   "source": [
    "## Take a look at the submission "
   ]
  },
  {
   "cell_type": "code",
   "execution_count": 9,
   "metadata": {
    "colab": {
     "base_uri": "https://localhost:8080/",
     "height": 360
    },
    "colab_type": "code",
    "executionInfo": {
     "elapsed": 2493,
     "status": "ok",
     "timestamp": 1585429101800,
     "user": {
      "displayName": "jean rochefort",
      "photoUrl": "",
      "userId": "04520792891621341900"
     },
     "user_tz": -60
    },
    "id": "wTHK1jYq5aJb",
    "outputId": "babccdb3-dd2f-4161-de77-fd9a9880fdc8"
   },
   "outputs": [
    {
     "data": {
      "text/html": [
       "<div>\n",
       "<style scoped>\n",
       "    .dataframe tbody tr th:only-of-type {\n",
       "        vertical-align: middle;\n",
       "    }\n",
       "\n",
       "    .dataframe tbody tr th {\n",
       "        vertical-align: top;\n",
       "    }\n",
       "\n",
       "    .dataframe thead th {\n",
       "        text-align: right;\n",
       "    }\n",
       "</style>\n",
       "<table border=\"1\" class=\"dataframe\">\n",
       "  <thead>\n",
       "    <tr style=\"text-align: right;\">\n",
       "      <th></th>\n",
       "      <th>ID</th>\n",
       "      <th>Ring-necked Dove</th>\n",
       "      <th>Black Cuckoo</th>\n",
       "      <th>Red-chested Cuckoo</th>\n",
       "      <th>Fiery-necked Nightjar</th>\n",
       "      <th>Green Wood Hoopoe</th>\n",
       "      <th>Crested Barbet</th>\n",
       "      <th>Cape Batis</th>\n",
       "      <th>Olive Bushshrike</th>\n",
       "      <th>Orange-breasted Bushshrike</th>\n",
       "      <th>Bokmakierie</th>\n",
       "      <th>Black-backed Puffback</th>\n",
       "      <th>Southern Boubou</th>\n",
       "      <th>Black-headed Oriole</th>\n",
       "      <th>Fork-tailed Drongo</th>\n",
       "      <th>African Paradise Flycatcher</th>\n",
       "      <th>Sabota Lark</th>\n",
       "      <th>Eastern Clapper Lark</th>\n",
       "      <th>Rufous-naped Lark</th>\n",
       "      <th>Dark-capped Bulbul</th>\n",
       "      <th>Sombre Greenbul</th>\n",
       "      <th>Long-billed Crombec</th>\n",
       "      <th>African Reed Warbler</th>\n",
       "      <th>Rattling Cisticola</th>\n",
       "      <th>Levaillants Cisticola</th>\n",
       "      <th>Tawny-flanked Prinia</th>\n",
       "      <th>Karoo Prinia</th>\n",
       "      <th>Bar-throated Apalis</th>\n",
       "      <th>Green-backed Camaroptera</th>\n",
       "      <th>Chestnut-vented Warbler</th>\n",
       "      <th>Cape White-eye</th>\n",
       "      <th>Karoo Scrub Robin</th>\n",
       "      <th>White-browed Scrub Robin</th>\n",
       "      <th>Cape Robin-Chat</th>\n",
       "      <th>White-browed Robin-Chat</th>\n",
       "      <th>Chorister Robin-Chat</th>\n",
       "      <th>Southern Double-collared Sunbird</th>\n",
       "      <th>White-bellied Sunbird</th>\n",
       "      <th>African Pipit</th>\n",
       "      <th>African Rock Pipit</th>\n",
       "      <th>Cape Bunting</th>\n",
       "      <th>file_path</th>\n",
       "    </tr>\n",
       "  </thead>\n",
       "  <tbody>\n",
       "    <tr>\n",
       "      <th>0</th>\n",
       "      <td>019OYB</td>\n",
       "      <td>0</td>\n",
       "      <td>0</td>\n",
       "      <td>0</td>\n",
       "      <td>0</td>\n",
       "      <td>0</td>\n",
       "      <td>0</td>\n",
       "      <td>0</td>\n",
       "      <td>0</td>\n",
       "      <td>0</td>\n",
       "      <td>0</td>\n",
       "      <td>0</td>\n",
       "      <td>0</td>\n",
       "      <td>0</td>\n",
       "      <td>0</td>\n",
       "      <td>0</td>\n",
       "      <td>0</td>\n",
       "      <td>0</td>\n",
       "      <td>0</td>\n",
       "      <td>0</td>\n",
       "      <td>0</td>\n",
       "      <td>0</td>\n",
       "      <td>0</td>\n",
       "      <td>0</td>\n",
       "      <td>0</td>\n",
       "      <td>0</td>\n",
       "      <td>0</td>\n",
       "      <td>0</td>\n",
       "      <td>0</td>\n",
       "      <td>0</td>\n",
       "      <td>0</td>\n",
       "      <td>0</td>\n",
       "      <td>0</td>\n",
       "      <td>0</td>\n",
       "      <td>0</td>\n",
       "      <td>0</td>\n",
       "      <td>0</td>\n",
       "      <td>0</td>\n",
       "      <td>0</td>\n",
       "      <td>0</td>\n",
       "      <td>0</td>\n",
       "      <td>drive/My Drive/zindi/Test/019OYB.mp3</td>\n",
       "    </tr>\n",
       "    <tr>\n",
       "      <th>1</th>\n",
       "      <td>01S9OX</td>\n",
       "      <td>0</td>\n",
       "      <td>0</td>\n",
       "      <td>0</td>\n",
       "      <td>0</td>\n",
       "      <td>0</td>\n",
       "      <td>0</td>\n",
       "      <td>0</td>\n",
       "      <td>0</td>\n",
       "      <td>0</td>\n",
       "      <td>0</td>\n",
       "      <td>0</td>\n",
       "      <td>0</td>\n",
       "      <td>0</td>\n",
       "      <td>0</td>\n",
       "      <td>0</td>\n",
       "      <td>0</td>\n",
       "      <td>0</td>\n",
       "      <td>0</td>\n",
       "      <td>0</td>\n",
       "      <td>0</td>\n",
       "      <td>0</td>\n",
       "      <td>0</td>\n",
       "      <td>0</td>\n",
       "      <td>0</td>\n",
       "      <td>0</td>\n",
       "      <td>0</td>\n",
       "      <td>0</td>\n",
       "      <td>0</td>\n",
       "      <td>0</td>\n",
       "      <td>0</td>\n",
       "      <td>0</td>\n",
       "      <td>0</td>\n",
       "      <td>0</td>\n",
       "      <td>0</td>\n",
       "      <td>0</td>\n",
       "      <td>0</td>\n",
       "      <td>0</td>\n",
       "      <td>0</td>\n",
       "      <td>0</td>\n",
       "      <td>0</td>\n",
       "      <td>drive/My Drive/zindi/Test/01S9OX.mp3</td>\n",
       "    </tr>\n",
       "    <tr>\n",
       "      <th>2</th>\n",
       "      <td>02CS12</td>\n",
       "      <td>0</td>\n",
       "      <td>0</td>\n",
       "      <td>0</td>\n",
       "      <td>0</td>\n",
       "      <td>0</td>\n",
       "      <td>0</td>\n",
       "      <td>0</td>\n",
       "      <td>0</td>\n",
       "      <td>0</td>\n",
       "      <td>0</td>\n",
       "      <td>0</td>\n",
       "      <td>0</td>\n",
       "      <td>0</td>\n",
       "      <td>0</td>\n",
       "      <td>0</td>\n",
       "      <td>0</td>\n",
       "      <td>0</td>\n",
       "      <td>0</td>\n",
       "      <td>0</td>\n",
       "      <td>0</td>\n",
       "      <td>0</td>\n",
       "      <td>0</td>\n",
       "      <td>0</td>\n",
       "      <td>0</td>\n",
       "      <td>0</td>\n",
       "      <td>0</td>\n",
       "      <td>0</td>\n",
       "      <td>0</td>\n",
       "      <td>0</td>\n",
       "      <td>0</td>\n",
       "      <td>0</td>\n",
       "      <td>0</td>\n",
       "      <td>0</td>\n",
       "      <td>0</td>\n",
       "      <td>0</td>\n",
       "      <td>0</td>\n",
       "      <td>0</td>\n",
       "      <td>0</td>\n",
       "      <td>0</td>\n",
       "      <td>0</td>\n",
       "      <td>drive/My Drive/zindi/Test/02CS12.mp3</td>\n",
       "    </tr>\n",
       "    <tr>\n",
       "      <th>3</th>\n",
       "      <td>02LM3W</td>\n",
       "      <td>0</td>\n",
       "      <td>0</td>\n",
       "      <td>0</td>\n",
       "      <td>0</td>\n",
       "      <td>0</td>\n",
       "      <td>0</td>\n",
       "      <td>0</td>\n",
       "      <td>0</td>\n",
       "      <td>0</td>\n",
       "      <td>0</td>\n",
       "      <td>0</td>\n",
       "      <td>0</td>\n",
       "      <td>0</td>\n",
       "      <td>0</td>\n",
       "      <td>0</td>\n",
       "      <td>0</td>\n",
       "      <td>0</td>\n",
       "      <td>0</td>\n",
       "      <td>0</td>\n",
       "      <td>0</td>\n",
       "      <td>0</td>\n",
       "      <td>0</td>\n",
       "      <td>0</td>\n",
       "      <td>0</td>\n",
       "      <td>0</td>\n",
       "      <td>0</td>\n",
       "      <td>0</td>\n",
       "      <td>0</td>\n",
       "      <td>0</td>\n",
       "      <td>0</td>\n",
       "      <td>0</td>\n",
       "      <td>0</td>\n",
       "      <td>0</td>\n",
       "      <td>0</td>\n",
       "      <td>0</td>\n",
       "      <td>0</td>\n",
       "      <td>0</td>\n",
       "      <td>0</td>\n",
       "      <td>0</td>\n",
       "      <td>0</td>\n",
       "      <td>drive/My Drive/zindi/Test/02LM3W.mp3</td>\n",
       "    </tr>\n",
       "    <tr>\n",
       "      <th>4</th>\n",
       "      <td>0C3A2V</td>\n",
       "      <td>0</td>\n",
       "      <td>0</td>\n",
       "      <td>0</td>\n",
       "      <td>0</td>\n",
       "      <td>0</td>\n",
       "      <td>0</td>\n",
       "      <td>0</td>\n",
       "      <td>0</td>\n",
       "      <td>0</td>\n",
       "      <td>0</td>\n",
       "      <td>0</td>\n",
       "      <td>0</td>\n",
       "      <td>0</td>\n",
       "      <td>0</td>\n",
       "      <td>0</td>\n",
       "      <td>0</td>\n",
       "      <td>0</td>\n",
       "      <td>0</td>\n",
       "      <td>0</td>\n",
       "      <td>0</td>\n",
       "      <td>0</td>\n",
       "      <td>0</td>\n",
       "      <td>0</td>\n",
       "      <td>0</td>\n",
       "      <td>0</td>\n",
       "      <td>0</td>\n",
       "      <td>0</td>\n",
       "      <td>0</td>\n",
       "      <td>0</td>\n",
       "      <td>0</td>\n",
       "      <td>0</td>\n",
       "      <td>0</td>\n",
       "      <td>0</td>\n",
       "      <td>0</td>\n",
       "      <td>0</td>\n",
       "      <td>0</td>\n",
       "      <td>0</td>\n",
       "      <td>0</td>\n",
       "      <td>0</td>\n",
       "      <td>0</td>\n",
       "      <td>drive/My Drive/zindi/Test/0C3A2V.mp3</td>\n",
       "    </tr>\n",
       "  </tbody>\n",
       "</table>\n",
       "</div>"
      ],
      "text/plain": [
       "       ID  Ring-necked Dove  ...  Cape Bunting                             file_path\n",
       "0  019OYB                 0  ...             0  drive/My Drive/zindi/Test/019OYB.mp3\n",
       "1  01S9OX                 0  ...             0  drive/My Drive/zindi/Test/01S9OX.mp3\n",
       "2  02CS12                 0  ...             0  drive/My Drive/zindi/Test/02CS12.mp3\n",
       "3  02LM3W                 0  ...             0  drive/My Drive/zindi/Test/02LM3W.mp3\n",
       "4  0C3A2V                 0  ...             0  drive/My Drive/zindi/Test/0C3A2V.mp3\n",
       "\n",
       "[5 rows x 42 columns]"
      ]
     },
     "execution_count": 9,
     "metadata": {
      "tags": []
     },
     "output_type": "execute_result"
    }
   ],
   "source": [
    "sub = pd.read_csv(path + 'SampleSubmission.csv')\n",
    "\n",
    "# retrieve all the class names in a list (the 1st col is the id)\n",
    "birds = sub.columns[1:]\n",
    "\n",
    "# add a col with all files' paths \n",
    "sub['file_path'] = path + 'Test/' + sub['ID'] + '.mp3'\n",
    "sub.head()"
   ]
  },
  {
   "cell_type": "markdown",
   "metadata": {
    "colab_type": "text",
    "id": "COCL65K1yMK1"
   },
   "source": [
    "List of species:"
   ]
  },
  {
   "cell_type": "code",
   "execution_count": 10,
   "metadata": {
    "colab": {
     "base_uri": "https://localhost:8080/",
     "height": 294
    },
    "colab_type": "code",
    "executionInfo": {
     "elapsed": 2481,
     "status": "ok",
     "timestamp": 1585429101804,
     "user": {
      "displayName": "jean rochefort",
      "photoUrl": "",
      "userId": "04520792891621341900"
     },
     "user_tz": -60
    },
    "id": "1r7j6bnWyMK2",
    "outputId": "1c0ebb3a-0091-4a38-ce9c-847b52c2ef76"
   },
   "outputs": [
    {
     "data": {
      "text/plain": [
       "array(['Ring-necked Dove', 'Black Cuckoo', 'Red-chested Cuckoo',\n",
       "       'Fiery-necked Nightjar', 'Green Wood Hoopoe', 'Crested Barbet',\n",
       "       'Cape Batis', 'Olive Bushshrike', 'Orange-breasted Bushshrike',\n",
       "       'Bokmakierie', 'Black-backed Puffback', 'Southern Boubou',\n",
       "       'Black-headed Oriole', 'Fork-tailed Drongo',\n",
       "       'African Paradise Flycatcher', 'Sabota Lark',\n",
       "       'Eastern Clapper Lark', 'Rufous-naped Lark', 'Dark-capped Bulbul',\n",
       "       'Sombre Greenbul', 'Long-billed Crombec', 'African Reed Warbler',\n",
       "       'Rattling Cisticola', 'Levaillants Cisticola',\n",
       "       'Tawny-flanked Prinia', 'Karoo Prinia', 'Bar-throated Apalis',\n",
       "       'Green-backed Camaroptera', 'Chestnut-vented Warbler',\n",
       "       'Cape White-eye', 'Karoo Scrub Robin', 'White-browed Scrub Robin',\n",
       "       'Cape Robin-Chat', 'White-browed Robin-Chat',\n",
       "       'Chorister Robin-Chat', 'Southern Double-collared Sunbird',\n",
       "       'White-bellied Sunbird', 'African Pipit', 'African Rock Pipit',\n",
       "       'Cape Bunting'], dtype=object)"
      ]
     },
     "execution_count": 10,
     "metadata": {
      "tags": []
     },
     "output_type": "execute_result"
    }
   ],
   "source": [
    "birds.values"
   ]
  },
  {
   "cell_type": "code",
   "execution_count": 11,
   "metadata": {
    "colab": {
     "base_uri": "https://localhost:8080/",
     "height": 34
    },
    "colab_type": "code",
    "executionInfo": {
     "elapsed": 2469,
     "status": "ok",
     "timestamp": 1585429101806,
     "user": {
      "displayName": "jean rochefort",
      "photoUrl": "",
      "userId": "04520792891621341900"
     },
     "user_tz": -60
    },
    "id": "06VVne5LPJ5t",
    "outputId": "fe304438-8848-42b5-c5aa-e5009b01d6d8"
   },
   "outputs": [
    {
     "data": {
      "text/plain": [
       "True"
      ]
     },
     "execution_count": 11,
     "metadata": {
      "tags": []
     },
     "output_type": "execute_result"
    }
   ],
   "source": [
    "# check if ID are alphabetically ordered\n",
    "col_id = list(sub['ID'].values)\n",
    "col_id == sorted(list(sub['ID'].values))"
   ]
  },
  {
   "cell_type": "code",
   "execution_count": 12,
   "metadata": {
    "colab": {
     "base_uri": "https://localhost:8080/",
     "height": 51
    },
    "colab_type": "code",
    "executionInfo": {
     "elapsed": 2448,
     "status": "ok",
     "timestamp": 1585429101808,
     "user": {
      "displayName": "jean rochefort",
      "photoUrl": "",
      "userId": "04520792891621341900"
     },
     "user_tz": -60
    },
    "id": "c6XAFSgoMhsj",
    "outputId": "de41b352-dccb-40ea-c0b6-4384a0501f72"
   },
   "outputs": [
    {
     "data": {
      "text/plain": [
       "6    911\n",
       "Name: len, dtype: int64"
      ]
     },
     "execution_count": 12,
     "metadata": {
      "tags": []
     },
     "output_type": "execute_result"
    }
   ],
   "source": [
    "sub['len'] = sub['ID'].apply(lambda x: len(x))\n",
    "sub['len'].value_counts()"
   ]
  },
  {
   "cell_type": "code",
   "execution_count": 13,
   "metadata": {
    "colab": {
     "base_uri": "https://localhost:8080/",
     "height": 34
    },
    "colab_type": "code",
    "executionInfo": {
     "elapsed": 2397,
     "status": "ok",
     "timestamp": 1585429101810,
     "user": {
      "displayName": "jean rochefort",
      "photoUrl": "",
      "userId": "04520792891621341900"
     },
     "user_tz": -60
    },
    "id": "UGImuTUfNcCB",
    "outputId": "28422109-c5a2-48d2-9ae2-2a7411531f12"
   },
   "outputs": [
    {
     "data": {
      "text/plain": [
       "40"
      ]
     },
     "execution_count": 13,
     "metadata": {
      "tags": []
     },
     "output_type": "execute_result"
    }
   ],
   "source": [
    "nb_class = len(birds)\n",
    "nb_class"
   ]
  },
  {
   "cell_type": "markdown",
   "metadata": {
    "colab_type": "text",
    "id": "nq9SjpzXyMK_"
   },
   "source": [
    "## The train dataset & images"
   ]
  },
  {
   "cell_type": "code",
   "execution_count": 14,
   "metadata": {
    "colab": {
     "base_uri": "https://localhost:8080/",
     "height": 202
    },
    "colab_type": "code",
    "executionInfo": {
     "elapsed": 2553,
     "status": "ok",
     "timestamp": 1585429101998,
     "user": {
      "displayName": "jean rochefort",
      "photoUrl": "",
      "userId": "04520792891621341900"
     },
     "user_tz": -60
    },
    "id": "2gohsgwb5doS",
    "outputId": "36067284-90d4-45ad-c2a8-b9bb47eb55f2"
   },
   "outputs": [
    {
     "data": {
      "text/html": [
       "<div>\n",
       "<style scoped>\n",
       "    .dataframe tbody tr th:only-of-type {\n",
       "        vertical-align: middle;\n",
       "    }\n",
       "\n",
       "    .dataframe tbody tr th {\n",
       "        vertical-align: top;\n",
       "    }\n",
       "\n",
       "    .dataframe thead th {\n",
       "        text-align: right;\n",
       "    }\n",
       "</style>\n",
       "<table border=\"1\" class=\"dataframe\">\n",
       "  <thead>\n",
       "    <tr style=\"text-align: right;\">\n",
       "      <th></th>\n",
       "      <th>ID</th>\n",
       "      <th>common_name</th>\n",
       "      <th>file_path</th>\n",
       "    </tr>\n",
       "  </thead>\n",
       "  <tbody>\n",
       "    <tr>\n",
       "      <th>0</th>\n",
       "      <td>MBMG2C</td>\n",
       "      <td>Ring-necked Dove</td>\n",
       "      <td>drive/My Drive/zindi/Spectrograms_1_Train/MBMG...</td>\n",
       "    </tr>\n",
       "    <tr>\n",
       "      <th>1</th>\n",
       "      <td>K8LJSB</td>\n",
       "      <td>Ring-necked Dove</td>\n",
       "      <td>drive/My Drive/zindi/Spectrograms_1_Train/K8LJ...</td>\n",
       "    </tr>\n",
       "    <tr>\n",
       "      <th>2</th>\n",
       "      <td>OGD9L6</td>\n",
       "      <td>Ring-necked Dove</td>\n",
       "      <td>drive/My Drive/zindi/Spectrograms_1_Train/OGD9...</td>\n",
       "    </tr>\n",
       "    <tr>\n",
       "      <th>3</th>\n",
       "      <td>581PCQ</td>\n",
       "      <td>Ring-necked Dove</td>\n",
       "      <td>drive/My Drive/zindi/Spectrograms_1_Train/581P...</td>\n",
       "    </tr>\n",
       "    <tr>\n",
       "      <th>4</th>\n",
       "      <td>P91M1F</td>\n",
       "      <td>Ring-necked Dove</td>\n",
       "      <td>drive/My Drive/zindi/Spectrograms_1_Train/P91M...</td>\n",
       "    </tr>\n",
       "  </tbody>\n",
       "</table>\n",
       "</div>"
      ],
      "text/plain": [
       "       ID       common_name                                          file_path\n",
       "0  MBMG2C  Ring-necked Dove  drive/My Drive/zindi/Spectrograms_1_Train/MBMG...\n",
       "1  K8LJSB  Ring-necked Dove  drive/My Drive/zindi/Spectrograms_1_Train/K8LJ...\n",
       "2  OGD9L6  Ring-necked Dove  drive/My Drive/zindi/Spectrograms_1_Train/OGD9...\n",
       "3  581PCQ  Ring-necked Dove  drive/My Drive/zindi/Spectrograms_1_Train/581P...\n",
       "4  P91M1F  Ring-necked Dove  drive/My Drive/zindi/Spectrograms_1_Train/P91M..."
      ]
     },
     "execution_count": 14,
     "metadata": {
      "tags": []
     },
     "output_type": "execute_result"
    }
   ],
   "source": [
    "# same thing with train\n",
    "train = pd.read_csv(path + 'Train.csv')\n",
    "train['file_path'] = 'drive/My Drive/zindi/Spectrograms_1_Train/' + train['ID'] + '.png'\n",
    "train.head()"
   ]
  },
  {
   "cell_type": "markdown",
   "metadata": {
    "colab_type": "text",
    "id": "S1C0bpgiyMLC"
   },
   "source": [
    "## Creation of images as numpy arrays"
   ]
  },
  {
   "cell_type": "code",
   "execution_count": 0,
   "metadata": {
    "colab": {},
    "colab_type": "code",
    "id": "-VepedwWXJFg"
   },
   "outputs": [],
   "source": [
    "import tensorflow as tf\n",
    "from tensorflow.keras.preprocessing.image import load_img, img_to_array, array_to_img"
   ]
  },
  {
   "cell_type": "code",
   "execution_count": 0,
   "metadata": {
    "colab": {},
    "colab_type": "code",
    "id": "1LLKRiHOZSmR"
   },
   "outputs": [],
   "source": [
    "input_shape = (512, 512, 3)"
   ]
  },
  {
   "cell_type": "code",
   "execution_count": 0,
   "metadata": {
    "colab": {},
    "colab_type": "code",
    "id": "fIVsbrPOodew"
   },
   "outputs": [],
   "source": [
    "def img_to_nparray(img_path):\n",
    "    np_array = img_to_array(load_img(path=img_path))\n",
    "    np_array = np_array.reshape(1, -1)\n",
    "    return np_array[0] / 255"
   ]
  },
  {
   "cell_type": "code",
   "execution_count": 18,
   "metadata": {
    "colab": {
     "base_uri": "https://localhost:8080/",
     "height": 202
    },
    "colab_type": "code",
    "executionInfo": {
     "elapsed": 4055,
     "status": "ok",
     "timestamp": 1585429103610,
     "user": {
      "displayName": "jean rochefort",
      "photoUrl": "",
      "userId": "04520792891621341900"
     },
     "user_tz": -60
    },
    "id": "f5h1jgHn34ec",
    "outputId": "90e59772-2002-4e7e-9c7e-279d7b995cc3"
   },
   "outputs": [
    {
     "data": {
      "text/html": [
       "<div>\n",
       "<style scoped>\n",
       "    .dataframe tbody tr th:only-of-type {\n",
       "        vertical-align: middle;\n",
       "    }\n",
       "\n",
       "    .dataframe tbody tr th {\n",
       "        vertical-align: top;\n",
       "    }\n",
       "\n",
       "    .dataframe thead th {\n",
       "        text-align: right;\n",
       "    }\n",
       "</style>\n",
       "<table border=\"1\" class=\"dataframe\">\n",
       "  <thead>\n",
       "    <tr style=\"text-align: right;\">\n",
       "      <th></th>\n",
       "      <th>ID</th>\n",
       "      <th>common_name</th>\n",
       "      <th>file_path</th>\n",
       "    </tr>\n",
       "  </thead>\n",
       "  <tbody>\n",
       "    <tr>\n",
       "      <th>0</th>\n",
       "      <td>MBMG2C</td>\n",
       "      <td>Ring-necked Dove</td>\n",
       "      <td>drive/My Drive/zindi/Spectrograms_1_Train/MBMG...</td>\n",
       "    </tr>\n",
       "    <tr>\n",
       "      <th>1</th>\n",
       "      <td>K8LJSB</td>\n",
       "      <td>Ring-necked Dove</td>\n",
       "      <td>drive/My Drive/zindi/Spectrograms_1_Train/K8LJ...</td>\n",
       "    </tr>\n",
       "    <tr>\n",
       "      <th>2</th>\n",
       "      <td>OGD9L6</td>\n",
       "      <td>Ring-necked Dove</td>\n",
       "      <td>drive/My Drive/zindi/Spectrograms_1_Train/OGD9...</td>\n",
       "    </tr>\n",
       "    <tr>\n",
       "      <th>3</th>\n",
       "      <td>581PCQ</td>\n",
       "      <td>Ring-necked Dove</td>\n",
       "      <td>drive/My Drive/zindi/Spectrograms_1_Train/581P...</td>\n",
       "    </tr>\n",
       "    <tr>\n",
       "      <th>4</th>\n",
       "      <td>P91M1F</td>\n",
       "      <td>Ring-necked Dove</td>\n",
       "      <td>drive/My Drive/zindi/Spectrograms_1_Train/P91M...</td>\n",
       "    </tr>\n",
       "  </tbody>\n",
       "</table>\n",
       "</div>"
      ],
      "text/plain": [
       "       ID       common_name                                          file_path\n",
       "0  MBMG2C  Ring-necked Dove  drive/My Drive/zindi/Spectrograms_1_Train/MBMG...\n",
       "1  K8LJSB  Ring-necked Dove  drive/My Drive/zindi/Spectrograms_1_Train/K8LJ...\n",
       "2  OGD9L6  Ring-necked Dove  drive/My Drive/zindi/Spectrograms_1_Train/OGD9...\n",
       "3  581PCQ  Ring-necked Dove  drive/My Drive/zindi/Spectrograms_1_Train/581P...\n",
       "4  P91M1F  Ring-necked Dove  drive/My Drive/zindi/Spectrograms_1_Train/P91M..."
      ]
     },
     "execution_count": 18,
     "metadata": {
      "tags": []
     },
     "output_type": "execute_result"
    }
   ],
   "source": [
    "train.head()"
   ]
  },
  {
   "cell_type": "code",
   "execution_count": 0,
   "metadata": {
    "colab": {},
    "colab_type": "code",
    "id": "8eD5curQ3icl"
   },
   "outputs": [],
   "source": [
    "#type(train.drop(columns=['ID', 'common_name']).head())"
   ]
  },
  {
   "cell_type": "code",
   "execution_count": 0,
   "metadata": {
    "colab": {},
    "colab_type": "code",
    "id": "cDltcktN017d"
   },
   "outputs": [],
   "source": [
    "#train.drop(columns=['ID', 'common_name']).apply(func=img_to_nparray, axis=1,  \"result_type='expand')"
   ]
  },
  {
   "cell_type": "code",
   "execution_count": 21,
   "metadata": {
    "colab": {
     "base_uri": "https://localhost:8080/",
     "height": 345
    },
    "colab_type": "code",
    "executionInfo": {
     "elapsed": 218599,
     "status": "error",
     "timestamp": 1585429318362,
     "user": {
      "displayName": "jean rochefort",
      "photoUrl": "",
      "userId": "04520792891621341900"
     },
     "user_tz": -60
    },
    "id": "oKXgUlqMp5C5",
    "outputId": "55e2695c-58ef-4f0e-a2b7-a90bcca6da1e"
   },
   "outputs": [
    {
     "ename": "KeyboardInterrupt",
     "evalue": "ignored",
     "output_type": "error",
     "traceback": [
      "\u001b[0;31m---------------------------------------------------------------------------\u001b[0m",
      "\u001b[0;31mKeyboardInterrupt\u001b[0m                         Traceback (most recent call last)",
      "\u001b[0;32m<ipython-input-21-b18d740e85c8>\u001b[0m in \u001b[0;36m<module>\u001b[0;34m()\u001b[0m\n\u001b[0;32m----> 1\u001b[0;31m \u001b[0mtrain\u001b[0m\u001b[0;34m[\u001b[0m\u001b[0;34m'file_path'\u001b[0m\u001b[0;34m]\u001b[0m\u001b[0;34m.\u001b[0m\u001b[0mapply\u001b[0m\u001b[0;34m(\u001b[0m\u001b[0mimg_to_nparray\u001b[0m\u001b[0;34m)\u001b[0m\u001b[0;34m\u001b[0m\u001b[0;34m\u001b[0m\u001b[0m\n\u001b[0m",
      "\u001b[0;32m/usr/local/lib/python3.6/dist-packages/pandas/core/series.py\u001b[0m in \u001b[0;36mapply\u001b[0;34m(self, func, convert_dtype, args, **kwds)\u001b[0m\n\u001b[1;32m   4043\u001b[0m             \u001b[0;32melse\u001b[0m\u001b[0;34m:\u001b[0m\u001b[0;34m\u001b[0m\u001b[0;34m\u001b[0m\u001b[0m\n\u001b[1;32m   4044\u001b[0m                 \u001b[0mvalues\u001b[0m \u001b[0;34m=\u001b[0m \u001b[0mself\u001b[0m\u001b[0;34m.\u001b[0m\u001b[0mastype\u001b[0m\u001b[0;34m(\u001b[0m\u001b[0mobject\u001b[0m\u001b[0;34m)\u001b[0m\u001b[0;34m.\u001b[0m\u001b[0mvalues\u001b[0m\u001b[0;34m\u001b[0m\u001b[0;34m\u001b[0m\u001b[0m\n\u001b[0;32m-> 4045\u001b[0;31m                 \u001b[0mmapped\u001b[0m \u001b[0;34m=\u001b[0m \u001b[0mlib\u001b[0m\u001b[0;34m.\u001b[0m\u001b[0mmap_infer\u001b[0m\u001b[0;34m(\u001b[0m\u001b[0mvalues\u001b[0m\u001b[0;34m,\u001b[0m \u001b[0mf\u001b[0m\u001b[0;34m,\u001b[0m \u001b[0mconvert\u001b[0m\u001b[0;34m=\u001b[0m\u001b[0mconvert_dtype\u001b[0m\u001b[0;34m)\u001b[0m\u001b[0;34m\u001b[0m\u001b[0;34m\u001b[0m\u001b[0m\n\u001b[0m\u001b[1;32m   4046\u001b[0m \u001b[0;34m\u001b[0m\u001b[0m\n\u001b[1;32m   4047\u001b[0m         \u001b[0;32mif\u001b[0m \u001b[0mlen\u001b[0m\u001b[0;34m(\u001b[0m\u001b[0mmapped\u001b[0m\u001b[0;34m)\u001b[0m \u001b[0;32mand\u001b[0m \u001b[0misinstance\u001b[0m\u001b[0;34m(\u001b[0m\u001b[0mmapped\u001b[0m\u001b[0;34m[\u001b[0m\u001b[0;36m0\u001b[0m\u001b[0;34m]\u001b[0m\u001b[0;34m,\u001b[0m \u001b[0mSeries\u001b[0m\u001b[0;34m)\u001b[0m\u001b[0;34m:\u001b[0m\u001b[0;34m\u001b[0m\u001b[0;34m\u001b[0m\u001b[0m\n",
      "\u001b[0;32mpandas/_libs/lib.pyx\u001b[0m in \u001b[0;36mpandas._libs.lib.map_infer\u001b[0;34m()\u001b[0m\n",
      "\u001b[0;32m<ipython-input-17-367211f83b7f>\u001b[0m in \u001b[0;36mimg_to_nparray\u001b[0;34m(img_path)\u001b[0m\n\u001b[1;32m      1\u001b[0m \u001b[0;32mdef\u001b[0m \u001b[0mimg_to_nparray\u001b[0m\u001b[0;34m(\u001b[0m\u001b[0mimg_path\u001b[0m\u001b[0;34m)\u001b[0m\u001b[0;34m:\u001b[0m\u001b[0;34m\u001b[0m\u001b[0;34m\u001b[0m\u001b[0m\n\u001b[0;32m----> 2\u001b[0;31m     \u001b[0mnp_array\u001b[0m \u001b[0;34m=\u001b[0m \u001b[0mimg_to_array\u001b[0m\u001b[0;34m(\u001b[0m\u001b[0mload_img\u001b[0m\u001b[0;34m(\u001b[0m\u001b[0mpath\u001b[0m\u001b[0;34m=\u001b[0m\u001b[0mimg_path\u001b[0m\u001b[0;34m)\u001b[0m\u001b[0;34m)\u001b[0m\u001b[0;34m\u001b[0m\u001b[0;34m\u001b[0m\u001b[0m\n\u001b[0m\u001b[1;32m      3\u001b[0m     \u001b[0mnp_array\u001b[0m \u001b[0;34m=\u001b[0m \u001b[0mnp_array\u001b[0m\u001b[0;34m.\u001b[0m\u001b[0mreshape\u001b[0m\u001b[0;34m(\u001b[0m\u001b[0;36m1\u001b[0m\u001b[0;34m,\u001b[0m \u001b[0;34m-\u001b[0m\u001b[0;36m1\u001b[0m\u001b[0;34m)\u001b[0m\u001b[0;34m\u001b[0m\u001b[0;34m\u001b[0m\u001b[0m\n\u001b[1;32m      4\u001b[0m     \u001b[0;32mreturn\u001b[0m \u001b[0mnp_array\u001b[0m\u001b[0;34m[\u001b[0m\u001b[0;36m0\u001b[0m\u001b[0;34m]\u001b[0m \u001b[0;34m/\u001b[0m \u001b[0;36m255\u001b[0m\u001b[0;34m\u001b[0m\u001b[0;34m\u001b[0m\u001b[0m\n",
      "\u001b[0;32m/usr/local/lib/python3.6/dist-packages/keras_preprocessing/image/utils.py\u001b[0m in \u001b[0;36mload_img\u001b[0;34m(path, grayscale, color_mode, target_size, interpolation)\u001b[0m\n\u001b[1;32m    108\u001b[0m         raise ImportError('Could not import PIL.Image. '\n\u001b[1;32m    109\u001b[0m                           'The use of `load_img` requires PIL.')\n\u001b[0;32m--> 110\u001b[0;31m     \u001b[0mimg\u001b[0m \u001b[0;34m=\u001b[0m \u001b[0mpil_image\u001b[0m\u001b[0;34m.\u001b[0m\u001b[0mopen\u001b[0m\u001b[0;34m(\u001b[0m\u001b[0mpath\u001b[0m\u001b[0;34m)\u001b[0m\u001b[0;34m\u001b[0m\u001b[0;34m\u001b[0m\u001b[0m\n\u001b[0m\u001b[1;32m    111\u001b[0m     \u001b[0;32mif\u001b[0m \u001b[0mcolor_mode\u001b[0m \u001b[0;34m==\u001b[0m \u001b[0;34m'grayscale'\u001b[0m\u001b[0;34m:\u001b[0m\u001b[0;34m\u001b[0m\u001b[0;34m\u001b[0m\u001b[0m\n\u001b[1;32m    112\u001b[0m         \u001b[0;32mif\u001b[0m \u001b[0mimg\u001b[0m\u001b[0;34m.\u001b[0m\u001b[0mmode\u001b[0m \u001b[0;34m!=\u001b[0m \u001b[0;34m'L'\u001b[0m\u001b[0;34m:\u001b[0m\u001b[0;34m\u001b[0m\u001b[0;34m\u001b[0m\u001b[0m\n",
      "\u001b[0;32m/usr/local/lib/python3.6/dist-packages/PIL/Image.py\u001b[0m in \u001b[0;36mopen\u001b[0;34m(fp, mode)\u001b[0m\n\u001b[1;32m   2816\u001b[0m         \u001b[0mexclusive_fp\u001b[0m \u001b[0;34m=\u001b[0m \u001b[0;32mTrue\u001b[0m\u001b[0;34m\u001b[0m\u001b[0;34m\u001b[0m\u001b[0m\n\u001b[1;32m   2817\u001b[0m \u001b[0;34m\u001b[0m\u001b[0m\n\u001b[0;32m-> 2818\u001b[0;31m     \u001b[0mprefix\u001b[0m \u001b[0;34m=\u001b[0m \u001b[0mfp\u001b[0m\u001b[0;34m.\u001b[0m\u001b[0mread\u001b[0m\u001b[0;34m(\u001b[0m\u001b[0;36m16\u001b[0m\u001b[0;34m)\u001b[0m\u001b[0;34m\u001b[0m\u001b[0;34m\u001b[0m\u001b[0m\n\u001b[0m\u001b[1;32m   2819\u001b[0m \u001b[0;34m\u001b[0m\u001b[0m\n\u001b[1;32m   2820\u001b[0m     \u001b[0mpreinit\u001b[0m\u001b[0;34m(\u001b[0m\u001b[0;34m)\u001b[0m\u001b[0;34m\u001b[0m\u001b[0;34m\u001b[0m\u001b[0m\n",
      "\u001b[0;31mKeyboardInterrupt\u001b[0m: "
     ]
    }
   ],
   "source": [
    "train['file_path'].apply(img_to_nparray)"
   ]
  },
  {
   "cell_type": "code",
   "execution_count": 0,
   "metadata": {
    "colab": {},
    "colab_type": "code",
    "id": "57FoaGyGv9Eh"
   },
   "outputs": [],
   "source": [
    "#df.apply(lambda row: fn(row.text), axis='columns', result_type='expand')\n",
    "train.apply(lambda row: img_to_nparray(row['file_path']), axis='columns', result_type='expand')"
   ]
  },
  {
   "cell_type": "code",
   "execution_count": 0,
   "metadata": {
    "colab": {},
    "colab_type": "code",
    "id": "Fzh-swijv9B5"
   },
   "outputs": [],
   "source": [
    "train.iloc[0, :]['file_path']"
   ]
  },
  {
   "cell_type": "code",
   "execution_count": 0,
   "metadata": {
    "colab": {},
    "colab_type": "code",
    "id": "QO0icHkgv9AF"
   },
   "outputs": [],
   "source": [
    "sdfsdf"
   ]
  },
  {
   "cell_type": "code",
   "execution_count": 22,
   "metadata": {
    "colab": {
     "base_uri": "https://localhost:8080/",
     "height": 34
    },
    "colab_type": "code",
    "executionInfo": {
     "elapsed": 520,
     "status": "ok",
     "timestamp": 1585429328365,
     "user": {
      "displayName": "jean rochefort",
      "photoUrl": "",
      "userId": "04520792891621341900"
     },
     "user_tz": -60
    },
    "id": "xXZt5q3rv8-B",
    "outputId": "0bfefaf9-ca30-421c-bec2-7ee9fd2fc475"
   },
   "outputs": [
    {
     "name": "stdout",
     "output_type": "stream",
     "text": [
      "test\n"
     ]
    }
   ],
   "source": [
    "print('test')"
   ]
  },
  {
   "cell_type": "code",
   "execution_count": 0,
   "metadata": {
    "colab": {},
    "colab_type": "code",
    "id": "QcU94ddxv84a"
   },
   "outputs": [],
   "source": []
  },
  {
   "cell_type": "code",
   "execution_count": 0,
   "metadata": {
    "colab": {},
    "colab_type": "code",
    "id": "tgdAdeHTuyeu"
   },
   "outputs": [],
   "source": []
  },
  {
   "cell_type": "code",
   "execution_count": 0,
   "metadata": {
    "colab": {},
    "colab_type": "code",
    "id": "5CUYUAflyMLZ"
   },
   "outputs": [],
   "source": [
    "######### !!!!!!!!!!! change 20\n",
    "\n",
    "def tf_predictions(model, csv_file, sub_df):\n",
    "    probabilities = model.predict_generator(generator=test_generator, steps=911 // batch_size + 1)\n",
    "    pred = pd.DataFrame(probabilities, columns=list(labels.values()))\n",
    "\n",
    "    # Get filenames (set shuffle=false in generator is important)\n",
    "    filenames = test_generator.filenames\n",
    "    \n",
    "    # remove path to keep img or ID name, add it to df\n",
    "    pred['ID'] = [file_path[20:-4] for file_path in filenames]\n",
    "    pred.head()\n",
    "    \n",
    "    \n",
    "    # reorder predictions columns in the same way as submission\n",
    "    try:\n",
    "        sub_df_temp = sub_df.drop(columns=['len', 'file_path'])\n",
    "    except:\n",
    "        pass\n",
    "    pred = pred[list(sub_df_temp.columns)]\n",
    "    pred.head()\n",
    "\n",
    "    \n",
    "    # check if ID are alphabetically ordered then create the csv file for submission\n",
    "    col_id = list(pred['ID'].values)\n",
    "    if col_id == sorted(list(pred['ID'].values)):\n",
    "        pred.to_csv(path + csv_file, index=False)\n",
    "    else:\n",
    "        print(\"ID aren't alphabetically ordered\")\n",
    "\n",
    "tf_predictions(model, 'submission_iteration_3.csv', sub)"
   ]
  },
  {
   "cell_type": "markdown",
   "metadata": {
    "colab_type": "text",
    "id": "NoQg5ffiTIpN"
   },
   "source": [
    "submission scores for various iterations of 40 epochs : \n",
    "- after 1 iteration(s) on the training data set ie 040 epochs : accuracy  ~27% // submission : log loss on test dataset = 5.317\n",
    "- after 2 iteration(s) on the training data set ie 080 epochs : accuracy  ~32% // submission : log loss on test dataset = 3.265\n",
    "- after 3 iteration(s) on the training data set ie 120 epochs : accuracy  ~43% // submission : log loss on test dataset = 8.137\n"
   ]
  }
 ],
 "metadata": {
  "accelerator": "TPU",
  "colab": {
   "collapsed_sections": [],
   "machine_shape": "hm",
   "name": "04_spectrograms_catboost_clean.ipynb",
   "provenance": []
  },
  "kernelspec": {
   "display_name": "Python 3 (ipykernel)",
   "language": "python",
   "name": "python3"
  },
  "language_info": {
   "codemirror_mode": {
    "name": "ipython",
    "version": 3
   },
   "file_extension": ".py",
   "mimetype": "text/x-python",
   "name": "python",
   "nbconvert_exporter": "python",
   "pygments_lexer": "ipython3",
   "version": "3.9.7"
  }
 },
 "nbformat": 4,
 "nbformat_minor": 1
}
