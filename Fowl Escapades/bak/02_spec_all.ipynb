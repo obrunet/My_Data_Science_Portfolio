{
 "cells": [
  {
   "cell_type": "code",
   "execution_count": null,
   "metadata": {
    "colab": {
     "base_uri": "https://localhost:8080/",
     "height": 34
    },
    "id": "qcmcK4Aa4n3r",
    "outputId": "59059f34-15d0-4bb6-c7fb-17eda210c6ef"
   },
   "outputs": [
    {
     "name": "stdout",
     "output_type": "stream",
     "text": [
      "Drive already mounted at /content/drive; to attempt to forcibly remount, call drive.mount(\"/content/drive\", force_remount=True).\n"
     ]
    }
   ],
   "source": [
    "from google.colab import drive\n",
    "drive.mount('/content/drive')"
   ]
  },
  {
   "cell_type": "code",
   "execution_count": null,
   "metadata": {
    "colab": {
     "base_uri": "https://localhost:8080/",
     "height": 34
    },
    "id": "7EeeViEM0fd8",
    "outputId": "53c9236c-6fb4-4f01-fbe2-96b912faa44d"
   },
   "outputs": [
    {
     "name": "stdout",
     "output_type": "stream",
     "text": [
      "1857\n"
     ]
    }
   ],
   "source": [
    "!ls drive/My\\ Drive/zindi/Spectrograms_1_Train | wc -l"
   ]
  },
  {
   "cell_type": "code",
   "execution_count": null,
   "metadata": {
    "colab": {
     "base_uri": "https://localhost:8080/",
     "height": 340
    },
    "id": "j9HizZWs4jjK",
    "outputId": "68f5b02d-3d9e-46a4-a0d2-c8ff2ba34df2"
   },
   "outputs": [
    {
     "name": "stdout",
     "output_type": "stream",
     "text": [
      "01.first_try_with_splitted_spec.ipynb\n",
      "01.spectrograms_all_loop1.h5\n",
      "01.spectrograms_all_loop2.h5\n",
      "01.spectrograms_first_try_batch_size_32_loop.h5\n",
      "02.spec_submission.ipynb\n",
      "error.txt\n",
      "Graph\n",
      "references\n",
      "SampleSubmission.csv\n",
      "Spectrograms_1_Train\n",
      "Spectrograms_2_Test\n",
      "Spectrograms_all_classified\n",
      "Spectrograms_splitted_classified\n",
      "Test\n",
      "Test.csv\n",
      "Train\n",
      "Train.csv\n",
      "x_test.csv\n",
      "x_train.csv\n"
     ]
    }
   ],
   "source": [
    "!ls drive/My\\ Drive/zindi"
   ]
  },
  {
   "cell_type": "code",
   "execution_count": null,
   "metadata": {
    "id": "HVqIKM3x4vXR"
   },
   "outputs": [],
   "source": [
    "import pandas as pd\n",
    "import numpy as np\n",
    "\n",
    "import IPython.display as ipd\n",
    "from matplotlib import pyplot as plt\n",
    "import seaborn as sns\n",
    "\n",
    "import librosa # package for music and audio processing, & features extraction \n",
    "import os, shutil, glob"
   ]
  },
  {
   "cell_type": "code",
   "execution_count": null,
   "metadata": {
    "colab": {
     "base_uri": "https://localhost:8080/",
     "height": 360
    },
    "id": "wTHK1jYq5aJb",
    "outputId": "1f628239-eb1a-413d-e94f-768d3928148f"
   },
   "outputs": [
    {
     "data": {
      "text/html": [
       "<div>\n",
       "<style scoped>\n",
       "    .dataframe tbody tr th:only-of-type {\n",
       "        vertical-align: middle;\n",
       "    }\n",
       "\n",
       "    .dataframe tbody tr th {\n",
       "        vertical-align: top;\n",
       "    }\n",
       "\n",
       "    .dataframe thead th {\n",
       "        text-align: right;\n",
       "    }\n",
       "</style>\n",
       "<table border=\"1\" class=\"dataframe\">\n",
       "  <thead>\n",
       "    <tr style=\"text-align: right;\">\n",
       "      <th></th>\n",
       "      <th>ID</th>\n",
       "      <th>Ring-necked Dove</th>\n",
       "      <th>Black Cuckoo</th>\n",
       "      <th>Red-chested Cuckoo</th>\n",
       "      <th>Fiery-necked Nightjar</th>\n",
       "      <th>Green Wood Hoopoe</th>\n",
       "      <th>Crested Barbet</th>\n",
       "      <th>Cape Batis</th>\n",
       "      <th>Olive Bushshrike</th>\n",
       "      <th>Orange-breasted Bushshrike</th>\n",
       "      <th>Bokmakierie</th>\n",
       "      <th>Black-backed Puffback</th>\n",
       "      <th>Southern Boubou</th>\n",
       "      <th>Black-headed Oriole</th>\n",
       "      <th>Fork-tailed Drongo</th>\n",
       "      <th>African Paradise Flycatcher</th>\n",
       "      <th>Sabota Lark</th>\n",
       "      <th>Eastern Clapper Lark</th>\n",
       "      <th>Rufous-naped Lark</th>\n",
       "      <th>Dark-capped Bulbul</th>\n",
       "      <th>Sombre Greenbul</th>\n",
       "      <th>Long-billed Crombec</th>\n",
       "      <th>African Reed Warbler</th>\n",
       "      <th>Rattling Cisticola</th>\n",
       "      <th>Levaillants Cisticola</th>\n",
       "      <th>Tawny-flanked Prinia</th>\n",
       "      <th>Karoo Prinia</th>\n",
       "      <th>Bar-throated Apalis</th>\n",
       "      <th>Green-backed Camaroptera</th>\n",
       "      <th>Chestnut-vented Warbler</th>\n",
       "      <th>Cape White-eye</th>\n",
       "      <th>Karoo Scrub Robin</th>\n",
       "      <th>White-browed Scrub Robin</th>\n",
       "      <th>Cape Robin-Chat</th>\n",
       "      <th>White-browed Robin-Chat</th>\n",
       "      <th>Chorister Robin-Chat</th>\n",
       "      <th>Southern Double-collared Sunbird</th>\n",
       "      <th>White-bellied Sunbird</th>\n",
       "      <th>African Pipit</th>\n",
       "      <th>African Rock Pipit</th>\n",
       "      <th>Cape Bunting</th>\n",
       "      <th>file_path</th>\n",
       "    </tr>\n",
       "  </thead>\n",
       "  <tbody>\n",
       "    <tr>\n",
       "      <th>0</th>\n",
       "      <td>019OYB</td>\n",
       "      <td>0</td>\n",
       "      <td>0</td>\n",
       "      <td>0</td>\n",
       "      <td>0</td>\n",
       "      <td>0</td>\n",
       "      <td>0</td>\n",
       "      <td>0</td>\n",
       "      <td>0</td>\n",
       "      <td>0</td>\n",
       "      <td>0</td>\n",
       "      <td>0</td>\n",
       "      <td>0</td>\n",
       "      <td>0</td>\n",
       "      <td>0</td>\n",
       "      <td>0</td>\n",
       "      <td>0</td>\n",
       "      <td>0</td>\n",
       "      <td>0</td>\n",
       "      <td>0</td>\n",
       "      <td>0</td>\n",
       "      <td>0</td>\n",
       "      <td>0</td>\n",
       "      <td>0</td>\n",
       "      <td>0</td>\n",
       "      <td>0</td>\n",
       "      <td>0</td>\n",
       "      <td>0</td>\n",
       "      <td>0</td>\n",
       "      <td>0</td>\n",
       "      <td>0</td>\n",
       "      <td>0</td>\n",
       "      <td>0</td>\n",
       "      <td>0</td>\n",
       "      <td>0</td>\n",
       "      <td>0</td>\n",
       "      <td>0</td>\n",
       "      <td>0</td>\n",
       "      <td>0</td>\n",
       "      <td>0</td>\n",
       "      <td>0</td>\n",
       "      <td>drive/My Drive/zindi/Test/019OYB.mp3</td>\n",
       "    </tr>\n",
       "    <tr>\n",
       "      <th>1</th>\n",
       "      <td>01S9OX</td>\n",
       "      <td>0</td>\n",
       "      <td>0</td>\n",
       "      <td>0</td>\n",
       "      <td>0</td>\n",
       "      <td>0</td>\n",
       "      <td>0</td>\n",
       "      <td>0</td>\n",
       "      <td>0</td>\n",
       "      <td>0</td>\n",
       "      <td>0</td>\n",
       "      <td>0</td>\n",
       "      <td>0</td>\n",
       "      <td>0</td>\n",
       "      <td>0</td>\n",
       "      <td>0</td>\n",
       "      <td>0</td>\n",
       "      <td>0</td>\n",
       "      <td>0</td>\n",
       "      <td>0</td>\n",
       "      <td>0</td>\n",
       "      <td>0</td>\n",
       "      <td>0</td>\n",
       "      <td>0</td>\n",
       "      <td>0</td>\n",
       "      <td>0</td>\n",
       "      <td>0</td>\n",
       "      <td>0</td>\n",
       "      <td>0</td>\n",
       "      <td>0</td>\n",
       "      <td>0</td>\n",
       "      <td>0</td>\n",
       "      <td>0</td>\n",
       "      <td>0</td>\n",
       "      <td>0</td>\n",
       "      <td>0</td>\n",
       "      <td>0</td>\n",
       "      <td>0</td>\n",
       "      <td>0</td>\n",
       "      <td>0</td>\n",
       "      <td>0</td>\n",
       "      <td>drive/My Drive/zindi/Test/01S9OX.mp3</td>\n",
       "    </tr>\n",
       "    <tr>\n",
       "      <th>2</th>\n",
       "      <td>02CS12</td>\n",
       "      <td>0</td>\n",
       "      <td>0</td>\n",
       "      <td>0</td>\n",
       "      <td>0</td>\n",
       "      <td>0</td>\n",
       "      <td>0</td>\n",
       "      <td>0</td>\n",
       "      <td>0</td>\n",
       "      <td>0</td>\n",
       "      <td>0</td>\n",
       "      <td>0</td>\n",
       "      <td>0</td>\n",
       "      <td>0</td>\n",
       "      <td>0</td>\n",
       "      <td>0</td>\n",
       "      <td>0</td>\n",
       "      <td>0</td>\n",
       "      <td>0</td>\n",
       "      <td>0</td>\n",
       "      <td>0</td>\n",
       "      <td>0</td>\n",
       "      <td>0</td>\n",
       "      <td>0</td>\n",
       "      <td>0</td>\n",
       "      <td>0</td>\n",
       "      <td>0</td>\n",
       "      <td>0</td>\n",
       "      <td>0</td>\n",
       "      <td>0</td>\n",
       "      <td>0</td>\n",
       "      <td>0</td>\n",
       "      <td>0</td>\n",
       "      <td>0</td>\n",
       "      <td>0</td>\n",
       "      <td>0</td>\n",
       "      <td>0</td>\n",
       "      <td>0</td>\n",
       "      <td>0</td>\n",
       "      <td>0</td>\n",
       "      <td>0</td>\n",
       "      <td>drive/My Drive/zindi/Test/02CS12.mp3</td>\n",
       "    </tr>\n",
       "    <tr>\n",
       "      <th>3</th>\n",
       "      <td>02LM3W</td>\n",
       "      <td>0</td>\n",
       "      <td>0</td>\n",
       "      <td>0</td>\n",
       "      <td>0</td>\n",
       "      <td>0</td>\n",
       "      <td>0</td>\n",
       "      <td>0</td>\n",
       "      <td>0</td>\n",
       "      <td>0</td>\n",
       "      <td>0</td>\n",
       "      <td>0</td>\n",
       "      <td>0</td>\n",
       "      <td>0</td>\n",
       "      <td>0</td>\n",
       "      <td>0</td>\n",
       "      <td>0</td>\n",
       "      <td>0</td>\n",
       "      <td>0</td>\n",
       "      <td>0</td>\n",
       "      <td>0</td>\n",
       "      <td>0</td>\n",
       "      <td>0</td>\n",
       "      <td>0</td>\n",
       "      <td>0</td>\n",
       "      <td>0</td>\n",
       "      <td>0</td>\n",
       "      <td>0</td>\n",
       "      <td>0</td>\n",
       "      <td>0</td>\n",
       "      <td>0</td>\n",
       "      <td>0</td>\n",
       "      <td>0</td>\n",
       "      <td>0</td>\n",
       "      <td>0</td>\n",
       "      <td>0</td>\n",
       "      <td>0</td>\n",
       "      <td>0</td>\n",
       "      <td>0</td>\n",
       "      <td>0</td>\n",
       "      <td>0</td>\n",
       "      <td>drive/My Drive/zindi/Test/02LM3W.mp3</td>\n",
       "    </tr>\n",
       "    <tr>\n",
       "      <th>4</th>\n",
       "      <td>0C3A2V</td>\n",
       "      <td>0</td>\n",
       "      <td>0</td>\n",
       "      <td>0</td>\n",
       "      <td>0</td>\n",
       "      <td>0</td>\n",
       "      <td>0</td>\n",
       "      <td>0</td>\n",
       "      <td>0</td>\n",
       "      <td>0</td>\n",
       "      <td>0</td>\n",
       "      <td>0</td>\n",
       "      <td>0</td>\n",
       "      <td>0</td>\n",
       "      <td>0</td>\n",
       "      <td>0</td>\n",
       "      <td>0</td>\n",
       "      <td>0</td>\n",
       "      <td>0</td>\n",
       "      <td>0</td>\n",
       "      <td>0</td>\n",
       "      <td>0</td>\n",
       "      <td>0</td>\n",
       "      <td>0</td>\n",
       "      <td>0</td>\n",
       "      <td>0</td>\n",
       "      <td>0</td>\n",
       "      <td>0</td>\n",
       "      <td>0</td>\n",
       "      <td>0</td>\n",
       "      <td>0</td>\n",
       "      <td>0</td>\n",
       "      <td>0</td>\n",
       "      <td>0</td>\n",
       "      <td>0</td>\n",
       "      <td>0</td>\n",
       "      <td>0</td>\n",
       "      <td>0</td>\n",
       "      <td>0</td>\n",
       "      <td>0</td>\n",
       "      <td>0</td>\n",
       "      <td>drive/My Drive/zindi/Test/0C3A2V.mp3</td>\n",
       "    </tr>\n",
       "  </tbody>\n",
       "</table>\n",
       "</div>"
      ],
      "text/plain": [
       "       ID  Ring-necked Dove  ...  Cape Bunting                             file_path\n",
       "0  019OYB                 0  ...             0  drive/My Drive/zindi/Test/019OYB.mp3\n",
       "1  01S9OX                 0  ...             0  drive/My Drive/zindi/Test/01S9OX.mp3\n",
       "2  02CS12                 0  ...             0  drive/My Drive/zindi/Test/02CS12.mp3\n",
       "3  02LM3W                 0  ...             0  drive/My Drive/zindi/Test/02LM3W.mp3\n",
       "4  0C3A2V                 0  ...             0  drive/My Drive/zindi/Test/0C3A2V.mp3\n",
       "\n",
       "[5 rows x 42 columns]"
      ]
     },
     "execution_count": 5,
     "metadata": {
      "tags": []
     },
     "output_type": "execute_result"
    }
   ],
   "source": [
    "sub = pd.read_csv('drive/My Drive/zindi/SampleSubmission.csv')\n",
    "\n",
    "# retrieve all the class names in a list (the 1st col is the id)\n",
    "birds = sub.columns[1:]\n",
    "\n",
    "# add a col with all files' paths \n",
    "sub['file_path'] = 'drive/My Drive/zindi/Test/' + sub['ID'] + '.mp3'\n",
    "sub.head()"
   ]
  },
  {
   "cell_type": "code",
   "execution_count": null,
   "metadata": {
    "colab": {
     "base_uri": "https://localhost:8080/",
     "height": 34
    },
    "id": "06VVne5LPJ5t",
    "outputId": "ee4dedf4-1bd7-4fc5-8121-2c66d1e31bc3"
   },
   "outputs": [
    {
     "data": {
      "text/plain": [
       "True"
      ]
     },
     "execution_count": 112,
     "metadata": {
      "tags": []
     },
     "output_type": "execute_result"
    }
   ],
   "source": [
    "# check if ID are alphabetically ordered\n",
    "col_id = list(sub['ID'].values)\n",
    "col_id == sorted(list(sub['ID'].values))"
   ]
  },
  {
   "cell_type": "code",
   "execution_count": null,
   "metadata": {
    "colab": {
     "base_uri": "https://localhost:8080/",
     "height": 51
    },
    "id": "c6XAFSgoMhsj",
    "outputId": "20549be8-14a8-4a33-b164-2a947e926a40"
   },
   "outputs": [
    {
     "data": {
      "text/plain": [
       "6    911\n",
       "Name: len, dtype: int64"
      ]
     },
     "execution_count": 89,
     "metadata": {
      "tags": []
     },
     "output_type": "execute_result"
    }
   ],
   "source": [
    "sub['len'] = sub['ID'].apply(lambda x: len(x))\n",
    "sub['len'].value_counts()"
   ]
  },
  {
   "cell_type": "code",
   "execution_count": null,
   "metadata": {
    "colab": {
     "base_uri": "https://localhost:8080/",
     "height": 204
    },
    "id": "2gohsgwb5doS",
    "outputId": "bba9f0cf-c35d-46ac-ce9b-7f8df29decda"
   },
   "outputs": [
    {
     "data": {
      "text/html": [
       "<div>\n",
       "<style scoped>\n",
       "    .dataframe tbody tr th:only-of-type {\n",
       "        vertical-align: middle;\n",
       "    }\n",
       "\n",
       "    .dataframe tbody tr th {\n",
       "        vertical-align: top;\n",
       "    }\n",
       "\n",
       "    .dataframe thead th {\n",
       "        text-align: right;\n",
       "    }\n",
       "</style>\n",
       "<table border=\"1\" class=\"dataframe\">\n",
       "  <thead>\n",
       "    <tr style=\"text-align: right;\">\n",
       "      <th></th>\n",
       "      <th>ID</th>\n",
       "      <th>common_name</th>\n",
       "      <th>file_path</th>\n",
       "    </tr>\n",
       "  </thead>\n",
       "  <tbody>\n",
       "    <tr>\n",
       "      <th>0</th>\n",
       "      <td>MBMG2C</td>\n",
       "      <td>Ring-necked Dove</td>\n",
       "      <td>drive/My Drive/zindi/Train/MBMG2C.mp3</td>\n",
       "    </tr>\n",
       "    <tr>\n",
       "      <th>1</th>\n",
       "      <td>K8LJSB</td>\n",
       "      <td>Ring-necked Dove</td>\n",
       "      <td>drive/My Drive/zindi/Train/K8LJSB.mp3</td>\n",
       "    </tr>\n",
       "    <tr>\n",
       "      <th>2</th>\n",
       "      <td>OGD9L6</td>\n",
       "      <td>Ring-necked Dove</td>\n",
       "      <td>drive/My Drive/zindi/Train/OGD9L6.mp3</td>\n",
       "    </tr>\n",
       "    <tr>\n",
       "      <th>3</th>\n",
       "      <td>581PCQ</td>\n",
       "      <td>Ring-necked Dove</td>\n",
       "      <td>drive/My Drive/zindi/Train/581PCQ.mp3</td>\n",
       "    </tr>\n",
       "    <tr>\n",
       "      <th>4</th>\n",
       "      <td>P91M1F</td>\n",
       "      <td>Ring-necked Dove</td>\n",
       "      <td>drive/My Drive/zindi/Train/P91M1F.mp3</td>\n",
       "    </tr>\n",
       "  </tbody>\n",
       "</table>\n",
       "</div>"
      ],
      "text/plain": [
       "       ID       common_name                              file_path\n",
       "0  MBMG2C  Ring-necked Dove  drive/My Drive/zindi/Train/MBMG2C.mp3\n",
       "1  K8LJSB  Ring-necked Dove  drive/My Drive/zindi/Train/K8LJSB.mp3\n",
       "2  OGD9L6  Ring-necked Dove  drive/My Drive/zindi/Train/OGD9L6.mp3\n",
       "3  581PCQ  Ring-necked Dove  drive/My Drive/zindi/Train/581PCQ.mp3\n",
       "4  P91M1F  Ring-necked Dove  drive/My Drive/zindi/Train/P91M1F.mp3"
      ]
     },
     "execution_count": 6,
     "metadata": {
      "tags": []
     },
     "output_type": "execute_result"
    }
   ],
   "source": [
    "# same thing with train\n",
    "train = pd.read_csv('drive/My Drive/zindi/Train.csv')\n",
    "train['file_path'] = 'drive/My Drive/zindi/Train/' + train['ID'] + '.mp3'\n",
    "train.head()"
   ]
  },
  {
   "cell_type": "code",
   "execution_count": null,
   "metadata": {
    "colab": {
     "base_uri": "https://localhost:8080/",
     "height": 34
    },
    "id": "UGImuTUfNcCB",
    "outputId": "f35cee32-4ecf-4bca-d7a2-e5d2da2a4023"
   },
   "outputs": [
    {
     "data": {
      "text/plain": [
       "40"
      ]
     },
     "execution_count": 7,
     "metadata": {
      "tags": []
     },
     "output_type": "execute_result"
    }
   ],
   "source": [
    "nb_class = len(birds)\n",
    "nb_class"
   ]
  },
  {
   "cell_type": "code",
   "execution_count": null,
   "metadata": {
    "id": "1LLKRiHOZSmR"
   },
   "outputs": [],
   "source": [
    "input_shape = (512, 512, 3)"
   ]
  },
  {
   "cell_type": "code",
   "execution_count": null,
   "metadata": {
    "colab": {
     "base_uri": "https://localhost:8080/",
     "height": 63
    },
    "id": "mED_WBhPrSBd",
    "outputId": "1cbe368d-1282-4d8f-9d7c-159f1436a8be"
   },
   "outputs": [
    {
     "data": {
      "text/html": [
       "<p style=\"color: red;\">\n",
       "The default version of TensorFlow in Colab will switch to TensorFlow 2.x on the 27th of March, 2020.<br>\n",
       "We recommend you <a href=\"https://www.tensorflow.org/guide/migrate\" target=\"_blank\">upgrade</a> now\n",
       "or ensure your notebook will continue to use TensorFlow 1.x via the <code>%tensorflow_version 1.x</code> magic:\n",
       "<a href=\"https://colab.research.google.com/notebooks/tensorflow_version.ipynb\" target=\"_blank\">more info</a>.</p>\n"
      ],
      "text/plain": [
       "<IPython.core.display.HTML object>"
      ]
     },
     "metadata": {
      "tags": []
     },
     "output_type": "display_data"
    }
   ],
   "source": [
    "from sklearn.datasets import make_classification\n",
    "from sklearn.model_selection import train_test_split\n",
    "import tensorflow as tf"
   ]
  },
  {
   "cell_type": "code",
   "execution_count": null,
   "metadata": {
    "id": "-VepedwWXJFg"
   },
   "outputs": [],
   "source": [
    "from tensorflow.keras.datasets import fashion_mnist\n",
    "from tensorflow.keras.layers import MaxPooling2D, Conv2D, Flatten, Dense\n",
    "from tensorflow.keras import models\n",
    "from tensorflow.keras.models import Sequential, Model\n",
    "from tensorflow.keras.utils import to_categorical\n",
    "from tensorflow.keras.callbacks import EarlyStopping, TensorBoard\n",
    "from tensorflow.keras.preprocessing.image import ImageDataGenerator, array_to_img, img_to_array, load_img"
   ]
  },
  {
   "cell_type": "code",
   "execution_count": null,
   "metadata": {
    "id": "uGjIZLjNXUqQ"
   },
   "outputs": [],
   "source": [
    "def create_model():\n",
    "    model = Sequential()\n",
    "    # Layer C1\n",
    "    model.add(Conv2D(filters=6, kernel_size=(3, 3), padding='same', activation='relu', input_shape=input_shape))\n",
    "    # Layer S2\n",
    "    model.add(MaxPooling2D(pool_size=(2, 2), padding='same'))\n",
    "    # Layer C3\n",
    "    model.add(Conv2D(filters=10, kernel_size=(3, 3), padding='same', activation='relu'))\n",
    "    # Layer S4\n",
    "    model.add(MaxPooling2D(pool_size=(2, 2), padding='same'))\n",
    "    # Before going into layer C5, we flatten our units\n",
    "    model.add(Flatten())\n",
    "    # Layer C5\n",
    "    model.add(Dense(units=512, activation='relu'))\n",
    "    # Layer F6\n",
    "    model.add(Dense(units=128, activation='relu'))\n",
    "    # Output layer\n",
    "    model.add(Dense(units=nb_class, activation='softmax')) # softmax for multi class\n",
    "    return model\n",
    "\n"
   ]
  },
  {
   "cell_type": "code",
   "execution_count": null,
   "metadata": {
    "colab": {
     "base_uri": "https://localhost:8080/",
     "height": 88
    },
    "id": "pwXXVPbuXeyY",
    "outputId": "b63b99fe-9a48-4f55-b6b6-1aba6ae3c80e"
   },
   "outputs": [
    {
     "name": "stdout",
     "output_type": "stream",
     "text": [
      "WARNING:tensorflow:From /tensorflow-1.15.0/python3.6/tensorflow_core/python/ops/resource_variable_ops.py:1630: calling BaseResourceVariable.__init__ (from tensorflow.python.ops.resource_variable_ops) with constraint is deprecated and will be removed in a future version.\n",
      "Instructions for updating:\n",
      "If using Keras pass *_constraint arguments to layers.\n"
     ]
    }
   ],
   "source": [
    "model = create_model()\n",
    "\n",
    "# Compile the model\n",
    "model.compile(optimizer='adam', loss='categorical_crossentropy', metrics=['accuracy'])\n",
    "\n",
    "# Define the callbacks\n",
    "callbacks = [EarlyStopping(monitor='val_loss', patience=5), TensorBoard(log_dir='drive/My Drive/zindi/Graph', histogram_freq=0, write_graph=True, write_images=True)]"
   ]
  },
  {
   "cell_type": "code",
   "execution_count": null,
   "metadata": {
    "colab": {
     "base_uri": "https://localhost:8080/",
     "height": 34
    },
    "id": "G4Y_LeW7Xkik",
    "outputId": "3c9eb17e-1d85-4ffd-8da5-3aabbd58dd6b"
   },
   "outputs": [
    {
     "name": "stdout",
     "output_type": "stream",
     "text": [
      "Found 1857 images belonging to 40 classes.\n"
     ]
    }
   ],
   "source": [
    "# https://medium.com/@vijayabhaskar96/tutorial-image-classification-with-keras-flow-from-directory-and-generators-95f75ebe5720\n",
    "\n",
    "train_datagen = ImageDataGenerator(\n",
    "        rescale=1./255,           # normalization\n",
    "        rotation_range=45,        # a value in degrees (0-180), a range within which to randomly rotate pictures\n",
    "        width_shift_range=0.2,    # a fraction of total width or height, within which to randomly translate pictures vertically or horizontally\n",
    "        height_shift_range=0.2,\n",
    "        shear_range=0.2,          # for randomly applying shearing transformations\n",
    "        zoom_range=0.2,           # for randomly zooming inside pictures\n",
    "        horizontal_flip=False,    # for randomly flipping half of the images horizontally --relevant when there are no assumptions of horizontal assymetry\n",
    "        fill_mode='nearest')      # used for filling in newly created pixels, which can appear after a rotation or a width/height shift\n",
    "\n",
    "batch_size = 32\n",
    "target_size=(512, 512)\n",
    "\n",
    "train_generator = train_datagen.flow_from_directory(\n",
    "        directory='drive/My Drive/zindi/Spectrograms_all_classified',\n",
    "        target_size=target_size,\n",
    "        batch_size=batch_size,\n",
    "        class_mode='categorical') # for multi class"
   ]
  },
  {
   "cell_type": "code",
   "execution_count": null,
   "metadata": {
    "colab": {
     "base_uri": "https://localhost:8080/",
     "height": 1000
    },
    "id": "BlfwLdUgdr3Z",
    "outputId": "e1823627-aad7-4cda-a1d6-ebb61fa9b8a0"
   },
   "outputs": [
    {
     "name": "stdout",
     "output_type": "stream",
     "text": [
      "Epoch 1/40\n",
      "61/62 [============================>.] - ETA: 11s - loss: 4.2024 - acc: 0.0541WARNING:tensorflow:Early stopping conditioned on metric `val_loss` which is not available. Available metrics are: loss,acc\n",
      "62/62 [==============================] - 718s 12s/step - loss: 4.1933 - acc: 0.0538\n",
      "Epoch 2/40\n",
      "61/62 [============================>.] - ETA: 6s - loss: 3.5647 - acc: 0.0567 WARNING:tensorflow:Early stopping conditioned on metric `val_loss` which is not available. Available metrics are: loss,acc\n",
      "62/62 [==============================] - 385s 6s/step - loss: 3.5628 - acc: 0.0573\n",
      "Epoch 3/40\n",
      "61/62 [============================>.] - ETA: 6s - loss: 3.5365 - acc: 0.0630 WARNING:tensorflow:Early stopping conditioned on metric `val_loss` which is not available. Available metrics are: loss,acc\n",
      "62/62 [==============================] - 377s 6s/step - loss: 3.5356 - acc: 0.0624\n",
      "Epoch 4/40\n",
      "61/62 [============================>.] - ETA: 6s - loss: 3.5053 - acc: 0.0651 WARNING:tensorflow:Early stopping conditioned on metric `val_loss` which is not available. Available metrics are: loss,acc\n",
      "62/62 [==============================] - 381s 6s/step - loss: 3.5066 - acc: 0.0666\n",
      "Epoch 5/40\n",
      "61/62 [============================>.] - ETA: 6s - loss: 3.5192 - acc: 0.0763 WARNING:tensorflow:Early stopping conditioned on metric `val_loss` which is not available. Available metrics are: loss,acc\n",
      "62/62 [==============================] - 388s 6s/step - loss: 3.5209 - acc: 0.0756\n",
      "Epoch 6/40\n",
      "61/62 [============================>.] - ETA: 6s - loss: 3.5525 - acc: 0.0703 WARNING:tensorflow:Early stopping conditioned on metric `val_loss` which is not available. Available metrics are: loss,acc\n",
      "62/62 [==============================] - 383s 6s/step - loss: 3.5509 - acc: 0.0707\n",
      "Epoch 7/40\n",
      "61/62 [============================>.] - ETA: 6s - loss: 3.4742 - acc: 0.0937 WARNING:tensorflow:Early stopping conditioned on metric `val_loss` which is not available. Available metrics are: loss,acc\n",
      "62/62 [==============================] - 382s 6s/step - loss: 3.4755 - acc: 0.0937\n",
      "Epoch 8/40\n",
      "61/62 [============================>.] - ETA: 6s - loss: 3.4534 - acc: 0.0885 WARNING:tensorflow:Early stopping conditioned on metric `val_loss` which is not available. Available metrics are: loss,acc\n",
      "62/62 [==============================] - 382s 6s/step - loss: 3.4523 - acc: 0.0876\n",
      "Epoch 9/40\n",
      "61/62 [============================>.] - ETA: 6s - loss: 3.4448 - acc: 0.0889 WARNING:tensorflow:Early stopping conditioned on metric `val_loss` which is not available. Available metrics are: loss,acc\n",
      "62/62 [==============================] - 376s 6s/step - loss: 3.4424 - acc: 0.0900\n",
      "Epoch 10/40\n",
      "61/62 [============================>.] - ETA: 6s - loss: 3.4069 - acc: 0.0907 WARNING:tensorflow:Early stopping conditioned on metric `val_loss` which is not available. Available metrics are: loss,acc\n",
      "62/62 [==============================] - 388s 6s/step - loss: 3.4052 - acc: 0.0912\n",
      "Epoch 11/40\n",
      "61/62 [============================>.] - ETA: 6s - loss: 3.3753 - acc: 0.0937 WARNING:tensorflow:Early stopping conditioned on metric `val_loss` which is not available. Available metrics are: loss,acc\n",
      "62/62 [==============================] - 378s 6s/step - loss: 3.3761 - acc: 0.0931\n",
      "Epoch 12/40\n",
      "61/62 [============================>.] - ETA: 6s - loss: 3.3669 - acc: 0.1046 WARNING:tensorflow:Early stopping conditioned on metric `val_loss` which is not available. Available metrics are: loss,acc\n",
      "62/62 [==============================] - 385s 6s/step - loss: 3.3702 - acc: 0.1045\n",
      "Epoch 13/40\n",
      "61/62 [============================>.] - ETA: 6s - loss: 3.3260 - acc: 0.1132 WARNING:tensorflow:Early stopping conditioned on metric `val_loss` which is not available. Available metrics are: loss,acc\n",
      "62/62 [==============================] - 387s 6s/step - loss: 3.3227 - acc: 0.1154\n",
      "Epoch 14/40\n",
      "61/62 [============================>.] - ETA: 6s - loss: 3.2667 - acc: 0.1192 WARNING:tensorflow:Early stopping conditioned on metric `val_loss` which is not available. Available metrics are: loss,acc\n",
      "62/62 [==============================] - 383s 6s/step - loss: 3.2669 - acc: 0.1198\n",
      "Epoch 15/40\n",
      "61/62 [============================>.] - ETA: 6s - loss: 3.3019 - acc: 0.1190 WARNING:tensorflow:Early stopping conditioned on metric `val_loss` which is not available. Available metrics are: loss,acc\n",
      "62/62 [==============================] - 378s 6s/step - loss: 3.2986 - acc: 0.1191\n",
      "Epoch 16/40\n",
      "61/62 [============================>.] - ETA: 6s - loss: 3.2044 - acc: 0.1260 WARNING:tensorflow:Early stopping conditioned on metric `val_loss` which is not available. Available metrics are: loss,acc\n",
      "62/62 [==============================] - 388s 6s/step - loss: 3.2036 - acc: 0.1260\n",
      "Epoch 17/40\n",
      "61/62 [============================>.] - ETA: 6s - loss: 3.1835 - acc: 0.1360 WARNING:tensorflow:Early stopping conditioned on metric `val_loss` which is not available. Available metrics are: loss,acc\n",
      "62/62 [==============================] - 376s 6s/step - loss: 3.1846 - acc: 0.1353\n",
      "Epoch 18/40\n",
      "61/62 [============================>.] - ETA: 6s - loss: 3.1859 - acc: 0.1447 WARNING:tensorflow:Early stopping conditioned on metric `val_loss` which is not available. Available metrics are: loss,acc\n",
      "62/62 [==============================] - 382s 6s/step - loss: 3.1824 - acc: 0.1444\n",
      "Epoch 19/40\n",
      "61/62 [============================>.] - ETA: 6s - loss: 3.1288 - acc: 0.1499 WARNING:tensorflow:Early stopping conditioned on metric `val_loss` which is not available. Available metrics are: loss,acc\n",
      "62/62 [==============================] - 385s 6s/step - loss: 3.1265 - acc: 0.1495\n",
      "Epoch 20/40\n",
      "61/62 [============================>.] - ETA: 6s - loss: 3.1142 - acc: 0.1442 WARNING:tensorflow:Early stopping conditioned on metric `val_loss` which is not available. Available metrics are: loss,acc\n",
      "62/62 [==============================] - 386s 6s/step - loss: 3.1104 - acc: 0.1449\n",
      "Epoch 21/40\n",
      "61/62 [============================>.] - ETA: 6s - loss: 3.0967 - acc: 0.1551 WARNING:tensorflow:Early stopping conditioned on metric `val_loss` which is not available. Available metrics are: loss,acc\n",
      "62/62 [==============================] - 381s 6s/step - loss: 3.0991 - acc: 0.1551\n",
      "Epoch 22/40\n",
      "61/62 [============================>.] - ETA: 6s - loss: 3.0750 - acc: 0.1583 WARNING:tensorflow:Early stopping conditioned on metric `val_loss` which is not available. Available metrics are: loss,acc\n",
      "62/62 [==============================] - 382s 6s/step - loss: 3.0778 - acc: 0.1582\n",
      "Epoch 23/40\n",
      "61/62 [============================>.] - ETA: 6s - loss: 3.1177 - acc: 0.1442 WARNING:tensorflow:Early stopping conditioned on metric `val_loss` which is not available. Available metrics are: loss,acc\n",
      "62/62 [==============================] - 383s 6s/step - loss: 3.1221 - acc: 0.1439\n",
      "Epoch 24/40\n",
      "61/62 [============================>.] - ETA: 6s - loss: 3.0421 - acc: 0.1614 WARNING:tensorflow:Early stopping conditioned on metric `val_loss` which is not available. Available metrics are: loss,acc\n",
      "62/62 [==============================] - 378s 6s/step - loss: 3.0452 - acc: 0.1597\n",
      "Epoch 25/40\n",
      "61/62 [============================>.] - ETA: 6s - loss: 3.0430 - acc: 0.1702 WARNING:tensorflow:Early stopping conditioned on metric `val_loss` which is not available. Available metrics are: loss,acc\n",
      "62/62 [==============================] - 382s 6s/step - loss: 3.0412 - acc: 0.1700\n",
      "Epoch 26/40\n",
      "61/62 [============================>.] - ETA: 6s - loss: 3.0140 - acc: 0.1578 WARNING:tensorflow:Early stopping conditioned on metric `val_loss` which is not available. Available metrics are: loss,acc\n",
      "62/62 [==============================] - 387s 6s/step - loss: 3.0096 - acc: 0.1603\n",
      "Epoch 27/40\n",
      "61/62 [============================>.] - ETA: 6s - loss: 2.9946 - acc: 0.1707 WARNING:tensorflow:Early stopping conditioned on metric `val_loss` which is not available. Available metrics are: loss,acc\n",
      "62/62 [==============================] - 382s 6s/step - loss: 2.9962 - acc: 0.1715\n",
      "Epoch 28/40\n",
      "61/62 [============================>.] - ETA: 6s - loss: 2.9715 - acc: 0.1661 WARNING:tensorflow:Early stopping conditioned on metric `val_loss` which is not available. Available metrics are: loss,acc\n",
      "62/62 [==============================] - 381s 6s/step - loss: 2.9656 - acc: 0.1669\n",
      "Epoch 29/40\n",
      "61/62 [============================>.] - ETA: 6s - loss: 2.9214 - acc: 0.1825 WARNING:tensorflow:Early stopping conditioned on metric `val_loss` which is not available. Available metrics are: loss,acc\n",
      "62/62 [==============================] - 378s 6s/step - loss: 2.9229 - acc: 0.1831\n",
      "Epoch 30/40\n",
      "61/62 [============================>.] - ETA: 6s - loss: 2.9295 - acc: 0.1806 WARNING:tensorflow:Early stopping conditioned on metric `val_loss` which is not available. Available metrics are: loss,acc\n",
      "62/62 [==============================] - 382s 6s/step - loss: 2.9282 - acc: 0.1802\n",
      "Epoch 31/40\n",
      "61/62 [============================>.] - ETA: 6s - loss: 2.9170 - acc: 0.1716 WARNING:tensorflow:Early stopping conditioned on metric `val_loss` which is not available. Available metrics are: loss,acc\n",
      "62/62 [==============================] - 389s 6s/step - loss: 2.9163 - acc: 0.1714\n",
      "Epoch 32/40\n",
      "61/62 [============================>.] - ETA: 6s - loss: 2.8786 - acc: 0.1931 WARNING:tensorflow:Early stopping conditioned on metric `val_loss` which is not available. Available metrics are: loss,acc\n",
      "62/62 [==============================] - 381s 6s/step - loss: 2.8843 - acc: 0.1905\n",
      "Epoch 33/40\n",
      "61/62 [============================>.] - ETA: 6s - loss: 2.9360 - acc: 0.1848 WARNING:tensorflow:Early stopping conditioned on metric `val_loss` which is not available. Available metrics are: loss,acc\n",
      "62/62 [==============================] - 381s 6s/step - loss: 2.9310 - acc: 0.1859\n",
      "Epoch 34/40\n",
      "61/62 [============================>.] - ETA: 6s - loss: 2.8982 - acc: 0.1873 WARNING:tensorflow:Early stopping conditioned on metric `val_loss` which is not available. Available metrics are: loss,acc\n",
      "62/62 [==============================] - 378s 6s/step - loss: 2.9012 - acc: 0.1863\n",
      "Epoch 35/40\n",
      "61/62 [============================>.] - ETA: 6s - loss: 3.0168 - acc: 0.1723 WARNING:tensorflow:Early stopping conditioned on metric `val_loss` which is not available. Available metrics are: loss,acc\n",
      "62/62 [==============================] - 382s 6s/step - loss: 3.0110 - acc: 0.1726\n",
      "Epoch 36/40\n",
      "61/62 [============================>.] - ETA: 6s - loss: 2.8631 - acc: 0.1952 WARNING:tensorflow:Early stopping conditioned on metric `val_loss` which is not available. Available metrics are: loss,acc\n",
      "62/62 [==============================] - 383s 6s/step - loss: 2.8661 - acc: 0.1946\n",
      "Epoch 37/40\n",
      "61/62 [============================>.] - ETA: 6s - loss: 2.8180 - acc: 0.2072 WARNING:tensorflow:Early stopping conditioned on metric `val_loss` which is not available. Available metrics are: loss,acc\n",
      "62/62 [==============================] - 381s 6s/step - loss: 2.8151 - acc: 0.2079\n",
      "Epoch 38/40\n",
      "61/62 [============================>.] - ETA: 6s - loss: 2.8334 - acc: 0.2075 WARNING:tensorflow:Early stopping conditioned on metric `val_loss` which is not available. Available metrics are: loss,acc\n",
      "62/62 [==============================] - 387s 6s/step - loss: 2.8259 - acc: 0.2117\n",
      "Epoch 39/40\n",
      "61/62 [============================>.] - ETA: 6s - loss: 2.7969 - acc: 0.2143 WARNING:tensorflow:Early stopping conditioned on metric `val_loss` which is not available. Available metrics are: loss,acc\n",
      "62/62 [==============================] - 376s 6s/step - loss: 2.8039 - acc: 0.2123\n",
      "Epoch 40/40\n",
      "61/62 [============================>.] - ETA: 6s - loss: 2.8195 - acc: 0.2166 WARNING:tensorflow:Early stopping conditioned on metric `val_loss` which is not available. Available metrics are: loss,acc\n",
      "62/62 [==============================] - 381s 6s/step - loss: 2.8186 - acc: 0.2156\n",
      "saved model #1\n",
      "Epoch 1/40\n",
      "61/62 [============================>.] - ETA: 6s - loss: 2.7164 - acc: 0.2192 WARNING:tensorflow:Early stopping conditioned on metric `val_loss` which is not available. Available metrics are: loss,acc\n",
      "62/62 [==============================] - 389s 6s/step - loss: 2.7250 - acc: 0.2192\n",
      "Epoch 2/40\n",
      "61/62 [============================>.] - ETA: 6s - loss: 2.7420 - acc: 0.2323 WARNING:tensorflow:Early stopping conditioned on metric `val_loss` which is not available. Available metrics are: loss,acc\n",
      "62/62 [==============================] - 375s 6s/step - loss: 2.7413 - acc: 0.2326\n",
      "Epoch 3/40\n",
      "61/62 [============================>.] - ETA: 6s - loss: 2.7277 - acc: 0.2439 WARNING:tensorflow:Early stopping conditioned on metric `val_loss` which is not available. Available metrics are: loss,acc\n",
      "62/62 [==============================] - 387s 6s/step - loss: 2.7203 - acc: 0.2450\n",
      "Epoch 4/40\n",
      "61/62 [============================>.] - ETA: 6s - loss: 2.7337 - acc: 0.2286 WARNING:tensorflow:Early stopping conditioned on metric `val_loss` which is not available. Available metrics are: loss,acc\n",
      "62/62 [==============================] - 375s 6s/step - loss: 2.7336 - acc: 0.2279\n",
      "Epoch 5/40\n",
      "61/62 [============================>.] - ETA: 6s - loss: 2.6663 - acc: 0.2358 WARNING:tensorflow:Early stopping conditioned on metric `val_loss` which is not available. Available metrics are: loss,acc\n",
      "62/62 [==============================] - 379s 6s/step - loss: 2.6688 - acc: 0.2345\n",
      "Epoch 6/40\n",
      "61/62 [============================>.] - ETA: 6s - loss: 2.7220 - acc: 0.2372 WARNING:tensorflow:Early stopping conditioned on metric `val_loss` which is not available. Available metrics are: loss,acc\n",
      "62/62 [==============================] - 387s 6s/step - loss: 2.7222 - acc: 0.2369\n",
      "Epoch 7/40\n",
      "61/62 [============================>.] - ETA: 6s - loss: 2.6729 - acc: 0.2471 WARNING:tensorflow:Early stopping conditioned on metric `val_loss` which is not available. Available metrics are: loss,acc\n",
      "62/62 [==============================] - 374s 6s/step - loss: 2.6754 - acc: 0.2461\n",
      "Epoch 8/40\n",
      "61/62 [============================>.] - ETA: 6s - loss: 2.6178 - acc: 0.2572 WARNING:tensorflow:Early stopping conditioned on metric `val_loss` which is not available. Available metrics are: loss,acc\n",
      "62/62 [==============================] - 387s 6s/step - loss: 2.6182 - acc: 0.2560\n",
      "Epoch 9/40\n",
      "61/62 [============================>.] - ETA: 6s - loss: 2.7147 - acc: 0.2418 WARNING:tensorflow:Early stopping conditioned on metric `val_loss` which is not available. Available metrics are: loss,acc\n",
      "62/62 [==============================] - 374s 6s/step - loss: 2.7146 - acc: 0.2430\n",
      "Epoch 10/40\n",
      "61/62 [============================>.] - ETA: 6s - loss: 2.6266 - acc: 0.2561 WARNING:tensorflow:Early stopping conditioned on metric `val_loss` which is not available. Available metrics are: loss,acc\n",
      "62/62 [==============================] - 386s 6s/step - loss: 2.6264 - acc: 0.2550\n",
      "Epoch 11/40\n",
      "61/62 [============================>.] - ETA: 6s - loss: 2.7704 - acc: 0.2190 WARNING:tensorflow:Early stopping conditioned on metric `val_loss` which is not available. Available metrics are: loss,acc\n",
      "62/62 [==============================] - 374s 6s/step - loss: 2.7756 - acc: 0.2180\n",
      "Epoch 12/40\n",
      "61/62 [============================>.] - ETA: 6s - loss: 2.6356 - acc: 0.2707 WARNING:tensorflow:Early stopping conditioned on metric `val_loss` which is not available. Available metrics are: loss,acc\n",
      "62/62 [==============================] - 380s 6s/step - loss: 2.6379 - acc: 0.2693\n",
      "Epoch 13/40\n",
      "61/62 [============================>.] - ETA: 6s - loss: 2.6530 - acc: 0.2509 WARNING:tensorflow:Early stopping conditioned on metric `val_loss` which is not available. Available metrics are: loss,acc\n",
      "62/62 [==============================] - 381s 6s/step - loss: 2.6552 - acc: 0.2488\n",
      "Epoch 14/40\n",
      "61/62 [============================>.] - ETA: 6s - loss: 2.5768 - acc: 0.2690 WARNING:tensorflow:Early stopping conditioned on metric `val_loss` which is not available. Available metrics are: loss,acc\n",
      "62/62 [==============================] - 385s 6s/step - loss: 2.5777 - acc: 0.2676\n",
      "Epoch 15/40\n",
      "61/62 [============================>.] - ETA: 6s - loss: 2.6289 - acc: 0.2704 WARNING:tensorflow:Early stopping conditioned on metric `val_loss` which is not available. Available metrics are: loss,acc\n",
      "62/62 [==============================] - 374s 6s/step - loss: 2.6260 - acc: 0.2716\n",
      "Epoch 16/40\n",
      "61/62 [============================>.] - ETA: 6s - loss: 2.6850 - acc: 0.2389 WARNING:tensorflow:Early stopping conditioned on metric `val_loss` which is not available. Available metrics are: loss,acc\n",
      "62/62 [==============================] - 379s 6s/step - loss: 2.6802 - acc: 0.2386\n",
      "Epoch 17/40\n",
      "61/62 [============================>.] - ETA: 6s - loss: 2.4888 - acc: 0.2790 WARNING:tensorflow:Early stopping conditioned on metric `val_loss` which is not available. Available metrics are: loss,acc\n",
      "62/62 [==============================] - 381s 6s/step - loss: 2.4901 - acc: 0.2801\n",
      "Epoch 18/40\n",
      "61/62 [============================>.] - ETA: 6s - loss: 2.5168 - acc: 0.2702 WARNING:tensorflow:Early stopping conditioned on metric `val_loss` which is not available. Available metrics are: loss,acc\n",
      "62/62 [==============================] - 382s 6s/step - loss: 2.5108 - acc: 0.2719\n",
      "Epoch 19/40\n",
      "61/62 [============================>.] - ETA: 6s - loss: 2.5165 - acc: 0.2769 WARNING:tensorflow:Early stopping conditioned on metric `val_loss` which is not available. Available metrics are: loss,acc\n",
      "62/62 [==============================] - 380s 6s/step - loss: 2.5141 - acc: 0.2775\n",
      "Epoch 20/40\n",
      "61/62 [============================>.] - ETA: 6s - loss: 2.4787 - acc: 0.3092 WARNING:tensorflow:Early stopping conditioned on metric `val_loss` which is not available. Available metrics are: loss,acc\n",
      "62/62 [==============================] - 381s 6s/step - loss: 2.4819 - acc: 0.3098\n",
      "Epoch 21/40\n",
      "61/62 [============================>.] - ETA: 6s - loss: 2.5368 - acc: 0.2697 WARNING:tensorflow:Early stopping conditioned on metric `val_loss` which is not available. Available metrics are: loss,acc\n",
      "62/62 [==============================] - 380s 6s/step - loss: 2.5325 - acc: 0.2698\n",
      "Epoch 22/40\n",
      "61/62 [============================>.] - ETA: 6s - loss: 2.5057 - acc: 0.2801 WARNING:tensorflow:Early stopping conditioned on metric `val_loss` which is not available. Available metrics are: loss,acc\n",
      "62/62 [==============================] - 381s 6s/step - loss: 2.5059 - acc: 0.2785\n",
      "Epoch 23/40\n",
      "61/62 [============================>.] - ETA: 6s - loss: 2.4446 - acc: 0.2884 WARNING:tensorflow:Early stopping conditioned on metric `val_loss` which is not available. Available metrics are: loss,acc\n",
      "62/62 [==============================] - 380s 6s/step - loss: 2.4432 - acc: 0.2898\n",
      "Epoch 24/40\n",
      "61/62 [============================>.] - ETA: 6s - loss: 2.3920 - acc: 0.3040 WARNING:tensorflow:Early stopping conditioned on metric `val_loss` which is not available. Available metrics are: loss,acc\n",
      "62/62 [==============================] - 381s 6s/step - loss: 2.3913 - acc: 0.3041\n",
      "Epoch 25/40\n",
      "61/62 [============================>.] - ETA: 6s - loss: 2.4396 - acc: 0.3113 WARNING:tensorflow:Early stopping conditioned on metric `val_loss` which is not available. Available metrics are: loss,acc\n",
      "62/62 [==============================] - 379s 6s/step - loss: 2.4378 - acc: 0.3108\n",
      "Epoch 26/40\n",
      "61/62 [============================>.] - ETA: 6s - loss: 2.3545 - acc: 0.3165 WARNING:tensorflow:Early stopping conditioned on metric `val_loss` which is not available. Available metrics are: loss,acc\n",
      "62/62 [==============================] - 380s 6s/step - loss: 2.3593 - acc: 0.3134\n",
      "Epoch 27/40\n",
      "61/62 [============================>.] - ETA: 6s - loss: 2.3959 - acc: 0.3011 WARNING:tensorflow:Early stopping conditioned on metric `val_loss` which is not available. Available metrics are: loss,acc\n",
      "62/62 [==============================] - 377s 6s/step - loss: 2.4028 - acc: 0.2992\n",
      "Epoch 28/40\n",
      "61/62 [============================>.] - ETA: 6s - loss: 2.3982 - acc: 0.3084 WARNING:tensorflow:Early stopping conditioned on metric `val_loss` which is not available. Available metrics are: loss,acc\n",
      "62/62 [==============================] - 386s 6s/step - loss: 2.3946 - acc: 0.3090\n",
      "Epoch 29/40\n",
      "61/62 [============================>.] - ETA: 6s - loss: 2.3432 - acc: 0.3358 WARNING:tensorflow:Early stopping conditioned on metric `val_loss` which is not available. Available metrics are: loss,acc\n",
      "62/62 [==============================] - 381s 6s/step - loss: 2.3418 - acc: 0.3374\n",
      "Epoch 30/40\n",
      "61/62 [============================>.] - ETA: 6s - loss: 2.4245 - acc: 0.3037 WARNING:tensorflow:Early stopping conditioned on metric `val_loss` which is not available. Available metrics are: loss,acc\n",
      "62/62 [==============================] - 374s 6s/step - loss: 2.4250 - acc: 0.3039\n",
      "Epoch 31/40\n",
      "61/62 [============================>.] - ETA: 6s - loss: 2.3623 - acc: 0.3094 WARNING:tensorflow:Early stopping conditioned on metric `val_loss` which is not available. Available metrics are: loss,acc\n",
      "62/62 [==============================] - 386s 6s/step - loss: 2.3608 - acc: 0.3095\n",
      "Epoch 32/40\n",
      "61/62 [============================>.] - ETA: 6s - loss: 2.3355 - acc: 0.3021 WARNING:tensorflow:Early stopping conditioned on metric `val_loss` which is not available. Available metrics are: loss,acc\n",
      "62/62 [==============================] - 376s 6s/step - loss: 2.3441 - acc: 0.3002\n",
      "Epoch 33/40\n",
      "61/62 [============================>.] - ETA: 6s - loss: 2.3277 - acc: 0.3371 WARNING:tensorflow:Early stopping conditioned on metric `val_loss` which is not available. Available metrics are: loss,acc\n",
      "62/62 [==============================] - 386s 6s/step - loss: 2.3368 - acc: 0.3362\n",
      "Epoch 34/40\n",
      "61/62 [============================>.] - ETA: 6s - loss: 2.3468 - acc: 0.3222 WARNING:tensorflow:Early stopping conditioned on metric `val_loss` which is not available. Available metrics are: loss,acc\n",
      "62/62 [==============================] - 381s 6s/step - loss: 2.3517 - acc: 0.3226\n",
      "Epoch 35/40\n",
      "61/62 [============================>.] - ETA: 6s - loss: 2.3687 - acc: 0.3175 WARNING:tensorflow:Early stopping conditioned on metric `val_loss` which is not available. Available metrics are: loss,acc\n",
      "62/62 [==============================] - 374s 6s/step - loss: 2.3697 - acc: 0.3163\n",
      "Epoch 36/40\n",
      "61/62 [============================>.] - ETA: 6s - loss: 2.3485 - acc: 0.3295 WARNING:tensorflow:Early stopping conditioned on metric `val_loss` which is not available. Available metrics are: loss,acc\n",
      "62/62 [==============================] - 380s 6s/step - loss: 2.3484 - acc: 0.3282\n",
      "Epoch 37/40\n",
      "61/62 [============================>.] - ETA: 6s - loss: 2.2549 - acc: 0.3299 WARNING:tensorflow:Early stopping conditioned on metric `val_loss` which is not available. Available metrics are: loss,acc\n",
      "62/62 [==============================] - 388s 6s/step - loss: 2.2579 - acc: 0.3286\n",
      "Epoch 38/40\n",
      "61/62 [============================>.] - ETA: 6s - loss: 2.3673 - acc: 0.2899 WARNING:tensorflow:Early stopping conditioned on metric `val_loss` which is not available. Available metrics are: loss,acc\n",
      "62/62 [==============================] - 375s 6s/step - loss: 2.3624 - acc: 0.2908\n",
      "Epoch 39/40\n",
      "61/62 [============================>.] - ETA: 6s - loss: 2.2736 - acc: 0.3311 WARNING:tensorflow:Early stopping conditioned on metric `val_loss` which is not available. Available metrics are: loss,acc\n",
      "62/62 [==============================] - 380s 6s/step - loss: 2.2746 - acc: 0.3308\n",
      "Epoch 40/40\n",
      "61/62 [============================>.] - ETA: 6s - loss: 2.3294 - acc: 0.3175 WARNING:tensorflow:Early stopping conditioned on metric `val_loss` which is not available. Available metrics are: loss,acc\n",
      "62/62 [==============================] - 374s 6s/step - loss: 2.3285 - acc: 0.3158\n",
      "saved model #2\n",
      "Epoch 1/40\n",
      " 4/62 [>.............................] - ETA: 7:35 - loss: 2.0114 - acc: 0.3594"
     ]
    },
    {
     "ename": "KeyboardInterrupt",
     "evalue": "ignored",
     "output_type": "error",
     "traceback": [
      "\u001b[0;31m---------------------------------------------------------------------------\u001b[0m",
      "\u001b[0;31mKeyboardInterrupt\u001b[0m                         Traceback (most recent call last)",
      "\u001b[0;32m<ipython-input-35-4f8e7c428239>\u001b[0m in \u001b[0;36m<module>\u001b[0;34m()\u001b[0m\n\u001b[1;32m      6\u001b[0m         \u001b[0;31m#validation_data=validation_generator,\u001b[0m\u001b[0;34m\u001b[0m\u001b[0;34m\u001b[0m\u001b[0;34m\u001b[0m\u001b[0m\n\u001b[1;32m      7\u001b[0m         \u001b[0;31m#validation_steps=800 // batch_size,\u001b[0m\u001b[0;34m\u001b[0m\u001b[0;34m\u001b[0m\u001b[0;34m\u001b[0m\u001b[0m\n\u001b[0;32m----> 8\u001b[0;31m         callbacks=callbacks)\n\u001b[0m\u001b[1;32m      9\u001b[0m \u001b[0;34m\u001b[0m\u001b[0m\n\u001b[1;32m     10\u001b[0m     \u001b[0;31m# Save the model's weights\u001b[0m\u001b[0;34m\u001b[0m\u001b[0;34m\u001b[0m\u001b[0;34m\u001b[0m\u001b[0m\n",
      "\u001b[0;32m/tensorflow-1.15.0/python3.6/tensorflow_core/python/keras/engine/training.py\u001b[0m in \u001b[0;36mfit_generator\u001b[0;34m(self, generator, steps_per_epoch, epochs, verbose, callbacks, validation_data, validation_steps, validation_freq, class_weight, max_queue_size, workers, use_multiprocessing, shuffle, initial_epoch)\u001b[0m\n\u001b[1;32m   1294\u001b[0m         \u001b[0mshuffle\u001b[0m\u001b[0;34m=\u001b[0m\u001b[0mshuffle\u001b[0m\u001b[0;34m,\u001b[0m\u001b[0;34m\u001b[0m\u001b[0;34m\u001b[0m\u001b[0m\n\u001b[1;32m   1295\u001b[0m         \u001b[0minitial_epoch\u001b[0m\u001b[0;34m=\u001b[0m\u001b[0minitial_epoch\u001b[0m\u001b[0;34m,\u001b[0m\u001b[0;34m\u001b[0m\u001b[0;34m\u001b[0m\u001b[0m\n\u001b[0;32m-> 1296\u001b[0;31m         steps_name='steps_per_epoch')\n\u001b[0m\u001b[1;32m   1297\u001b[0m \u001b[0;34m\u001b[0m\u001b[0m\n\u001b[1;32m   1298\u001b[0m   def evaluate_generator(self,\n",
      "\u001b[0;32m/tensorflow-1.15.0/python3.6/tensorflow_core/python/keras/engine/training_generator.py\u001b[0m in \u001b[0;36mmodel_iteration\u001b[0;34m(model, data, steps_per_epoch, epochs, verbose, callbacks, validation_data, validation_steps, validation_freq, class_weight, max_queue_size, workers, use_multiprocessing, shuffle, initial_epoch, mode, batch_size, steps_name, **kwargs)\u001b[0m\n\u001b[1;32m    263\u001b[0m \u001b[0;34m\u001b[0m\u001b[0m\n\u001b[1;32m    264\u001b[0m       \u001b[0mis_deferred\u001b[0m \u001b[0;34m=\u001b[0m \u001b[0;32mnot\u001b[0m \u001b[0mmodel\u001b[0m\u001b[0;34m.\u001b[0m\u001b[0m_is_compiled\u001b[0m\u001b[0;34m\u001b[0m\u001b[0;34m\u001b[0m\u001b[0m\n\u001b[0;32m--> 265\u001b[0;31m       \u001b[0mbatch_outs\u001b[0m \u001b[0;34m=\u001b[0m \u001b[0mbatch_function\u001b[0m\u001b[0;34m(\u001b[0m\u001b[0;34m*\u001b[0m\u001b[0mbatch_data\u001b[0m\u001b[0;34m)\u001b[0m\u001b[0;34m\u001b[0m\u001b[0;34m\u001b[0m\u001b[0m\n\u001b[0m\u001b[1;32m    266\u001b[0m       \u001b[0;32mif\u001b[0m \u001b[0;32mnot\u001b[0m \u001b[0misinstance\u001b[0m\u001b[0;34m(\u001b[0m\u001b[0mbatch_outs\u001b[0m\u001b[0;34m,\u001b[0m \u001b[0mlist\u001b[0m\u001b[0;34m)\u001b[0m\u001b[0;34m:\u001b[0m\u001b[0;34m\u001b[0m\u001b[0;34m\u001b[0m\u001b[0m\n\u001b[1;32m    267\u001b[0m         \u001b[0mbatch_outs\u001b[0m \u001b[0;34m=\u001b[0m \u001b[0;34m[\u001b[0m\u001b[0mbatch_outs\u001b[0m\u001b[0;34m]\u001b[0m\u001b[0;34m\u001b[0m\u001b[0;34m\u001b[0m\u001b[0m\n",
      "\u001b[0;32m/tensorflow-1.15.0/python3.6/tensorflow_core/python/keras/engine/training.py\u001b[0m in \u001b[0;36mtrain_on_batch\u001b[0;34m(self, x, y, sample_weight, class_weight, reset_metrics)\u001b[0m\n\u001b[1;32m   1015\u001b[0m       \u001b[0mself\u001b[0m\u001b[0;34m.\u001b[0m\u001b[0m_update_sample_weight_modes\u001b[0m\u001b[0;34m(\u001b[0m\u001b[0msample_weights\u001b[0m\u001b[0;34m=\u001b[0m\u001b[0msample_weights\u001b[0m\u001b[0;34m)\u001b[0m\u001b[0;34m\u001b[0m\u001b[0;34m\u001b[0m\u001b[0m\n\u001b[1;32m   1016\u001b[0m       \u001b[0mself\u001b[0m\u001b[0;34m.\u001b[0m\u001b[0m_make_train_function\u001b[0m\u001b[0;34m(\u001b[0m\u001b[0;34m)\u001b[0m\u001b[0;34m\u001b[0m\u001b[0;34m\u001b[0m\u001b[0m\n\u001b[0;32m-> 1017\u001b[0;31m       \u001b[0moutputs\u001b[0m \u001b[0;34m=\u001b[0m \u001b[0mself\u001b[0m\u001b[0;34m.\u001b[0m\u001b[0mtrain_function\u001b[0m\u001b[0;34m(\u001b[0m\u001b[0mins\u001b[0m\u001b[0;34m)\u001b[0m  \u001b[0;31m# pylint: disable=not-callable\u001b[0m\u001b[0;34m\u001b[0m\u001b[0;34m\u001b[0m\u001b[0m\n\u001b[0m\u001b[1;32m   1018\u001b[0m \u001b[0;34m\u001b[0m\u001b[0m\n\u001b[1;32m   1019\u001b[0m     \u001b[0;32mif\u001b[0m \u001b[0mreset_metrics\u001b[0m\u001b[0;34m:\u001b[0m\u001b[0;34m\u001b[0m\u001b[0;34m\u001b[0m\u001b[0m\n",
      "\u001b[0;32m/tensorflow-1.15.0/python3.6/tensorflow_core/python/keras/backend.py\u001b[0m in \u001b[0;36m__call__\u001b[0;34m(self, inputs)\u001b[0m\n\u001b[1;32m   3474\u001b[0m \u001b[0;34m\u001b[0m\u001b[0m\n\u001b[1;32m   3475\u001b[0m     fetched = self._callable_fn(*array_vals,\n\u001b[0;32m-> 3476\u001b[0;31m                                 run_metadata=self.run_metadata)\n\u001b[0m\u001b[1;32m   3477\u001b[0m     \u001b[0mself\u001b[0m\u001b[0;34m.\u001b[0m\u001b[0m_call_fetch_callbacks\u001b[0m\u001b[0;34m(\u001b[0m\u001b[0mfetched\u001b[0m\u001b[0;34m[\u001b[0m\u001b[0;34m-\u001b[0m\u001b[0mlen\u001b[0m\u001b[0;34m(\u001b[0m\u001b[0mself\u001b[0m\u001b[0;34m.\u001b[0m\u001b[0m_fetches\u001b[0m\u001b[0;34m)\u001b[0m\u001b[0;34m:\u001b[0m\u001b[0;34m]\u001b[0m\u001b[0;34m)\u001b[0m\u001b[0;34m\u001b[0m\u001b[0;34m\u001b[0m\u001b[0m\n\u001b[1;32m   3478\u001b[0m     output_structure = nest.pack_sequence_as(\n",
      "\u001b[0;32m/tensorflow-1.15.0/python3.6/tensorflow_core/python/client/session.py\u001b[0m in \u001b[0;36m__call__\u001b[0;34m(self, *args, **kwargs)\u001b[0m\n\u001b[1;32m   1470\u001b[0m         ret = tf_session.TF_SessionRunCallable(self._session._session,\n\u001b[1;32m   1471\u001b[0m                                                \u001b[0mself\u001b[0m\u001b[0;34m.\u001b[0m\u001b[0m_handle\u001b[0m\u001b[0;34m,\u001b[0m \u001b[0margs\u001b[0m\u001b[0;34m,\u001b[0m\u001b[0;34m\u001b[0m\u001b[0;34m\u001b[0m\u001b[0m\n\u001b[0;32m-> 1472\u001b[0;31m                                                run_metadata_ptr)\n\u001b[0m\u001b[1;32m   1473\u001b[0m         \u001b[0;32mif\u001b[0m \u001b[0mrun_metadata\u001b[0m\u001b[0;34m:\u001b[0m\u001b[0;34m\u001b[0m\u001b[0;34m\u001b[0m\u001b[0m\n\u001b[1;32m   1474\u001b[0m           \u001b[0mproto_data\u001b[0m \u001b[0;34m=\u001b[0m \u001b[0mtf_session\u001b[0m\u001b[0;34m.\u001b[0m\u001b[0mTF_GetBuffer\u001b[0m\u001b[0;34m(\u001b[0m\u001b[0mrun_metadata_ptr\u001b[0m\u001b[0;34m)\u001b[0m\u001b[0;34m\u001b[0m\u001b[0;34m\u001b[0m\u001b[0m\n",
      "\u001b[0;31mKeyboardInterrupt\u001b[0m: "
     ]
    }
   ],
   "source": [
    "for i in range(1, 6):\n",
    "    model.fit_generator(\n",
    "        train_generator,\n",
    "        steps_per_epoch=2000 // batch_size,\n",
    "        epochs=40,\n",
    "        #validation_data=validation_generator,\n",
    "        #validation_steps=800 // batch_size,\n",
    "        callbacks=callbacks)\n",
    "\n",
    "    # Save the model's weights\n",
    "    model.save(f'drive/My Drive/zindi/01.spectrograms_all_loop{i}.h5')\n",
    "    print(f\"saved model #{i}\")"
   ]
  },
  {
   "cell_type": "code",
   "execution_count": null,
   "metadata": {
    "id": "ZOoA0dzjpSSh"
   },
   "outputs": [],
   "source": [
    "model.load_weights('drive/My Drive/zindi/01.spectrograms_all_loop2.h5')"
   ]
  },
  {
   "cell_type": "code",
   "execution_count": null,
   "metadata": {
    "colab": {
     "base_uri": "https://localhost:8080/",
     "height": 34
    },
    "id": "3vzUxWgq1wa3",
    "outputId": "be279f2a-2a1d-49cc-b55d-6d2d2b4ac20d"
   },
   "outputs": [
    {
     "name": "stdout",
     "output_type": "stream",
     "text": [
      "911\n"
     ]
    }
   ],
   "source": [
    "!ls drive/My\\ Drive/zindi/Spectrograms_2_Test/Spectrograms_2_Test | wc -l"
   ]
  },
  {
   "cell_type": "code",
   "execution_count": null,
   "metadata": {
    "colab": {
     "base_uri": "https://localhost:8080/",
     "height": 34
    },
    "id": "VYQq-A5Ik-YI",
    "outputId": "cf1b4945-3fa9-4660-93f6-4abf97ba6c08"
   },
   "outputs": [
    {
     "name": "stdout",
     "output_type": "stream",
     "text": [
      "Found 0 images belonging to 1 classes.\n"
     ]
    }
   ],
   "source": [
    "# There are no labelled test images. In this case, you will have a single test folder which contains all the images that you want to classify.\n",
    "\n",
    "test_datagen = ImageDataGenerator(rescale=1. / 255)\n",
    "\n",
    "test_generator = test_datagen.flow_from_directory(\n",
    "        directory='drive/My Drive/zindi/Spectrograms_2_Test/Spectrograms_2_Test',\n",
    "        classes=['test'],\n",
    "        target_size=target_size,\n",
    "        batch_size=batch_size,\n",
    "        class_mode='categorical',  # our generator will only yield batches of data, no labels\n",
    "        shuffle=False)  # preserve the order of filenames and predictions\n",
    "\n",
    "# https://kylewbanks.com/blog/loading-unlabeled-images-with-imagedatagenerator-flowfromdirectory-keras"
   ]
  },
  {
   "cell_type": "code",
   "execution_count": null,
   "metadata": {
    "colab": {
     "base_uri": "https://localhost:8080/",
     "height": 34
    },
    "id": "gwvLf255Daed",
    "outputId": "d85549dc-4bc7-4909-f85a-0c33e918cf02"
   },
   "outputs": [
    {
     "name": "stdout",
     "output_type": "stream",
     "text": [
      "Found 911 images belonging to 1 classes.\n"
     ]
    }
   ],
   "source": [
    "test_generator = test_datagen.flow_from_directory(\n",
    "        directory='drive/My Drive/zindi/Spectrograms_2_Test/',\n",
    "        target_size=target_size,\n",
    "        batch_size=batch_size,\n",
    "        shuffle=False\n",
    "        )"
   ]
  },
  {
   "cell_type": "code",
   "execution_count": null,
   "metadata": {
    "id": "N_xlreUAyltB"
   },
   "outputs": [],
   "source": [
    "test_generator.reset()\n",
    "\n",
    "# the predict_generator method returns the output of a model, given\n",
    "# a generator that yields batches of numpy data\n",
    "probabilities = model.predict_generator(generator=test_generator, steps=911 // batch_size + 1)"
   ]
  },
  {
   "cell_type": "code",
   "execution_count": null,
   "metadata": {
    "colab": {
     "base_uri": "https://localhost:8080/",
     "height": 238
    },
    "id": "i1XgRX4qGv-N",
    "outputId": "1b32bfe7-a3ce-439a-8993-5f8a8c7ec708"
   },
   "outputs": [
    {
     "data": {
      "text/plain": [
       "array([[9.4093883e-04, 2.6373730e-09, 6.6080523e-11, ..., 2.0905470e-10,\n",
       "        2.6763013e-05, 1.8598750e-03],\n",
       "       [5.4241408e-04, 6.0556936e-03, 1.1632715e-02, ..., 1.5241872e-04,\n",
       "        4.3900189e-05, 9.1250956e-02],\n",
       "       [1.0583223e-03, 5.4447481e-04, 6.1137779e-03, ..., 5.3610040e-07,\n",
       "        4.1149196e-05, 4.2756028e-03],\n",
       "       ...,\n",
       "       [7.0689120e-03, 5.0955052e-05, 2.1888958e-03, ..., 6.4265901e-06,\n",
       "        1.4341922e-02, 4.8357803e-02],\n",
       "       [1.1564338e-03, 5.4084994e-03, 5.1313377e-04, ..., 1.8568212e-03,\n",
       "        7.9082449e-05, 7.9810908e-03],\n",
       "       [8.8576468e-05, 1.1749296e-02, 1.5668349e-05, ..., 3.1056777e-02,\n",
       "        3.3760255e-06, 5.7121946e-07]], dtype=float32)"
      ]
     },
     "execution_count": 59,
     "metadata": {
      "tags": []
     },
     "output_type": "execute_result"
    }
   ],
   "source": [
    "probabilities"
   ]
  },
  {
   "cell_type": "code",
   "execution_count": null,
   "metadata": {
    "colab": {
     "base_uri": "https://localhost:8080/",
     "height": 697
    },
    "id": "nVLxuK4lIrKs",
    "outputId": "40d80bb3-ee68-45c3-bfb0-f3c14fc21dba"
   },
   "outputs": [
    {
     "data": {
      "text/plain": [
       "['African Paradise Flycatcher',\n",
       " 'African Pipit',\n",
       " 'African Reed Warbler',\n",
       " 'African Rock Pipit',\n",
       " 'Bar-throated Apalis',\n",
       " 'Black Cuckoo',\n",
       " 'Black-backed Puffback',\n",
       " 'Black-headed Oriole',\n",
       " 'Bokmakierie',\n",
       " 'Cape Batis',\n",
       " 'Cape Bunting',\n",
       " 'Cape Robin-Chat',\n",
       " 'Cape White-eye',\n",
       " 'Chestnut-vented Warbler',\n",
       " 'Chorister Robin-Chat',\n",
       " 'Crested Barbet',\n",
       " 'Dark-capped Bulbul',\n",
       " 'Eastern Clapper Lark',\n",
       " 'Fiery-necked Nightjar',\n",
       " 'Fork-tailed Drongo',\n",
       " 'Green Wood Hoopoe',\n",
       " 'Green-backed Camaroptera',\n",
       " 'Karoo Prinia',\n",
       " 'Karoo Scrub Robin',\n",
       " 'Levaillants Cisticola',\n",
       " 'Long-billed Crombec',\n",
       " 'Olive Bushshrike',\n",
       " 'Orange-breasted Bushshrike',\n",
       " 'Rattling Cisticola',\n",
       " 'Red-chested Cuckoo',\n",
       " 'Ring-necked Dove',\n",
       " 'Rufous-naped Lark',\n",
       " 'Sabota Lark',\n",
       " 'Sombre Greenbul',\n",
       " 'Southern Boubou',\n",
       " 'Southern Double-collared Sunbird',\n",
       " 'Tawny-flanked Prinia',\n",
       " 'White-bellied Sunbird',\n",
       " 'White-browed Robin-Chat',\n",
       " 'White-browed Scrub Robin']"
      ]
     },
     "execution_count": 76,
     "metadata": {
      "tags": []
     },
     "output_type": "execute_result"
    }
   ],
   "source": [
    "labels = (train_generator.class_indices)\n",
    "\n",
    "# reorder class labels according to the indices\n",
    "labels = dict((v,k) for k,v in labels.items())\n",
    "\n",
    "list(labels.values())"
   ]
  },
  {
   "cell_type": "code",
   "execution_count": null,
   "metadata": {
    "colab": {
     "base_uri": "https://localhost:8080/",
     "height": 360
    },
    "id": "leYrrrUlK3p1",
    "outputId": "9bb5f056-af1e-464b-cf27-b5968a412f41"
   },
   "outputs": [
    {
     "data": {
      "text/html": [
       "<div>\n",
       "<style scoped>\n",
       "    .dataframe tbody tr th:only-of-type {\n",
       "        vertical-align: middle;\n",
       "    }\n",
       "\n",
       "    .dataframe tbody tr th {\n",
       "        vertical-align: top;\n",
       "    }\n",
       "\n",
       "    .dataframe thead th {\n",
       "        text-align: right;\n",
       "    }\n",
       "</style>\n",
       "<table border=\"1\" class=\"dataframe\">\n",
       "  <thead>\n",
       "    <tr style=\"text-align: right;\">\n",
       "      <th></th>\n",
       "      <th>African Paradise Flycatcher</th>\n",
       "      <th>African Pipit</th>\n",
       "      <th>African Reed Warbler</th>\n",
       "      <th>African Rock Pipit</th>\n",
       "      <th>Bar-throated Apalis</th>\n",
       "      <th>Black Cuckoo</th>\n",
       "      <th>Black-backed Puffback</th>\n",
       "      <th>Black-headed Oriole</th>\n",
       "      <th>Bokmakierie</th>\n",
       "      <th>Cape Batis</th>\n",
       "      <th>Cape Bunting</th>\n",
       "      <th>Cape Robin-Chat</th>\n",
       "      <th>Cape White-eye</th>\n",
       "      <th>Chestnut-vented Warbler</th>\n",
       "      <th>Chorister Robin-Chat</th>\n",
       "      <th>Crested Barbet</th>\n",
       "      <th>Dark-capped Bulbul</th>\n",
       "      <th>Eastern Clapper Lark</th>\n",
       "      <th>Fiery-necked Nightjar</th>\n",
       "      <th>Fork-tailed Drongo</th>\n",
       "      <th>Green Wood Hoopoe</th>\n",
       "      <th>Green-backed Camaroptera</th>\n",
       "      <th>Karoo Prinia</th>\n",
       "      <th>Karoo Scrub Robin</th>\n",
       "      <th>Levaillants Cisticola</th>\n",
       "      <th>Long-billed Crombec</th>\n",
       "      <th>Olive Bushshrike</th>\n",
       "      <th>Orange-breasted Bushshrike</th>\n",
       "      <th>Rattling Cisticola</th>\n",
       "      <th>Red-chested Cuckoo</th>\n",
       "      <th>Ring-necked Dove</th>\n",
       "      <th>Rufous-naped Lark</th>\n",
       "      <th>Sabota Lark</th>\n",
       "      <th>Sombre Greenbul</th>\n",
       "      <th>Southern Boubou</th>\n",
       "      <th>Southern Double-collared Sunbird</th>\n",
       "      <th>Tawny-flanked Prinia</th>\n",
       "      <th>White-bellied Sunbird</th>\n",
       "      <th>White-browed Robin-Chat</th>\n",
       "      <th>White-browed Scrub Robin</th>\n",
       "      <th>ID</th>\n",
       "    </tr>\n",
       "  </thead>\n",
       "  <tbody>\n",
       "    <tr>\n",
       "      <th>0</th>\n",
       "      <td>0.000941</td>\n",
       "      <td>2.637373e-09</td>\n",
       "      <td>6.608052e-11</td>\n",
       "      <td>0.000027</td>\n",
       "      <td>7.598268e-07</td>\n",
       "      <td>0.001853</td>\n",
       "      <td>0.000009</td>\n",
       "      <td>0.018101</td>\n",
       "      <td>0.455358</td>\n",
       "      <td>0.004731</td>\n",
       "      <td>0.000004</td>\n",
       "      <td>0.000003</td>\n",
       "      <td>8.623413e-10</td>\n",
       "      <td>0.000680</td>\n",
       "      <td>0.032926</td>\n",
       "      <td>8.139167e-07</td>\n",
       "      <td>0.002353</td>\n",
       "      <td>0.000163</td>\n",
       "      <td>0.418655</td>\n",
       "      <td>0.000279</td>\n",
       "      <td>5.735241e-08</td>\n",
       "      <td>9.965642e-07</td>\n",
       "      <td>9.437827e-09</td>\n",
       "      <td>3.538213e-09</td>\n",
       "      <td>0.000003</td>\n",
       "      <td>0.000004</td>\n",
       "      <td>0.003984</td>\n",
       "      <td>0.003706</td>\n",
       "      <td>0.000001</td>\n",
       "      <td>0.043004</td>\n",
       "      <td>0.005414</td>\n",
       "      <td>0.001519</td>\n",
       "      <td>4.141566e-08</td>\n",
       "      <td>0.001522</td>\n",
       "      <td>0.002872</td>\n",
       "      <td>2.363436e-09</td>\n",
       "      <td>1.843040e-11</td>\n",
       "      <td>2.090547e-10</td>\n",
       "      <td>0.000027</td>\n",
       "      <td>0.001860</td>\n",
       "      <td>019OYB</td>\n",
       "    </tr>\n",
       "    <tr>\n",
       "      <th>1</th>\n",
       "      <td>0.000542</td>\n",
       "      <td>6.055694e-03</td>\n",
       "      <td>1.163272e-02</td>\n",
       "      <td>0.018021</td>\n",
       "      <td>4.457813e-02</td>\n",
       "      <td>0.000644</td>\n",
       "      <td>0.003124</td>\n",
       "      <td>0.007036</td>\n",
       "      <td>0.102694</td>\n",
       "      <td>0.001707</td>\n",
       "      <td>0.023632</td>\n",
       "      <td>0.064323</td>\n",
       "      <td>2.390646e-02</td>\n",
       "      <td>0.271880</td>\n",
       "      <td>0.000598</td>\n",
       "      <td>2.422623e-03</td>\n",
       "      <td>0.013938</td>\n",
       "      <td>0.049346</td>\n",
       "      <td>0.000282</td>\n",
       "      <td>0.004358</td>\n",
       "      <td>5.324751e-04</td>\n",
       "      <td>1.856168e-02</td>\n",
       "      <td>1.995381e-03</td>\n",
       "      <td>5.040558e-03</td>\n",
       "      <td>0.086465</td>\n",
       "      <td>0.070621</td>\n",
       "      <td>0.000762</td>\n",
       "      <td>0.001162</td>\n",
       "      <td>0.038342</td>\n",
       "      <td>0.000144</td>\n",
       "      <td>0.008382</td>\n",
       "      <td>0.005292</td>\n",
       "      <td>1.219494e-02</td>\n",
       "      <td>0.007492</td>\n",
       "      <td>0.000327</td>\n",
       "      <td>7.515202e-06</td>\n",
       "      <td>5.109336e-04</td>\n",
       "      <td>1.524187e-04</td>\n",
       "      <td>0.000044</td>\n",
       "      <td>0.091251</td>\n",
       "      <td>01S9OX</td>\n",
       "    </tr>\n",
       "    <tr>\n",
       "      <th>2</th>\n",
       "      <td>0.001058</td>\n",
       "      <td>5.444748e-04</td>\n",
       "      <td>6.113778e-03</td>\n",
       "      <td>0.005678</td>\n",
       "      <td>4.373532e-03</td>\n",
       "      <td>0.003307</td>\n",
       "      <td>0.000496</td>\n",
       "      <td>0.007918</td>\n",
       "      <td>0.078121</td>\n",
       "      <td>0.002996</td>\n",
       "      <td>0.014161</td>\n",
       "      <td>0.027945</td>\n",
       "      <td>6.380689e-04</td>\n",
       "      <td>0.009394</td>\n",
       "      <td>0.008007</td>\n",
       "      <td>2.441104e-03</td>\n",
       "      <td>0.011783</td>\n",
       "      <td>0.469785</td>\n",
       "      <td>0.044146</td>\n",
       "      <td>0.003394</td>\n",
       "      <td>3.499550e-02</td>\n",
       "      <td>1.757451e-05</td>\n",
       "      <td>5.927449e-04</td>\n",
       "      <td>9.713661e-04</td>\n",
       "      <td>0.011200</td>\n",
       "      <td>0.004240</td>\n",
       "      <td>0.009998</td>\n",
       "      <td>0.000134</td>\n",
       "      <td>0.005094</td>\n",
       "      <td>0.000019</td>\n",
       "      <td>0.195565</td>\n",
       "      <td>0.007659</td>\n",
       "      <td>1.846615e-02</td>\n",
       "      <td>0.000147</td>\n",
       "      <td>0.004267</td>\n",
       "      <td>1.369243e-05</td>\n",
       "      <td>7.374890e-07</td>\n",
       "      <td>5.361004e-07</td>\n",
       "      <td>0.000041</td>\n",
       "      <td>0.004276</td>\n",
       "      <td>02CS12</td>\n",
       "    </tr>\n",
       "    <tr>\n",
       "      <th>3</th>\n",
       "      <td>0.007521</td>\n",
       "      <td>8.113311e-04</td>\n",
       "      <td>2.086589e-03</td>\n",
       "      <td>0.001858</td>\n",
       "      <td>7.156504e-02</td>\n",
       "      <td>0.009691</td>\n",
       "      <td>0.006238</td>\n",
       "      <td>0.006893</td>\n",
       "      <td>0.159682</td>\n",
       "      <td>0.024400</td>\n",
       "      <td>0.005056</td>\n",
       "      <td>0.017723</td>\n",
       "      <td>2.275281e-02</td>\n",
       "      <td>0.049102</td>\n",
       "      <td>0.026741</td>\n",
       "      <td>1.629203e-02</td>\n",
       "      <td>0.027028</td>\n",
       "      <td>0.019961</td>\n",
       "      <td>0.034430</td>\n",
       "      <td>0.002862</td>\n",
       "      <td>4.101929e-03</td>\n",
       "      <td>2.171398e-02</td>\n",
       "      <td>6.809002e-04</td>\n",
       "      <td>1.061245e-03</td>\n",
       "      <td>0.060673</td>\n",
       "      <td>0.011063</td>\n",
       "      <td>0.036813</td>\n",
       "      <td>0.024352</td>\n",
       "      <td>0.018940</td>\n",
       "      <td>0.004902</td>\n",
       "      <td>0.200061</td>\n",
       "      <td>0.012166</td>\n",
       "      <td>1.661147e-03</td>\n",
       "      <td>0.005723</td>\n",
       "      <td>0.014561</td>\n",
       "      <td>4.254184e-05</td>\n",
       "      <td>1.449387e-04</td>\n",
       "      <td>6.221540e-05</td>\n",
       "      <td>0.001457</td>\n",
       "      <td>0.067123</td>\n",
       "      <td>02LM3W</td>\n",
       "    </tr>\n",
       "    <tr>\n",
       "      <th>4</th>\n",
       "      <td>0.012737</td>\n",
       "      <td>1.164183e-03</td>\n",
       "      <td>3.695672e-02</td>\n",
       "      <td>0.000203</td>\n",
       "      <td>3.182721e-02</td>\n",
       "      <td>0.000706</td>\n",
       "      <td>0.132442</td>\n",
       "      <td>0.000813</td>\n",
       "      <td>0.006435</td>\n",
       "      <td>0.001534</td>\n",
       "      <td>0.000887</td>\n",
       "      <td>0.013616</td>\n",
       "      <td>2.178050e-02</td>\n",
       "      <td>0.005636</td>\n",
       "      <td>0.015150</td>\n",
       "      <td>1.267102e-02</td>\n",
       "      <td>0.048848</td>\n",
       "      <td>0.000422</td>\n",
       "      <td>0.000039</td>\n",
       "      <td>0.215401</td>\n",
       "      <td>3.221766e-02</td>\n",
       "      <td>1.270064e-01</td>\n",
       "      <td>9.602748e-04</td>\n",
       "      <td>9.495996e-04</td>\n",
       "      <td>0.032088</td>\n",
       "      <td>0.007399</td>\n",
       "      <td>0.004912</td>\n",
       "      <td>0.000771</td>\n",
       "      <td>0.099187</td>\n",
       "      <td>0.004062</td>\n",
       "      <td>0.000766</td>\n",
       "      <td>0.000106</td>\n",
       "      <td>1.887102e-02</td>\n",
       "      <td>0.006280</td>\n",
       "      <td>0.069220</td>\n",
       "      <td>1.103027e-03</td>\n",
       "      <td>5.418082e-03</td>\n",
       "      <td>1.917057e-02</td>\n",
       "      <td>0.005523</td>\n",
       "      <td>0.004721</td>\n",
       "      <td>0C3A2V</td>\n",
       "    </tr>\n",
       "  </tbody>\n",
       "</table>\n",
       "</div>"
      ],
      "text/plain": [
       "   African Paradise Flycatcher  African Pipit  ...  White-browed Scrub Robin      ID\n",
       "0                     0.000941   2.637373e-09  ...                  0.001860  019OYB\n",
       "1                     0.000542   6.055694e-03  ...                  0.091251  01S9OX\n",
       "2                     0.001058   5.444748e-04  ...                  0.004276  02CS12\n",
       "3                     0.007521   8.113311e-04  ...                  0.067123  02LM3W\n",
       "4                     0.012737   1.164183e-03  ...                  0.004721  0C3A2V\n",
       "\n",
       "[5 rows x 41 columns]"
      ]
     },
     "execution_count": 90,
     "metadata": {
      "tags": []
     },
     "output_type": "execute_result"
    }
   ],
   "source": [
    "pred = pd.DataFrame(probabilities, columns=list(labels.values()))\n",
    "\n",
    "# Get filenames (set shuffle=false in generator is important)\n",
    "filenames = test_generator.filenames\n",
    "\n",
    "pred['ID'] = [file_path[20:-4] for file_path in filenames]\n",
    "pred.head()"
   ]
  },
  {
   "cell_type": "code",
   "execution_count": null,
   "metadata": {
    "colab": {
     "base_uri": "https://localhost:8080/",
     "height": 34
    },
    "id": "tRHBM-zuHJYk",
    "outputId": "c0c5ae82-9650-4e15-8ee4-866c200acc29"
   },
   "outputs": [
    {
     "data": {
      "text/plain": [
       "(911, 41)"
      ]
     },
     "execution_count": 91,
     "metadata": {
      "tags": []
     },
     "output_type": "execute_result"
    }
   ],
   "source": [
    "pred.shape"
   ]
  },
  {
   "cell_type": "code",
   "execution_count": null,
   "metadata": {
    "colab": {
     "base_uri": "https://localhost:8080/",
     "height": 306
    },
    "id": "679eq5ZaN8b-",
    "outputId": "721ec41d-3e4c-405f-9955-85c534c4a947"
   },
   "outputs": [
    {
     "data": {
      "text/plain": [
       "Index(['ID', 'Ring-necked Dove', 'Black Cuckoo', 'Red-chested Cuckoo',\n",
       "       'Fiery-necked Nightjar', 'Green Wood Hoopoe', 'Crested Barbet',\n",
       "       'Cape Batis', 'Olive Bushshrike', 'Orange-breasted Bushshrike',\n",
       "       'Bokmakierie', 'Black-backed Puffback', 'Southern Boubou',\n",
       "       'Black-headed Oriole', 'Fork-tailed Drongo',\n",
       "       'African Paradise Flycatcher', 'Sabota Lark', 'Eastern Clapper Lark',\n",
       "       'Rufous-naped Lark', 'Dark-capped Bulbul', 'Sombre Greenbul',\n",
       "       'Long-billed Crombec', 'African Reed Warbler', 'Rattling Cisticola',\n",
       "       'Levaillants Cisticola', 'Tawny-flanked Prinia', 'Karoo Prinia',\n",
       "       'Bar-throated Apalis', 'Green-backed Camaroptera',\n",
       "       'Chestnut-vented Warbler', 'Cape White-eye', 'Karoo Scrub Robin',\n",
       "       'White-browed Scrub Robin', 'Cape Robin-Chat',\n",
       "       'White-browed Robin-Chat', 'Chorister Robin-Chat',\n",
       "       'Southern Double-collared Sunbird', 'White-bellied Sunbird',\n",
       "       'African Pipit', 'African Rock Pipit', 'Cape Bunting', 'file_path',\n",
       "       'len'],\n",
       "      dtype='object')"
      ]
     },
     "execution_count": 94,
     "metadata": {
      "tags": []
     },
     "output_type": "execute_result"
    }
   ],
   "source": [
    "sub.columns"
   ]
  },
  {
   "cell_type": "code",
   "execution_count": null,
   "metadata": {
    "colab": {
     "base_uri": "https://localhost:8080/",
     "height": 360
    },
    "id": "cnm_4j2QHJU9",
    "outputId": "d9de3453-d4bd-4e01-80db-ba61c28cdd2c"
   },
   "outputs": [
    {
     "data": {
      "text/html": [
       "<div>\n",
       "<style scoped>\n",
       "    .dataframe tbody tr th:only-of-type {\n",
       "        vertical-align: middle;\n",
       "    }\n",
       "\n",
       "    .dataframe tbody tr th {\n",
       "        vertical-align: top;\n",
       "    }\n",
       "\n",
       "    .dataframe thead th {\n",
       "        text-align: right;\n",
       "    }\n",
       "</style>\n",
       "<table border=\"1\" class=\"dataframe\">\n",
       "  <thead>\n",
       "    <tr style=\"text-align: right;\">\n",
       "      <th></th>\n",
       "      <th>ID</th>\n",
       "      <th>Ring-necked Dove</th>\n",
       "      <th>Black Cuckoo</th>\n",
       "      <th>Red-chested Cuckoo</th>\n",
       "      <th>Fiery-necked Nightjar</th>\n",
       "      <th>Green Wood Hoopoe</th>\n",
       "      <th>Crested Barbet</th>\n",
       "      <th>Cape Batis</th>\n",
       "      <th>Olive Bushshrike</th>\n",
       "      <th>Orange-breasted Bushshrike</th>\n",
       "      <th>Bokmakierie</th>\n",
       "      <th>Black-backed Puffback</th>\n",
       "      <th>Southern Boubou</th>\n",
       "      <th>Black-headed Oriole</th>\n",
       "      <th>Fork-tailed Drongo</th>\n",
       "      <th>African Paradise Flycatcher</th>\n",
       "      <th>Sabota Lark</th>\n",
       "      <th>Eastern Clapper Lark</th>\n",
       "      <th>Rufous-naped Lark</th>\n",
       "      <th>Dark-capped Bulbul</th>\n",
       "      <th>Sombre Greenbul</th>\n",
       "      <th>Long-billed Crombec</th>\n",
       "      <th>African Reed Warbler</th>\n",
       "      <th>Rattling Cisticola</th>\n",
       "      <th>Levaillants Cisticola</th>\n",
       "      <th>Tawny-flanked Prinia</th>\n",
       "      <th>Karoo Prinia</th>\n",
       "      <th>Bar-throated Apalis</th>\n",
       "      <th>Green-backed Camaroptera</th>\n",
       "      <th>Chestnut-vented Warbler</th>\n",
       "      <th>Cape White-eye</th>\n",
       "      <th>Karoo Scrub Robin</th>\n",
       "      <th>White-browed Scrub Robin</th>\n",
       "      <th>Cape Robin-Chat</th>\n",
       "      <th>White-browed Robin-Chat</th>\n",
       "      <th>Chorister Robin-Chat</th>\n",
       "      <th>Southern Double-collared Sunbird</th>\n",
       "      <th>White-bellied Sunbird</th>\n",
       "      <th>African Pipit</th>\n",
       "      <th>African Rock Pipit</th>\n",
       "      <th>Cape Bunting</th>\n",
       "    </tr>\n",
       "  </thead>\n",
       "  <tbody>\n",
       "    <tr>\n",
       "      <th>0</th>\n",
       "      <td>019OYB</td>\n",
       "      <td>0.005414</td>\n",
       "      <td>0.001853</td>\n",
       "      <td>0.043004</td>\n",
       "      <td>0.418655</td>\n",
       "      <td>5.735241e-08</td>\n",
       "      <td>8.139167e-07</td>\n",
       "      <td>0.004731</td>\n",
       "      <td>0.003984</td>\n",
       "      <td>0.003706</td>\n",
       "      <td>0.455358</td>\n",
       "      <td>0.000009</td>\n",
       "      <td>0.002872</td>\n",
       "      <td>0.018101</td>\n",
       "      <td>0.000279</td>\n",
       "      <td>0.000941</td>\n",
       "      <td>4.141566e-08</td>\n",
       "      <td>0.000163</td>\n",
       "      <td>0.001519</td>\n",
       "      <td>0.002353</td>\n",
       "      <td>0.001522</td>\n",
       "      <td>0.000004</td>\n",
       "      <td>6.608052e-11</td>\n",
       "      <td>0.000001</td>\n",
       "      <td>0.000003</td>\n",
       "      <td>1.843040e-11</td>\n",
       "      <td>9.437827e-09</td>\n",
       "      <td>7.598268e-07</td>\n",
       "      <td>9.965642e-07</td>\n",
       "      <td>0.000680</td>\n",
       "      <td>8.623413e-10</td>\n",
       "      <td>3.538213e-09</td>\n",
       "      <td>0.001860</td>\n",
       "      <td>0.000003</td>\n",
       "      <td>0.000027</td>\n",
       "      <td>0.032926</td>\n",
       "      <td>2.363436e-09</td>\n",
       "      <td>2.090547e-10</td>\n",
       "      <td>2.637373e-09</td>\n",
       "      <td>0.000027</td>\n",
       "      <td>0.000004</td>\n",
       "    </tr>\n",
       "    <tr>\n",
       "      <th>1</th>\n",
       "      <td>01S9OX</td>\n",
       "      <td>0.008382</td>\n",
       "      <td>0.000644</td>\n",
       "      <td>0.000144</td>\n",
       "      <td>0.000282</td>\n",
       "      <td>5.324751e-04</td>\n",
       "      <td>2.422623e-03</td>\n",
       "      <td>0.001707</td>\n",
       "      <td>0.000762</td>\n",
       "      <td>0.001162</td>\n",
       "      <td>0.102694</td>\n",
       "      <td>0.003124</td>\n",
       "      <td>0.000327</td>\n",
       "      <td>0.007036</td>\n",
       "      <td>0.004358</td>\n",
       "      <td>0.000542</td>\n",
       "      <td>1.219494e-02</td>\n",
       "      <td>0.049346</td>\n",
       "      <td>0.005292</td>\n",
       "      <td>0.013938</td>\n",
       "      <td>0.007492</td>\n",
       "      <td>0.070621</td>\n",
       "      <td>1.163272e-02</td>\n",
       "      <td>0.038342</td>\n",
       "      <td>0.086465</td>\n",
       "      <td>5.109336e-04</td>\n",
       "      <td>1.995381e-03</td>\n",
       "      <td>4.457813e-02</td>\n",
       "      <td>1.856168e-02</td>\n",
       "      <td>0.271880</td>\n",
       "      <td>2.390646e-02</td>\n",
       "      <td>5.040558e-03</td>\n",
       "      <td>0.091251</td>\n",
       "      <td>0.064323</td>\n",
       "      <td>0.000044</td>\n",
       "      <td>0.000598</td>\n",
       "      <td>7.515202e-06</td>\n",
       "      <td>1.524187e-04</td>\n",
       "      <td>6.055694e-03</td>\n",
       "      <td>0.018021</td>\n",
       "      <td>0.023632</td>\n",
       "    </tr>\n",
       "    <tr>\n",
       "      <th>2</th>\n",
       "      <td>02CS12</td>\n",
       "      <td>0.195565</td>\n",
       "      <td>0.003307</td>\n",
       "      <td>0.000019</td>\n",
       "      <td>0.044146</td>\n",
       "      <td>3.499550e-02</td>\n",
       "      <td>2.441104e-03</td>\n",
       "      <td>0.002996</td>\n",
       "      <td>0.009998</td>\n",
       "      <td>0.000134</td>\n",
       "      <td>0.078121</td>\n",
       "      <td>0.000496</td>\n",
       "      <td>0.004267</td>\n",
       "      <td>0.007918</td>\n",
       "      <td>0.003394</td>\n",
       "      <td>0.001058</td>\n",
       "      <td>1.846615e-02</td>\n",
       "      <td>0.469785</td>\n",
       "      <td>0.007659</td>\n",
       "      <td>0.011783</td>\n",
       "      <td>0.000147</td>\n",
       "      <td>0.004240</td>\n",
       "      <td>6.113778e-03</td>\n",
       "      <td>0.005094</td>\n",
       "      <td>0.011200</td>\n",
       "      <td>7.374890e-07</td>\n",
       "      <td>5.927449e-04</td>\n",
       "      <td>4.373532e-03</td>\n",
       "      <td>1.757451e-05</td>\n",
       "      <td>0.009394</td>\n",
       "      <td>6.380689e-04</td>\n",
       "      <td>9.713661e-04</td>\n",
       "      <td>0.004276</td>\n",
       "      <td>0.027945</td>\n",
       "      <td>0.000041</td>\n",
       "      <td>0.008007</td>\n",
       "      <td>1.369243e-05</td>\n",
       "      <td>5.361004e-07</td>\n",
       "      <td>5.444748e-04</td>\n",
       "      <td>0.005678</td>\n",
       "      <td>0.014161</td>\n",
       "    </tr>\n",
       "    <tr>\n",
       "      <th>3</th>\n",
       "      <td>02LM3W</td>\n",
       "      <td>0.200061</td>\n",
       "      <td>0.009691</td>\n",
       "      <td>0.004902</td>\n",
       "      <td>0.034430</td>\n",
       "      <td>4.101929e-03</td>\n",
       "      <td>1.629203e-02</td>\n",
       "      <td>0.024400</td>\n",
       "      <td>0.036813</td>\n",
       "      <td>0.024352</td>\n",
       "      <td>0.159682</td>\n",
       "      <td>0.006238</td>\n",
       "      <td>0.014561</td>\n",
       "      <td>0.006893</td>\n",
       "      <td>0.002862</td>\n",
       "      <td>0.007521</td>\n",
       "      <td>1.661147e-03</td>\n",
       "      <td>0.019961</td>\n",
       "      <td>0.012166</td>\n",
       "      <td>0.027028</td>\n",
       "      <td>0.005723</td>\n",
       "      <td>0.011063</td>\n",
       "      <td>2.086589e-03</td>\n",
       "      <td>0.018940</td>\n",
       "      <td>0.060673</td>\n",
       "      <td>1.449387e-04</td>\n",
       "      <td>6.809002e-04</td>\n",
       "      <td>7.156504e-02</td>\n",
       "      <td>2.171398e-02</td>\n",
       "      <td>0.049102</td>\n",
       "      <td>2.275281e-02</td>\n",
       "      <td>1.061245e-03</td>\n",
       "      <td>0.067123</td>\n",
       "      <td>0.017723</td>\n",
       "      <td>0.001457</td>\n",
       "      <td>0.026741</td>\n",
       "      <td>4.254184e-05</td>\n",
       "      <td>6.221540e-05</td>\n",
       "      <td>8.113311e-04</td>\n",
       "      <td>0.001858</td>\n",
       "      <td>0.005056</td>\n",
       "    </tr>\n",
       "    <tr>\n",
       "      <th>4</th>\n",
       "      <td>0C3A2V</td>\n",
       "      <td>0.000766</td>\n",
       "      <td>0.000706</td>\n",
       "      <td>0.004062</td>\n",
       "      <td>0.000039</td>\n",
       "      <td>3.221766e-02</td>\n",
       "      <td>1.267102e-02</td>\n",
       "      <td>0.001534</td>\n",
       "      <td>0.004912</td>\n",
       "      <td>0.000771</td>\n",
       "      <td>0.006435</td>\n",
       "      <td>0.132442</td>\n",
       "      <td>0.069220</td>\n",
       "      <td>0.000813</td>\n",
       "      <td>0.215401</td>\n",
       "      <td>0.012737</td>\n",
       "      <td>1.887102e-02</td>\n",
       "      <td>0.000422</td>\n",
       "      <td>0.000106</td>\n",
       "      <td>0.048848</td>\n",
       "      <td>0.006280</td>\n",
       "      <td>0.007399</td>\n",
       "      <td>3.695672e-02</td>\n",
       "      <td>0.099187</td>\n",
       "      <td>0.032088</td>\n",
       "      <td>5.418082e-03</td>\n",
       "      <td>9.602748e-04</td>\n",
       "      <td>3.182721e-02</td>\n",
       "      <td>1.270064e-01</td>\n",
       "      <td>0.005636</td>\n",
       "      <td>2.178050e-02</td>\n",
       "      <td>9.495996e-04</td>\n",
       "      <td>0.004721</td>\n",
       "      <td>0.013616</td>\n",
       "      <td>0.005523</td>\n",
       "      <td>0.015150</td>\n",
       "      <td>1.103027e-03</td>\n",
       "      <td>1.917057e-02</td>\n",
       "      <td>1.164183e-03</td>\n",
       "      <td>0.000203</td>\n",
       "      <td>0.000887</td>\n",
       "    </tr>\n",
       "  </tbody>\n",
       "</table>\n",
       "</div>"
      ],
      "text/plain": [
       "       ID  Ring-necked Dove  ...  African Rock Pipit  Cape Bunting\n",
       "0  019OYB          0.005414  ...            0.000027      0.000004\n",
       "1  01S9OX          0.008382  ...            0.018021      0.023632\n",
       "2  02CS12          0.195565  ...            0.005678      0.014161\n",
       "3  02LM3W          0.200061  ...            0.001858      0.005056\n",
       "4  0C3A2V          0.000766  ...            0.000203      0.000887\n",
       "\n",
       "[5 rows x 41 columns]"
      ]
     },
     "execution_count": 96,
     "metadata": {
      "tags": []
     },
     "output_type": "execute_result"
    }
   ],
   "source": [
    "try:\n",
    "    sub = sub.drop(columns=['len', 'file_path'])\n",
    "except:\n",
    "    pass\n",
    "\n",
    "pred = pred[list(sub.columns)]\n",
    "pred.head()"
   ]
  },
  {
   "cell_type": "code",
   "execution_count": null,
   "metadata": {
    "colab": {
     "base_uri": "https://localhost:8080/",
     "height": 34
    },
    "id": "Ft-jSNUrQy67",
    "outputId": "08215947-3c28-470d-ef41-ac4206f7181d"
   },
   "outputs": [
    {
     "data": {
      "text/plain": [
       "True"
      ]
     },
     "execution_count": 113,
     "metadata": {
      "tags": []
     },
     "output_type": "execute_result"
    }
   ],
   "source": [
    "# check if ID are alphabetically ordered\n",
    "col_id = list(pred['ID'].values)\n",
    "col_id == sorted(list(pred['ID'].values))"
   ]
  },
  {
   "cell_type": "code",
   "execution_count": null,
   "metadata": {
    "id": "vmQ-5a49Qy4K"
   },
   "outputs": [],
   "source": [
    "pred.to_csv('drive/My Drive/zindi/first_sub.csv', index=False)"
   ]
  },
  {
   "cell_type": "markdown",
   "metadata": {
    "id": "NoQg5ffiTIpN"
   },
   "source": [
    "submission score 3.2652909169116"
   ]
  },
  {
   "cell_type": "code",
   "execution_count": null,
   "metadata": {
    "id": "82EHgmvoQyyF"
   },
   "outputs": [],
   "source": [
    "3.2652909169116\n",
    "11\n",
    "1\n"
   ]
  },
  {
   "cell_type": "code",
   "execution_count": null,
   "metadata": {
    "id": "cAPuDSlOHJR8"
   },
   "outputs": [],
   "source": []
  },
  {
   "cell_type": "code",
   "execution_count": null,
   "metadata": {
    "id": "v4MOrLMvk-Vd"
   },
   "outputs": [],
   "source": [
    "print('hello')"
   ]
  },
  {
   "cell_type": "code",
   "execution_count": null,
   "metadata": {
    "id": "2eHCncqvk-Sf"
   },
   "outputs": [],
   "source": [
    "from sklearn.metrics import confusion_matrix\n",
    "\n",
    "y_true = np.array([0] * 1000 + [1] * 1000)\n",
    "y_pred = probabilities > 0.5\n",
    "\n",
    "confusion_matrix(y_true, y_pred)"
   ]
  },
  {
   "cell_type": "code",
   "execution_count": null,
   "metadata": {
    "id": "x9QlFJgUk-P3"
   },
   "outputs": [],
   "source": [
    "from keras.utils import to_categorical\n",
    "\n",
    "y_pred_train = to_categorical(model.predict(X_train_norm).argmax(axis=1), num_classes=10)\n",
    "y_pred_test = to_categorical(model.predict(X_test_norm).argmax(axis=1), num_classes=10)"
   ]
  },
  {
   "cell_type": "code",
   "execution_count": null,
   "metadata": {
    "id": "ft3tooalk-Ko"
   },
   "outputs": [],
   "source": [
    "# img processing\n",
    "load_ = []\n",
    "for n in os.listdir(filepath + \"/images/\"):\n",
    "    load_.append(img_to_array(load_img(filepath + \"/images/\" + n, target_size=(350, 350, 1), grayscale=True)))\n",
    "\n",
    "X = np.array(load_)\n",
    "X = X/255\n",
    "\n"
   ]
  },
  {
   "cell_type": "code",
   "execution_count": null,
   "metadata": {
    "id": "h03HXuxL_yM8"
   },
   "outputs": [],
   "source": []
  },
  {
   "cell_type": "code",
   "execution_count": null,
   "metadata": {
    "id": "dJdu0FIU4c21"
   },
   "outputs": [],
   "source": [
    "# Recreate the exact same model purely from the file\n",
    "# new_model = keras.models.load_model('path_to_my_model.h5')"
   ]
  },
  {
   "cell_type": "markdown",
   "metadata": {
    "id": "jcgpI8TJHkHC"
   },
   "source": [
    "Visualize training results"
   ]
  },
  {
   "cell_type": "code",
   "execution_count": null,
   "metadata": {
    "colab": {
     "base_uri": "https://localhost:8080/",
     "height": 232
    },
    "id": "iaQdes_AHf1U",
    "outputId": "4b680d7d-448b-4079-d11c-b75d8e560cd4"
   },
   "outputs": [
    {
     "ename": "KeyError",
     "evalue": "ignored",
     "output_type": "error",
     "traceback": [
      "\u001b[0;31m---------------------------------------------------------------------------\u001b[0m",
      "\u001b[0;31mKeyError\u001b[0m                                  Traceback (most recent call last)",
      "\u001b[0;32m<ipython-input-22-16eda6e2a6f9>\u001b[0m in \u001b[0;36m<module>\u001b[0;34m()\u001b[0m\n\u001b[1;32m      1\u001b[0m \u001b[0;34m\u001b[0m\u001b[0m\n\u001b[0;32m----> 2\u001b[0;31m \u001b[0macc\u001b[0m \u001b[0;34m=\u001b[0m \u001b[0mhistory\u001b[0m\u001b[0;34m.\u001b[0m\u001b[0mhistory\u001b[0m\u001b[0;34m[\u001b[0m\u001b[0;34m'accuracy'\u001b[0m\u001b[0;34m]\u001b[0m\u001b[0;34m\u001b[0m\u001b[0;34m\u001b[0m\u001b[0m\n\u001b[0m\u001b[1;32m      3\u001b[0m \u001b[0mval_acc\u001b[0m \u001b[0;34m=\u001b[0m \u001b[0mhistory\u001b[0m\u001b[0;34m.\u001b[0m\u001b[0mhistory\u001b[0m\u001b[0;34m[\u001b[0m\u001b[0;34m'val_accuracy'\u001b[0m\u001b[0;34m]\u001b[0m\u001b[0;34m\u001b[0m\u001b[0;34m\u001b[0m\u001b[0m\n\u001b[1;32m      4\u001b[0m \u001b[0;34m\u001b[0m\u001b[0m\n\u001b[1;32m      5\u001b[0m \u001b[0mloss\u001b[0m\u001b[0;34m=\u001b[0m\u001b[0mhistory\u001b[0m\u001b[0;34m.\u001b[0m\u001b[0mhistory\u001b[0m\u001b[0;34m[\u001b[0m\u001b[0;34m'loss'\u001b[0m\u001b[0;34m]\u001b[0m\u001b[0;34m\u001b[0m\u001b[0;34m\u001b[0m\u001b[0m\n",
      "\u001b[0;31mKeyError\u001b[0m: 'accuracy'"
     ]
    }
   ],
   "source": [
    "# https://www.tensorflow.org/tutorials/images/classification?hl=da\n",
    "\n",
    "acc = history.history['accuracy']\n",
    "val_acc = history.history['val_accuracy']\n",
    "\n",
    "loss=history.history['loss']\n",
    "val_loss=history.history['val_loss']\n",
    "\n",
    "epochs_range = range(epochs)\n",
    "\n",
    "plt.figure(figsize=(20, 8))\n",
    "plt.subplot(1, 2, 1)\n",
    "plt.plot(epochs_range, acc, label='Training Accuracy')\n",
    "plt.plot(epochs_range, val_acc, label='Validation Accuracy')\n",
    "plt.legend(loc='lower right')\n",
    "plt.title('Training and Validation Accuracy')\n",
    "\n",
    "plt.subplot(1, 2, 2)\n",
    "plt.plot(epochs_range, loss, label='Training Loss')\n",
    "plt.plot(epochs_range, val_loss, label='Validation Loss')\n",
    "plt.legend(loc='upper right')\n",
    "plt.title('Training and Validation Loss')\n",
    "plt.show()"
   ]
  },
  {
   "cell_type": "code",
   "execution_count": null,
   "metadata": {
    "id": "sm5MRfexJy7X"
   },
   "outputs": [],
   "source": []
  }
 ],
 "metadata": {
  "accelerator": "TPU",
  "colab": {
   "collapsed_sections": [],
   "name": "02_spec_all.ipynb",
   "provenance": []
  },
  "kernelspec": {
   "display_name": "Python 3 (ipykernel)",
   "language": "python",
   "name": "python3"
  },
  "language_info": {
   "codemirror_mode": {
    "name": "ipython",
    "version": 3
   },
   "file_extension": ".py",
   "mimetype": "text/x-python",
   "name": "python",
   "nbconvert_exporter": "python",
   "pygments_lexer": "ipython3",
   "version": "3.9.7"
  }
 },
 "nbformat": 4,
 "nbformat_minor": 1
}
