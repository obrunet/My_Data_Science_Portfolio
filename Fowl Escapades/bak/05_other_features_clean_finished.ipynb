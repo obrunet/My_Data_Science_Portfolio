{
 "cells": [
  {
   "cell_type": "code",
   "execution_count": 1,
   "metadata": {
    "colab": {
     "base_uri": "https://localhost:8080/",
     "height": 122
    },
    "colab_type": "code",
    "executionInfo": {
     "elapsed": 25706,
     "status": "ok",
     "timestamp": 1585670130677,
     "user": {
      "displayName": "jean rochefort",
      "photoUrl": "",
      "userId": "04520792891621341900"
     },
     "user_tz": -120
    },
    "id": "qcmcK4Aa4n3r",
    "outputId": "d0618763-f4a5-4fe3-fc52-b5c6dd70b96a"
   },
   "outputs": [
    {
     "name": "stdout",
     "output_type": "stream",
     "text": [
      "Go to this URL in a browser: https://accounts.google.com/o/oauth2/auth?client_id=947318989803-6bn6qk8qdgf4n4g3pfee6491hc0brc4i.apps.googleusercontent.com&redirect_uri=urn%3aietf%3awg%3aoauth%3a2.0%3aoob&response_type=code&scope=email%20https%3a%2f%2fwww.googleapis.com%2fauth%2fdocs.test%20https%3a%2f%2fwww.googleapis.com%2fauth%2fdrive%20https%3a%2f%2fwww.googleapis.com%2fauth%2fdrive.photos.readonly%20https%3a%2f%2fwww.googleapis.com%2fauth%2fpeopleapi.readonly\n",
      "\n",
      "Enter your authorization code:\n",
      "··········\n",
      "Mounted at /content/drive\n"
     ]
    }
   ],
   "source": [
    "from google.colab import drive\n",
    "drive.mount('/content/drive')"
   ]
  },
  {
   "cell_type": "code",
   "execution_count": 2,
   "metadata": {
    "colab": {
     "base_uri": "https://localhost:8080/",
     "height": 527
    },
    "colab_type": "code",
    "executionInfo": {
     "elapsed": 3265,
     "status": "ok",
     "timestamp": 1585670140700,
     "user": {
      "displayName": "jean rochefort",
      "photoUrl": "",
      "userId": "04520792891621341900"
     },
     "user_tz": -120
    },
    "id": "sp0kRZTcaIuO",
    "outputId": "60e9f8b5-5f18-4718-c69c-592adebc0396"
   },
   "outputs": [
    {
     "name": "stdout",
     "output_type": "stream",
     "text": [
      "01.first_try_with_splitted_spec.ipynb\n",
      "01.spectrograms_all_loop1.h5\n",
      "01.spectrograms_all_loop2.h5\n",
      "01.spectrograms_all_loop3.h5\n",
      "01.spectrograms_first_try_batch_size_32_loop.h5\n",
      "02_spec_all.ipynb\n",
      "03_spectrograms_CNN_clean_finished_1st_part_final.ipynb\n",
      "04_spectrograms_catboost_A_FINIR_.ipynb\n",
      "05_other_features.ipynb\n",
      "audio_signal_3d.jpeg\n",
      "Graph\n",
      "other_features_random_forrest_clf.csv\n",
      "references\n",
      "SampleSubmission.csv\n",
      "Spectrograms_1_Train\n",
      "Spectrograms_2_Test\n",
      "Spectrograms_all_classified\n",
      "Spectrograms_splitted_classified\n",
      "submission_iteration_1.csv\n",
      "submission_iteration_2.csv\n",
      "submission_iteration_3.csv\n",
      "Test\n",
      "Test.csv\n",
      "test_other_features.csv\n",
      "Train\n",
      "Train.csv\n",
      "train_other_features.csv\n",
      "viz.png\n",
      "x_test.csv\n",
      "x_train.csv\n"
     ]
    }
   ],
   "source": [
    "!ls drive/My\\ Drive/zindi"
   ]
  },
  {
   "cell_type": "code",
   "execution_count": 0,
   "metadata": {
    "colab": {},
    "colab_type": "code",
    "id": "HVqIKM3x4vXR"
   },
   "outputs": [],
   "source": [
    "import pandas as pd\n",
    "import numpy as np\n",
    "\n",
    "import IPython.display as ipd\n",
    "from matplotlib import pyplot as plt\n",
    "import seaborn as sns\n",
    "\n",
    "import librosa # package for music and audio processing, & features extraction \n",
    "import os, shutil, glob"
   ]
  },
  {
   "cell_type": "code",
   "execution_count": 0,
   "metadata": {
    "colab": {},
    "colab_type": "code",
    "id": "vGoDGyT2yMKv"
   },
   "outputs": [],
   "source": [
    "path_colab = 'drive/My Drive/zindi/'\n",
    "path_jupyt = './'\n",
    "\n",
    "# set to True with colab or False with jupyter\n",
    "colab = True\n",
    "path = path_colab if colab else path_jupyt"
   ]
  },
  {
   "cell_type": "markdown",
   "metadata": {
    "colab_type": "text",
    "id": "b_9F0aM0yMKy"
   },
   "source": [
    "## Take a look at the submission "
   ]
  },
  {
   "cell_type": "code",
   "execution_count": 5,
   "metadata": {
    "colab": {
     "base_uri": "https://localhost:8080/",
     "height": 360
    },
    "colab_type": "code",
    "executionInfo": {
     "elapsed": 983,
     "status": "ok",
     "timestamp": 1585670145590,
     "user": {
      "displayName": "jean rochefort",
      "photoUrl": "",
      "userId": "04520792891621341900"
     },
     "user_tz": -120
    },
    "id": "wTHK1jYq5aJb",
    "outputId": "8cf32671-6cfc-4bfc-97c3-7ebf8859494d"
   },
   "outputs": [
    {
     "data": {
      "text/html": [
       "<div>\n",
       "<style scoped>\n",
       "    .dataframe tbody tr th:only-of-type {\n",
       "        vertical-align: middle;\n",
       "    }\n",
       "\n",
       "    .dataframe tbody tr th {\n",
       "        vertical-align: top;\n",
       "    }\n",
       "\n",
       "    .dataframe thead th {\n",
       "        text-align: right;\n",
       "    }\n",
       "</style>\n",
       "<table border=\"1\" class=\"dataframe\">\n",
       "  <thead>\n",
       "    <tr style=\"text-align: right;\">\n",
       "      <th></th>\n",
       "      <th>ID</th>\n",
       "      <th>Ring-necked Dove</th>\n",
       "      <th>Black Cuckoo</th>\n",
       "      <th>Red-chested Cuckoo</th>\n",
       "      <th>Fiery-necked Nightjar</th>\n",
       "      <th>Green Wood Hoopoe</th>\n",
       "      <th>Crested Barbet</th>\n",
       "      <th>Cape Batis</th>\n",
       "      <th>Olive Bushshrike</th>\n",
       "      <th>Orange-breasted Bushshrike</th>\n",
       "      <th>Bokmakierie</th>\n",
       "      <th>Black-backed Puffback</th>\n",
       "      <th>Southern Boubou</th>\n",
       "      <th>Black-headed Oriole</th>\n",
       "      <th>Fork-tailed Drongo</th>\n",
       "      <th>African Paradise Flycatcher</th>\n",
       "      <th>Sabota Lark</th>\n",
       "      <th>Eastern Clapper Lark</th>\n",
       "      <th>Rufous-naped Lark</th>\n",
       "      <th>Dark-capped Bulbul</th>\n",
       "      <th>Sombre Greenbul</th>\n",
       "      <th>Long-billed Crombec</th>\n",
       "      <th>African Reed Warbler</th>\n",
       "      <th>Rattling Cisticola</th>\n",
       "      <th>Levaillants Cisticola</th>\n",
       "      <th>Tawny-flanked Prinia</th>\n",
       "      <th>Karoo Prinia</th>\n",
       "      <th>Bar-throated Apalis</th>\n",
       "      <th>Green-backed Camaroptera</th>\n",
       "      <th>Chestnut-vented Warbler</th>\n",
       "      <th>Cape White-eye</th>\n",
       "      <th>Karoo Scrub Robin</th>\n",
       "      <th>White-browed Scrub Robin</th>\n",
       "      <th>Cape Robin-Chat</th>\n",
       "      <th>White-browed Robin-Chat</th>\n",
       "      <th>Chorister Robin-Chat</th>\n",
       "      <th>Southern Double-collared Sunbird</th>\n",
       "      <th>White-bellied Sunbird</th>\n",
       "      <th>African Pipit</th>\n",
       "      <th>African Rock Pipit</th>\n",
       "      <th>Cape Bunting</th>\n",
       "      <th>file_path</th>\n",
       "    </tr>\n",
       "  </thead>\n",
       "  <tbody>\n",
       "    <tr>\n",
       "      <th>0</th>\n",
       "      <td>019OYB</td>\n",
       "      <td>0</td>\n",
       "      <td>0</td>\n",
       "      <td>0</td>\n",
       "      <td>0</td>\n",
       "      <td>0</td>\n",
       "      <td>0</td>\n",
       "      <td>0</td>\n",
       "      <td>0</td>\n",
       "      <td>0</td>\n",
       "      <td>0</td>\n",
       "      <td>0</td>\n",
       "      <td>0</td>\n",
       "      <td>0</td>\n",
       "      <td>0</td>\n",
       "      <td>0</td>\n",
       "      <td>0</td>\n",
       "      <td>0</td>\n",
       "      <td>0</td>\n",
       "      <td>0</td>\n",
       "      <td>0</td>\n",
       "      <td>0</td>\n",
       "      <td>0</td>\n",
       "      <td>0</td>\n",
       "      <td>0</td>\n",
       "      <td>0</td>\n",
       "      <td>0</td>\n",
       "      <td>0</td>\n",
       "      <td>0</td>\n",
       "      <td>0</td>\n",
       "      <td>0</td>\n",
       "      <td>0</td>\n",
       "      <td>0</td>\n",
       "      <td>0</td>\n",
       "      <td>0</td>\n",
       "      <td>0</td>\n",
       "      <td>0</td>\n",
       "      <td>0</td>\n",
       "      <td>0</td>\n",
       "      <td>0</td>\n",
       "      <td>0</td>\n",
       "      <td>drive/My Drive/zindi/Test/019OYB.mp3</td>\n",
       "    </tr>\n",
       "    <tr>\n",
       "      <th>1</th>\n",
       "      <td>01S9OX</td>\n",
       "      <td>0</td>\n",
       "      <td>0</td>\n",
       "      <td>0</td>\n",
       "      <td>0</td>\n",
       "      <td>0</td>\n",
       "      <td>0</td>\n",
       "      <td>0</td>\n",
       "      <td>0</td>\n",
       "      <td>0</td>\n",
       "      <td>0</td>\n",
       "      <td>0</td>\n",
       "      <td>0</td>\n",
       "      <td>0</td>\n",
       "      <td>0</td>\n",
       "      <td>0</td>\n",
       "      <td>0</td>\n",
       "      <td>0</td>\n",
       "      <td>0</td>\n",
       "      <td>0</td>\n",
       "      <td>0</td>\n",
       "      <td>0</td>\n",
       "      <td>0</td>\n",
       "      <td>0</td>\n",
       "      <td>0</td>\n",
       "      <td>0</td>\n",
       "      <td>0</td>\n",
       "      <td>0</td>\n",
       "      <td>0</td>\n",
       "      <td>0</td>\n",
       "      <td>0</td>\n",
       "      <td>0</td>\n",
       "      <td>0</td>\n",
       "      <td>0</td>\n",
       "      <td>0</td>\n",
       "      <td>0</td>\n",
       "      <td>0</td>\n",
       "      <td>0</td>\n",
       "      <td>0</td>\n",
       "      <td>0</td>\n",
       "      <td>0</td>\n",
       "      <td>drive/My Drive/zindi/Test/01S9OX.mp3</td>\n",
       "    </tr>\n",
       "    <tr>\n",
       "      <th>2</th>\n",
       "      <td>02CS12</td>\n",
       "      <td>0</td>\n",
       "      <td>0</td>\n",
       "      <td>0</td>\n",
       "      <td>0</td>\n",
       "      <td>0</td>\n",
       "      <td>0</td>\n",
       "      <td>0</td>\n",
       "      <td>0</td>\n",
       "      <td>0</td>\n",
       "      <td>0</td>\n",
       "      <td>0</td>\n",
       "      <td>0</td>\n",
       "      <td>0</td>\n",
       "      <td>0</td>\n",
       "      <td>0</td>\n",
       "      <td>0</td>\n",
       "      <td>0</td>\n",
       "      <td>0</td>\n",
       "      <td>0</td>\n",
       "      <td>0</td>\n",
       "      <td>0</td>\n",
       "      <td>0</td>\n",
       "      <td>0</td>\n",
       "      <td>0</td>\n",
       "      <td>0</td>\n",
       "      <td>0</td>\n",
       "      <td>0</td>\n",
       "      <td>0</td>\n",
       "      <td>0</td>\n",
       "      <td>0</td>\n",
       "      <td>0</td>\n",
       "      <td>0</td>\n",
       "      <td>0</td>\n",
       "      <td>0</td>\n",
       "      <td>0</td>\n",
       "      <td>0</td>\n",
       "      <td>0</td>\n",
       "      <td>0</td>\n",
       "      <td>0</td>\n",
       "      <td>0</td>\n",
       "      <td>drive/My Drive/zindi/Test/02CS12.mp3</td>\n",
       "    </tr>\n",
       "    <tr>\n",
       "      <th>3</th>\n",
       "      <td>02LM3W</td>\n",
       "      <td>0</td>\n",
       "      <td>0</td>\n",
       "      <td>0</td>\n",
       "      <td>0</td>\n",
       "      <td>0</td>\n",
       "      <td>0</td>\n",
       "      <td>0</td>\n",
       "      <td>0</td>\n",
       "      <td>0</td>\n",
       "      <td>0</td>\n",
       "      <td>0</td>\n",
       "      <td>0</td>\n",
       "      <td>0</td>\n",
       "      <td>0</td>\n",
       "      <td>0</td>\n",
       "      <td>0</td>\n",
       "      <td>0</td>\n",
       "      <td>0</td>\n",
       "      <td>0</td>\n",
       "      <td>0</td>\n",
       "      <td>0</td>\n",
       "      <td>0</td>\n",
       "      <td>0</td>\n",
       "      <td>0</td>\n",
       "      <td>0</td>\n",
       "      <td>0</td>\n",
       "      <td>0</td>\n",
       "      <td>0</td>\n",
       "      <td>0</td>\n",
       "      <td>0</td>\n",
       "      <td>0</td>\n",
       "      <td>0</td>\n",
       "      <td>0</td>\n",
       "      <td>0</td>\n",
       "      <td>0</td>\n",
       "      <td>0</td>\n",
       "      <td>0</td>\n",
       "      <td>0</td>\n",
       "      <td>0</td>\n",
       "      <td>0</td>\n",
       "      <td>drive/My Drive/zindi/Test/02LM3W.mp3</td>\n",
       "    </tr>\n",
       "    <tr>\n",
       "      <th>4</th>\n",
       "      <td>0C3A2V</td>\n",
       "      <td>0</td>\n",
       "      <td>0</td>\n",
       "      <td>0</td>\n",
       "      <td>0</td>\n",
       "      <td>0</td>\n",
       "      <td>0</td>\n",
       "      <td>0</td>\n",
       "      <td>0</td>\n",
       "      <td>0</td>\n",
       "      <td>0</td>\n",
       "      <td>0</td>\n",
       "      <td>0</td>\n",
       "      <td>0</td>\n",
       "      <td>0</td>\n",
       "      <td>0</td>\n",
       "      <td>0</td>\n",
       "      <td>0</td>\n",
       "      <td>0</td>\n",
       "      <td>0</td>\n",
       "      <td>0</td>\n",
       "      <td>0</td>\n",
       "      <td>0</td>\n",
       "      <td>0</td>\n",
       "      <td>0</td>\n",
       "      <td>0</td>\n",
       "      <td>0</td>\n",
       "      <td>0</td>\n",
       "      <td>0</td>\n",
       "      <td>0</td>\n",
       "      <td>0</td>\n",
       "      <td>0</td>\n",
       "      <td>0</td>\n",
       "      <td>0</td>\n",
       "      <td>0</td>\n",
       "      <td>0</td>\n",
       "      <td>0</td>\n",
       "      <td>0</td>\n",
       "      <td>0</td>\n",
       "      <td>0</td>\n",
       "      <td>0</td>\n",
       "      <td>drive/My Drive/zindi/Test/0C3A2V.mp3</td>\n",
       "    </tr>\n",
       "  </tbody>\n",
       "</table>\n",
       "</div>"
      ],
      "text/plain": [
       "       ID  Ring-necked Dove  ...  Cape Bunting                             file_path\n",
       "0  019OYB                 0  ...             0  drive/My Drive/zindi/Test/019OYB.mp3\n",
       "1  01S9OX                 0  ...             0  drive/My Drive/zindi/Test/01S9OX.mp3\n",
       "2  02CS12                 0  ...             0  drive/My Drive/zindi/Test/02CS12.mp3\n",
       "3  02LM3W                 0  ...             0  drive/My Drive/zindi/Test/02LM3W.mp3\n",
       "4  0C3A2V                 0  ...             0  drive/My Drive/zindi/Test/0C3A2V.mp3\n",
       "\n",
       "[5 rows x 42 columns]"
      ]
     },
     "execution_count": 5,
     "metadata": {
      "tags": []
     },
     "output_type": "execute_result"
    }
   ],
   "source": [
    "sub = pd.read_csv(path + 'SampleSubmission.csv')\n",
    "\n",
    "# retrieve all the class names in a list (the 1st col is the id)\n",
    "birds = sub.columns[1:]\n",
    "\n",
    "# add a col with all files' paths \n",
    "sub['file_path'] = path + 'Test/' + sub['ID'] + '.mp3'\n",
    "sub.head()"
   ]
  },
  {
   "cell_type": "markdown",
   "metadata": {
    "colab_type": "text",
    "id": "COCL65K1yMK1"
   },
   "source": [
    "List of species:"
   ]
  },
  {
   "cell_type": "code",
   "execution_count": 6,
   "metadata": {
    "colab": {
     "base_uri": "https://localhost:8080/",
     "height": 289
    },
    "colab_type": "code",
    "executionInfo": {
     "elapsed": 410,
     "status": "ok",
     "timestamp": 1585670148321,
     "user": {
      "displayName": "jean rochefort",
      "photoUrl": "",
      "userId": "04520792891621341900"
     },
     "user_tz": -120
    },
    "id": "1r7j6bnWyMK2",
    "outputId": "834b460b-0774-473e-b8c7-6d7502320b13"
   },
   "outputs": [
    {
     "data": {
      "text/plain": [
       "array(['Ring-necked Dove', 'Black Cuckoo', 'Red-chested Cuckoo',\n",
       "       'Fiery-necked Nightjar', 'Green Wood Hoopoe', 'Crested Barbet',\n",
       "       'Cape Batis', 'Olive Bushshrike', 'Orange-breasted Bushshrike',\n",
       "       'Bokmakierie', 'Black-backed Puffback', 'Southern Boubou',\n",
       "       'Black-headed Oriole', 'Fork-tailed Drongo',\n",
       "       'African Paradise Flycatcher', 'Sabota Lark',\n",
       "       'Eastern Clapper Lark', 'Rufous-naped Lark', 'Dark-capped Bulbul',\n",
       "       'Sombre Greenbul', 'Long-billed Crombec', 'African Reed Warbler',\n",
       "       'Rattling Cisticola', 'Levaillants Cisticola',\n",
       "       'Tawny-flanked Prinia', 'Karoo Prinia', 'Bar-throated Apalis',\n",
       "       'Green-backed Camaroptera', 'Chestnut-vented Warbler',\n",
       "       'Cape White-eye', 'Karoo Scrub Robin', 'White-browed Scrub Robin',\n",
       "       'Cape Robin-Chat', 'White-browed Robin-Chat',\n",
       "       'Chorister Robin-Chat', 'Southern Double-collared Sunbird',\n",
       "       'White-bellied Sunbird', 'African Pipit', 'African Rock Pipit',\n",
       "       'Cape Bunting'], dtype=object)"
      ]
     },
     "execution_count": 6,
     "metadata": {
      "tags": []
     },
     "output_type": "execute_result"
    }
   ],
   "source": [
    "birds.values"
   ]
  },
  {
   "cell_type": "code",
   "execution_count": 7,
   "metadata": {
    "colab": {
     "base_uri": "https://localhost:8080/",
     "height": 34
    },
    "colab_type": "code",
    "executionInfo": {
     "elapsed": 394,
     "status": "ok",
     "timestamp": 1585670149995,
     "user": {
      "displayName": "jean rochefort",
      "photoUrl": "",
      "userId": "04520792891621341900"
     },
     "user_tz": -120
    },
    "id": "06VVne5LPJ5t",
    "outputId": "4fde20cc-512b-4a6e-fe86-e1ec20791680"
   },
   "outputs": [
    {
     "data": {
      "text/plain": [
       "True"
      ]
     },
     "execution_count": 7,
     "metadata": {
      "tags": []
     },
     "output_type": "execute_result"
    }
   ],
   "source": [
    "# check if ID are alphabetically ordered\n",
    "col_id = list(sub['ID'].values)\n",
    "col_id == sorted(list(sub['ID'].values))"
   ]
  },
  {
   "cell_type": "code",
   "execution_count": 8,
   "metadata": {
    "colab": {
     "base_uri": "https://localhost:8080/",
     "height": 51
    },
    "colab_type": "code",
    "executionInfo": {
     "elapsed": 364,
     "status": "ok",
     "timestamp": 1585670150849,
     "user": {
      "displayName": "jean rochefort",
      "photoUrl": "",
      "userId": "04520792891621341900"
     },
     "user_tz": -120
    },
    "id": "c6XAFSgoMhsj",
    "outputId": "02145f0c-5cf9-4a45-fa18-6b3d5b4d5d7f"
   },
   "outputs": [
    {
     "data": {
      "text/plain": [
       "6    911\n",
       "Name: len, dtype: int64"
      ]
     },
     "execution_count": 8,
     "metadata": {
      "tags": []
     },
     "output_type": "execute_result"
    }
   ],
   "source": [
    "sub['len'] = sub['ID'].apply(lambda x: len(x))\n",
    "sub['len'].value_counts()"
   ]
  },
  {
   "cell_type": "code",
   "execution_count": 9,
   "metadata": {
    "colab": {
     "base_uri": "https://localhost:8080/",
     "height": 34
    },
    "colab_type": "code",
    "executionInfo": {
     "elapsed": 332,
     "status": "ok",
     "timestamp": 1585670151573,
     "user": {
      "displayName": "jean rochefort",
      "photoUrl": "",
      "userId": "04520792891621341900"
     },
     "user_tz": -120
    },
    "id": "UGImuTUfNcCB",
    "outputId": "121f6552-3b3a-403d-c33b-25051779831b"
   },
   "outputs": [
    {
     "data": {
      "text/plain": [
       "40"
      ]
     },
     "execution_count": 9,
     "metadata": {
      "tags": []
     },
     "output_type": "execute_result"
    }
   ],
   "source": [
    "nb_class = len(birds)\n",
    "nb_class"
   ]
  },
  {
   "cell_type": "markdown",
   "metadata": {
    "colab_type": "text",
    "id": "nq9SjpzXyMK_"
   },
   "source": [
    "## The train dataset & images"
   ]
  },
  {
   "cell_type": "code",
   "execution_count": 10,
   "metadata": {
    "colab": {
     "base_uri": "https://localhost:8080/",
     "height": 204
    },
    "colab_type": "code",
    "executionInfo": {
     "elapsed": 730,
     "status": "ok",
     "timestamp": 1585670154217,
     "user": {
      "displayName": "jean rochefort",
      "photoUrl": "",
      "userId": "04520792891621341900"
     },
     "user_tz": -120
    },
    "id": "2gohsgwb5doS",
    "outputId": "bcc460fe-f3b6-4376-ab1a-52869f7b10d6"
   },
   "outputs": [
    {
     "data": {
      "text/html": [
       "<div>\n",
       "<style scoped>\n",
       "    .dataframe tbody tr th:only-of-type {\n",
       "        vertical-align: middle;\n",
       "    }\n",
       "\n",
       "    .dataframe tbody tr th {\n",
       "        vertical-align: top;\n",
       "    }\n",
       "\n",
       "    .dataframe thead th {\n",
       "        text-align: right;\n",
       "    }\n",
       "</style>\n",
       "<table border=\"1\" class=\"dataframe\">\n",
       "  <thead>\n",
       "    <tr style=\"text-align: right;\">\n",
       "      <th></th>\n",
       "      <th>ID</th>\n",
       "      <th>common_name</th>\n",
       "      <th>file_path</th>\n",
       "    </tr>\n",
       "  </thead>\n",
       "  <tbody>\n",
       "    <tr>\n",
       "      <th>0</th>\n",
       "      <td>MBMG2C</td>\n",
       "      <td>Ring-necked Dove</td>\n",
       "      <td>drive/My Drive/zindi/Train/MBMG2C.mp3</td>\n",
       "    </tr>\n",
       "    <tr>\n",
       "      <th>1</th>\n",
       "      <td>K8LJSB</td>\n",
       "      <td>Ring-necked Dove</td>\n",
       "      <td>drive/My Drive/zindi/Train/K8LJSB.mp3</td>\n",
       "    </tr>\n",
       "    <tr>\n",
       "      <th>2</th>\n",
       "      <td>OGD9L6</td>\n",
       "      <td>Ring-necked Dove</td>\n",
       "      <td>drive/My Drive/zindi/Train/OGD9L6.mp3</td>\n",
       "    </tr>\n",
       "    <tr>\n",
       "      <th>3</th>\n",
       "      <td>581PCQ</td>\n",
       "      <td>Ring-necked Dove</td>\n",
       "      <td>drive/My Drive/zindi/Train/581PCQ.mp3</td>\n",
       "    </tr>\n",
       "    <tr>\n",
       "      <th>4</th>\n",
       "      <td>P91M1F</td>\n",
       "      <td>Ring-necked Dove</td>\n",
       "      <td>drive/My Drive/zindi/Train/P91M1F.mp3</td>\n",
       "    </tr>\n",
       "  </tbody>\n",
       "</table>\n",
       "</div>"
      ],
      "text/plain": [
       "       ID       common_name                              file_path\n",
       "0  MBMG2C  Ring-necked Dove  drive/My Drive/zindi/Train/MBMG2C.mp3\n",
       "1  K8LJSB  Ring-necked Dove  drive/My Drive/zindi/Train/K8LJSB.mp3\n",
       "2  OGD9L6  Ring-necked Dove  drive/My Drive/zindi/Train/OGD9L6.mp3\n",
       "3  581PCQ  Ring-necked Dove  drive/My Drive/zindi/Train/581PCQ.mp3\n",
       "4  P91M1F  Ring-necked Dove  drive/My Drive/zindi/Train/P91M1F.mp3"
      ]
     },
     "execution_count": 10,
     "metadata": {
      "tags": []
     },
     "output_type": "execute_result"
    }
   ],
   "source": [
    "# same thing with train\n",
    "train = pd.read_csv(path + 'Train.csv')\n",
    "train['file_path'] = path + 'Train/' + train['ID'] + '.mp3'\n",
    "train.head()"
   ]
  },
  {
   "cell_type": "code",
   "execution_count": 11,
   "metadata": {
    "colab": {
     "base_uri": "https://localhost:8080/",
     "height": 204
    },
    "colab_type": "code",
    "executionInfo": {
     "elapsed": 353,
     "status": "ok",
     "timestamp": 1585670160175,
     "user": {
      "displayName": "jean rochefort",
      "photoUrl": "",
      "userId": "04520792891621341900"
     },
     "user_tz": -120
    },
    "id": "Axa6DrXkR6rj",
    "outputId": "3d8e499b-0a06-4bea-e8f2-afafe18bff0f"
   },
   "outputs": [
    {
     "data": {
      "text/html": [
       "<div>\n",
       "<style scoped>\n",
       "    .dataframe tbody tr th:only-of-type {\n",
       "        vertical-align: middle;\n",
       "    }\n",
       "\n",
       "    .dataframe tbody tr th {\n",
       "        vertical-align: top;\n",
       "    }\n",
       "\n",
       "    .dataframe thead th {\n",
       "        text-align: right;\n",
       "    }\n",
       "</style>\n",
       "<table border=\"1\" class=\"dataframe\">\n",
       "  <thead>\n",
       "    <tr style=\"text-align: right;\">\n",
       "      <th></th>\n",
       "      <th>ID</th>\n",
       "      <th>common_name</th>\n",
       "      <th>file_path</th>\n",
       "    </tr>\n",
       "  </thead>\n",
       "  <tbody>\n",
       "    <tr>\n",
       "      <th>0</th>\n",
       "      <td>MBMG2C</td>\n",
       "      <td>Ring-necked Dove</td>\n",
       "      <td>drive/My Drive/zindi/Spectrograms_1_Train/MBMG...</td>\n",
       "    </tr>\n",
       "    <tr>\n",
       "      <th>1</th>\n",
       "      <td>K8LJSB</td>\n",
       "      <td>Ring-necked Dove</td>\n",
       "      <td>drive/My Drive/zindi/Spectrograms_1_Train/K8LJ...</td>\n",
       "    </tr>\n",
       "    <tr>\n",
       "      <th>2</th>\n",
       "      <td>OGD9L6</td>\n",
       "      <td>Ring-necked Dove</td>\n",
       "      <td>drive/My Drive/zindi/Spectrograms_1_Train/OGD9...</td>\n",
       "    </tr>\n",
       "    <tr>\n",
       "      <th>3</th>\n",
       "      <td>581PCQ</td>\n",
       "      <td>Ring-necked Dove</td>\n",
       "      <td>drive/My Drive/zindi/Spectrograms_1_Train/581P...</td>\n",
       "    </tr>\n",
       "    <tr>\n",
       "      <th>4</th>\n",
       "      <td>P91M1F</td>\n",
       "      <td>Ring-necked Dove</td>\n",
       "      <td>drive/My Drive/zindi/Spectrograms_1_Train/P91M...</td>\n",
       "    </tr>\n",
       "  </tbody>\n",
       "</table>\n",
       "</div>"
      ],
      "text/plain": [
       "       ID       common_name                                          file_path\n",
       "0  MBMG2C  Ring-necked Dove  drive/My Drive/zindi/Spectrograms_1_Train/MBMG...\n",
       "1  K8LJSB  Ring-necked Dove  drive/My Drive/zindi/Spectrograms_1_Train/K8LJ...\n",
       "2  OGD9L6  Ring-necked Dove  drive/My Drive/zindi/Spectrograms_1_Train/OGD9...\n",
       "3  581PCQ  Ring-necked Dove  drive/My Drive/zindi/Spectrograms_1_Train/581P...\n",
       "4  P91M1F  Ring-necked Dove  drive/My Drive/zindi/Spectrograms_1_Train/P91M..."
      ]
     },
     "execution_count": 11,
     "metadata": {
      "tags": []
     },
     "output_type": "execute_result"
    }
   ],
   "source": [
    "train['file_path'] = path + 'Spectrograms_1_Train/' + train['ID'] + '.png'\n",
    "train.head()"
   ]
  },
  {
   "cell_type": "markdown",
   "metadata": {
    "colab_type": "text",
    "id": "DKaC21oSTuDK"
   },
   "source": [
    "# Creation of the train data set"
   ]
  },
  {
   "cell_type": "code",
   "execution_count": 12,
   "metadata": {
    "colab": {
     "base_uri": "https://localhost:8080/",
     "height": 85
    },
    "colab_type": "code",
    "executionInfo": {
     "elapsed": 5467876,
     "status": "ok",
     "timestamp": 1585675678219,
     "user": {
      "displayName": "jean rochefort",
      "photoUrl": "",
      "userId": "04520792891621341900"
     },
     "user_tz": -120
    },
    "id": "VCuKX_K7TqO8",
    "outputId": "c16d34d5-ba12-4f03-ca5d-236a97ebd693"
   },
   "outputs": [
    {
     "name": "stderr",
     "output_type": "stream",
     "text": [
      "/usr/local/lib/python3.6/dist-packages/librosa/core/pitch.py:145: UserWarning: Trying to estimate tuning from empty frequency set.\n",
      "  warnings.warn('Trying to estimate tuning from empty frequency set.')\n",
      "/usr/local/lib/python3.6/dist-packages/librosa/core/pitch.py:145: UserWarning: Trying to estimate tuning from empty frequency set.\n",
      "  warnings.warn('Trying to estimate tuning from empty frequency set.')\n"
     ]
    }
   ],
   "source": [
    "headers = 'filename chroma_stft rmse spectral_centroid spectral_bandwidth rolloff zero_crossing_rate'.split()\n",
    "headers.extend([f' mfcc{i}' for i in range(1, 21)])\n",
    "headers = ','.join(headers) + '\\n'\n",
    "\n",
    "with open('drive/My Drive/zindi/train_other_features.csv', 'w') as f:\n",
    "    f.write(headers)\n",
    "\n",
    "\n",
    "for file_name in os.listdir('drive/My Drive/zindi/Train'):\n",
    "    y, sr = librosa.load('drive/My Drive/zindi/Train/' + file_name) # , mono=True\n",
    "    try:\n",
    "        chroma_stft = librosa.feature.chroma_stft(y=y, sr=sr)\n",
    "        rmse = librosa.feature.rms(y=y)\n",
    "        spec_cent = librosa.feature.spectral_centroid(y=y, sr=sr)\n",
    "        spec_bw = librosa.feature.spectral_bandwidth(y=y, sr=sr)\n",
    "        rolloff = librosa.feature.spectral_rolloff(y=y, sr=sr)\n",
    "        zcr = librosa.feature.zero_crossing_rate(y)\n",
    "        mfcc = librosa.feature.mfcc(y=y, sr=sr)\n",
    "    except:\n",
    "        print(f'problem to extract features for file: {file_name}')\n",
    "    new_line = f'{file_name} {np.mean(chroma_stft)} {np.mean(rmse)} {np.mean(spec_cent)} {np.mean(spec_bw)} {np.mean(rolloff)} {np.mean(zcr)}'    \n",
    "    for e in mfcc:\n",
    "        new_line += f' {np.mean(e)}'\n",
    "    new_line = new_line.replace(' ', ',') + '\\n'\n",
    "    with open('drive/My Drive/zindi/train_other_features.csv', 'a') as f:\n",
    "        f.write(new_line)"
   ]
  },
  {
   "cell_type": "code",
   "execution_count": 14,
   "metadata": {
    "colab": {
     "base_uri": "https://localhost:8080/",
     "height": 309
    },
    "colab_type": "code",
    "executionInfo": {
     "elapsed": 810,
     "status": "ok",
     "timestamp": 1585677256748,
     "user": {
      "displayName": "jean rochefort",
      "photoUrl": "",
      "userId": "04520792891621341900"
     },
     "user_tz": -120
    },
    "id": "Guj4q3G9bl_C",
    "outputId": "ff6a7b71-8250-4a91-b840-a2c8cf532584"
   },
   "outputs": [
    {
     "data": {
      "text/html": [
       "<div>\n",
       "<style scoped>\n",
       "    .dataframe tbody tr th:only-of-type {\n",
       "        vertical-align: middle;\n",
       "    }\n",
       "\n",
       "    .dataframe tbody tr th {\n",
       "        vertical-align: top;\n",
       "    }\n",
       "\n",
       "    .dataframe thead th {\n",
       "        text-align: right;\n",
       "    }\n",
       "</style>\n",
       "<table border=\"1\" class=\"dataframe\">\n",
       "  <thead>\n",
       "    <tr style=\"text-align: right;\">\n",
       "      <th></th>\n",
       "      <th>chroma_stft</th>\n",
       "      <th>rmse</th>\n",
       "      <th>spectral_centroid</th>\n",
       "      <th>spectral_bandwidth</th>\n",
       "      <th>rolloff</th>\n",
       "      <th>zero_crossing_rate</th>\n",
       "      <th>mfcc1</th>\n",
       "      <th>mfcc2</th>\n",
       "      <th>mfcc3</th>\n",
       "      <th>mfcc4</th>\n",
       "      <th>mfcc5</th>\n",
       "      <th>mfcc6</th>\n",
       "      <th>mfcc7</th>\n",
       "      <th>mfcc8</th>\n",
       "      <th>mfcc9</th>\n",
       "      <th>mfcc10</th>\n",
       "      <th>mfcc11</th>\n",
       "      <th>mfcc12</th>\n",
       "      <th>mfcc13</th>\n",
       "      <th>mfcc14</th>\n",
       "      <th>mfcc15</th>\n",
       "      <th>mfcc16</th>\n",
       "      <th>mfcc17</th>\n",
       "      <th>mfcc18</th>\n",
       "      <th>mfcc19</th>\n",
       "      <th>mfcc20</th>\n",
       "      <th>common_name</th>\n",
       "    </tr>\n",
       "  </thead>\n",
       "  <tbody>\n",
       "    <tr>\n",
       "      <th>0</th>\n",
       "      <td>0.481558</td>\n",
       "      <td>0.014304</td>\n",
       "      <td>2813.813080</td>\n",
       "      <td>2711.237011</td>\n",
       "      <td>5913.258499</td>\n",
       "      <td>0.148155</td>\n",
       "      <td>-319.529041</td>\n",
       "      <td>72.292708</td>\n",
       "      <td>14.862157</td>\n",
       "      <td>32.460908</td>\n",
       "      <td>-12.969841</td>\n",
       "      <td>-15.898284</td>\n",
       "      <td>-15.586416</td>\n",
       "      <td>-13.956589</td>\n",
       "      <td>-18.368180</td>\n",
       "      <td>-11.084914</td>\n",
       "      <td>-16.270154</td>\n",
       "      <td>-6.809838</td>\n",
       "      <td>-13.204864</td>\n",
       "      <td>-4.956509</td>\n",
       "      <td>-7.851389</td>\n",
       "      <td>-4.269312</td>\n",
       "      <td>-9.225667</td>\n",
       "      <td>-1.159027</td>\n",
       "      <td>-8.369622</td>\n",
       "      <td>-3.497214</td>\n",
       "      <td>Sombre Greenbul</td>\n",
       "    </tr>\n",
       "    <tr>\n",
       "      <th>1</th>\n",
       "      <td>0.281237</td>\n",
       "      <td>0.101893</td>\n",
       "      <td>4987.553879</td>\n",
       "      <td>1755.854626</td>\n",
       "      <td>6302.180695</td>\n",
       "      <td>0.456716</td>\n",
       "      <td>-190.536584</td>\n",
       "      <td>-12.816435</td>\n",
       "      <td>17.682109</td>\n",
       "      <td>28.118785</td>\n",
       "      <td>-44.390018</td>\n",
       "      <td>41.692232</td>\n",
       "      <td>-39.699796</td>\n",
       "      <td>14.915158</td>\n",
       "      <td>-1.940447</td>\n",
       "      <td>-18.581102</td>\n",
       "      <td>5.559155</td>\n",
       "      <td>-10.620004</td>\n",
       "      <td>-11.066929</td>\n",
       "      <td>-5.022316</td>\n",
       "      <td>-17.744583</td>\n",
       "      <td>0.533043</td>\n",
       "      <td>-14.171363</td>\n",
       "      <td>-3.831862</td>\n",
       "      <td>-8.337654</td>\n",
       "      <td>-3.116458</td>\n",
       "      <td>Fork-tailed Drongo</td>\n",
       "    </tr>\n",
       "    <tr>\n",
       "      <th>2</th>\n",
       "      <td>0.316430</td>\n",
       "      <td>0.016173</td>\n",
       "      <td>4284.497724</td>\n",
       "      <td>1611.593584</td>\n",
       "      <td>5624.660810</td>\n",
       "      <td>0.389774</td>\n",
       "      <td>-438.200421</td>\n",
       "      <td>-82.139249</td>\n",
       "      <td>-110.736678</td>\n",
       "      <td>43.904056</td>\n",
       "      <td>-21.163486</td>\n",
       "      <td>28.067891</td>\n",
       "      <td>-15.173169</td>\n",
       "      <td>-6.959926</td>\n",
       "      <td>-3.034636</td>\n",
       "      <td>-12.806958</td>\n",
       "      <td>2.125802</td>\n",
       "      <td>-10.244592</td>\n",
       "      <td>-0.855434</td>\n",
       "      <td>5.938562</td>\n",
       "      <td>-2.765048</td>\n",
       "      <td>5.807921</td>\n",
       "      <td>-6.377669</td>\n",
       "      <td>2.168181</td>\n",
       "      <td>-3.377103</td>\n",
       "      <td>-2.026902</td>\n",
       "      <td>Karoo Prinia</td>\n",
       "    </tr>\n",
       "    <tr>\n",
       "      <th>3</th>\n",
       "      <td>0.581339</td>\n",
       "      <td>0.028113</td>\n",
       "      <td>4123.560689</td>\n",
       "      <td>3374.205178</td>\n",
       "      <td>8087.157041</td>\n",
       "      <td>0.286957</td>\n",
       "      <td>-218.029774</td>\n",
       "      <td>63.711802</td>\n",
       "      <td>30.848129</td>\n",
       "      <td>3.262415</td>\n",
       "      <td>23.343046</td>\n",
       "      <td>4.093092</td>\n",
       "      <td>2.690266</td>\n",
       "      <td>30.256911</td>\n",
       "      <td>-20.380495</td>\n",
       "      <td>30.123023</td>\n",
       "      <td>-12.900337</td>\n",
       "      <td>12.211247</td>\n",
       "      <td>-3.389328</td>\n",
       "      <td>0.311240</td>\n",
       "      <td>-2.642381</td>\n",
       "      <td>-0.538888</td>\n",
       "      <td>-4.574622</td>\n",
       "      <td>-1.847099</td>\n",
       "      <td>-6.776262</td>\n",
       "      <td>-0.643363</td>\n",
       "      <td>Sombre Greenbul</td>\n",
       "    </tr>\n",
       "    <tr>\n",
       "      <th>4</th>\n",
       "      <td>0.474624</td>\n",
       "      <td>0.013756</td>\n",
       "      <td>2028.850556</td>\n",
       "      <td>2360.227108</td>\n",
       "      <td>4080.911505</td>\n",
       "      <td>0.093436</td>\n",
       "      <td>-407.077717</td>\n",
       "      <td>77.558757</td>\n",
       "      <td>-3.754847</td>\n",
       "      <td>40.676203</td>\n",
       "      <td>22.529827</td>\n",
       "      <td>13.422598</td>\n",
       "      <td>14.427485</td>\n",
       "      <td>27.536358</td>\n",
       "      <td>13.470498</td>\n",
       "      <td>8.572629</td>\n",
       "      <td>16.235137</td>\n",
       "      <td>13.540927</td>\n",
       "      <td>1.560348</td>\n",
       "      <td>5.168728</td>\n",
       "      <td>8.523573</td>\n",
       "      <td>3.967189</td>\n",
       "      <td>-2.527771</td>\n",
       "      <td>6.102171</td>\n",
       "      <td>0.563315</td>\n",
       "      <td>-1.856384</td>\n",
       "      <td>Orange-breasted Bushshrike</td>\n",
       "    </tr>\n",
       "  </tbody>\n",
       "</table>\n",
       "</div>"
      ],
      "text/plain": [
       "   chroma_stft      rmse  ...    mfcc20                 common_name\n",
       "0     0.481558  0.014304  ... -3.497214             Sombre Greenbul\n",
       "1     0.281237  0.101893  ... -3.116458          Fork-tailed Drongo\n",
       "2     0.316430  0.016173  ... -2.026902                Karoo Prinia\n",
       "3     0.581339  0.028113  ... -0.643363             Sombre Greenbul\n",
       "4     0.474624  0.013756  ... -1.856384  Orange-breasted Bushshrike\n",
       "\n",
       "[5 rows x 27 columns]"
      ]
     },
     "execution_count": 14,
     "metadata": {
      "tags": []
     },
     "output_type": "execute_result"
    }
   ],
   "source": [
    "df = pd.read_csv('drive/My Drive/zindi/train_other_features.csv')\n",
    "df['ID'] = df['filename'].apply(lambda x: x[:-4])\n",
    "df = df.join(train.set_index('ID'), on='ID')\n",
    "df = df.drop(columns=['filename', 'ID',\t'file_path'])\n",
    "df.head()"
   ]
  },
  {
   "cell_type": "code",
   "execution_count": 0,
   "metadata": {
    "colab": {},
    "colab_type": "code",
    "id": "HCdmKqy3R6mU"
   },
   "outputs": [],
   "source": [
    "https://github.com/parulnith/Music-Genre-Classification-with-Python/blob/master/Music_genre_classification.ipynb"
   ]
  },
  {
   "cell_type": "code",
   "execution_count": 15,
   "metadata": {
    "colab": {
     "base_uri": "https://localhost:8080/",
     "height": 34
    },
    "colab_type": "code",
    "executionInfo": {
     "elapsed": 1010,
     "status": "ok",
     "timestamp": 1585677260732,
     "user": {
      "displayName": "jean rochefort",
      "photoUrl": "",
      "userId": "04520792891621341900"
     },
     "user_tz": -120
    },
    "id": "sYW-R1qvR6iO",
    "outputId": "b3385b7d-d726-4e76-b0fe-c06f0ba882e9"
   },
   "outputs": [
    {
     "data": {
      "text/plain": [
       "(1857, 27)"
      ]
     },
     "execution_count": 15,
     "metadata": {
      "tags": []
     },
     "output_type": "execute_result"
    }
   ],
   "source": [
    "df.shape"
   ]
  },
  {
   "cell_type": "markdown",
   "metadata": {
    "colab_type": "text",
    "id": "m2uD_CKsT5PR"
   },
   "source": [
    "# Creation of the test data set"
   ]
  },
  {
   "cell_type": "code",
   "execution_count": 0,
   "metadata": {
    "colab": {
     "base_uri": "https://localhost:8080/",
     "height": 85
    },
    "colab_type": "code",
    "executionInfo": {
     "elapsed": 2723859,
     "status": "ok",
     "timestamp": 1585506300760,
     "user": {
      "displayName": "jean rochefort",
      "photoUrl": "",
      "userId": "04520792891621341900"
     },
     "user_tz": -120
    },
    "id": "q6f4zefIR6ea",
    "outputId": "4c588949-19a6-4cac-bb46-5ac9455d3ec5"
   },
   "outputs": [
    {
     "name": "stderr",
     "output_type": "stream",
     "text": [
      "/usr/local/lib/python3.6/dist-packages/librosa/core/pitch.py:145: UserWarning: Trying to estimate tuning from empty frequency set.\n",
      "  warnings.warn('Trying to estimate tuning from empty frequency set.')\n",
      "/usr/local/lib/python3.6/dist-packages/librosa/core/pitch.py:145: UserWarning: Trying to estimate tuning from empty frequency set.\n",
      "  warnings.warn('Trying to estimate tuning from empty frequency set.')\n"
     ]
    }
   ],
   "source": [
    "headers = 'filename chroma_stft rmse spectral_centroid spectral_bandwidth rolloff zero_crossing_rate'.split()\n",
    "headers.extend([f' mfcc{i}' for i in range(1, 21)])\n",
    "headers = ','.join(headers) + '\\n'\n",
    "\n",
    "with open('drive/My Drive/zindi/test_other_features.csv', 'w') as f:\n",
    "    f.write(headers)\n",
    "\n",
    "with open('drive/My Drive/zindi/test_other_features.csv', 'a') as f:\n",
    "    for file_name in os.listdir('drive/My Drive/zindi/Test'):\n",
    "        y, sr = librosa.load('drive/My Drive/zindi/Test/' + file_name) # , mono=True\n",
    "        try:\n",
    "            chroma_stft = librosa.feature.chroma_stft(y=y, sr=sr)\n",
    "            rmse = librosa.feature.rms(y=y)\n",
    "            spec_cent = librosa.feature.spectral_centroid(y=y, sr=sr)\n",
    "            spec_bw = librosa.feature.spectral_bandwidth(y=y, sr=sr)\n",
    "            rolloff = librosa.feature.spectral_rolloff(y=y, sr=sr)\n",
    "            zcr = librosa.feature.zero_crossing_rate(y)\n",
    "            mfcc = librosa.feature.mfcc(y=y, sr=sr)\n",
    "        except:\n",
    "            print(f'problem to extract features for file: {file_name}')\n",
    "        new_line = f'{file_name} {np.mean(chroma_stft)} {np.mean(rmse)} {np.mean(spec_cent)} {np.mean(spec_bw)} {np.mean(rolloff)} {np.mean(zcr)}'    \n",
    "        for e in mfcc:\n",
    "            new_line += f' {np.mean(e)}'\n",
    "        new_line = new_line.replace(' ', ',') + '\\n'\n",
    "        f.write(new_line)"
   ]
  },
  {
   "cell_type": "code",
   "execution_count": 16,
   "metadata": {
    "colab": {
     "base_uri": "https://localhost:8080/",
     "height": 224
    },
    "colab_type": "code",
    "executionInfo": {
     "elapsed": 933,
     "status": "ok",
     "timestamp": 1585677288958,
     "user": {
      "displayName": "jean rochefort",
      "photoUrl": "",
      "userId": "04520792891621341900"
     },
     "user_tz": -120
    },
    "id": "KSBVmr-eRe2f",
    "outputId": "1a8e920a-c473-491e-d543-06b6b05c349c"
   },
   "outputs": [
    {
     "data": {
      "text/html": [
       "<div>\n",
       "<style scoped>\n",
       "    .dataframe tbody tr th:only-of-type {\n",
       "        vertical-align: middle;\n",
       "    }\n",
       "\n",
       "    .dataframe tbody tr th {\n",
       "        vertical-align: top;\n",
       "    }\n",
       "\n",
       "    .dataframe thead th {\n",
       "        text-align: right;\n",
       "    }\n",
       "</style>\n",
       "<table border=\"1\" class=\"dataframe\">\n",
       "  <thead>\n",
       "    <tr style=\"text-align: right;\">\n",
       "      <th></th>\n",
       "      <th>ID</th>\n",
       "      <th>chroma_stft</th>\n",
       "      <th>rmse</th>\n",
       "      <th>spectral_centroid</th>\n",
       "      <th>spectral_bandwidth</th>\n",
       "      <th>rolloff</th>\n",
       "      <th>zero_crossing_rate</th>\n",
       "      <th>mfcc1</th>\n",
       "      <th>mfcc2</th>\n",
       "      <th>mfcc3</th>\n",
       "      <th>mfcc4</th>\n",
       "      <th>mfcc5</th>\n",
       "      <th>mfcc6</th>\n",
       "      <th>mfcc7</th>\n",
       "      <th>mfcc8</th>\n",
       "      <th>mfcc9</th>\n",
       "      <th>mfcc10</th>\n",
       "      <th>mfcc11</th>\n",
       "      <th>mfcc12</th>\n",
       "      <th>mfcc13</th>\n",
       "      <th>mfcc14</th>\n",
       "      <th>mfcc15</th>\n",
       "      <th>mfcc16</th>\n",
       "      <th>mfcc17</th>\n",
       "      <th>mfcc18</th>\n",
       "      <th>mfcc19</th>\n",
       "      <th>mfcc20</th>\n",
       "    </tr>\n",
       "  </thead>\n",
       "  <tbody>\n",
       "    <tr>\n",
       "      <th>0</th>\n",
       "      <td>019OYB</td>\n",
       "      <td>0.313510</td>\n",
       "      <td>0.008095</td>\n",
       "      <td>3411.380109</td>\n",
       "      <td>2451.747710</td>\n",
       "      <td>6132.731059</td>\n",
       "      <td>0.248263</td>\n",
       "      <td>-501.327069</td>\n",
       "      <td>32.109317</td>\n",
       "      <td>-38.798032</td>\n",
       "      <td>-7.169688</td>\n",
       "      <td>5.442865</td>\n",
       "      <td>14.384776</td>\n",
       "      <td>-12.949904</td>\n",
       "      <td>-12.496355</td>\n",
       "      <td>5.421788</td>\n",
       "      <td>-2.466916</td>\n",
       "      <td>-6.234134</td>\n",
       "      <td>-0.505081</td>\n",
       "      <td>-2.492379</td>\n",
       "      <td>7.884158</td>\n",
       "      <td>-10.326314</td>\n",
       "      <td>-7.142869</td>\n",
       "      <td>-0.421185</td>\n",
       "      <td>-10.064852</td>\n",
       "      <td>-10.543456</td>\n",
       "      <td>-0.983980</td>\n",
       "    </tr>\n",
       "    <tr>\n",
       "      <th>1</th>\n",
       "      <td>01S9OX</td>\n",
       "      <td>0.534741</td>\n",
       "      <td>0.006644</td>\n",
       "      <td>2136.448904</td>\n",
       "      <td>2230.428352</td>\n",
       "      <td>4022.811811</td>\n",
       "      <td>0.128201</td>\n",
       "      <td>-390.104404</td>\n",
       "      <td>108.967341</td>\n",
       "      <td>-19.471324</td>\n",
       "      <td>-8.184451</td>\n",
       "      <td>-10.650116</td>\n",
       "      <td>-4.773568</td>\n",
       "      <td>-4.982807</td>\n",
       "      <td>3.225590</td>\n",
       "      <td>-9.871317</td>\n",
       "      <td>-4.571195</td>\n",
       "      <td>-8.569492</td>\n",
       "      <td>-0.337286</td>\n",
       "      <td>-5.173132</td>\n",
       "      <td>-1.638916</td>\n",
       "      <td>-3.492512</td>\n",
       "      <td>0.817993</td>\n",
       "      <td>-6.118737</td>\n",
       "      <td>0.436864</td>\n",
       "      <td>-1.589846</td>\n",
       "      <td>1.731289</td>\n",
       "    </tr>\n",
       "    <tr>\n",
       "      <th>2</th>\n",
       "      <td>02CS12</td>\n",
       "      <td>0.753536</td>\n",
       "      <td>0.009483</td>\n",
       "      <td>1285.031734</td>\n",
       "      <td>2393.041677</td>\n",
       "      <td>3032.536256</td>\n",
       "      <td>0.026788</td>\n",
       "      <td>-477.035785</td>\n",
       "      <td>101.181484</td>\n",
       "      <td>34.049179</td>\n",
       "      <td>35.127273</td>\n",
       "      <td>20.001914</td>\n",
       "      <td>18.402255</td>\n",
       "      <td>11.514492</td>\n",
       "      <td>15.610092</td>\n",
       "      <td>5.725882</td>\n",
       "      <td>11.621233</td>\n",
       "      <td>4.790286</td>\n",
       "      <td>9.676952</td>\n",
       "      <td>3.255548</td>\n",
       "      <td>7.757688</td>\n",
       "      <td>1.502075</td>\n",
       "      <td>6.890717</td>\n",
       "      <td>1.057512</td>\n",
       "      <td>6.243687</td>\n",
       "      <td>0.394042</td>\n",
       "      <td>5.527093</td>\n",
       "    </tr>\n",
       "    <tr>\n",
       "      <th>3</th>\n",
       "      <td>02LM3W</td>\n",
       "      <td>0.395092</td>\n",
       "      <td>0.027995</td>\n",
       "      <td>1985.356364</td>\n",
       "      <td>2042.408718</td>\n",
       "      <td>3669.857396</td>\n",
       "      <td>0.097758</td>\n",
       "      <td>-328.783845</td>\n",
       "      <td>91.410286</td>\n",
       "      <td>-26.072201</td>\n",
       "      <td>19.434099</td>\n",
       "      <td>-8.146481</td>\n",
       "      <td>-2.406203</td>\n",
       "      <td>-2.757944</td>\n",
       "      <td>20.768118</td>\n",
       "      <td>25.052868</td>\n",
       "      <td>29.376524</td>\n",
       "      <td>-2.162842</td>\n",
       "      <td>-0.522631</td>\n",
       "      <td>7.260789</td>\n",
       "      <td>17.411985</td>\n",
       "      <td>9.800333</td>\n",
       "      <td>6.916292</td>\n",
       "      <td>4.018382</td>\n",
       "      <td>6.274621</td>\n",
       "      <td>-3.448071</td>\n",
       "      <td>-4.713149</td>\n",
       "    </tr>\n",
       "    <tr>\n",
       "      <th>4</th>\n",
       "      <td>0C3A2V</td>\n",
       "      <td>0.386995</td>\n",
       "      <td>0.007158</td>\n",
       "      <td>2931.958573</td>\n",
       "      <td>2018.733095</td>\n",
       "      <td>4829.411958</td>\n",
       "      <td>0.244541</td>\n",
       "      <td>-366.934113</td>\n",
       "      <td>65.804678</td>\n",
       "      <td>-55.437294</td>\n",
       "      <td>5.806266</td>\n",
       "      <td>-44.263203</td>\n",
       "      <td>-18.366936</td>\n",
       "      <td>-35.448660</td>\n",
       "      <td>0.285588</td>\n",
       "      <td>-20.968330</td>\n",
       "      <td>-19.590870</td>\n",
       "      <td>-8.078673</td>\n",
       "      <td>-6.148230</td>\n",
       "      <td>-20.775619</td>\n",
       "      <td>-9.204046</td>\n",
       "      <td>-15.225978</td>\n",
       "      <td>-7.482268</td>\n",
       "      <td>-8.557184</td>\n",
       "      <td>-7.137101</td>\n",
       "      <td>-7.499523</td>\n",
       "      <td>-1.098366</td>\n",
       "    </tr>\n",
       "  </tbody>\n",
       "</table>\n",
       "</div>"
      ],
      "text/plain": [
       "       ID  chroma_stft      rmse  ...     mfcc18     mfcc19    mfcc20\n",
       "0  019OYB     0.313510  0.008095  ... -10.064852 -10.543456 -0.983980\n",
       "1  01S9OX     0.534741  0.006644  ...   0.436864  -1.589846  1.731289\n",
       "2  02CS12     0.753536  0.009483  ...   6.243687   0.394042  5.527093\n",
       "3  02LM3W     0.395092  0.027995  ...   6.274621  -3.448071 -4.713149\n",
       "4  0C3A2V     0.386995  0.007158  ...  -7.137101  -7.499523 -1.098366\n",
       "\n",
       "[5 rows x 27 columns]"
      ]
     },
     "execution_count": 16,
     "metadata": {
      "tags": []
     },
     "output_type": "execute_result"
    }
   ],
   "source": [
    "df_test = pd.read_csv('drive/My Drive/zindi/test_other_features.csv')\n",
    "df_test['ID'] = df_test['filename'].apply(lambda x: x[:-4])\n",
    "df_test = pd.DataFrame(sub['ID']).join(df_test.set_index('ID'), on='ID')\n",
    "df_test = df_test.drop(columns=['filename'])\n",
    "df_test.head()"
   ]
  },
  {
   "cell_type": "code",
   "execution_count": 17,
   "metadata": {
    "colab": {
     "base_uri": "https://localhost:8080/",
     "height": 34
    },
    "colab_type": "code",
    "executionInfo": {
     "elapsed": 394,
     "status": "ok",
     "timestamp": 1585677290987,
     "user": {
      "displayName": "jean rochefort",
      "photoUrl": "",
      "userId": "04520792891621341900"
     },
     "user_tz": -120
    },
    "id": "K6WqvEZgVBdc",
    "outputId": "3fce08c4-4341-4a40-d8ae-ffae7f8a53e0"
   },
   "outputs": [
    {
     "data": {
      "text/plain": [
       "(911, 27)"
      ]
     },
     "execution_count": 17,
     "metadata": {
      "tags": []
     },
     "output_type": "execute_result"
    }
   ],
   "source": [
    "df_test.shape"
   ]
  },
  {
   "cell_type": "markdown",
   "metadata": {
    "colab_type": "text",
    "id": "qZik-B36tPyJ"
   },
   "source": [
    "# Exploratory Data Analysis"
   ]
  },
  {
   "cell_type": "code",
   "execution_count": 18,
   "metadata": {
    "colab": {
     "base_uri": "https://localhost:8080/",
     "height": 317
    },
    "colab_type": "code",
    "executionInfo": {
     "elapsed": 419,
     "status": "ok",
     "timestamp": 1585677293530,
     "user": {
      "displayName": "jean rochefort",
      "photoUrl": "",
      "userId": "04520792891621341900"
     },
     "user_tz": -120
    },
    "id": "8YNh5JNIVBah",
    "outputId": "19983dc5-e7c7-4db9-aff8-ca49cc566608"
   },
   "outputs": [
    {
     "data": {
      "text/html": [
       "<div>\n",
       "<style scoped>\n",
       "    .dataframe tbody tr th:only-of-type {\n",
       "        vertical-align: middle;\n",
       "    }\n",
       "\n",
       "    .dataframe tbody tr th {\n",
       "        vertical-align: top;\n",
       "    }\n",
       "\n",
       "    .dataframe thead th {\n",
       "        text-align: right;\n",
       "    }\n",
       "</style>\n",
       "<table border=\"1\" class=\"dataframe\">\n",
       "  <thead>\n",
       "    <tr style=\"text-align: right;\">\n",
       "      <th></th>\n",
       "      <th>chroma_stft</th>\n",
       "      <th>rmse</th>\n",
       "      <th>spectral_centroid</th>\n",
       "      <th>spectral_bandwidth</th>\n",
       "      <th>rolloff</th>\n",
       "      <th>zero_crossing_rate</th>\n",
       "      <th>mfcc1</th>\n",
       "      <th>mfcc2</th>\n",
       "      <th>mfcc3</th>\n",
       "      <th>mfcc4</th>\n",
       "      <th>mfcc5</th>\n",
       "      <th>mfcc6</th>\n",
       "      <th>mfcc7</th>\n",
       "      <th>mfcc8</th>\n",
       "      <th>mfcc9</th>\n",
       "      <th>mfcc10</th>\n",
       "      <th>mfcc11</th>\n",
       "      <th>mfcc12</th>\n",
       "      <th>mfcc13</th>\n",
       "      <th>mfcc14</th>\n",
       "      <th>mfcc15</th>\n",
       "      <th>mfcc16</th>\n",
       "      <th>mfcc17</th>\n",
       "      <th>mfcc18</th>\n",
       "      <th>mfcc19</th>\n",
       "      <th>mfcc20</th>\n",
       "    </tr>\n",
       "  </thead>\n",
       "  <tbody>\n",
       "    <tr>\n",
       "      <th>count</th>\n",
       "      <td>1857.000000</td>\n",
       "      <td>1857.000000</td>\n",
       "      <td>1857.000000</td>\n",
       "      <td>1857.000000</td>\n",
       "      <td>1857.000000</td>\n",
       "      <td>1857.000000</td>\n",
       "      <td>1857.000000</td>\n",
       "      <td>1857.000000</td>\n",
       "      <td>1857.000000</td>\n",
       "      <td>1857.000000</td>\n",
       "      <td>1857.000000</td>\n",
       "      <td>1857.000000</td>\n",
       "      <td>1857.000000</td>\n",
       "      <td>1857.000000</td>\n",
       "      <td>1857.000000</td>\n",
       "      <td>1857.000000</td>\n",
       "      <td>1857.000000</td>\n",
       "      <td>1857.000000</td>\n",
       "      <td>1857.000000</td>\n",
       "      <td>1857.000000</td>\n",
       "      <td>1857.000000</td>\n",
       "      <td>1857.000000</td>\n",
       "      <td>1857.000000</td>\n",
       "      <td>1857.000000</td>\n",
       "      <td>1857.000000</td>\n",
       "      <td>1857.000000</td>\n",
       "    </tr>\n",
       "    <tr>\n",
       "      <th>mean</th>\n",
       "      <td>0.446200</td>\n",
       "      <td>0.028981</td>\n",
       "      <td>3336.091313</td>\n",
       "      <td>2210.269334</td>\n",
       "      <td>5604.644841</td>\n",
       "      <td>0.249062</td>\n",
       "      <td>-364.508322</td>\n",
       "      <td>29.039583</td>\n",
       "      <td>-39.311099</td>\n",
       "      <td>13.145904</td>\n",
       "      <td>-10.657878</td>\n",
       "      <td>2.937985</td>\n",
       "      <td>-3.988720</td>\n",
       "      <td>3.064352</td>\n",
       "      <td>-5.277999</td>\n",
       "      <td>1.951272</td>\n",
       "      <td>-3.719950</td>\n",
       "      <td>-0.300779</td>\n",
       "      <td>-3.963940</td>\n",
       "      <td>2.035230</td>\n",
       "      <td>-2.219999</td>\n",
       "      <td>0.627754</td>\n",
       "      <td>-2.555254</td>\n",
       "      <td>0.810032</td>\n",
       "      <td>-3.174046</td>\n",
       "      <td>0.927965</td>\n",
       "    </tr>\n",
       "    <tr>\n",
       "      <th>std</th>\n",
       "      <td>0.113051</td>\n",
       "      <td>0.029997</td>\n",
       "      <td>965.577129</td>\n",
       "      <td>469.694917</td>\n",
       "      <td>1481.359192</td>\n",
       "      <td>0.105917</td>\n",
       "      <td>100.692883</td>\n",
       "      <td>56.669984</td>\n",
       "      <td>41.563428</td>\n",
       "      <td>27.456821</td>\n",
       "      <td>20.475802</td>\n",
       "      <td>16.496901</td>\n",
       "      <td>13.887812</td>\n",
       "      <td>12.506400</td>\n",
       "      <td>10.803153</td>\n",
       "      <td>9.829344</td>\n",
       "      <td>8.271505</td>\n",
       "      <td>7.979139</td>\n",
       "      <td>6.658157</td>\n",
       "      <td>6.226892</td>\n",
       "      <td>6.182349</td>\n",
       "      <td>5.391375</td>\n",
       "      <td>5.278487</td>\n",
       "      <td>4.570138</td>\n",
       "      <td>4.434346</td>\n",
       "      <td>4.238973</td>\n",
       "    </tr>\n",
       "    <tr>\n",
       "      <th>min</th>\n",
       "      <td>0.139431</td>\n",
       "      <td>0.000210</td>\n",
       "      <td>434.095351</td>\n",
       "      <td>446.841006</td>\n",
       "      <td>462.032975</td>\n",
       "      <td>0.007997</td>\n",
       "      <td>-936.224548</td>\n",
       "      <td>-273.446501</td>\n",
       "      <td>-188.364144</td>\n",
       "      <td>-127.434631</td>\n",
       "      <td>-106.113715</td>\n",
       "      <td>-57.886672</td>\n",
       "      <td>-70.236958</td>\n",
       "      <td>-45.060977</td>\n",
       "      <td>-53.465832</td>\n",
       "      <td>-39.759810</td>\n",
       "      <td>-49.033050</td>\n",
       "      <td>-32.163299</td>\n",
       "      <td>-42.969416</td>\n",
       "      <td>-21.127237</td>\n",
       "      <td>-24.767287</td>\n",
       "      <td>-25.471631</td>\n",
       "      <td>-21.831622</td>\n",
       "      <td>-17.308499</td>\n",
       "      <td>-24.751762</td>\n",
       "      <td>-21.746538</td>\n",
       "    </tr>\n",
       "    <tr>\n",
       "      <th>25%</th>\n",
       "      <td>0.360854</td>\n",
       "      <td>0.011196</td>\n",
       "      <td>2676.971521</td>\n",
       "      <td>1903.373993</td>\n",
       "      <td>4660.834058</td>\n",
       "      <td>0.172650</td>\n",
       "      <td>-426.577657</td>\n",
       "      <td>-5.985399</td>\n",
       "      <td>-70.072698</td>\n",
       "      <td>-2.102970</td>\n",
       "      <td>-23.619645</td>\n",
       "      <td>-7.856992</td>\n",
       "      <td>-12.889759</td>\n",
       "      <td>-5.412282</td>\n",
       "      <td>-12.443433</td>\n",
       "      <td>-4.720947</td>\n",
       "      <td>-9.145751</td>\n",
       "      <td>-5.336441</td>\n",
       "      <td>-8.192145</td>\n",
       "      <td>-2.092352</td>\n",
       "      <td>-5.888004</td>\n",
       "      <td>-2.843542</td>\n",
       "      <td>-5.968502</td>\n",
       "      <td>-1.903212</td>\n",
       "      <td>-5.961847</td>\n",
       "      <td>-1.856384</td>\n",
       "    </tr>\n",
       "    <tr>\n",
       "      <th>50%</th>\n",
       "      <td>0.442416</td>\n",
       "      <td>0.019961</td>\n",
       "      <td>3363.460120</td>\n",
       "      <td>2234.846319</td>\n",
       "      <td>5686.850487</td>\n",
       "      <td>0.251975</td>\n",
       "      <td>-366.845270</td>\n",
       "      <td>34.805178</td>\n",
       "      <td>-36.642340</td>\n",
       "      <td>14.893194</td>\n",
       "      <td>-10.388204</td>\n",
       "      <td>3.016748</td>\n",
       "      <td>-4.063000</td>\n",
       "      <td>2.525932</td>\n",
       "      <td>-5.108847</td>\n",
       "      <td>1.649623</td>\n",
       "      <td>-3.948860</td>\n",
       "      <td>-0.474406</td>\n",
       "      <td>-3.740847</td>\n",
       "      <td>2.085774</td>\n",
       "      <td>-2.405760</td>\n",
       "      <td>0.972302</td>\n",
       "      <td>-2.532651</td>\n",
       "      <td>1.046603</td>\n",
       "      <td>-3.191599</td>\n",
       "      <td>1.108129</td>\n",
       "    </tr>\n",
       "    <tr>\n",
       "      <th>75%</th>\n",
       "      <td>0.523261</td>\n",
       "      <td>0.035709</td>\n",
       "      <td>3974.441235</td>\n",
       "      <td>2543.761032</td>\n",
       "      <td>6656.820972</td>\n",
       "      <td>0.316990</td>\n",
       "      <td>-301.433617</td>\n",
       "      <td>67.054467</td>\n",
       "      <td>-8.971238</td>\n",
       "      <td>30.113618</td>\n",
       "      <td>2.913480</td>\n",
       "      <td>13.321520</td>\n",
       "      <td>5.380051</td>\n",
       "      <td>11.479679</td>\n",
       "      <td>1.898378</td>\n",
       "      <td>8.050035</td>\n",
       "      <td>1.703910</td>\n",
       "      <td>4.524594</td>\n",
       "      <td>0.454197</td>\n",
       "      <td>5.851556</td>\n",
       "      <td>1.392756</td>\n",
       "      <td>4.050149</td>\n",
       "      <td>0.557871</td>\n",
       "      <td>3.633971</td>\n",
       "      <td>-0.576875</td>\n",
       "      <td>3.561597</td>\n",
       "    </tr>\n",
       "    <tr>\n",
       "      <th>max</th>\n",
       "      <td>0.769121</td>\n",
       "      <td>0.301758</td>\n",
       "      <td>8313.998349</td>\n",
       "      <td>3594.638361</td>\n",
       "      <td>10165.712797</td>\n",
       "      <td>0.759106</td>\n",
       "      <td>-67.194684</td>\n",
       "      <td>203.109857</td>\n",
       "      <td>79.127097</td>\n",
       "      <td>137.487499</td>\n",
       "      <td>66.488852</td>\n",
       "      <td>78.616681</td>\n",
       "      <td>49.318386</td>\n",
       "      <td>55.230019</td>\n",
       "      <td>35.874303</td>\n",
       "      <td>52.900645</td>\n",
       "      <td>38.072378</td>\n",
       "      <td>41.115163</td>\n",
       "      <td>20.161074</td>\n",
       "      <td>40.386432</td>\n",
       "      <td>40.016909</td>\n",
       "      <td>33.025325</td>\n",
       "      <td>21.635642</td>\n",
       "      <td>27.539719</td>\n",
       "      <td>21.925976</td>\n",
       "      <td>21.267871</td>\n",
       "    </tr>\n",
       "  </tbody>\n",
       "</table>\n",
       "</div>"
      ],
      "text/plain": [
       "       chroma_stft         rmse  ...       mfcc19       mfcc20\n",
       "count  1857.000000  1857.000000  ...  1857.000000  1857.000000\n",
       "mean      0.446200     0.028981  ...    -3.174046     0.927965\n",
       "std       0.113051     0.029997  ...     4.434346     4.238973\n",
       "min       0.139431     0.000210  ...   -24.751762   -21.746538\n",
       "25%       0.360854     0.011196  ...    -5.961847    -1.856384\n",
       "50%       0.442416     0.019961  ...    -3.191599     1.108129\n",
       "75%       0.523261     0.035709  ...    -0.576875     3.561597\n",
       "max       0.769121     0.301758  ...    21.925976    21.267871\n",
       "\n",
       "[8 rows x 26 columns]"
      ]
     },
     "execution_count": 18,
     "metadata": {
      "tags": []
     },
     "output_type": "execute_result"
    }
   ],
   "source": [
    "df.describe()"
   ]
  },
  {
   "cell_type": "code",
   "execution_count": 19,
   "metadata": {
    "colab": {
     "base_uri": "https://localhost:8080/",
     "height": 119
    },
    "colab_type": "code",
    "executionInfo": {
     "elapsed": 388,
     "status": "ok",
     "timestamp": 1585677294602,
     "user": {
      "displayName": "jean rochefort",
      "photoUrl": "",
      "userId": "04520792891621341900"
     },
     "user_tz": -120
    },
    "id": "Bsix-7MxVBXS",
    "outputId": "fd6c41b3-b9c2-4764-f2fa-27b5c8627f51"
   },
   "outputs": [
    {
     "data": {
      "text/plain": [
       "Index(['chroma_stft', 'rmse', 'spectral_centroid', 'spectral_bandwidth',\n",
       "       'rolloff', 'zero_crossing_rate', ' mfcc1', ' mfcc2', ' mfcc3', ' mfcc4',\n",
       "       ' mfcc5', ' mfcc6', ' mfcc7', ' mfcc8', ' mfcc9', ' mfcc10', ' mfcc11',\n",
       "       ' mfcc12', ' mfcc13', ' mfcc14', ' mfcc15', ' mfcc16', ' mfcc17',\n",
       "       ' mfcc18', ' mfcc19', ' mfcc20'],\n",
       "      dtype='object')"
      ]
     },
     "execution_count": 19,
     "metadata": {
      "tags": []
     },
     "output_type": "execute_result"
    }
   ],
   "source": [
    "feat = df.columns[:-1]\n",
    "feat"
   ]
  },
  {
   "cell_type": "code",
   "execution_count": 22,
   "metadata": {
    "colab": {
     "base_uri": "https://localhost:8080/",
     "height": 1000,
     "output_embedded_package_id": "19XpdY318Wwn74iuYuhG2DE7Zx-WQWg41"
    },
    "colab_type": "code",
    "executionInfo": {
     "elapsed": 26741,
     "status": "ok",
     "timestamp": 1585677422797,
     "user": {
      "displayName": "jean rochefort",
      "photoUrl": "",
      "userId": "04520792891621341900"
     },
     "user_tz": -120
    },
    "id": "Q7BM8YGgRexK",
    "outputId": "c12efab8-07e5-49d8-c310-02d2aa8418f4"
   },
   "outputs": [
    {
     "data": {
      "text/plain": [
       "Output hidden; open in https://colab.research.google.com to view."
      ]
     },
     "metadata": {},
     "output_type": "display_data"
    }
   ],
   "source": [
    "for f in feat:\n",
    "  plt.figure(figsize=(14, 4))\n",
    "  # axis x text vertically\n",
    "  #plt.xticks(rotation=90)\n",
    "  plt.title(f)\n",
    "  #plt.axis('off')\n",
    "  plt.xticks(color='w')\n",
    "  sns.violinplot(x=\"common_name\", y=f, data=df)   \n",
    "  # the same thing can be done with barplot\n",
    "  plt.show()"
   ]
  },
  {
   "cell_type": "code",
   "execution_count": 23,
   "metadata": {
    "colab": {
     "base_uri": "https://localhost:8080/",
     "height": 1000,
     "output_embedded_package_id": "1v-j-AUqhql2U65ytU_8n862B9OeiynIW"
    },
    "colab_type": "code",
    "executionInfo": {
     "elapsed": 11441,
     "status": "ok",
     "timestamp": 1585677455088,
     "user": {
      "displayName": "jean rochefort",
      "photoUrl": "",
      "userId": "04520792891621341900"
     },
     "user_tz": -120
    },
    "id": "WZwoUriuRer6",
    "outputId": "42338ce8-0ea1-40ea-d59b-915cf9886293"
   },
   "outputs": [
    {
     "data": {
      "text/plain": [
       "Output hidden; open in https://colab.research.google.com to view."
      ]
     },
     "metadata": {},
     "output_type": "display_data"
    }
   ],
   "source": [
    "species = df['common_name'].unique()\n",
    "for f in feat:\n",
    "    plt.figure(figsize=(12, 5))\n",
    "    for s in species:\n",
    "        sns.distplot(df[df['common_name'] == s][f], hist=False)\n",
    "    plt.title(f\"Distribution of the {f} for each specy\")\n",
    "    plt.show()"
   ]
  },
  {
   "cell_type": "code",
   "execution_count": 25,
   "metadata": {
    "colab": {
     "base_uri": "https://localhost:8080/",
     "height": 850
    },
    "colab_type": "code",
    "executionInfo": {
     "elapsed": 2271,
     "status": "ok",
     "timestamp": 1585677548390,
     "user": {
      "displayName": "jean rochefort",
      "photoUrl": "",
      "userId": "04520792891621341900"
     },
     "user_tz": -120
    },
    "id": "8PkfZpiV40U6",
    "outputId": "262a4ca1-8e64-4bcb-fa3e-c261f11422bb"
   },
   "outputs": [
    {
     "data": {
      "image/png": "[encoded data removed]",
      "text/plain": [
       "<Figure size 1152x1008 with 2 Axes>"
      ]
     },
     "metadata": {
      "tags": []
     },
     "output_type": "display_data"
    }
   ],
   "source": [
    "def plot_corr(df_):\n",
    "    corr = df_.corr()\n",
    "    corr\n",
    "\n",
    "    # Generate a mask for the upper triangle\n",
    "    mask = np.zeros_like(corr, dtype=np.bool)\n",
    "    mask[np.triu_indices_from(mask)] = True\n",
    "\n",
    "    # Set up the matplotlib figure\n",
    "    f, ax = plt.subplots(figsize=(16, 14))\n",
    "\n",
    "    # Generate a custom diverging colormap\n",
    "    #cmap = sns.diverging_palette(220, 10, as_cmap=True)\n",
    "\n",
    "    # Draw the heatmap with the mask and correct aspect ratio\n",
    "    sns.heatmap(corr, mask=mask, center=0, square=True, cmap='Spectral', linewidths=.5, cbar_kws={\"shrink\": .5}, annot=True) #annot=True\n",
    "\n",
    "\n",
    "plot_corr(df[feat])"
   ]
  },
  {
   "cell_type": "code",
   "execution_count": 26,
   "metadata": {
    "colab": {
     "base_uri": "https://localhost:8080/",
     "height": 34
    },
    "colab_type": "code",
    "executionInfo": {
     "elapsed": 407,
     "status": "ok",
     "timestamp": 1585677567293,
     "user": {
      "displayName": "jean rochefort",
      "photoUrl": "",
      "userId": "04520792891621341900"
     },
     "user_tz": -120
    },
    "id": "NHHN7fip7mw3",
    "outputId": "c145068d-9134-425a-e068-b264f16b5396"
   },
   "outputs": [
    {
     "data": {
      "text/plain": [
       "((1485, 26), (372, 26), (1485,), (372,))"
      ]
     },
     "execution_count": 26,
     "metadata": {
      "tags": []
     },
     "output_type": "execute_result"
    }
   ],
   "source": [
    "X, y = df.drop(columns=['common_name']), df[\"common_name\"]\n",
    "\n",
    "from sklearn.model_selection import train_test_split\n",
    "X_train, X_test, y_train, y_test = train_test_split(X, y, test_size=0.2, stratify=y)\n",
    "X_train.shape, X_test.shape, y_train.shape, y_test.shape"
   ]
  },
  {
   "cell_type": "code",
   "execution_count": 0,
   "metadata": {
    "colab": {},
    "colab_type": "code",
    "id": "FezZGehv_TAN"
   },
   "outputs": [],
   "source": [
    "# https://stackabuse.com/overview-of-classification-methods-in-python-with-scikit-learn/\n",
    "from sklearn.neural_network import MLPClassifier\n",
    "from sklearn.neighbors import KNeighborsClassifier\n",
    "from sklearn.svm import SVC\n",
    "from sklearn.gaussian_process import GaussianProcessClassifier\n",
    "from sklearn.gaussian_process.kernels import RBF\n",
    "from sklearn.tree import DecisionTreeClassifier\n",
    "from sklearn.ensemble import RandomForestClassifier, AdaBoostClassifier, GradientBoostingClassifier\n",
    "from sklearn.naive_bayes import GaussianNB\n",
    "from sklearn.discriminant_analysis import QuadraticDiscriminantAnalysis\n",
    "from sklearn.ensemble import ExtraTreesClassifier\n",
    "from sklearn.linear_model import LogisticRegression\n",
    "\n",
    "import xgboost as xgb\n",
    "import lightgbm as lgbm\n",
    "#import catboost import CatBoostClassifier\n",
    "\n",
    "from sklearn.metrics import accuracy_score"
   ]
  },
  {
   "cell_type": "code",
   "execution_count": 0,
   "metadata": {
    "colab": {},
    "colab_type": "code",
    "id": "upB3ew_M_Xbz"
   },
   "outputs": [],
   "source": [
    "def get_accurary(clf, model_name):\n",
    "    \"\"\"Print the accurcies for the model passed in argument and retrun the values for the train/test sets\"\"\"\n",
    "    y_train_pred, y_pred = clf.predict(X_train), clf.predict(X_test)\n",
    "    acc_train, acc_test = float(accuracy_score(y_train, y_train_pred)), float(accuracy_score(y_test, y_pred))\n",
    "    print(model_name, f'\\t - ACC on Training  = {acc_train:.2f} / ACC on Test = {acc_test:.2f}')\n",
    "    return acc_train, acc_test"
   ]
  },
  {
   "cell_type": "code",
   "execution_count": 0,
   "metadata": {
    "colab": {},
    "colab_type": "code",
    "id": "RnDlRcde_Zqb"
   },
   "outputs": [],
   "source": [
    "# list of all the basic models used at first\n",
    "model_list = [\n",
    "      KNeighborsClassifier(),\n",
    "      SVC(),\n",
    "      GaussianProcessClassifier(),\n",
    "      GaussianNB(),\n",
    "      QuadraticDiscriminantAnalysis(),\n",
    "      MLPClassifier(),\n",
    "      DecisionTreeClassifier(),\n",
    "      ExtraTreesClassifier(),\n",
    "      xgb.XGBClassifier(),\n",
    "      lgbm.LGBMClassifier(),\n",
    "      RandomForestClassifier(n_estimators=10),\n",
    "      GradientBoostingClassifier(),\n",
    "      AdaBoostClassifier(),\n",
    "      LogisticRegression()\n",
    "      #CatBoostClassifier()\n",
    "      ]"
   ]
  },
  {
   "cell_type": "code",
   "execution_count": 30,
   "metadata": {
    "colab": {
     "base_uri": "https://localhost:8080/",
     "height": 425
    },
    "colab_type": "code",
    "executionInfo": {
     "elapsed": 171155,
     "status": "ok",
     "timestamp": 1585677770739,
     "user": {
      "displayName": "jean rochefort",
      "photoUrl": "",
      "userId": "04520792891621341900"
     },
     "user_tz": -120
    },
    "id": "cQoI6qwQ7muT",
    "outputId": "847f71cb-e092-40d7-a775-27ab9f621cc1"
   },
   "outputs": [
    {
     "name": "stdout",
     "output_type": "stream",
     "text": [
      "KNeighborsClassifier \t - ACC on Training  = 0.32 / ACC on Test = 0.06\n",
      "SVC \t - ACC on Training  = 0.07 / ACC on Test = 0.05\n",
      "GaussianProcessClassifier \t - ACC on Training  = 1.00 / ACC on Test = 0.06\n",
      "GaussianNB \t - ACC on Training  = 0.27 / ACC on Test = 0.16\n",
      "QuadraticDiscriminantAnalysis \t - ACC on Training  = 0.89 / ACC on Test = 0.19\n"
     ]
    },
    {
     "name": "stderr",
     "output_type": "stream",
     "text": [
      "/usr/local/lib/python3.6/dist-packages/sklearn/discriminant_analysis.py:691: UserWarning: Variables are collinear\n",
      "  warnings.warn(\"Variables are collinear\")\n"
     ]
    },
    {
     "name": "stdout",
     "output_type": "stream",
     "text": [
      "MLPClassifier \t - ACC on Training  = 0.08 / ACC on Test = 0.08\n",
      "DecisionTreeClassifier \t - ACC on Training  = 1.00 / ACC on Test = 0.12\n",
      "ExtraTreesClassifier \t - ACC on Training  = 1.00 / ACC on Test = 0.28\n",
      "XGBClassifier \t - ACC on Training  = 0.99 / ACC on Test = 0.26\n",
      "LGBMClassifier \t - ACC on Training  = 1.00 / ACC on Test = 0.27\n",
      "RandomForestClassifier \t - ACC on Training  = 0.99 / ACC on Test = 0.18\n",
      "GradientBoostingClassifier \t - ACC on Training  = 1.00 / ACC on Test = 0.21\n",
      "AdaBoostClassifier \t - ACC on Training  = 0.10 / ACC on Test = 0.10\n",
      "LogisticRegression \t - ACC on Training  = 0.13 / ACC on Test = 0.10\n"
     ]
    },
    {
     "name": "stderr",
     "output_type": "stream",
     "text": [
      "/usr/local/lib/python3.6/dist-packages/sklearn/linear_model/_logistic.py:940: ConvergenceWarning: lbfgs failed to converge (status=1):\n",
      "STOP: TOTAL NO. of ITERATIONS REACHED LIMIT.\n",
      "\n",
      "Increase the number of iterations (max_iter) or scale the data as shown in:\n",
      "    https://scikit-learn.org/stable/modules/preprocessing.html\n",
      "Please also refer to the documentation for alternative solver options:\n",
      "    https://scikit-learn.org/stable/modules/linear_model.html#logistic-regression\n",
      "  extra_warning_msg=_LOGISTIC_SOLVER_CONVERGENCE_MSG)\n"
     ]
    }
   ],
   "source": [
    "# GradientBoostingRegressor(), (), , lgbm.LGBMRegressor(), catboost\n",
    "             \n",
    "# creation of list of names and scores for the train / test\n",
    "model_names = [str(m)[:str(m).index('(')] for m in model_list]\n",
    "scores_train, scores_test = [], []\n",
    "\n",
    "# fit and predict all models\n",
    "for model, name in zip(model_list, model_names):\n",
    "    model.fit(X_train, y_train)\n",
    "    acc_train, acc_test = get_accurary(model, name)\n",
    "    scores_train.append(acc_train)\n",
    "    scores_test.append(acc_test)"
   ]
  },
  {
   "cell_type": "code",
   "execution_count": 31,
   "metadata": {
    "colab": {
     "base_uri": "https://localhost:8080/",
     "height": 359
    },
    "colab_type": "code",
    "executionInfo": {
     "elapsed": 422,
     "status": "ok",
     "timestamp": 1585677876087,
     "user": {
      "displayName": "jean rochefort",
      "photoUrl": "",
      "userId": "04520792891621341900"
     },
     "user_tz": -120
    },
    "id": "DvPiru587msB",
    "outputId": "5b5b2b3c-645a-4f0c-d2e1-fb611086df49"
   },
   "outputs": [
    {
     "data": {
      "text/html": [
       "<div>\n",
       "<style scoped>\n",
       "    .dataframe tbody tr th:only-of-type {\n",
       "        vertical-align: middle;\n",
       "    }\n",
       "\n",
       "    .dataframe tbody tr th {\n",
       "        vertical-align: top;\n",
       "    }\n",
       "\n",
       "    .dataframe thead th {\n",
       "        text-align: right;\n",
       "    }\n",
       "</style>\n",
       "<table border=\"1\" class=\"dataframe\">\n",
       "  <thead>\n",
       "    <tr style=\"text-align: right;\">\n",
       "      <th></th>\n",
       "      <th>model_names</th>\n",
       "      <th>variable</th>\n",
       "      <th>value</th>\n",
       "    </tr>\n",
       "  </thead>\n",
       "  <tbody>\n",
       "    <tr>\n",
       "      <th>0</th>\n",
       "      <td>KNeighborsClassifier</td>\n",
       "      <td>scores_train</td>\n",
       "      <td>0.320539</td>\n",
       "    </tr>\n",
       "    <tr>\n",
       "      <th>1</th>\n",
       "      <td>SVC</td>\n",
       "      <td>scores_train</td>\n",
       "      <td>0.074074</td>\n",
       "    </tr>\n",
       "    <tr>\n",
       "      <th>2</th>\n",
       "      <td>GaussianProcessClassifier</td>\n",
       "      <td>scores_train</td>\n",
       "      <td>1.000000</td>\n",
       "    </tr>\n",
       "    <tr>\n",
       "      <th>3</th>\n",
       "      <td>GaussianNB</td>\n",
       "      <td>scores_train</td>\n",
       "      <td>0.268013</td>\n",
       "    </tr>\n",
       "    <tr>\n",
       "      <th>4</th>\n",
       "      <td>QuadraticDiscriminantAnalysis</td>\n",
       "      <td>scores_train</td>\n",
       "      <td>0.890909</td>\n",
       "    </tr>\n",
       "    <tr>\n",
       "      <th>5</th>\n",
       "      <td>MLPClassifier</td>\n",
       "      <td>scores_train</td>\n",
       "      <td>0.078114</td>\n",
       "    </tr>\n",
       "    <tr>\n",
       "      <th>6</th>\n",
       "      <td>DecisionTreeClassifier</td>\n",
       "      <td>scores_train</td>\n",
       "      <td>1.000000</td>\n",
       "    </tr>\n",
       "    <tr>\n",
       "      <th>7</th>\n",
       "      <td>ExtraTreesClassifier</td>\n",
       "      <td>scores_train</td>\n",
       "      <td>1.000000</td>\n",
       "    </tr>\n",
       "    <tr>\n",
       "      <th>8</th>\n",
       "      <td>XGBClassifier</td>\n",
       "      <td>scores_train</td>\n",
       "      <td>0.990572</td>\n",
       "    </tr>\n",
       "    <tr>\n",
       "      <th>9</th>\n",
       "      <td>LGBMClassifier</td>\n",
       "      <td>scores_train</td>\n",
       "      <td>1.000000</td>\n",
       "    </tr>\n",
       "  </tbody>\n",
       "</table>\n",
       "</div>"
      ],
      "text/plain": [
       "                     model_names      variable     value\n",
       "0           KNeighborsClassifier  scores_train  0.320539\n",
       "1                            SVC  scores_train  0.074074\n",
       "2      GaussianProcessClassifier  scores_train  1.000000\n",
       "3                     GaussianNB  scores_train  0.268013\n",
       "4  QuadraticDiscriminantAnalysis  scores_train  0.890909\n",
       "5                  MLPClassifier  scores_train  0.078114\n",
       "6         DecisionTreeClassifier  scores_train  1.000000\n",
       "7           ExtraTreesClassifier  scores_train  1.000000\n",
       "8                  XGBClassifier  scores_train  0.990572\n",
       "9                 LGBMClassifier  scores_train  1.000000"
      ]
     },
     "execution_count": 31,
     "metadata": {
      "tags": []
     },
     "output_type": "execute_result"
    }
   ],
   "source": [
    "df_score = pd.DataFrame({'model_names' : model_names,\n",
    "                         'scores_train' : scores_train,\n",
    "                         'scores_test' : scores_test})\n",
    "df_score = pd.melt(df_score, id_vars=['model_names'], value_vars=['scores_train', 'scores_test'])\n",
    "df_score.head(10)"
   ]
  },
  {
   "cell_type": "code",
   "execution_count": 33,
   "metadata": {
    "colab": {
     "base_uri": "https://localhost:8080/",
     "height": 514
    },
    "colab_type": "code",
    "executionInfo": {
     "elapsed": 608,
     "status": "ok",
     "timestamp": 1585677891317,
     "user": {
      "displayName": "jean rochefort",
      "photoUrl": "",
      "userId": "04520792891621341900"
     },
     "user_tz": -120
    },
    "id": "UgyErwjU40SF",
    "outputId": "ca0bf73e-a119-441f-cc9f-645301ddd2d8"
   },
   "outputs": [
    {
     "data": {
      "text/plain": [
       "<matplotlib.axes._subplots.AxesSubplot at 0x7fe128545978>"
      ]
     },
     "execution_count": 33,
     "metadata": {
      "tags": []
     },
     "output_type": "execute_result"
    },
    {
     "data": {
      "image/png": "[encoded data removed]",
      "text/plain": [
       "<Figure size 720x576 with 1 Axes>"
      ]
     },
     "metadata": {
      "tags": []
     },
     "output_type": "display_data"
    }
   ],
   "source": [
    "plt.figure(figsize=(10, 8))\n",
    "sns.barplot(y=\"model_names\", x=\"value\", hue=\"variable\", data=df_score)"
   ]
  },
  {
   "cell_type": "code",
   "execution_count": 34,
   "metadata": {
    "colab": {
     "base_uri": "https://localhost:8080/",
     "height": 275
    },
    "colab_type": "code",
    "executionInfo": {
     "elapsed": 5463,
     "status": "ok",
     "timestamp": 1585677904092,
     "user": {
      "displayName": "jean rochefort",
      "photoUrl": "",
      "userId": "04520792891621341900"
     },
     "user_tz": -120
    },
    "id": "nCDkiSl340NL",
    "outputId": "8e37aa2e-20dc-45ed-cb40-884eb58864c5"
   },
   "outputs": [
    {
     "data": {
      "text/html": [
       "<div>\n",
       "<style scoped>\n",
       "    .dataframe tbody tr th:only-of-type {\n",
       "        vertical-align: middle;\n",
       "    }\n",
       "\n",
       "    .dataframe tbody tr th {\n",
       "        vertical-align: top;\n",
       "    }\n",
       "\n",
       "    .dataframe thead th {\n",
       "        text-align: right;\n",
       "    }\n",
       "</style>\n",
       "<table border=\"1\" class=\"dataframe\">\n",
       "  <thead>\n",
       "    <tr style=\"text-align: right;\">\n",
       "      <th></th>\n",
       "      <th>ID</th>\n",
       "      <th>African Paradise Flycatcher</th>\n",
       "      <th>African Pipit</th>\n",
       "      <th>African Reed Warbler</th>\n",
       "      <th>African Rock Pipit</th>\n",
       "      <th>Bar-throated Apalis</th>\n",
       "      <th>Black Cuckoo</th>\n",
       "      <th>Black-backed Puffback</th>\n",
       "      <th>Black-headed Oriole</th>\n",
       "      <th>Bokmakierie</th>\n",
       "      <th>Cape Batis</th>\n",
       "      <th>Cape Bunting</th>\n",
       "      <th>Cape Robin-Chat</th>\n",
       "      <th>Cape White-eye</th>\n",
       "      <th>Chestnut-vented Warbler</th>\n",
       "      <th>Chorister Robin-Chat</th>\n",
       "      <th>Crested Barbet</th>\n",
       "      <th>Dark-capped Bulbul</th>\n",
       "      <th>Eastern Clapper Lark</th>\n",
       "      <th>Fiery-necked Nightjar</th>\n",
       "      <th>Fork-tailed Drongo</th>\n",
       "      <th>Green Wood Hoopoe</th>\n",
       "      <th>Green-backed Camaroptera</th>\n",
       "      <th>Karoo Prinia</th>\n",
       "      <th>Karoo Scrub Robin</th>\n",
       "      <th>Levaillants Cisticola</th>\n",
       "      <th>Long-billed Crombec</th>\n",
       "      <th>Olive Bushshrike</th>\n",
       "      <th>Orange-breasted Bushshrike</th>\n",
       "      <th>Rattling Cisticola</th>\n",
       "      <th>Red-chested Cuckoo</th>\n",
       "      <th>Ring-necked Dove</th>\n",
       "      <th>Rufous-naped Lark</th>\n",
       "      <th>Sabota Lark</th>\n",
       "      <th>Sombre Greenbul</th>\n",
       "      <th>Southern Boubou</th>\n",
       "      <th>Southern Double-collared Sunbird</th>\n",
       "      <th>Tawny-flanked Prinia</th>\n",
       "      <th>White-bellied Sunbird</th>\n",
       "      <th>White-browed Robin-Chat</th>\n",
       "      <th>White-browed Scrub Robin</th>\n",
       "    </tr>\n",
       "  </thead>\n",
       "  <tbody>\n",
       "    <tr>\n",
       "      <th>0</th>\n",
       "      <td>019OYB</td>\n",
       "      <td>0.00</td>\n",
       "      <td>0.04</td>\n",
       "      <td>0.00</td>\n",
       "      <td>0.00</td>\n",
       "      <td>0.01</td>\n",
       "      <td>0.09</td>\n",
       "      <td>0.02</td>\n",
       "      <td>0.05</td>\n",
       "      <td>0.05</td>\n",
       "      <td>0.02</td>\n",
       "      <td>0.00</td>\n",
       "      <td>0.01</td>\n",
       "      <td>0.00</td>\n",
       "      <td>0.02</td>\n",
       "      <td>0.02</td>\n",
       "      <td>0.06</td>\n",
       "      <td>0.02</td>\n",
       "      <td>0.00</td>\n",
       "      <td>0.08</td>\n",
       "      <td>0.04</td>\n",
       "      <td>0.00</td>\n",
       "      <td>0.01</td>\n",
       "      <td>0.01</td>\n",
       "      <td>0.01</td>\n",
       "      <td>0.02</td>\n",
       "      <td>0.01</td>\n",
       "      <td>0.04</td>\n",
       "      <td>0.04</td>\n",
       "      <td>0.06</td>\n",
       "      <td>0.01</td>\n",
       "      <td>0.00</td>\n",
       "      <td>0.00</td>\n",
       "      <td>0.04</td>\n",
       "      <td>0.02</td>\n",
       "      <td>0.03</td>\n",
       "      <td>0.01</td>\n",
       "      <td>0.01</td>\n",
       "      <td>0.07</td>\n",
       "      <td>0.05</td>\n",
       "      <td>0.03</td>\n",
       "    </tr>\n",
       "    <tr>\n",
       "      <th>1</th>\n",
       "      <td>01S9OX</td>\n",
       "      <td>0.01</td>\n",
       "      <td>0.01</td>\n",
       "      <td>0.00</td>\n",
       "      <td>0.01</td>\n",
       "      <td>0.01</td>\n",
       "      <td>0.00</td>\n",
       "      <td>0.05</td>\n",
       "      <td>0.07</td>\n",
       "      <td>0.06</td>\n",
       "      <td>0.03</td>\n",
       "      <td>0.00</td>\n",
       "      <td>0.03</td>\n",
       "      <td>0.00</td>\n",
       "      <td>0.26</td>\n",
       "      <td>0.00</td>\n",
       "      <td>0.00</td>\n",
       "      <td>0.01</td>\n",
       "      <td>0.09</td>\n",
       "      <td>0.00</td>\n",
       "      <td>0.03</td>\n",
       "      <td>0.00</td>\n",
       "      <td>0.02</td>\n",
       "      <td>0.00</td>\n",
       "      <td>0.00</td>\n",
       "      <td>0.00</td>\n",
       "      <td>0.00</td>\n",
       "      <td>0.06</td>\n",
       "      <td>0.00</td>\n",
       "      <td>0.00</td>\n",
       "      <td>0.01</td>\n",
       "      <td>0.02</td>\n",
       "      <td>0.00</td>\n",
       "      <td>0.00</td>\n",
       "      <td>0.12</td>\n",
       "      <td>0.04</td>\n",
       "      <td>0.01</td>\n",
       "      <td>0.00</td>\n",
       "      <td>0.01</td>\n",
       "      <td>0.00</td>\n",
       "      <td>0.04</td>\n",
       "    </tr>\n",
       "    <tr>\n",
       "      <th>2</th>\n",
       "      <td>02CS12</td>\n",
       "      <td>0.01</td>\n",
       "      <td>0.00</td>\n",
       "      <td>0.03</td>\n",
       "      <td>0.01</td>\n",
       "      <td>0.03</td>\n",
       "      <td>0.00</td>\n",
       "      <td>0.01</td>\n",
       "      <td>0.01</td>\n",
       "      <td>0.00</td>\n",
       "      <td>0.01</td>\n",
       "      <td>0.01</td>\n",
       "      <td>0.02</td>\n",
       "      <td>0.00</td>\n",
       "      <td>0.01</td>\n",
       "      <td>0.00</td>\n",
       "      <td>0.00</td>\n",
       "      <td>0.42</td>\n",
       "      <td>0.04</td>\n",
       "      <td>0.00</td>\n",
       "      <td>0.13</td>\n",
       "      <td>0.09</td>\n",
       "      <td>0.01</td>\n",
       "      <td>0.03</td>\n",
       "      <td>0.00</td>\n",
       "      <td>0.00</td>\n",
       "      <td>0.01</td>\n",
       "      <td>0.00</td>\n",
       "      <td>0.00</td>\n",
       "      <td>0.01</td>\n",
       "      <td>0.00</td>\n",
       "      <td>0.01</td>\n",
       "      <td>0.03</td>\n",
       "      <td>0.01</td>\n",
       "      <td>0.00</td>\n",
       "      <td>0.01</td>\n",
       "      <td>0.00</td>\n",
       "      <td>0.02</td>\n",
       "      <td>0.01</td>\n",
       "      <td>0.00</td>\n",
       "      <td>0.02</td>\n",
       "    </tr>\n",
       "    <tr>\n",
       "      <th>3</th>\n",
       "      <td>02LM3W</td>\n",
       "      <td>0.02</td>\n",
       "      <td>0.00</td>\n",
       "      <td>0.00</td>\n",
       "      <td>0.00</td>\n",
       "      <td>0.04</td>\n",
       "      <td>0.00</td>\n",
       "      <td>0.05</td>\n",
       "      <td>0.06</td>\n",
       "      <td>0.04</td>\n",
       "      <td>0.05</td>\n",
       "      <td>0.00</td>\n",
       "      <td>0.02</td>\n",
       "      <td>0.00</td>\n",
       "      <td>0.07</td>\n",
       "      <td>0.03</td>\n",
       "      <td>0.09</td>\n",
       "      <td>0.00</td>\n",
       "      <td>0.01</td>\n",
       "      <td>0.01</td>\n",
       "      <td>0.04</td>\n",
       "      <td>0.00</td>\n",
       "      <td>0.02</td>\n",
       "      <td>0.00</td>\n",
       "      <td>0.00</td>\n",
       "      <td>0.00</td>\n",
       "      <td>0.02</td>\n",
       "      <td>0.00</td>\n",
       "      <td>0.00</td>\n",
       "      <td>0.00</td>\n",
       "      <td>0.04</td>\n",
       "      <td>0.11</td>\n",
       "      <td>0.02</td>\n",
       "      <td>0.00</td>\n",
       "      <td>0.00</td>\n",
       "      <td>0.04</td>\n",
       "      <td>0.01</td>\n",
       "      <td>0.03</td>\n",
       "      <td>0.01</td>\n",
       "      <td>0.02</td>\n",
       "      <td>0.15</td>\n",
       "    </tr>\n",
       "    <tr>\n",
       "      <th>4</th>\n",
       "      <td>0C3A2V</td>\n",
       "      <td>0.01</td>\n",
       "      <td>0.01</td>\n",
       "      <td>0.03</td>\n",
       "      <td>0.02</td>\n",
       "      <td>0.01</td>\n",
       "      <td>0.03</td>\n",
       "      <td>0.05</td>\n",
       "      <td>0.02</td>\n",
       "      <td>0.00</td>\n",
       "      <td>0.03</td>\n",
       "      <td>0.02</td>\n",
       "      <td>0.07</td>\n",
       "      <td>0.06</td>\n",
       "      <td>0.02</td>\n",
       "      <td>0.04</td>\n",
       "      <td>0.00</td>\n",
       "      <td>0.00</td>\n",
       "      <td>0.04</td>\n",
       "      <td>0.00</td>\n",
       "      <td>0.05</td>\n",
       "      <td>0.00</td>\n",
       "      <td>0.05</td>\n",
       "      <td>0.02</td>\n",
       "      <td>0.02</td>\n",
       "      <td>0.02</td>\n",
       "      <td>0.00</td>\n",
       "      <td>0.01</td>\n",
       "      <td>0.01</td>\n",
       "      <td>0.00</td>\n",
       "      <td>0.01</td>\n",
       "      <td>0.04</td>\n",
       "      <td>0.02</td>\n",
       "      <td>0.02</td>\n",
       "      <td>0.06</td>\n",
       "      <td>0.04</td>\n",
       "      <td>0.11</td>\n",
       "      <td>0.00</td>\n",
       "      <td>0.00</td>\n",
       "      <td>0.03</td>\n",
       "      <td>0.03</td>\n",
       "    </tr>\n",
       "  </tbody>\n",
       "</table>\n",
       "</div>"
      ],
      "text/plain": [
       "       ID  ...  White-browed Scrub Robin\n",
       "0  019OYB  ...                      0.03\n",
       "1  01S9OX  ...                      0.04\n",
       "2  02CS12  ...                      0.02\n",
       "3  02LM3W  ...                      0.15\n",
       "4  0C3A2V  ...                      0.03\n",
       "\n",
       "[5 rows x 41 columns]"
      ]
     },
     "execution_count": 34,
     "metadata": {
      "tags": []
     },
     "output_type": "execute_result"
    }
   ],
   "source": [
    "rf_clf = RandomForestClassifier().fit(X, y)\n",
    "y_pred = rf_clf.predict_proba(df_test.drop(columns=['ID']))\n",
    "y_pred = pd.DataFrame(y_pred, columns=rf_clf.classes_)\n",
    "y_pred = pd.concat([sub['ID'], y_pred], axis=1)\n",
    "y_pred.head()"
   ]
  },
  {
   "cell_type": "code",
   "execution_count": 0,
   "metadata": {
    "colab": {},
    "colab_type": "code",
    "id": "1GeuIqqMH2gV"
   },
   "outputs": [],
   "source": [
    "y_pred.to_csv('drive/My Drive/zindi/other_features_random_forrest_clf.csv')"
   ]
  },
  {
   "cell_type": "code",
   "execution_count": 0,
   "metadata": {
    "colab": {},
    "colab_type": "code",
    "id": "LqBbba5PIjxI"
   },
   "outputs": [],
   "source": [
    "y_pred = rf_clf.predict_proba(df.drop(columns=['common_name']))\n",
    "y_pred = np.argmax(y_pred, axis=1)\n",
    "y_pred = [rf_clf.classes_[t] for t in y_pred]\n",
    "y_true = train['common_name'].values"
   ]
  },
  {
   "cell_type": "code",
   "execution_count": 46,
   "metadata": {
    "colab": {
     "base_uri": "https://localhost:8080/",
     "height": 1000
    },
    "colab_type": "code",
    "executionInfo": {
     "elapsed": 6279,
     "status": "ok",
     "timestamp": 1585678899497,
     "user": {
      "displayName": "jean rochefort",
      "photoUrl": "",
      "userId": "04520792891621341900"
     },
     "user_tz": -120
    },
    "id": "neW9d0gdIjsD",
    "outputId": "fca2d44e-8318-42aa-cd68-45a2b64a4027"
   },
   "outputs": [
    {
     "data": {
      "text/plain": [
       "<matplotlib.axes._subplots.AxesSubplot at 0x7fe1298746d8>"
      ]
     },
     "execution_count": 46,
     "metadata": {
      "tags": []
     },
     "output_type": "execute_result"
    },
    {
     "data": {
      "image/png": "[encoded data removed]",
      "text/plain": [
       "<Figure size 1296x1296 with 2 Axes>"
      ]
     },
     "metadata": {
      "tags": []
     },
     "output_type": "display_data"
    }
   ],
   "source": [
    "from sklearn.metrics import confusion_matrix\n",
    "# since v0.22 sklearn has a specific method to plot confusion matrix\n",
    "\n",
    "cm = confusion_matrix(y_true, y_pred)\n",
    "\n",
    "df_cm = pd.DataFrame(cm, columns=np.unique(y_true), index = np.unique(y_true))\n",
    "df_cm.index.name = 'Actual'\n",
    "df_cm.columns.name = 'Predicted'\n",
    "plt.figure(figsize = (18, 18))\n",
    "sns.set(font_scale=1) #for label size\n",
    "sns.heatmap(df_cm, cmap=\"Blues\", annot=True,annot_kws={\"size\": 12})# font size"
   ]
  }
 ],
 "metadata": {
  "accelerator": "TPU",
  "colab": {
   "collapsed_sections": [],
   "name": "05_other_features.ipynb",
   "provenance": []
  },
  "kernelspec": {
   "display_name": "Python 3 (ipykernel)",
   "language": "python",
   "name": "python3"
  },
  "language_info": {
   "codemirror_mode": {
    "name": "ipython",
    "version": 3
   },
   "file_extension": ".py",
   "mimetype": "text/x-python",
   "name": "python",
   "nbconvert_exporter": "python",
   "pygments_lexer": "ipython3",
   "version": "3.9.7"
  }
 },
 "nbformat": 4,
 "nbformat_minor": 1
}
