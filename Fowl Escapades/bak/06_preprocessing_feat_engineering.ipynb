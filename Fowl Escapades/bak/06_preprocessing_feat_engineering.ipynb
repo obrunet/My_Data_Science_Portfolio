{
 "cells": [
  {
   "cell_type": "code",
   "execution_count": 1,
   "metadata": {
    "colab": {
     "base_uri": "https://localhost:8080/",
     "height": 122
    },
    "colab_type": "code",
    "executionInfo": {
     "elapsed": 27688,
     "status": "ok",
     "timestamp": 1585679871326,
     "user": {
      "displayName": "jean rochefort",
      "photoUrl": "",
      "userId": "04520792891621341900"
     },
     "user_tz": -120
    },
    "id": "qcmcK4Aa4n3r",
    "outputId": "f51a6e38-1088-4ca6-e235-cd16653bbe1c"
   },
   "outputs": [
    {
     "name": "stdout",
     "output_type": "stream",
     "text": [
      "Go to this URL in a browser: https://accounts.google.com/o/oauth2/auth?client_id=947318989803-6bn6qk8qdgf4n4g3pfee6491hc0brc4i.apps.googleusercontent.com&redirect_uri=urn%3aietf%3awg%3aoauth%3a2.0%3aoob&response_type=code&scope=email%20https%3a%2f%2fwww.googleapis.com%2fauth%2fdocs.test%20https%3a%2f%2fwww.googleapis.com%2fauth%2fdrive%20https%3a%2f%2fwww.googleapis.com%2fauth%2fdrive.photos.readonly%20https%3a%2f%2fwww.googleapis.com%2fauth%2fpeopleapi.readonly\n",
      "\n",
      "Enter your authorization code:\n",
      "··········\n",
      "Mounted at /content/drive\n"
     ]
    }
   ],
   "source": [
    "from google.colab import drive\n",
    "drive.mount('/content/drive')"
   ]
  },
  {
   "cell_type": "code",
   "execution_count": 2,
   "metadata": {
    "colab": {
     "base_uri": "https://localhost:8080/",
     "height": 51
    },
    "colab_type": "code",
    "executionInfo": {
     "elapsed": 3013,
     "status": "ok",
     "timestamp": 1585679887814,
     "user": {
      "displayName": "jean rochefort",
      "photoUrl": "",
      "userId": "04520792891621341900"
     },
     "user_tz": -120
    },
    "id": "HVqIKM3x4vXR",
    "outputId": "25705abd-fc00-492e-c9a0-99102290ac99"
   },
   "outputs": [
    {
     "name": "stderr",
     "output_type": "stream",
     "text": [
      "/usr/local/lib/python3.6/dist-packages/statsmodels/tools/_testing.py:19: FutureWarning: pandas.util.testing is deprecated. Use the functions in the public API at pandas.testing instead.\n",
      "  import pandas.util.testing as tm\n"
     ]
    }
   ],
   "source": [
    "import pandas as pd\n",
    "import numpy as np\n",
    "\n",
    "import IPython.display as ipd\n",
    "from matplotlib import pyplot as plt\n",
    "import seaborn as sns\n",
    "\n",
    "import librosa # package for music and audio processing, & features extraction \n",
    "import os, shutil, glob"
   ]
  },
  {
   "cell_type": "code",
   "execution_count": 0,
   "metadata": {
    "colab": {},
    "colab_type": "code",
    "id": "vGoDGyT2yMKv"
   },
   "outputs": [],
   "source": [
    "path_colab = 'drive/My Drive/zindi/'\n",
    "path_jupyt = './'\n",
    "\n",
    "# set to True with colab or False with jupyter\n",
    "colab = True\n",
    "path = path_colab if colab else path_jupyt"
   ]
  },
  {
   "cell_type": "markdown",
   "metadata": {
    "colab_type": "text",
    "id": "b_9F0aM0yMKy"
   },
   "source": [
    "## Take a look at the submission "
   ]
  },
  {
   "cell_type": "code",
   "execution_count": 4,
   "metadata": {
    "colab": {
     "base_uri": "https://localhost:8080/",
     "height": 360
    },
    "colab_type": "code",
    "executionInfo": {
     "elapsed": 835,
     "status": "ok",
     "timestamp": 1585679897505,
     "user": {
      "displayName": "jean rochefort",
      "photoUrl": "",
      "userId": "04520792891621341900"
     },
     "user_tz": -120
    },
    "id": "wTHK1jYq5aJb",
    "outputId": "c60565a0-8daf-4b3a-9190-8b031bf17f6d"
   },
   "outputs": [
    {
     "data": {
      "text/html": [
       "<div>\n",
       "<style scoped>\n",
       "    .dataframe tbody tr th:only-of-type {\n",
       "        vertical-align: middle;\n",
       "    }\n",
       "\n",
       "    .dataframe tbody tr th {\n",
       "        vertical-align: top;\n",
       "    }\n",
       "\n",
       "    .dataframe thead th {\n",
       "        text-align: right;\n",
       "    }\n",
       "</style>\n",
       "<table border=\"1\" class=\"dataframe\">\n",
       "  <thead>\n",
       "    <tr style=\"text-align: right;\">\n",
       "      <th></th>\n",
       "      <th>ID</th>\n",
       "      <th>Ring-necked Dove</th>\n",
       "      <th>Black Cuckoo</th>\n",
       "      <th>Red-chested Cuckoo</th>\n",
       "      <th>Fiery-necked Nightjar</th>\n",
       "      <th>Green Wood Hoopoe</th>\n",
       "      <th>Crested Barbet</th>\n",
       "      <th>Cape Batis</th>\n",
       "      <th>Olive Bushshrike</th>\n",
       "      <th>Orange-breasted Bushshrike</th>\n",
       "      <th>Bokmakierie</th>\n",
       "      <th>Black-backed Puffback</th>\n",
       "      <th>Southern Boubou</th>\n",
       "      <th>Black-headed Oriole</th>\n",
       "      <th>Fork-tailed Drongo</th>\n",
       "      <th>African Paradise Flycatcher</th>\n",
       "      <th>Sabota Lark</th>\n",
       "      <th>Eastern Clapper Lark</th>\n",
       "      <th>Rufous-naped Lark</th>\n",
       "      <th>Dark-capped Bulbul</th>\n",
       "      <th>Sombre Greenbul</th>\n",
       "      <th>Long-billed Crombec</th>\n",
       "      <th>African Reed Warbler</th>\n",
       "      <th>Rattling Cisticola</th>\n",
       "      <th>Levaillants Cisticola</th>\n",
       "      <th>Tawny-flanked Prinia</th>\n",
       "      <th>Karoo Prinia</th>\n",
       "      <th>Bar-throated Apalis</th>\n",
       "      <th>Green-backed Camaroptera</th>\n",
       "      <th>Chestnut-vented Warbler</th>\n",
       "      <th>Cape White-eye</th>\n",
       "      <th>Karoo Scrub Robin</th>\n",
       "      <th>White-browed Scrub Robin</th>\n",
       "      <th>Cape Robin-Chat</th>\n",
       "      <th>White-browed Robin-Chat</th>\n",
       "      <th>Chorister Robin-Chat</th>\n",
       "      <th>Southern Double-collared Sunbird</th>\n",
       "      <th>White-bellied Sunbird</th>\n",
       "      <th>African Pipit</th>\n",
       "      <th>African Rock Pipit</th>\n",
       "      <th>Cape Bunting</th>\n",
       "      <th>file_path</th>\n",
       "    </tr>\n",
       "  </thead>\n",
       "  <tbody>\n",
       "    <tr>\n",
       "      <th>0</th>\n",
       "      <td>019OYB</td>\n",
       "      <td>0</td>\n",
       "      <td>0</td>\n",
       "      <td>0</td>\n",
       "      <td>0</td>\n",
       "      <td>0</td>\n",
       "      <td>0</td>\n",
       "      <td>0</td>\n",
       "      <td>0</td>\n",
       "      <td>0</td>\n",
       "      <td>0</td>\n",
       "      <td>0</td>\n",
       "      <td>0</td>\n",
       "      <td>0</td>\n",
       "      <td>0</td>\n",
       "      <td>0</td>\n",
       "      <td>0</td>\n",
       "      <td>0</td>\n",
       "      <td>0</td>\n",
       "      <td>0</td>\n",
       "      <td>0</td>\n",
       "      <td>0</td>\n",
       "      <td>0</td>\n",
       "      <td>0</td>\n",
       "      <td>0</td>\n",
       "      <td>0</td>\n",
       "      <td>0</td>\n",
       "      <td>0</td>\n",
       "      <td>0</td>\n",
       "      <td>0</td>\n",
       "      <td>0</td>\n",
       "      <td>0</td>\n",
       "      <td>0</td>\n",
       "      <td>0</td>\n",
       "      <td>0</td>\n",
       "      <td>0</td>\n",
       "      <td>0</td>\n",
       "      <td>0</td>\n",
       "      <td>0</td>\n",
       "      <td>0</td>\n",
       "      <td>0</td>\n",
       "      <td>drive/My Drive/zindi/Test/019OYB.mp3</td>\n",
       "    </tr>\n",
       "    <tr>\n",
       "      <th>1</th>\n",
       "      <td>01S9OX</td>\n",
       "      <td>0</td>\n",
       "      <td>0</td>\n",
       "      <td>0</td>\n",
       "      <td>0</td>\n",
       "      <td>0</td>\n",
       "      <td>0</td>\n",
       "      <td>0</td>\n",
       "      <td>0</td>\n",
       "      <td>0</td>\n",
       "      <td>0</td>\n",
       "      <td>0</td>\n",
       "      <td>0</td>\n",
       "      <td>0</td>\n",
       "      <td>0</td>\n",
       "      <td>0</td>\n",
       "      <td>0</td>\n",
       "      <td>0</td>\n",
       "      <td>0</td>\n",
       "      <td>0</td>\n",
       "      <td>0</td>\n",
       "      <td>0</td>\n",
       "      <td>0</td>\n",
       "      <td>0</td>\n",
       "      <td>0</td>\n",
       "      <td>0</td>\n",
       "      <td>0</td>\n",
       "      <td>0</td>\n",
       "      <td>0</td>\n",
       "      <td>0</td>\n",
       "      <td>0</td>\n",
       "      <td>0</td>\n",
       "      <td>0</td>\n",
       "      <td>0</td>\n",
       "      <td>0</td>\n",
       "      <td>0</td>\n",
       "      <td>0</td>\n",
       "      <td>0</td>\n",
       "      <td>0</td>\n",
       "      <td>0</td>\n",
       "      <td>0</td>\n",
       "      <td>drive/My Drive/zindi/Test/01S9OX.mp3</td>\n",
       "    </tr>\n",
       "    <tr>\n",
       "      <th>2</th>\n",
       "      <td>02CS12</td>\n",
       "      <td>0</td>\n",
       "      <td>0</td>\n",
       "      <td>0</td>\n",
       "      <td>0</td>\n",
       "      <td>0</td>\n",
       "      <td>0</td>\n",
       "      <td>0</td>\n",
       "      <td>0</td>\n",
       "      <td>0</td>\n",
       "      <td>0</td>\n",
       "      <td>0</td>\n",
       "      <td>0</td>\n",
       "      <td>0</td>\n",
       "      <td>0</td>\n",
       "      <td>0</td>\n",
       "      <td>0</td>\n",
       "      <td>0</td>\n",
       "      <td>0</td>\n",
       "      <td>0</td>\n",
       "      <td>0</td>\n",
       "      <td>0</td>\n",
       "      <td>0</td>\n",
       "      <td>0</td>\n",
       "      <td>0</td>\n",
       "      <td>0</td>\n",
       "      <td>0</td>\n",
       "      <td>0</td>\n",
       "      <td>0</td>\n",
       "      <td>0</td>\n",
       "      <td>0</td>\n",
       "      <td>0</td>\n",
       "      <td>0</td>\n",
       "      <td>0</td>\n",
       "      <td>0</td>\n",
       "      <td>0</td>\n",
       "      <td>0</td>\n",
       "      <td>0</td>\n",
       "      <td>0</td>\n",
       "      <td>0</td>\n",
       "      <td>0</td>\n",
       "      <td>drive/My Drive/zindi/Test/02CS12.mp3</td>\n",
       "    </tr>\n",
       "    <tr>\n",
       "      <th>3</th>\n",
       "      <td>02LM3W</td>\n",
       "      <td>0</td>\n",
       "      <td>0</td>\n",
       "      <td>0</td>\n",
       "      <td>0</td>\n",
       "      <td>0</td>\n",
       "      <td>0</td>\n",
       "      <td>0</td>\n",
       "      <td>0</td>\n",
       "      <td>0</td>\n",
       "      <td>0</td>\n",
       "      <td>0</td>\n",
       "      <td>0</td>\n",
       "      <td>0</td>\n",
       "      <td>0</td>\n",
       "      <td>0</td>\n",
       "      <td>0</td>\n",
       "      <td>0</td>\n",
       "      <td>0</td>\n",
       "      <td>0</td>\n",
       "      <td>0</td>\n",
       "      <td>0</td>\n",
       "      <td>0</td>\n",
       "      <td>0</td>\n",
       "      <td>0</td>\n",
       "      <td>0</td>\n",
       "      <td>0</td>\n",
       "      <td>0</td>\n",
       "      <td>0</td>\n",
       "      <td>0</td>\n",
       "      <td>0</td>\n",
       "      <td>0</td>\n",
       "      <td>0</td>\n",
       "      <td>0</td>\n",
       "      <td>0</td>\n",
       "      <td>0</td>\n",
       "      <td>0</td>\n",
       "      <td>0</td>\n",
       "      <td>0</td>\n",
       "      <td>0</td>\n",
       "      <td>0</td>\n",
       "      <td>drive/My Drive/zindi/Test/02LM3W.mp3</td>\n",
       "    </tr>\n",
       "    <tr>\n",
       "      <th>4</th>\n",
       "      <td>0C3A2V</td>\n",
       "      <td>0</td>\n",
       "      <td>0</td>\n",
       "      <td>0</td>\n",
       "      <td>0</td>\n",
       "      <td>0</td>\n",
       "      <td>0</td>\n",
       "      <td>0</td>\n",
       "      <td>0</td>\n",
       "      <td>0</td>\n",
       "      <td>0</td>\n",
       "      <td>0</td>\n",
       "      <td>0</td>\n",
       "      <td>0</td>\n",
       "      <td>0</td>\n",
       "      <td>0</td>\n",
       "      <td>0</td>\n",
       "      <td>0</td>\n",
       "      <td>0</td>\n",
       "      <td>0</td>\n",
       "      <td>0</td>\n",
       "      <td>0</td>\n",
       "      <td>0</td>\n",
       "      <td>0</td>\n",
       "      <td>0</td>\n",
       "      <td>0</td>\n",
       "      <td>0</td>\n",
       "      <td>0</td>\n",
       "      <td>0</td>\n",
       "      <td>0</td>\n",
       "      <td>0</td>\n",
       "      <td>0</td>\n",
       "      <td>0</td>\n",
       "      <td>0</td>\n",
       "      <td>0</td>\n",
       "      <td>0</td>\n",
       "      <td>0</td>\n",
       "      <td>0</td>\n",
       "      <td>0</td>\n",
       "      <td>0</td>\n",
       "      <td>0</td>\n",
       "      <td>drive/My Drive/zindi/Test/0C3A2V.mp3</td>\n",
       "    </tr>\n",
       "  </tbody>\n",
       "</table>\n",
       "</div>"
      ],
      "text/plain": [
       "       ID  Ring-necked Dove  ...  Cape Bunting                             file_path\n",
       "0  019OYB                 0  ...             0  drive/My Drive/zindi/Test/019OYB.mp3\n",
       "1  01S9OX                 0  ...             0  drive/My Drive/zindi/Test/01S9OX.mp3\n",
       "2  02CS12                 0  ...             0  drive/My Drive/zindi/Test/02CS12.mp3\n",
       "3  02LM3W                 0  ...             0  drive/My Drive/zindi/Test/02LM3W.mp3\n",
       "4  0C3A2V                 0  ...             0  drive/My Drive/zindi/Test/0C3A2V.mp3\n",
       "\n",
       "[5 rows x 42 columns]"
      ]
     },
     "execution_count": 4,
     "metadata": {
      "tags": []
     },
     "output_type": "execute_result"
    }
   ],
   "source": [
    "sub = pd.read_csv(path + 'SampleSubmission.csv')\n",
    "\n",
    "# retrieve all the class names in a list (the 1st col is the id)\n",
    "birds = sub.columns[1:]\n",
    "\n",
    "# add a col with all files' paths \n",
    "sub['file_path'] = path + 'Test/' + sub['ID'] + '.mp3'\n",
    "sub.head()"
   ]
  },
  {
   "cell_type": "markdown",
   "metadata": {
    "colab_type": "text",
    "id": "COCL65K1yMK1"
   },
   "source": [
    "List of species:"
   ]
  },
  {
   "cell_type": "code",
   "execution_count": 5,
   "metadata": {
    "colab": {
     "base_uri": "https://localhost:8080/",
     "height": 289
    },
    "colab_type": "code",
    "executionInfo": {
     "elapsed": 922,
     "status": "ok",
     "timestamp": 1585679900550,
     "user": {
      "displayName": "jean rochefort",
      "photoUrl": "",
      "userId": "04520792891621341900"
     },
     "user_tz": -120
    },
    "id": "1r7j6bnWyMK2",
    "outputId": "e9fe7bc5-7d15-4172-bdb3-5aaf2365fa51"
   },
   "outputs": [
    {
     "data": {
      "text/plain": [
       "array(['Ring-necked Dove', 'Black Cuckoo', 'Red-chested Cuckoo',\n",
       "       'Fiery-necked Nightjar', 'Green Wood Hoopoe', 'Crested Barbet',\n",
       "       'Cape Batis', 'Olive Bushshrike', 'Orange-breasted Bushshrike',\n",
       "       'Bokmakierie', 'Black-backed Puffback', 'Southern Boubou',\n",
       "       'Black-headed Oriole', 'Fork-tailed Drongo',\n",
       "       'African Paradise Flycatcher', 'Sabota Lark',\n",
       "       'Eastern Clapper Lark', 'Rufous-naped Lark', 'Dark-capped Bulbul',\n",
       "       'Sombre Greenbul', 'Long-billed Crombec', 'African Reed Warbler',\n",
       "       'Rattling Cisticola', 'Levaillants Cisticola',\n",
       "       'Tawny-flanked Prinia', 'Karoo Prinia', 'Bar-throated Apalis',\n",
       "       'Green-backed Camaroptera', 'Chestnut-vented Warbler',\n",
       "       'Cape White-eye', 'Karoo Scrub Robin', 'White-browed Scrub Robin',\n",
       "       'Cape Robin-Chat', 'White-browed Robin-Chat',\n",
       "       'Chorister Robin-Chat', 'Southern Double-collared Sunbird',\n",
       "       'White-bellied Sunbird', 'African Pipit', 'African Rock Pipit',\n",
       "       'Cape Bunting'], dtype=object)"
      ]
     },
     "execution_count": 5,
     "metadata": {
      "tags": []
     },
     "output_type": "execute_result"
    }
   ],
   "source": [
    "birds.values"
   ]
  },
  {
   "cell_type": "code",
   "execution_count": 6,
   "metadata": {
    "colab": {
     "base_uri": "https://localhost:8080/",
     "height": 34
    },
    "colab_type": "code",
    "executionInfo": {
     "elapsed": 410,
     "status": "ok",
     "timestamp": 1585679900551,
     "user": {
      "displayName": "jean rochefort",
      "photoUrl": "",
      "userId": "04520792891621341900"
     },
     "user_tz": -120
    },
    "id": "06VVne5LPJ5t",
    "outputId": "5b196ef3-1727-4ce6-8372-ffc6b318e393"
   },
   "outputs": [
    {
     "data": {
      "text/plain": [
       "True"
      ]
     },
     "execution_count": 6,
     "metadata": {
      "tags": []
     },
     "output_type": "execute_result"
    }
   ],
   "source": [
    "# check if ID are alphabetically ordered\n",
    "col_id = list(sub['ID'].values)\n",
    "col_id == sorted(list(sub['ID'].values))"
   ]
  },
  {
   "cell_type": "code",
   "execution_count": 7,
   "metadata": {
    "colab": {
     "base_uri": "https://localhost:8080/",
     "height": 51
    },
    "colab_type": "code",
    "executionInfo": {
     "elapsed": 306,
     "status": "ok",
     "timestamp": 1585679900846,
     "user": {
      "displayName": "jean rochefort",
      "photoUrl": "",
      "userId": "04520792891621341900"
     },
     "user_tz": -120
    },
    "id": "c6XAFSgoMhsj",
    "outputId": "bb23f139-3ea2-4588-fbcb-5b67ca15b733"
   },
   "outputs": [
    {
     "data": {
      "text/plain": [
       "6    911\n",
       "Name: len, dtype: int64"
      ]
     },
     "execution_count": 7,
     "metadata": {
      "tags": []
     },
     "output_type": "execute_result"
    }
   ],
   "source": [
    "sub['len'] = sub['ID'].apply(lambda x: len(x))\n",
    "sub['len'].value_counts()"
   ]
  },
  {
   "cell_type": "code",
   "execution_count": 8,
   "metadata": {
    "colab": {
     "base_uri": "https://localhost:8080/",
     "height": 34
    },
    "colab_type": "code",
    "executionInfo": {
     "elapsed": 687,
     "status": "ok",
     "timestamp": 1585679903403,
     "user": {
      "displayName": "jean rochefort",
      "photoUrl": "",
      "userId": "04520792891621341900"
     },
     "user_tz": -120
    },
    "id": "UGImuTUfNcCB",
    "outputId": "f0f338a2-f4b5-45b4-c95f-84cefc190955"
   },
   "outputs": [
    {
     "data": {
      "text/plain": [
       "40"
      ]
     },
     "execution_count": 8,
     "metadata": {
      "tags": []
     },
     "output_type": "execute_result"
    }
   ],
   "source": [
    "nb_class = len(birds)\n",
    "nb_class"
   ]
  },
  {
   "cell_type": "markdown",
   "metadata": {
    "colab_type": "text",
    "id": "nq9SjpzXyMK_"
   },
   "source": [
    "## The train dataset & images"
   ]
  },
  {
   "cell_type": "code",
   "execution_count": 21,
   "metadata": {
    "colab": {
     "base_uri": "https://localhost:8080/",
     "height": 204
    },
    "colab_type": "code",
    "executionInfo": {
     "elapsed": 395,
     "status": "ok",
     "timestamp": 1585684972864,
     "user": {
      "displayName": "jean rochefort",
      "photoUrl": "",
      "userId": "04520792891621341900"
     },
     "user_tz": -120
    },
    "id": "2gohsgwb5doS",
    "outputId": "d6f165e4-b7a6-40d8-f627-0d863c309e21"
   },
   "outputs": [
    {
     "data": {
      "text/html": [
       "<div>\n",
       "<style scoped>\n",
       "    .dataframe tbody tr th:only-of-type {\n",
       "        vertical-align: middle;\n",
       "    }\n",
       "\n",
       "    .dataframe tbody tr th {\n",
       "        vertical-align: top;\n",
       "    }\n",
       "\n",
       "    .dataframe thead th {\n",
       "        text-align: right;\n",
       "    }\n",
       "</style>\n",
       "<table border=\"1\" class=\"dataframe\">\n",
       "  <thead>\n",
       "    <tr style=\"text-align: right;\">\n",
       "      <th></th>\n",
       "      <th>ID</th>\n",
       "      <th>common_name</th>\n",
       "      <th>file_path</th>\n",
       "    </tr>\n",
       "  </thead>\n",
       "  <tbody>\n",
       "    <tr>\n",
       "      <th>0</th>\n",
       "      <td>MBMG2C</td>\n",
       "      <td>Ring-necked Dove</td>\n",
       "      <td>drive/My Drive/zindi/Train/MBMG2C.mp3</td>\n",
       "    </tr>\n",
       "    <tr>\n",
       "      <th>1</th>\n",
       "      <td>K8LJSB</td>\n",
       "      <td>Ring-necked Dove</td>\n",
       "      <td>drive/My Drive/zindi/Train/K8LJSB.mp3</td>\n",
       "    </tr>\n",
       "    <tr>\n",
       "      <th>2</th>\n",
       "      <td>OGD9L6</td>\n",
       "      <td>Ring-necked Dove</td>\n",
       "      <td>drive/My Drive/zindi/Train/OGD9L6.mp3</td>\n",
       "    </tr>\n",
       "    <tr>\n",
       "      <th>3</th>\n",
       "      <td>581PCQ</td>\n",
       "      <td>Ring-necked Dove</td>\n",
       "      <td>drive/My Drive/zindi/Train/581PCQ.mp3</td>\n",
       "    </tr>\n",
       "    <tr>\n",
       "      <th>4</th>\n",
       "      <td>P91M1F</td>\n",
       "      <td>Ring-necked Dove</td>\n",
       "      <td>drive/My Drive/zindi/Train/P91M1F.mp3</td>\n",
       "    </tr>\n",
       "  </tbody>\n",
       "</table>\n",
       "</div>"
      ],
      "text/plain": [
       "       ID       common_name                              file_path\n",
       "0  MBMG2C  Ring-necked Dove  drive/My Drive/zindi/Train/MBMG2C.mp3\n",
       "1  K8LJSB  Ring-necked Dove  drive/My Drive/zindi/Train/K8LJSB.mp3\n",
       "2  OGD9L6  Ring-necked Dove  drive/My Drive/zindi/Train/OGD9L6.mp3\n",
       "3  581PCQ  Ring-necked Dove  drive/My Drive/zindi/Train/581PCQ.mp3\n",
       "4  P91M1F  Ring-necked Dove  drive/My Drive/zindi/Train/P91M1F.mp3"
      ]
     },
     "execution_count": 21,
     "metadata": {
      "tags": []
     },
     "output_type": "execute_result"
    }
   ],
   "source": [
    "# same thing with train\n",
    "train = pd.read_csv(path + 'Train.csv')\n",
    "train['file_path'] = path + 'Train/' + train['ID'] + '.mp3'\n",
    "train.head()"
   ]
  },
  {
   "cell_type": "code",
   "execution_count": 0,
   "metadata": {
    "colab": {},
    "colab_type": "code",
    "id": "Axa6DrXkR6rj"
   },
   "outputs": [],
   "source": [
    "#train['file_path'] = path + 'Spectrograms_1_Train/' + train['ID'] + '.png'\n",
    "#train.head()"
   ]
  },
  {
   "cell_type": "markdown",
   "metadata": {
    "colab_type": "text",
    "id": "k93RJiB-48-G"
   },
   "source": [
    "# Infos on the tracks duration"
   ]
  },
  {
   "cell_type": "code",
   "execution_count": 29,
   "metadata": {
    "colab": {
     "base_uri": "https://localhost:8080/",
     "height": 204
    },
    "colab_type": "code",
    "executionInfo": {
     "elapsed": 474,
     "status": "ok",
     "timestamp": 1585689093751,
     "user": {
      "displayName": "jean rochefort",
      "photoUrl": "",
      "userId": "04520792891621341900"
     },
     "user_tz": -120
    },
    "id": "4NW_pSOmMC_7",
    "outputId": "da3d8504-00a7-4b30-d170-6467b89845c9"
   },
   "outputs": [
    {
     "data": {
      "text/html": [
       "<div>\n",
       "<style scoped>\n",
       "    .dataframe tbody tr th:only-of-type {\n",
       "        vertical-align: middle;\n",
       "    }\n",
       "\n",
       "    .dataframe tbody tr th {\n",
       "        vertical-align: top;\n",
       "    }\n",
       "\n",
       "    .dataframe thead th {\n",
       "        text-align: right;\n",
       "    }\n",
       "</style>\n",
       "<table border=\"1\" class=\"dataframe\">\n",
       "  <thead>\n",
       "    <tr style=\"text-align: right;\">\n",
       "      <th></th>\n",
       "      <th>ID</th>\n",
       "      <th>common_name</th>\n",
       "      <th>file_path</th>\n",
       "      <th>duration</th>\n",
       "    </tr>\n",
       "  </thead>\n",
       "  <tbody>\n",
       "    <tr>\n",
       "      <th>0</th>\n",
       "      <td>MBMG2C</td>\n",
       "      <td>Ring-necked Dove</td>\n",
       "      <td>drive/My Drive/zindi/Train/MBMG2C.mp3</td>\n",
       "      <td>16</td>\n",
       "    </tr>\n",
       "    <tr>\n",
       "      <th>1</th>\n",
       "      <td>K8LJSB</td>\n",
       "      <td>Ring-necked Dove</td>\n",
       "      <td>drive/My Drive/zindi/Train/K8LJSB.mp3</td>\n",
       "      <td>12</td>\n",
       "    </tr>\n",
       "    <tr>\n",
       "      <th>2</th>\n",
       "      <td>OGD9L6</td>\n",
       "      <td>Ring-necked Dove</td>\n",
       "      <td>drive/My Drive/zindi/Train/OGD9L6.mp3</td>\n",
       "      <td>70</td>\n",
       "    </tr>\n",
       "    <tr>\n",
       "      <th>3</th>\n",
       "      <td>581PCQ</td>\n",
       "      <td>Ring-necked Dove</td>\n",
       "      <td>drive/My Drive/zindi/Train/581PCQ.mp3</td>\n",
       "      <td>21</td>\n",
       "    </tr>\n",
       "    <tr>\n",
       "      <th>4</th>\n",
       "      <td>P91M1F</td>\n",
       "      <td>Ring-necked Dove</td>\n",
       "      <td>drive/My Drive/zindi/Train/P91M1F.mp3</td>\n",
       "      <td>39</td>\n",
       "    </tr>\n",
       "  </tbody>\n",
       "</table>\n",
       "</div>"
      ],
      "text/plain": [
       "       ID       common_name                              file_path  duration\n",
       "0  MBMG2C  Ring-necked Dove  drive/My Drive/zindi/Train/MBMG2C.mp3        16\n",
       "1  K8LJSB  Ring-necked Dove  drive/My Drive/zindi/Train/K8LJSB.mp3        12\n",
       "2  OGD9L6  Ring-necked Dove  drive/My Drive/zindi/Train/OGD9L6.mp3        70\n",
       "3  581PCQ  Ring-necked Dove  drive/My Drive/zindi/Train/581PCQ.mp3        21\n",
       "4  P91M1F  Ring-necked Dove  drive/My Drive/zindi/Train/P91M1F.mp3        39"
      ]
     },
     "execution_count": 29,
     "metadata": {
      "tags": []
     },
     "output_type": "execute_result"
    }
   ],
   "source": [
    "def get_audio_duration(file_path):\n",
    "    \"\"\"Load an audio file and returns its duration\"\"\"\n",
    "    y, sr = librosa.load(file_path)\n",
    "    return librosa.get_duration(y=y, sr=sr)\n",
    "\n",
    "\n",
    "\n",
    "new_train_csv = path + 'Train_with_duration.csv'\n",
    "if os.path.isfile(new_train_csv):\n",
    "    train = pd.read_csv(new_train_csv)\n",
    "else:\n",
    "    # tried this but takes a huge amount of time\n",
    "    # train['duration'] = train['file_path'].apply(lambda x: get_audio_duration(x))\n",
    "    l = []\n",
    "    for f in train['file_path'].values:\n",
    "          y, sr = librosa.load(f)\n",
    "          l.append(librosa.get_duration(y=y, sr=sr))\n",
    "    train['duration'] = [round(t) for t in l]\n",
    "    train.to_csv(new_train_csv)\n",
    "\n",
    "\n",
    "train.head()"
   ]
  },
  {
   "cell_type": "code",
   "execution_count": 37,
   "metadata": {
    "colab": {
     "base_uri": "https://localhost:8080/",
     "height": 388
    },
    "colab_type": "code",
    "executionInfo": {
     "elapsed": 831,
     "status": "ok",
     "timestamp": 1585689750634,
     "user": {
      "displayName": "jean rochefort",
      "photoUrl": "",
      "userId": "04520792891621341900"
     },
     "user_tz": -120
    },
    "id": "Kh2U1gaqdzRq",
    "outputId": "422a34fd-837c-429b-8d4b-439f4fc7bf78"
   },
   "outputs": [
    {
     "data": {
      "image/png": "[encoded data removed]",
      "text/plain": [
       "<Figure size 864x432 with 1 Axes>"
      ]
     },
     "metadata": {
      "tags": []
     },
     "output_type": "display_data"
    }
   ],
   "source": [
    "plt.figure(figsize=(12, 6))\n",
    "sns.distplot(train['duration'], kde=False, rug=False);"
   ]
  },
  {
   "cell_type": "code",
   "execution_count": 41,
   "metadata": {
    "colab": {
     "base_uri": "https://localhost:8080/",
     "height": 580
    },
    "colab_type": "code",
    "executionInfo": {
     "elapsed": 1489,
     "status": "ok",
     "timestamp": 1585690013056,
     "user": {
      "displayName": "jean rochefort",
      "photoUrl": "",
      "userId": "04520792891621341900"
     },
     "user_tz": -120
    },
    "id": "WAaMhjf_eQpp",
    "outputId": "96955bdf-674f-4116-ce3a-3ac787733838"
   },
   "outputs": [
    {
     "data": {
      "text/plain": [
       "<matplotlib.axes._subplots.AxesSubplot at 0x7f24514702b0>"
      ]
     },
     "execution_count": 41,
     "metadata": {
      "tags": []
     },
     "output_type": "execute_result"
    },
    {
     "data": {
      "image/png": "[encoded data removed]",
      "text/plain": [
       "<Figure size 1008x432 with 1 Axes>"
      ]
     },
     "metadata": {
      "tags": []
     },
     "output_type": "display_data"
    }
   ],
   "source": [
    "plt.figure(figsize=(14, 6))\n",
    "plt.xticks(rotation=90)\n",
    "plt.title('Boxplot of duration for each bird specy')\n",
    "sns.boxplot(x='common_name', y=\"duration\", data=train)   "
   ]
  },
  {
   "cell_type": "code",
   "execution_count": 44,
   "metadata": {
    "colab": {
     "base_uri": "https://localhost:8080/",
     "height": 34
    },
    "colab_type": "code",
    "executionInfo": {
     "elapsed": 790,
     "status": "ok",
     "timestamp": 1585690132792,
     "user": {
      "displayName": "jean rochefort",
      "photoUrl": "",
      "userId": "04520792891621341900"
     },
     "user_tz": -120
    },
    "id": "BE7gCKVCfPFY",
    "outputId": "cc070ab7-334b-4288-f263-238e0fb0e110"
   },
   "outputs": [
    {
     "data": {
      "text/plain": [
       "55"
      ]
     },
     "execution_count": 44,
     "metadata": {
      "tags": []
     },
     "output_type": "execute_result"
    }
   ],
   "source": [
    "train[train['duration'] <= 5].shape[0]"
   ]
  }
 ],
 "metadata": {
  "accelerator": "TPU",
  "colab": {
   "collapsed_sections": [],
   "name": "06_preprocessing_feat_engineering.ipynb",
   "provenance": []
  },
  "kernelspec": {
   "display_name": "Python 3 (ipykernel)",
   "language": "python",
   "name": "python3"
  },
  "language_info": {
   "codemirror_mode": {
    "name": "ipython",
    "version": 3
   },
   "file_extension": ".py",
   "mimetype": "text/x-python",
   "name": "python",
   "nbconvert_exporter": "python",
   "pygments_lexer": "ipython3",
   "version": "3.9.7"
  }
 },
 "nbformat": 4,
 "nbformat_minor": 1
}
