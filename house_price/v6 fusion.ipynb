{
 "cells": [
  {
   "cell_type": "markdown",
   "id": "db469aa5",
   "metadata": {},
   "source": [
    "# Introduction\n",
    "- description problème de recherche\n",
    "- hypothèse de recherche"
   ]
  },
  {
   "cell_type": "code",
   "execution_count": 50,
   "id": "a91c224b",
   "metadata": {},
   "outputs": [],
   "source": [
    "library(ggplot2);library(fitdistrplus);library(corrplot)\n",
    "library(randomForest);library(car)\n",
    "library(caret)\n",
    "\n",
    "# enlève les warnings / 0 pour les remettres\n",
    "options(warn=-1)"
   ]
  },
  {
   "cell_type": "code",
   "execution_count": 51,
   "id": "7b620c50",
   "metadata": {},
   "outputs": [
    {
     "name": "stdout",
     "output_type": "stream",
     "text": [
      " [1] \"MSSubClass\"    \"MSZoning\"      \"LotFrontage\"   \"LotArea\"      \n",
      " [5] \"Street\"        \"LotShape\"      \"LandContour\"   \"Utilities\"    \n",
      " [9] \"LotConfig\"     \"LandSlope\"     \"Neighborhood\"  \"Condition1\"   \n",
      "[13] \"Condition2\"    \"BldgType\"      \"HouseStyle\"    \"OverallQual\"  \n",
      "[17] \"OverallCond\"   \"YearBuilt\"     \"YearRemodAdd\"  \"RoofStyle\"    \n",
      "[21] \"RoofMatl\"      \"Exterior1st\"   \"Exterior2nd\"   \"MasVnrType\"   \n",
      "[25] \"MasVnrArea\"    \"ExterQual\"     \"ExterCond\"     \"Foundation\"   \n",
      "[29] \"BsmtQual\"      \"BsmtCond\"      \"BsmtExposure\"  \"BsmtFinType1\" \n",
      "[33] \"BsmtFinSF1\"    \"BsmtFinType2\"  \"BsmtFinSF2\"    \"BsmtUnfSF\"    \n",
      "[37] \"TotalBsmtSF\"   \"Heating\"       \"HeatingQC\"     \"CentralAir\"   \n",
      "[41] \"Electrical\"    \"X1stFlrSF\"     \"X2ndFlrSF\"     \"LowQualFinSF\" \n",
      "[45] \"GrLivArea\"     \"BsmtFullBath\"  \"BsmtHalfBath\"  \"FullBath\"     \n",
      "[49] \"HalfBath\"      \"BedroomAbvGr\"  \"KitchenAbvGr\"  \"KitchenQual\"  \n",
      "[53] \"TotRmsAbvGrd\"  \"Functional\"    \"Fireplaces\"    \"GarageType\"   \n",
      "[57] \"GarageYrBlt\"   \"GarageFinish\"  \"GarageCars\"    \"GarageArea\"   \n",
      "[61] \"GarageQual\"    \"GarageCond\"    \"PavedDrive\"    \"WoodDeckSF\"   \n",
      "[65] \"OpenPorchSF\"   \"EnclosedPorch\" \"X3SsnPorch\"    \"ScreenPorch\"  \n",
      "[69] \"PoolArea\"      \"MiscVal\"       \"MoSold\"        \"YrSold\"       \n",
      "[73] \"SaleType\"      \"SaleCondition\" \"SalePrice\"    \n"
     ]
    }
   ],
   "source": [
    "df_train = read.csv(\"../data/Train.csv\", header=TRUE)\n",
    "df_testt = read.csv(\"../data/Test.csv\", header=TRUE)\n",
    "\n",
    "print(names(df_train))"
   ]
  },
  {
   "cell_type": "code",
   "execution_count": 52,
   "id": "a6363fc1",
   "metadata": {},
   "outputs": [
    {
     "data": {
      "text/html": [
       "<ol class=list-inline>\n",
       "\t<li>1095</li>\n",
       "\t<li>75</li>\n",
       "</ol>\n"
      ],
      "text/latex": [
       "\\begin{enumerate*}\n",
       "\\item 1095\n",
       "\\item 75\n",
       "\\end{enumerate*}\n"
      ],
      "text/markdown": [
       "1. 1095\n",
       "2. 75\n",
       "\n",
       "\n"
      ],
      "text/plain": [
       "[1] 1095   75"
      ]
     },
     "metadata": {},
     "output_type": "display_data"
    },
    {
     "data": {
      "text/html": [
       "<ol class=list-inline>\n",
       "\t<li>365</li>\n",
       "\t<li>75</li>\n",
       "</ol>\n"
      ],
      "text/latex": [
       "\\begin{enumerate*}\n",
       "\\item 365\n",
       "\\item 75\n",
       "\\end{enumerate*}\n"
      ],
      "text/markdown": [
       "1. 365\n",
       "2. 75\n",
       "\n",
       "\n"
      ],
      "text/plain": [
       "[1] 365  75"
      ]
     },
     "metadata": {},
     "output_type": "display_data"
    },
    {
     "data": {
      "text/html": [
       "<ol class=list-inline>\n",
       "\t<li>1460</li>\n",
       "\t<li>75</li>\n",
       "</ol>\n"
      ],
      "text/latex": [
       "\\begin{enumerate*}\n",
       "\\item 1460\n",
       "\\item 75\n",
       "\\end{enumerate*}\n"
      ],
      "text/markdown": [
       "1. 1460\n",
       "2. 75\n",
       "\n",
       "\n"
      ],
      "text/plain": [
       "[1] 1460   75"
      ]
     },
     "metadata": {},
     "output_type": "display_data"
    }
   ],
   "source": [
    "df_all <- rbind(df_train, df_testt)\n",
    "\n",
    "dim(df_train)\n",
    "dim(df_testt)\n",
    "dim(df_all)"
   ]
  },
  {
   "cell_type": "code",
   "execution_count": 53,
   "id": "7e245efe",
   "metadata": {},
   "outputs": [
    {
     "name": "stdout",
     "output_type": "stream",
     "text": [
      "'data.frame':\t1095 obs. of  11 variables:\n",
      " $ MSSubClass : int  60 190 20 90 20 50 90 20 60 20 ...\n",
      " $ MSZoning   : Factor w/ 5 levels \"C (all)\",\"FV\",..: 4 4 4 4 4 4 4 4 4 4 ...\n",
      " $ LotFrontage: int  63 62 90 92 65 86 75 71 74 63 ...\n",
      " $ LotArea    : int  7875 10106 17217 12108 8450 11500 9825 9230 7472 8487 ...\n",
      " $ Street     : Factor w/ 2 levels \"Grvl\",\"Pave\": 2 2 2 2 2 2 2 2 2 2 ...\n",
      " $ LotShape   : Factor w/ 4 levels \"IR1\",\"IR2\",\"IR3\",..: 4 4 4 4 4 1 4 4 1 4 ...\n",
      " $ LandContour: Factor w/ 4 levels \"Bnk\",\"HLS\",\"Low\",..: 4 4 4 4 4 4 4 4 4 4 ...\n",
      " $ Utilities  : Factor w/ 2 levels \"AllPub\",\"NoSeWa\": 1 1 1 1 1 1 1 1 1 1 ...\n",
      " $ LotConfig  : Factor w/ 5 levels \"Corner\",\"CulDSac\",..: 5 5 5 5 5 5 5 1 2 3 ...\n",
      " $ LandSlope  : Factor w/ 3 levels \"Gtl\",\"Mod\",\"Sev\": 1 1 1 1 1 1 1 1 1 1 ...\n",
      " $ SalePrice  : int  180000 127500 84500 118000 179000 250000 100000 146000 184000 190000 ...\n"
     ]
    }
   ],
   "source": [
    "# affiche les 10 premières features et la target\n",
    "str(df_train[,c(1:10, 75)])"
   ]
  },
  {
   "cell_type": "code",
   "execution_count": 54,
   "id": "a02bd052",
   "metadata": {},
   "outputs": [
    {
     "data": {
      "text/html": [
       "<table>\n",
       "<thead><tr><th scope=col>MSSubClass</th><th scope=col>MSZoning</th><th scope=col>LotFrontage</th><th scope=col>LotArea</th><th scope=col>Street</th><th scope=col>LotShape</th><th scope=col>LandContour</th><th scope=col>Utilities</th><th scope=col>LotConfig</th><th scope=col>LandSlope</th><th scope=col>SalePrice</th></tr></thead>\n",
       "<tbody>\n",
       "\t<tr><td> 60   </td><td>RL    </td><td>63    </td><td> 7875 </td><td>Pave  </td><td>Reg   </td><td>Lvl   </td><td>AllPub</td><td>Inside</td><td>Gtl   </td><td>180000</td></tr>\n",
       "\t<tr><td>190   </td><td>RL    </td><td>62    </td><td>10106 </td><td>Pave  </td><td>Reg   </td><td>Lvl   </td><td>AllPub</td><td>Inside</td><td>Gtl   </td><td>127500</td></tr>\n",
       "\t<tr><td> 20   </td><td>RL    </td><td>90    </td><td>17217 </td><td>Pave  </td><td>Reg   </td><td>Lvl   </td><td>AllPub</td><td>Inside</td><td>Gtl   </td><td> 84500</td></tr>\n",
       "\t<tr><td> 90   </td><td>RL    </td><td>92    </td><td>12108 </td><td>Pave  </td><td>Reg   </td><td>Lvl   </td><td>AllPub</td><td>Inside</td><td>Gtl   </td><td>118000</td></tr>\n",
       "\t<tr><td> 20   </td><td>RL    </td><td>65    </td><td> 8450 </td><td>Pave  </td><td>Reg   </td><td>Lvl   </td><td>AllPub</td><td>Inside</td><td>Gtl   </td><td>179000</td></tr>\n",
       "\t<tr><td> 50   </td><td>RL    </td><td>86    </td><td>11500 </td><td>Pave  </td><td>IR1   </td><td>Lvl   </td><td>AllPub</td><td>Inside</td><td>Gtl   </td><td>250000</td></tr>\n",
       "</tbody>\n",
       "</table>\n"
      ],
      "text/latex": [
       "\\begin{tabular}{r|lllllllllll}\n",
       " MSSubClass & MSZoning & LotFrontage & LotArea & Street & LotShape & LandContour & Utilities & LotConfig & LandSlope & SalePrice\\\\\n",
       "\\hline\n",
       "\t  60    & RL     & 63     &  7875  & Pave   & Reg    & Lvl    & AllPub & Inside & Gtl    & 180000\\\\\n",
       "\t 190    & RL     & 62     & 10106  & Pave   & Reg    & Lvl    & AllPub & Inside & Gtl    & 127500\\\\\n",
       "\t  20    & RL     & 90     & 17217  & Pave   & Reg    & Lvl    & AllPub & Inside & Gtl    &  84500\\\\\n",
       "\t  90    & RL     & 92     & 12108  & Pave   & Reg    & Lvl    & AllPub & Inside & Gtl    & 118000\\\\\n",
       "\t  20    & RL     & 65     &  8450  & Pave   & Reg    & Lvl    & AllPub & Inside & Gtl    & 179000\\\\\n",
       "\t  50    & RL     & 86     & 11500  & Pave   & IR1    & Lvl    & AllPub & Inside & Gtl    & 250000\\\\\n",
       "\\end{tabular}\n"
      ],
      "text/markdown": [
       "\n",
       "| MSSubClass | MSZoning | LotFrontage | LotArea | Street | LotShape | LandContour | Utilities | LotConfig | LandSlope | SalePrice |\n",
       "|---|---|---|---|---|---|---|---|---|---|---|\n",
       "|  60    | RL     | 63     |  7875  | Pave   | Reg    | Lvl    | AllPub | Inside | Gtl    | 180000 |\n",
       "| 190    | RL     | 62     | 10106  | Pave   | Reg    | Lvl    | AllPub | Inside | Gtl    | 127500 |\n",
       "|  20    | RL     | 90     | 17217  | Pave   | Reg    | Lvl    | AllPub | Inside | Gtl    |  84500 |\n",
       "|  90    | RL     | 92     | 12108  | Pave   | Reg    | Lvl    | AllPub | Inside | Gtl    | 118000 |\n",
       "|  20    | RL     | 65     |  8450  | Pave   | Reg    | Lvl    | AllPub | Inside | Gtl    | 179000 |\n",
       "|  50    | RL     | 86     | 11500  | Pave   | IR1    | Lvl    | AllPub | Inside | Gtl    | 250000 |\n",
       "\n"
      ],
      "text/plain": [
       "  MSSubClass MSZoning LotFrontage LotArea Street LotShape LandContour Utilities\n",
       "1  60        RL       63           7875   Pave   Reg      Lvl         AllPub   \n",
       "2 190        RL       62          10106   Pave   Reg      Lvl         AllPub   \n",
       "3  20        RL       90          17217   Pave   Reg      Lvl         AllPub   \n",
       "4  90        RL       92          12108   Pave   Reg      Lvl         AllPub   \n",
       "5  20        RL       65           8450   Pave   Reg      Lvl         AllPub   \n",
       "6  50        RL       86          11500   Pave   IR1      Lvl         AllPub   \n",
       "  LotConfig LandSlope SalePrice\n",
       "1 Inside    Gtl       180000   \n",
       "2 Inside    Gtl       127500   \n",
       "3 Inside    Gtl        84500   \n",
       "4 Inside    Gtl       118000   \n",
       "5 Inside    Gtl       179000   \n",
       "6 Inside    Gtl       250000   "
      ]
     },
     "metadata": {},
     "output_type": "display_data"
    }
   ],
   "source": [
    "head(df_all[,c(1:10, 75)])"
   ]
  },
  {
   "cell_type": "code",
   "execution_count": 55,
   "id": "82c24b19",
   "metadata": {},
   "outputs": [
    {
     "data": {
      "text/html": [
       "0"
      ],
      "text/latex": [
       "0"
      ],
      "text/markdown": [
       "0"
      ],
      "text/plain": [
       "[1] 0"
      ]
     },
     "metadata": {},
     "output_type": "display_data"
    }
   ],
   "source": [
    "nrow(df_all) - nrow(unique(df_all))"
   ]
  },
  {
   "cell_type": "code",
   "execution_count": 56,
   "id": "df5bc2af",
   "metadata": {},
   "outputs": [
    {
     "data": {
      "text/html": [
       "FALSE"
      ],
      "text/latex": [
       "FALSE"
      ],
      "text/markdown": [
       "FALSE"
      ],
      "text/plain": [
       "[1] FALSE"
      ]
     },
     "metadata": {},
     "output_type": "display_data"
    },
    {
     "data": {
      "text/html": [
       "0"
      ],
      "text/latex": [
       "0"
      ],
      "text/markdown": [
       "0"
      ],
      "text/plain": [
       "[1] 0"
      ]
     },
     "metadata": {},
     "output_type": "display_data"
    }
   ],
   "source": [
    "any(is.na(df_all))\n",
    "sum(is.na(df_all)) "
   ]
  },
  {
   "cell_type": "markdown",
   "id": "ced5a410",
   "metadata": {},
   "source": [
    "## commande pour compter les zéros et % des variables numériques ???\n",
    "## suppression des variables numériques avec plus de 88% de zéros ???\n"
   ]
  },
  {
   "cell_type": "markdown",
   "id": "11aa88f5",
   "metadata": {},
   "source": [
    "---\n",
    "# Analyse exploratoire\n",
    "- graphes statistiques élémentaires pour les variables et paires de variables\n",
    "- Cullen-Frey pour l’étude de la distribution de la variable cible.\n",
    "- Décrivez vos résultats"
   ]
  },
  {
   "cell_type": "markdown",
   "id": "3fae633e",
   "metadata": {},
   "source": [
    "## Compréhension de la target"
   ]
  },
  {
   "cell_type": "code",
   "execution_count": 9,
   "id": "14e8e9cd",
   "metadata": {},
   "outputs": [
    {
     "data": {
      "text/plain": [
       "summary statistics\n",
       "------\n",
       "min:  34900   max:  755000 \n",
       "median:  163000 \n",
       "mean:  180921.2 \n",
       "estimated sd:  79442.5 \n",
       "estimated skewness:  1.882876 \n",
       "estimated kurtosis:  9.536282 "
      ]
     },
     "metadata": {},
     "output_type": "display_data"
    },
    {
     "data": {
      "image/png": "[encoded data removed]",
      "text/plain": [
       "Plot with title \"Cullen and Frey graph\""
      ]
     },
     "metadata": {},
     "output_type": "display_data"
    }
   ],
   "source": [
    "options(repr.plot.width = 4, repr.plot.height = 4)\n",
    "\n",
    "descdist(df_all$SalePrice)"
   ]
  },
  {
   "cell_type": "markdown",
   "id": "b686af24",
   "metadata": {},
   "source": [
    "dddddddddddd"
   ]
  },
  {
   "cell_type": "code",
   "execution_count": 10,
   "id": "d03afba7",
   "metadata": {},
   "outputs": [
    {
     "data": {
      "text/plain": [
       "summary statistics\n",
       "------\n",
       "min:  10.46024   max:  13.53447 \n",
       "median:  12.00151 \n",
       "mean:  12.02405 \n",
       "estimated sd:  0.3994519 \n",
       "estimated skewness:  0.1213351 \n",
       "estimated kurtosis:  3.809532 "
      ]
     },
     "metadata": {},
     "output_type": "display_data"
    },
    {
     "data": {
      "image/png": "[encoded data removed]",
      "text/plain": [
       "Plot with title \"Cullen and Frey graph\""
      ]
     },
     "metadata": {},
     "output_type": "display_data"
    }
   ],
   "source": [
    "descdist(log(df_all$SalePrice))"
   ]
  },
  {
   "cell_type": "markdown",
   "id": "753c0400",
   "metadata": {},
   "source": [
    "La target est décalée vers la gauche (skewed), ceci pourrait s'expliquer par le fait que les prix les plus élevés ne sont pas abordables pour la plupart des gens"
   ]
  },
  {
   "cell_type": "code",
   "execution_count": 11,
   "id": "0f7512fc",
   "metadata": {},
   "outputs": [
    {
     "data": {
      "image/png": "[encoded data removed]",
      "text/plain": [
       "plot without title"
      ]
     },
     "metadata": {},
     "output_type": "display_data"
    },
    {
     "data": {
      "image/png": "[encoded data removed]",
      "text/plain": [
       "plot without title"
      ]
     },
     "metadata": {},
     "output_type": "display_data"
    }
   ],
   "source": [
    "options(repr.plot.width = 6, repr.plot.height = 3)\n",
    "\n",
    "ggplot(data = df_all[!is.na(df_all$SalePrice),], aes(x=SalePrice)) +\n",
    "        geom_histogram(bins=100, fill=\"blue\", aes(y = ..density..)) +\n",
    "        geom_density() + labs(subtitle=\"Distribution de la target non modifiée\")\n",
    "\n",
    "ggplot(data=df_all[!is.na(df_all$SalePrice),], aes(x=log(SalePrice))) +\n",
    "        geom_histogram(bins=100, fill=\"blue\", aes(y = ..density..)) +\n",
    "        geom_density() + labs(subtitle=\"Distribution du log de la target\")"
   ]
  },
  {
   "cell_type": "markdown",
   "id": "6a30259d",
   "metadata": {},
   "source": [
    "## Analyse de certaines features"
   ]
  },
  {
   "cell_type": "markdown",
   "id": "20024159",
   "metadata": {},
   "source": [
    "recherche des points extremes sur les ggplot entre log(saleprice) et variables quanti\n"
   ]
  },
  {
   "cell_type": "code",
   "execution_count": 12,
   "id": "166e52ad",
   "metadata": {},
   "outputs": [
    {
     "name": "stderr",
     "output_type": "stream",
     "text": [
      "`geom_smooth()` using method = 'gam' and formula 'y ~ s(x, bs = \"cs\")'\n"
     ]
    },
    {
     "data": {
      "image/png": "[encoded data removed]",
      "text/plain": [
       "plot without title"
      ]
     },
     "metadata": {},
     "output_type": "display_data"
    }
   ],
   "source": [
    "ggplot(df_all, aes(x=OverallQual, y=log(SalePrice))) + geom_point()+geom_smooth()+geom_density2d(color = \"red\")"
   ]
  },
  {
   "cell_type": "code",
   "execution_count": 13,
   "id": "7774b41b",
   "metadata": {},
   "outputs": [
    {
     "data": {
      "image/png": "[encoded data removed]",
      "text/plain": [
       "plot without title"
      ]
     },
     "metadata": {},
     "output_type": "display_data"
    }
   ],
   "source": [
    "ggplot(data = df_all[!is.na(df_all$SalePrice),], aes(x=factor(OverallQual), y=SalePrice))+\n",
    "        geom_boxplot(col='blue') + labs(subtitle=\"Title\")"
   ]
  },
  {
   "cell_type": "code",
   "execution_count": 14,
   "id": "cb916d9b",
   "metadata": {},
   "outputs": [
    {
     "name": "stderr",
     "output_type": "stream",
     "text": [
      "`geom_smooth()` using method = 'gam' and formula 'y ~ s(x, bs = \"cs\")'\n"
     ]
    },
    {
     "data": {
      "image/png": "[encoded data removed]",
      "text/plain": [
       "plot without title"
      ]
     },
     "metadata": {},
     "output_type": "display_data"
    }
   ],
   "source": [
    "ggplot(df_all,aes(x = GrLivArea, y =log(SalePrice),color=X2ndFlrSF)) + geom_point()+geom_smooth()+geom_density2d(color = \"red\")"
   ]
  },
  {
   "cell_type": "markdown",
   "id": "29587250",
   "metadata": {},
   "source": [
    "points à supprimer au-delà de 4000 pour  GrLivArea\n",
    "justificatif : surface habitable (hors sous sol) -> 5000 square feet le plus grand mais avec un prix très en dessous = donc hors norme"
   ]
  },
  {
   "cell_type": "code",
   "execution_count": 15,
   "id": "bc2d26c3",
   "metadata": {},
   "outputs": [
    {
     "name": "stderr",
     "output_type": "stream",
     "text": [
      "`geom_smooth()` using method = 'gam' and formula 'y ~ s(x, bs = \"cs\")'\n"
     ]
    },
    {
     "data": {
      "image/png": "[encoded data removed]",
      "text/plain": [
       "plot without title"
      ]
     },
     "metadata": {},
     "output_type": "display_data"
    }
   ],
   "source": [
    "ggplot(df_all,aes(x = GarageArea, y =log(SalePrice),color=GarageCars)) + geom_point()+geom_smooth()+geom_density2d(color = \"red\")\n"
   ]
  },
  {
   "cell_type": "markdown",
   "id": "e5ad2c22",
   "metadata": {},
   "source": [
    "retirer les 3 points extremes  au-delà de 1500 pour GarageArea surface de parking  \n",
    "justificatif surface de parking les plus grandes mais un prix en dessous "
   ]
  },
  {
   "cell_type": "code",
   "execution_count": 16,
   "id": "e5218e6e",
   "metadata": {},
   "outputs": [
    {
     "name": "stderr",
     "output_type": "stream",
     "text": [
      "`geom_smooth()` using method = 'gam' and formula 'y ~ s(x, bs = \"cs\")'\n"
     ]
    },
    {
     "data": {
      "image/png": "[encoded data removed]",
      "text/plain": [
       "plot without title"
      ]
     },
     "metadata": {},
     "output_type": "display_data"
    }
   ],
   "source": [
    "ggplot(df_all,aes(x = GarageCars, y =log(SalePrice))) + geom_point()+geom_smooth()+geom_density2d(color = \"red\")"
   ]
  },
  {
   "cell_type": "markdown",
   "id": "614b47ca",
   "metadata": {},
   "source": [
    "rien à retirer"
   ]
  },
  {
   "cell_type": "code",
   "execution_count": 17,
   "id": "0c2eab1f",
   "metadata": {},
   "outputs": [
    {
     "name": "stderr",
     "output_type": "stream",
     "text": [
      "`geom_smooth()` using method = 'gam' and formula 'y ~ s(x, bs = \"cs\")'\n"
     ]
    },
    {
     "data": {
      "image/png": "[encoded data removed]",
      "text/plain": [
       "plot without title"
      ]
     },
     "metadata": {},
     "output_type": "display_data"
    }
   ],
   "source": [
    "ggplot(df_all,aes(x = X1stFlrSF, y =log(SalePrice))) + geom_point()+geom_smooth()+geom_density2d(color = \"red\")"
   ]
  },
  {
   "cell_type": "markdown",
   "id": "c9cee5e0",
   "metadata": {},
   "source": [
    "retirer le  point extremes  au-delà de 4500 pour X1stFlrSF  \n",
    "justification surface au 1ier étage la plus elevée pour prix très bas"
   ]
  },
  {
   "cell_type": "code",
   "execution_count": 18,
   "id": "95beba4c",
   "metadata": {},
   "outputs": [
    {
     "name": "stderr",
     "output_type": "stream",
     "text": [
      "`geom_smooth()` using method = 'gam' and formula 'y ~ s(x, bs = \"cs\")'\n"
     ]
    },
    {
     "data": {
      "image/png": "[encoded data removed]",
      "text/plain": [
       "plot without title"
      ]
     },
     "metadata": {},
     "output_type": "display_data"
    }
   ],
   "source": [
    "ggplot(df_all,aes(x = TotalBsmtSF, y =log(SalePrice),color=X1stFlrSF)) + geom_point()+geom_smooth()+geom_density2d(color = \"red\")"
   ]
  },
  {
   "cell_type": "markdown",
   "id": "575b3814",
   "metadata": {},
   "source": [
    "retirer le point extreme  à droite 6000 pour TotalBsmtSF  \n",
    "tjrs la même logique ici total surface sous sol très elevé pour un prix décalé"
   ]
  },
  {
   "cell_type": "code",
   "execution_count": 19,
   "id": "2ecdc1a0",
   "metadata": {},
   "outputs": [
    {
     "name": "stderr",
     "output_type": "stream",
     "text": [
      "`geom_smooth()` using method = 'gam' and formula 'y ~ s(x, bs = \"cs\")'\n"
     ]
    },
    {
     "data": {
      "image/png": "[encoded data removed]",
      "text/plain": [
       "plot without title"
      ]
     },
     "metadata": {},
     "output_type": "display_data"
    }
   ],
   "source": [
    "ggplot(df_all, aes(x = FullBath, y =log(SalePrice))) + geom_point()+geom_smooth()+geom_density2d(color = \"red\")"
   ]
  },
  {
   "cell_type": "markdown",
   "id": "98e5669e",
   "metadata": {},
   "source": [
    "rien à retirer  pas de point extreme "
   ]
  },
  {
   "cell_type": "code",
   "execution_count": 20,
   "id": "2930efaf",
   "metadata": {},
   "outputs": [
    {
     "name": "stderr",
     "output_type": "stream",
     "text": [
      "`geom_smooth()` using method = 'gam' and formula 'y ~ s(x, bs = \"cs\")'\n"
     ]
    },
    {
     "data": {
      "image/png": "[encoded data removed]",
      "text/plain": [
       "plot without title"
      ]
     },
     "metadata": {},
     "output_type": "display_data"
    }
   ],
   "source": [
    "ggplot(df_all, aes(x = YearBuilt, y =log(SalePrice),color=GarageYrBlt)) + geom_point()+geom_smooth()+geom_density2d(color = \"red\")"
   ]
  },
  {
   "cell_type": "markdown",
   "id": "e61ddbba",
   "metadata": {},
   "source": [
    "rien à retirer  pas de point extreme "
   ]
  },
  {
   "cell_type": "code",
   "execution_count": 21,
   "id": "cefa77da",
   "metadata": {},
   "outputs": [
    {
     "name": "stderr",
     "output_type": "stream",
     "text": [
      "`geom_smooth()` using method = 'gam' and formula 'y ~ s(x, bs = \"cs\")'\n"
     ]
    },
    {
     "data": {
      "image/png": "[encoded data removed]",
      "text/plain": [
       "plot without title"
      ]
     },
     "metadata": {},
     "output_type": "display_data"
    }
   ],
   "source": [
    "ggplot(df_all, aes(x = GarageYrBlt, y =log(SalePrice))) + geom_point()+geom_smooth()+geom_density2d(color = \"red\")"
   ]
  },
  {
   "cell_type": "markdown",
   "id": "a85af3d3",
   "metadata": {},
   "source": [
    "rien à retirer  pas de point extreme "
   ]
  },
  {
   "cell_type": "code",
   "execution_count": 22,
   "id": "1c6b20cf",
   "metadata": {},
   "outputs": [
    {
     "name": "stderr",
     "output_type": "stream",
     "text": [
      "`geom_smooth()` using method = 'gam' and formula 'y ~ s(x, bs = \"cs\")'\n"
     ]
    },
    {
     "data": {
      "image/png": "[encoded data removed]",
      "text/plain": [
       "plot without title"
      ]
     },
     "metadata": {},
     "output_type": "display_data"
    }
   ],
   "source": [
    "ggplot(df_all, aes(x = YearRemodAdd, y =log(SalePrice))) + geom_point()+geom_smooth()+geom_density2d(color = \"red\")"
   ]
  },
  {
   "cell_type": "markdown",
   "id": "6e342f93",
   "metadata": {},
   "source": [
    "rien à retirer  pas de point extreme "
   ]
  },
  {
   "cell_type": "code",
   "execution_count": 23,
   "id": "4ec9c8e7",
   "metadata": {},
   "outputs": [
    {
     "name": "stderr",
     "output_type": "stream",
     "text": [
      "`geom_smooth()` using method = 'gam' and formula 'y ~ s(x, bs = \"cs\")'\n"
     ]
    },
    {
     "data": {
      "image/png": "[encoded data removed]",
      "text/plain": [
       "plot without title"
      ]
     },
     "metadata": {},
     "output_type": "display_data"
    }
   ],
   "source": [
    "ggplot(df_all, aes(x = MasVnrArea, y =log(SalePrice))) + geom_point()+geom_smooth()+geom_density2d(color = \"red\")"
   ]
  },
  {
   "cell_type": "markdown",
   "id": "62bf55b1",
   "metadata": {},
   "source": [
    "point au-delà de 1250 à supprimer ??  \n",
    "semble etre la surface de maconnerie "
   ]
  },
  {
   "cell_type": "code",
   "execution_count": 24,
   "id": "58edd1a2",
   "metadata": {},
   "outputs": [
    {
     "name": "stderr",
     "output_type": "stream",
     "text": [
      "`geom_smooth()` using method = 'gam' and formula 'y ~ s(x, bs = \"cs\")'\n"
     ]
    },
    {
     "data": {
      "image/png": "[encoded data removed]",
      "text/plain": [
       "plot without title"
      ]
     },
     "metadata": {},
     "output_type": "display_data"
    }
   ],
   "source": [
    "ggplot(df_all, aes(x = Fireplaces, y =log(SalePrice))) + geom_point()+geom_smooth()+geom_density2d(color = \"red\")"
   ]
  },
  {
   "cell_type": "markdown",
   "id": "b28acd22",
   "metadata": {},
   "source": [
    "rien à retirer  pas de point extreme "
   ]
  },
  {
   "cell_type": "markdown",
   "id": "0b9be47f",
   "metadata": {},
   "source": [
    "## Etudes des corrélations pour les features quantitatives\n",
    "regardons dans un 1er temps les features numériques qui sont les plus fortement corrélées avec la target pour voir qu'elles sont celles qui ont le plus d'influcence.\n",
    "\n",
    "Il y a 19 features numériques sur les 37 dont la corrélation est en valeur absolue supérieure à 0.3. Il est à noter que toute les corrélations sont positives car tous les chiffres sont positifs."
   ]
  },
  {
   "cell_type": "code",
   "execution_count": 25,
   "id": "7a851e48",
   "metadata": {},
   "outputs": [
    {
     "data": {
      "text/html": [
       "37"
      ],
      "text/latex": [
       "37"
      ],
      "text/markdown": [
       "37"
      ],
      "text/plain": [
       "[1] 37"
      ]
     },
     "metadata": {},
     "output_type": "display_data"
    }
   ],
   "source": [
    "# index des vecteur de variables numériques\n",
    "numericVars <- which(sapply(df_all, is.numeric))\n",
    "\n",
    "# liste des noms correspondants à ces vecteurs\n",
    "numericVarNames <- names(numericVars) \n",
    "\n",
    "# nombre\n",
    "length(numericVars)"
   ]
  },
  {
   "cell_type": "code",
   "execution_count": 26,
   "id": "9e01cc57",
   "metadata": {},
   "outputs": [
    {
     "data": {
      "image/png": "[encoded data removed]",
      "text/plain": [
       "Plot with title \"\""
      ]
     },
     "metadata": {},
     "output_type": "display_data"
    }
   ],
   "source": [
    "all_numVar <- df_all[, numericVars]\n",
    "\n",
    "# correlations de toutes les features numériques\n",
    "cor_numVar <- cor(all_numVar, use=\"pairwise.complete.obs\") \n",
    "\n",
    "options(repr.plot.width = 20, repr.plot.height = 10)\n",
    "\n",
    "# classement decroissant des corrélations avec la target\n",
    "cor_sorted <- as.matrix(sort(cor_numVar[,'SalePrice'], decreasing = TRUE))\n",
    "\n",
    "# filtre pour ne garder que les corrélations supérieurs en val. abs. à 0.3\n",
    "CorHigh <- names(which(apply(cor_sorted, 1, function(x) (x > 0.3 | x < -0.3))))\n",
    "cor_numVar <- cor_numVar[CorHigh, CorHigh]\n",
    "\n",
    "# affiche le graphe\n",
    "corrplot.mixed(cor_numVar, tl.col=\"black\", tl.pos = \"lt\")"
   ]
  },
  {
   "cell_type": "markdown",
   "id": "03ba5bc2",
   "metadata": {},
   "source": [
    "### feature engineering focus sur les surfaces"
   ]
  },
  {
   "cell_type": "markdown",
   "id": "91c1a17a",
   "metadata": {},
   "source": [
    "corrélation entre la target et la surface au sol:"
   ]
  },
  {
   "cell_type": "code",
   "execution_count": 27,
   "id": "5931ec3c",
   "metadata": {},
   "outputs": [
    {
     "data": {
      "text/html": [
       "0.708624477612652"
      ],
      "text/latex": [
       "0.708624477612652"
      ],
      "text/markdown": [
       "0.708624477612652"
      ],
      "text/plain": [
       "[1] 0.7086245"
      ]
     },
     "metadata": {},
     "output_type": "display_data"
    }
   ],
   "source": [
    "cor(df_all$SalePrice, df_all$GrLivArea, use= \"pairwise.complete.obs\")"
   ]
  },
  {
   "cell_type": "markdown",
   "id": "50f90d30",
   "metadata": {},
   "source": [
    "même chose avec le sous-sol"
   ]
  },
  {
   "cell_type": "code",
   "execution_count": 28,
   "id": "7f9c2429",
   "metadata": {},
   "outputs": [
    {
     "data": {
      "text/html": [
       "0.613580551559195"
      ],
      "text/latex": [
       "0.613580551559195"
      ],
      "text/markdown": [
       "0.613580551559195"
      ],
      "text/plain": [
       "[1] 0.6135806"
      ]
     },
     "metadata": {},
     "output_type": "display_data"
    }
   ],
   "source": [
    "cor(df_all$SalePrice, df_all$TotalBsmtSF, use= \"pairwise.complete.obs\")"
   ]
  },
  {
   "cell_type": "markdown",
   "id": "1a924c57",
   "metadata": {},
   "source": [
    "la somme des deux présente une corrélation plus forte:"
   ]
  },
  {
   "cell_type": "code",
   "execution_count": 29,
   "id": "5a2310d0",
   "metadata": {},
   "outputs": [
    {
     "data": {
      "text/html": [
       "0.778958828994226"
      ],
      "text/latex": [
       "0.778958828994226"
      ],
      "text/markdown": [
       "0.778958828994226"
      ],
      "text/plain": [
       "[1] 0.7789588"
      ]
     },
     "metadata": {},
     "output_type": "display_data"
    }
   ],
   "source": [
    "cor(df_all$SalePrice, df_all$GrLivArea + df_all$TotalBsmtSF, use= \"pairwise.complete.obs\")"
   ]
  },
  {
   "cell_type": "markdown",
   "id": "d638c347",
   "metadata": {},
   "source": [
    "ce qui est mis en évidence par le scatter plot suivant:"
   ]
  },
  {
   "cell_type": "code",
   "execution_count": 30,
   "id": "d941370c",
   "metadata": {},
   "outputs": [
    {
     "data": {
      "image/png": "[encoded data removed]",
      "text/plain": [
       "plot without title"
      ]
     },
     "metadata": {},
     "output_type": "display_data"
    }
   ],
   "source": [
    "ggplot(data=df_all[!is.na(df_all$SalePrice),], aes(x=GrLivArea, y=SalePrice))+\n",
    "        geom_point(col='blue') + geom_smooth(method = \"lm\", se=FALSE, color=\"black\", aes(group=1)) +\n",
    "        scale_y_continuous(breaks= seq(0, 800000, by=100000))"
   ]
  },
  {
   "cell_type": "markdown",
   "id": "2cb93b36",
   "metadata": {},
   "source": [
    "même chose avec le 1er étage:"
   ]
  },
  {
   "cell_type": "code",
   "execution_count": 31,
   "id": "83d164c7",
   "metadata": {},
   "outputs": [
    {
     "data": {
      "text/html": [
       "0.605852184691915"
      ],
      "text/latex": [
       "0.605852184691915"
      ],
      "text/markdown": [
       "0.605852184691915"
      ],
      "text/plain": [
       "[1] 0.6058522"
      ]
     },
     "metadata": {},
     "output_type": "display_data"
    }
   ],
   "source": [
    "cor(df_all$SalePrice, df_all$X1stFlrSF, use= \"pairwise.complete.obs\")"
   ]
  },
  {
   "cell_type": "code",
   "execution_count": 32,
   "id": "7a528904",
   "metadata": {},
   "outputs": [
    {
     "data": {
      "text/html": [
       "0.749183041469904"
      ],
      "text/latex": [
       "0.749183041469904"
      ],
      "text/markdown": [
       "0.749183041469904"
      ],
      "text/plain": [
       "[1] 0.749183"
      ]
     },
     "metadata": {},
     "output_type": "display_data"
    }
   ],
   "source": [
    "cor(df_all$SalePrice, df_all$GrLivArea + df_all$X1stFlrSF, use= \"pairwise.complete.obs\")"
   ]
  },
  {
   "cell_type": "code",
   "execution_count": 33,
   "id": "bf690f18",
   "metadata": {},
   "outputs": [
    {
     "data": {
      "text/html": [
       "0.757757680443805"
      ],
      "text/latex": [
       "0.757757680443805"
      ],
      "text/markdown": [
       "0.757757680443805"
      ],
      "text/plain": [
       "[1] 0.7577577"
      ]
     },
     "metadata": {},
     "output_type": "display_data"
    }
   ],
   "source": [
    "cor(df_all$SalePrice, df_all$GrLivArea + df_all$TotalBsmtSF + df_all$X1stFlrSF, use= \"pairwise.complete.obs\")"
   ]
  },
  {
   "cell_type": "markdown",
   "id": "3013e4a9",
   "metadata": {},
   "source": [
    "même chose avec \"lot area\":"
   ]
  },
  {
   "cell_type": "code",
   "execution_count": 34,
   "id": "5a5c1244",
   "metadata": {},
   "outputs": [
    {
     "data": {
      "text/html": [
       "0.319082336651991"
      ],
      "text/latex": [
       "0.319082336651991"
      ],
      "text/markdown": [
       "0.319082336651991"
      ],
      "text/plain": [
       "[1] 0.3190823"
      ]
     },
     "metadata": {},
     "output_type": "display_data"
    }
   ],
   "source": [
    "cor(df_all$SalePrice, df_all$GrLivArea + df_all$TotalBsmtSF + df_all$LotArea, use= \"pairwise.complete.obs\")"
   ]
  },
  {
   "cell_type": "code",
   "execution_count": 35,
   "id": "588d1a51",
   "metadata": {},
   "outputs": [
    {
     "data": {
      "text/html": [
       "0.263843353871406"
      ],
      "text/latex": [
       "0.263843353871406"
      ],
      "text/markdown": [
       "0.263843353871406"
      ],
      "text/plain": [
       "[1] 0.2638434"
      ]
     },
     "metadata": {},
     "output_type": "display_data"
    }
   ],
   "source": [
    "cor(df_all$SalePrice, df_all$LotArea, use= \"pairwise.complete.obs\")"
   ]
  },
  {
   "cell_type": "code",
   "execution_count": 36,
   "id": "254a1fa3",
   "metadata": {},
   "outputs": [
    {
     "data": {
      "text/html": [
       "<table>\n",
       "<thead><tr><th></th><th scope=col>MSSubClass</th><th scope=col>MSZoning</th><th scope=col>LotFrontage</th><th scope=col>LotArea</th><th scope=col>Street</th><th scope=col>LotShape</th><th scope=col>LandContour</th><th scope=col>Utilities</th><th scope=col>LotConfig</th><th scope=col>LandSlope</th><th scope=col>...</th><th scope=col>EnclosedPorch</th><th scope=col>X3SsnPorch</th><th scope=col>ScreenPorch</th><th scope=col>PoolArea</th><th scope=col>MiscVal</th><th scope=col>MoSold</th><th scope=col>YrSold</th><th scope=col>SaleType</th><th scope=col>SaleCondition</th><th scope=col>SalePrice</th></tr></thead>\n",
       "<tbody>\n",
       "\t<tr><th scope=row>317</th><td>60     </td><td>RL     </td><td>160    </td><td>15623  </td><td>Pave   </td><td>IR1    </td><td>Lvl    </td><td>AllPub </td><td>Corner </td><td>Gtl    </td><td>...    </td><td>0      </td><td>0      </td><td>0      </td><td>555    </td><td>0      </td><td> 7     </td><td>2007   </td><td>WD     </td><td>Abnorml</td><td>745000 </td></tr>\n",
       "\t<tr><th scope=row>720</th><td>60     </td><td>RL     </td><td>313    </td><td>63887  </td><td>Pave   </td><td>IR3    </td><td>Bnk    </td><td>AllPub </td><td>Corner </td><td>Gtl    </td><td>...    </td><td>0      </td><td>0      </td><td>0      </td><td>480    </td><td>0      </td><td> 1     </td><td>2008   </td><td>New    </td><td>Partial</td><td>160000 </td></tr>\n",
       "\t<tr><th scope=row>819</th><td>60     </td><td>RL     </td><td>130    </td><td>40094  </td><td>Pave   </td><td>IR1    </td><td>Bnk    </td><td>AllPub </td><td>Inside </td><td>Gtl    </td><td>...    </td><td>0      </td><td>0      </td><td>0      </td><td>  0    </td><td>0      </td><td>10     </td><td>2007   </td><td>New    </td><td>Partial</td><td>184750 </td></tr>\n",
       "</tbody>\n",
       "</table>\n"
      ],
      "text/latex": [
       "\\begin{tabular}{r|lllllllllllllllllllllllllllllllllllllllllllllllllllllllllllllllllllllllllll}\n",
       "  & MSSubClass & MSZoning & LotFrontage & LotArea & Street & LotShape & LandContour & Utilities & LotConfig & LandSlope & ... & EnclosedPorch & X3SsnPorch & ScreenPorch & PoolArea & MiscVal & MoSold & YrSold & SaleType & SaleCondition & SalePrice\\\\\n",
       "\\hline\n",
       "\t317 & 60      & RL      & 160     & 15623   & Pave    & IR1     & Lvl     & AllPub  & Corner  & Gtl     & ...     & 0       & 0       & 0       & 555     & 0       &  7      & 2007    & WD      & Abnorml & 745000 \\\\\n",
       "\t720 & 60      & RL      & 313     & 63887   & Pave    & IR3     & Bnk     & AllPub  & Corner  & Gtl     & ...     & 0       & 0       & 0       & 480     & 0       &  1      & 2008    & New     & Partial & 160000 \\\\\n",
       "\t819 & 60      & RL      & 130     & 40094   & Pave    & IR1     & Bnk     & AllPub  & Inside  & Gtl     & ...     & 0       & 0       & 0       &   0     & 0       & 10      & 2007    & New     & Partial & 184750 \\\\\n",
       "\\end{tabular}\n"
      ],
      "text/markdown": [
       "\n",
       "| <!--/--> | MSSubClass | MSZoning | LotFrontage | LotArea | Street | LotShape | LandContour | Utilities | LotConfig | LandSlope | ... | EnclosedPorch | X3SsnPorch | ScreenPorch | PoolArea | MiscVal | MoSold | YrSold | SaleType | SaleCondition | SalePrice |\n",
       "|---|---|---|---|---|---|---|---|---|---|---|---|---|---|---|---|---|---|---|---|---|---|\n",
       "| 317 | 60      | RL      | 160     | 15623   | Pave    | IR1     | Lvl     | AllPub  | Corner  | Gtl     | ...     | 0       | 0       | 0       | 555     | 0       |  7      | 2007    | WD      | Abnorml | 745000  |\n",
       "| 720 | 60      | RL      | 313     | 63887   | Pave    | IR3     | Bnk     | AllPub  | Corner  | Gtl     | ...     | 0       | 0       | 0       | 480     | 0       |  1      | 2008    | New     | Partial | 160000  |\n",
       "| 819 | 60      | RL      | 130     | 40094   | Pave    | IR1     | Bnk     | AllPub  | Inside  | Gtl     | ...     | 0       | 0       | 0       |   0     | 0       | 10      | 2007    | New     | Partial | 184750  |\n",
       "\n"
      ],
      "text/plain": [
       "    MSSubClass MSZoning LotFrontage LotArea Street LotShape LandContour\n",
       "317 60         RL       160         15623   Pave   IR1      Lvl        \n",
       "720 60         RL       313         63887   Pave   IR3      Bnk        \n",
       "819 60         RL       130         40094   Pave   IR1      Bnk        \n",
       "    Utilities LotConfig LandSlope ... EnclosedPorch X3SsnPorch ScreenPorch\n",
       "317 AllPub    Corner    Gtl       ... 0             0          0          \n",
       "720 AllPub    Corner    Gtl       ... 0             0          0          \n",
       "819 AllPub    Inside    Gtl       ... 0             0          0          \n",
       "    PoolArea MiscVal MoSold YrSold SaleType SaleCondition SalePrice\n",
       "317 555      0        7     2007   WD       Abnorml       745000   \n",
       "720 480      0        1     2008   New      Partial       160000   \n",
       "819   0      0       10     2007   New      Partial       184750   "
      ]
     },
     "metadata": {},
     "output_type": "display_data"
    }
   ],
   "source": [
    "df_train[df_train$GrLivArea > 4000, ]"
   ]
  },
  {
   "cell_type": "markdown",
   "id": "ce213aad",
   "metadata": {},
   "source": [
    "---"
   ]
  },
  {
   "cell_type": "markdown",
   "id": "a586a058",
   "metadata": {},
   "source": [
    "# Modélisation"
   ]
  },
  {
   "cell_type": "markdown",
   "id": "b4079d14",
   "metadata": {},
   "source": [
    "## 1.baseline - regression à partir de toutes les features"
   ]
  },
  {
   "cell_type": "markdown",
   "id": "225e785b",
   "metadata": {},
   "source": [
    "Certains factors n'ont pas les memes levels ou le meme nombre de levels: ces variables qualitatives n'ont pas les memes mode dans les deux jeux de données:"
   ]
  },
  {
   "cell_type": "code",
   "execution_count": 57,
   "id": "e24b691c",
   "metadata": {},
   "outputs": [
    {
     "name": "stdout",
     "output_type": "stream",
     "text": [
      "'data.frame':\t1095 obs. of  6 variables:\n",
      " $ Condition2 : Factor w/ 6 levels \"Artery\",\"Feedr\",..: 3 3 3 3 3 3 3 3 3 3 ...\n",
      " $ RoofMatl   : Factor w/ 7 levels \"ClyTile\",\"CompShg\",..: 2 2 2 2 2 2 2 2 2 2 ...\n",
      " $ Exterior1st: Factor w/ 13 levels \"AsbShng\",\"AsphShn\",..: 11 12 11 11 11 3 2 7 5 11 ...\n",
      " $ Exterior2nd: Factor w/ 15 levels \"AsbShng\",\"AsphShn\",..: 13 14 13 13 13 4 2 8 6 13 ...\n",
      " $ Heating    : Factor w/ 5 levels \"GasA\",\"GasW\",..: 1 1 1 1 1 1 1 1 1 1 ...\n",
      " $ Electrical : Factor w/ 4 levels \"FuseA\",\"FuseF\",..: 4 4 4 2 4 4 4 4 4 4 ...\n"
     ]
    }
   ],
   "source": [
    "str(df_train[,c('Condition2', 'RoofMatl', 'Exterior1st', 'Exterior2nd', 'Heating', 'Electrical')])"
   ]
  },
  {
   "cell_type": "code",
   "execution_count": 58,
   "id": "4118a0cd",
   "metadata": {},
   "outputs": [
    {
     "name": "stdout",
     "output_type": "stream",
     "text": [
      "'data.frame':\t365 obs. of  6 variables:\n",
      " $ Condition2 : Factor w/ 6 levels \"Artery\",\"Feedr\",..: 3 3 3 3 3 3 3 3 3 6 ...\n",
      " $ RoofMatl   : Factor w/ 4 levels \"CompShg\",\"Membran\",..: 1 1 1 1 1 1 1 1 1 1 ...\n",
      " $ Exterior1st: Factor w/ 12 levels \"AsbShng\",\"BrkComm\",..: 10 11 10 3 10 10 10 8 10 7 ...\n",
      " $ Exterior2nd: Factor w/ 14 levels \"AsbShng\",\"Brk Cmn\",..: 12 14 12 14 12 12 12 9 12 8 ...\n",
      " $ Heating    : Factor w/ 6 levels \"Floor\",\"GasA\",..: 2 2 2 2 2 2 2 2 2 2 ...\n",
      " $ Electrical : Factor w/ 5 levels \"FuseA\",\"FuseF\",..: 5 5 5 2 5 5 5 5 5 5 ...\n"
     ]
    }
   ],
   "source": [
    "str(df_testt[,c('Condition2', 'RoofMatl', 'Exterior1st', 'Exterior2nd', 'Heating', 'Electrical')])"
   ]
  },
  {
   "cell_type": "markdown",
   "id": "92402320",
   "metadata": {},
   "source": [
    "Dans l'immédiat nous ne les prenons pas en compte"
   ]
  },
  {
   "cell_type": "code",
   "execution_count": 59,
   "id": "f811c2ee",
   "metadata": {},
   "outputs": [
    {
     "data": {
      "text/html": [
       "<ol class=list-inline>\n",
       "\t<li>1095</li>\n",
       "\t<li>69</li>\n",
       "</ol>\n"
      ],
      "text/latex": [
       "\\begin{enumerate*}\n",
       "\\item 1095\n",
       "\\item 69\n",
       "\\end{enumerate*}\n"
      ],
      "text/markdown": [
       "1. 1095\n",
       "2. 69\n",
       "\n",
       "\n"
      ],
      "text/plain": [
       "[1] 1095   69"
      ]
     },
     "metadata": {},
     "output_type": "display_data"
    },
    {
     "data": {
      "text/html": [
       "<ol class=list-inline>\n",
       "\t<li>365</li>\n",
       "\t<li>69</li>\n",
       "</ol>\n"
      ],
      "text/latex": [
       "\\begin{enumerate*}\n",
       "\\item 365\n",
       "\\item 69\n",
       "\\end{enumerate*}\n"
      ],
      "text/markdown": [
       "1. 365\n",
       "2. 69\n",
       "\n",
       "\n"
      ],
      "text/plain": [
       "[1] 365  69"
      ]
     },
     "metadata": {},
     "output_type": "display_data"
    }
   ],
   "source": [
    "train = subset(df_train, select=-c(Condition2, RoofMatl, Exterior1st, Exterior2nd, Heating, Electrical))\n",
    "testt = subset(df_testt, select=-c(Condition2, RoofMatl, Exterior1st, Exterior2nd, Heating, Electrical))\n",
    "dim(train)\n",
    "dim(testt)"
   ]
  },
  {
   "cell_type": "code",
   "execution_count": 60,
   "id": "7ab8f162",
   "metadata": {},
   "outputs": [
    {
     "data": {
      "text/html": [
       "<ol class=list-inline>\n",
       "\t<li>1095</li>\n",
       "\t<li>68</li>\n",
       "</ol>\n"
      ],
      "text/latex": [
       "\\begin{enumerate*}\n",
       "\\item 1095\n",
       "\\item 68\n",
       "\\end{enumerate*}\n"
      ],
      "text/markdown": [
       "1. 1095\n",
       "2. 68\n",
       "\n",
       "\n"
      ],
      "text/plain": [
       "[1] 1095   68"
      ]
     },
     "metadata": {},
     "output_type": "display_data"
    },
    {
     "data": {
      "text/html": [
       "<ol class=list-inline>\n",
       "\t<li>365</li>\n",
       "\t<li>68</li>\n",
       "</ol>\n"
      ],
      "text/latex": [
       "\\begin{enumerate*}\n",
       "\\item 365\n",
       "\\item 68\n",
       "\\end{enumerate*}\n"
      ],
      "text/markdown": [
       "1. 365\n",
       "2. 68\n",
       "\n",
       "\n"
      ],
      "text/plain": [
       "[1] 365  68"
      ]
     },
     "metadata": {},
     "output_type": "display_data"
    }
   ],
   "source": [
    "train_b = subset(train, select=-c(SalePrice))\n",
    "testt_b = subset(testt, select=-c(SalePrice))\n",
    "dim(train_b)\n",
    "dim(testt_b)"
   ]
  },
  {
   "cell_type": "code",
   "execution_count": 61,
   "id": "a3c29394",
   "metadata": {},
   "outputs": [
    {
     "data": {
      "text/plain": [
       "\n",
       "Call:\n",
       "lm(formula = log(train$SalePrice) ~ ., data = train_b)\n",
       "\n",
       "Residuals:\n",
       "     Min       1Q   Median       3Q      Max \n",
       "-0.99779 -0.05467  0.00123  0.06131  0.36362 \n",
       "\n",
       "Coefficients: (3 not defined because of singularities)\n",
       "                       Estimate Std. Error t value Pr(>|t|)    \n",
       "(Intercept)           9.857e+00  6.384e+00   1.544 0.122928    \n",
       "MSSubClass           -8.879e-04  4.916e-04  -1.806 0.071222 .  \n",
       "MSZoningFV            3.492e-01  8.083e-02   4.321 1.72e-05 ***\n",
       "MSZoningRH            3.053e-01  8.232e-02   3.709 0.000220 ***\n",
       "MSZoningRL            3.062e-01  7.144e-02   4.286 2.01e-05 ***\n",
       "MSZoningRM            2.659e-01  6.682e-02   3.979 7.47e-05 ***\n",
       "LotFrontage          -1.060e-03  2.677e-04  -3.960 8.08e-05 ***\n",
       "LotArea               2.078e-06  6.486e-07   3.204 0.001404 ** \n",
       "StreetPave            1.093e-01  7.071e-02   1.546 0.122509    \n",
       "LotShapeIR2           3.656e-02  2.658e-02   1.376 0.169279    \n",
       "LotShapeIR3          -1.405e-01  5.554e-02  -2.530 0.011577 *  \n",
       "LotShapeReg           5.633e-03  9.923e-03   0.568 0.570384    \n",
       "LandContourHLS        8.468e-02  3.134e-02   2.702 0.007020 ** \n",
       "LandContourLow        1.043e-01  4.050e-02   2.576 0.010159 *  \n",
       "LandContourLvl        9.904e-02  2.315e-02   4.279 2.08e-05 ***\n",
       "UtilitiesNoSeWa      -2.734e-01  1.456e-01  -1.878 0.060653 .  \n",
       "LotConfigCulDSac      2.970e-02  2.107e-02   1.410 0.158935    \n",
       "LotConfigFR2         -6.392e-02  2.463e-02  -2.596 0.009590 ** \n",
       "LotConfigFR3         -9.002e-02  7.506e-02  -1.199 0.230665    \n",
       "LotConfigInside      -1.368e-02  1.131e-02  -1.209 0.226880    \n",
       "LandSlopeMod          5.135e-02  2.504e-02   2.050 0.040619 *  \n",
       "LandSlopeSev         -6.493e-02  7.171e-02  -0.905 0.365473    \n",
       "NeighborhoodBlueste  -1.520e-02  1.501e-01  -0.101 0.919337    \n",
       "NeighborhoodBrDale   -5.917e-02  7.334e-02  -0.807 0.420046    \n",
       "NeighborhoodBrkSide  -1.376e-02  5.624e-02  -0.245 0.806755    \n",
       "NeighborhoodClearCr   2.399e-03  5.443e-02   0.044 0.964860    \n",
       "NeighborhoodCollgCr   8.641e-05  4.301e-02   0.002 0.998398    \n",
       "NeighborhoodCrawfor   1.394e-01  5.113e-02   2.727 0.006504 ** \n",
       "NeighborhoodEdwards  -1.438e-01  4.779e-02  -3.010 0.002685 ** \n",
       "NeighborhoodGilbert  -3.002e-02  4.596e-02  -0.653 0.513738    \n",
       "NeighborhoodIDOTRR   -6.232e-02  6.449e-02  -0.966 0.334108    \n",
       "NeighborhoodMeadowV  -1.648e-01  6.400e-02  -2.575 0.010172 *  \n",
       "NeighborhoodMitchel  -7.333e-02  4.925e-02  -1.489 0.136877    \n",
       "NeighborhoodNAmes    -3.785e-02  4.656e-02  -0.813 0.416500    \n",
       "NeighborhoodNoRidge   1.205e-01  5.053e-02   2.386 0.017254 *  \n",
       "NeighborhoodNPkVill  -3.137e-02  6.792e-02  -0.462 0.644291    \n",
       "NeighborhoodNridgHt   1.467e-01  4.448e-02   3.298 0.001010 ** \n",
       "NeighborhoodNWAmes   -5.257e-02  4.760e-02  -1.104 0.269742    \n",
       "NeighborhoodOldTown  -7.612e-02  5.757e-02  -1.322 0.186404    \n",
       "NeighborhoodSawyer   -6.049e-02  4.893e-02  -1.236 0.216663    \n",
       "NeighborhoodSawyerW   2.481e-03  4.572e-02   0.054 0.956738    \n",
       "NeighborhoodSomerst   3.483e-02  5.349e-02   0.651 0.515088    \n",
       "NeighborhoodStoneBr   1.710e-01  4.932e-02   3.468 0.000550 ***\n",
       "NeighborhoodSWISU    -3.918e-02  6.165e-02  -0.635 0.525287    \n",
       "NeighborhoodTimber    2.392e-02  4.798e-02   0.498 0.618255    \n",
       "NeighborhoodVeenker   6.784e-02  6.154e-02   1.102 0.270567    \n",
       "Condition1Feedr       4.042e-02  3.064e-02   1.319 0.187362    \n",
       "Condition1Norm        9.835e-02  2.590e-02   3.798 0.000155 ***\n",
       "Condition1PosA        1.192e-01  5.534e-02   2.154 0.031468 *  \n",
       "Condition1PosN        2.951e-02  4.274e-02   0.690 0.490106    \n",
       "Condition1RRAe       -2.759e-02  5.883e-02  -0.469 0.639222    \n",
       "Condition1RRAn        1.086e-01  4.178e-02   2.600 0.009469 ** \n",
       "Condition1RRNe        9.311e-02  1.288e-01   0.723 0.469763    \n",
       "Condition1RRNn        2.360e-01  1.093e-01   2.159 0.031110 *  \n",
       "BldgType2fmCon        9.095e-02  7.394e-02   1.230 0.218987    \n",
       "BldgTypeDuplex        5.533e-02  4.681e-02   1.182 0.237534    \n",
       "BldgTypeTwnhs        -5.151e-02  6.064e-02  -0.849 0.395900    \n",
       "BldgTypeTwnhsE        2.578e-03  5.348e-02   0.048 0.961557    \n",
       "HouseStyle1.5Unf      1.082e-02  4.543e-02   0.238 0.811795    \n",
       "HouseStyle1Story     -1.656e-04  2.584e-02  -0.006 0.994889    \n",
       "HouseStyle2.5Fin     -1.098e-01  8.015e-02  -1.370 0.170893    \n",
       "HouseStyle2.5Unf      2.846e-02  5.697e-02   0.500 0.617435    \n",
       "HouseStyle2Story     -4.686e-02  2.153e-02  -2.176 0.029810 *  \n",
       "HouseStyleSFoyer      3.428e-02  3.781e-02   0.907 0.364790    \n",
       "HouseStyleSLvl        2.644e-02  3.254e-02   0.813 0.416580    \n",
       "OverallQual           4.430e-02  6.261e-03   7.076 2.95e-12 ***\n",
       "OverallCond           3.304e-02  5.377e-03   6.145 1.19e-09 ***\n",
       "YearBuilt             8.774e-04  4.583e-04   1.914 0.055882 .  \n",
       "YearRemodAdd          5.502e-04  3.428e-04   1.605 0.108778    \n",
       "RoofStyleGable       -8.329e-02  6.284e-02  -1.325 0.185352    \n",
       "RoofStyleGambrel     -1.958e-02  7.880e-02  -0.248 0.803815    \n",
       "RoofStyleHip         -6.445e-02  6.363e-02  -1.013 0.311390    \n",
       "RoofStyleMansard     -3.499e-02  8.044e-02  -0.435 0.663648    \n",
       "RoofStyleShed         1.937e-01  1.498e-01   1.293 0.196344    \n",
       "MasVnrTypeBrkFace     4.281e-02  4.335e-02   0.987 0.323661    \n",
       "MasVnrTypeNone        4.544e-02  4.363e-02   1.041 0.297949    \n",
       "MasVnrTypeStone       5.358e-02  4.550e-02   1.178 0.239273    \n",
       "MasVnrArea           -3.701e-05  3.688e-05  -1.004 0.315847    \n",
       "ExterQualFa           1.440e-02  6.629e-02   0.217 0.828121    \n",
       "ExterQualGd           6.434e-02  2.962e-02   2.172 0.030115 *  \n",
       "ExterQualTA           6.043e-02  3.250e-02   1.859 0.063300 .  \n",
       "ExterCondFa          -2.179e-02  9.964e-02  -0.219 0.826967    \n",
       "ExterCondGd          -2.267e-02  9.367e-02  -0.242 0.808831    \n",
       "ExterCondPo          -1.625e-01  1.707e-01  -0.952 0.341180    \n",
       "ExterCondTA          -8.420e-03  9.342e-02  -0.090 0.928203    \n",
       "FoundationCBlock      3.760e-02  1.912e-02   1.967 0.049509 *  \n",
       "FoundationPConc       5.320e-02  2.115e-02   2.516 0.012046 *  \n",
       "FoundationSlab       -4.210e-02  4.611e-02  -0.913 0.361504    \n",
       "FoundationStone       9.711e-02  5.993e-02   1.620 0.105496    \n",
       "FoundationWood       -1.947e-02  9.796e-02  -0.199 0.842535    \n",
       "BsmtQualFa           -7.725e-02  3.982e-02  -1.940 0.052708 .  \n",
       "BsmtQualGd           -4.996e-02  2.017e-02  -2.477 0.013440 *  \n",
       "BsmtQualTA           -5.991e-02  2.517e-02  -2.380 0.017516 *  \n",
       "BsmtCondGd            5.591e-02  3.349e-02   1.670 0.095345 .  \n",
       "BsmtCondPo            7.547e-02  1.703e-01   0.443 0.657661    \n",
       "BsmtCondTA            3.756e-02  2.647e-02   1.419 0.156259    \n",
       "BsmtExposureGd        2.953e-02  1.853e-02   1.593 0.111406    \n",
       "BsmtExposureMn       -1.487e-02  1.834e-02  -0.811 0.417696    \n",
       "BsmtExposureNo       -1.572e-02  1.330e-02  -1.182 0.237427    \n",
       "BsmtFinType1BLQ      -2.414e-02  1.689e-02  -1.429 0.153249    \n",
       "BsmtFinType1GLQ      -6.266e-03  1.578e-02  -0.397 0.691313    \n",
       "BsmtFinType1LwQ      -2.743e-02  2.388e-02  -1.149 0.251016    \n",
       "BsmtFinType1Rec      -2.040e-02  1.884e-02  -1.083 0.279099    \n",
       "BsmtFinType1Unf      -6.751e-02  1.767e-02  -3.822 0.000142 ***\n",
       "BsmtFinSF1            5.322e-06  2.622e-05   0.203 0.839160    \n",
       "BsmtFinType2BLQ      -6.505e-02  4.913e-02  -1.324 0.185776    \n",
       "BsmtFinType2GLQ      -5.094e-02  5.999e-02  -0.849 0.396077    \n",
       "BsmtFinType2LwQ      -2.323e-02  4.742e-02  -0.490 0.624326    \n",
       "BsmtFinType2Rec      -2.034e-02  4.631e-02  -0.439 0.660563    \n",
       "BsmtFinType2Unf       4.817e-03  4.951e-02   0.097 0.922513    \n",
       "BsmtFinSF2            5.645e-05  5.195e-05   1.087 0.277530    \n",
       "BsmtUnfSF             1.931e-05  2.334e-05   0.827 0.408403    \n",
       "TotalBsmtSF                  NA         NA      NA       NA    \n",
       "HeatingQCFa          -3.876e-02  2.657e-02  -1.459 0.144966    \n",
       "HeatingQCGd          -2.896e-02  1.280e-02  -2.263 0.023862 *  \n",
       "HeatingQCPo          -1.800e-01  1.479e-01  -1.217 0.224004    \n",
       "HeatingQCTA          -3.830e-02  1.273e-02  -3.009 0.002697 ** \n",
       "CentralAirY           3.736e-02  2.188e-02   1.707 0.088096 .  \n",
       "X1stFlrSF             2.007e-04  3.095e-05   6.484 1.46e-10 ***\n",
       "X2ndFlrSF             2.139e-04  3.295e-05   6.490 1.40e-10 ***\n",
       "LowQualFinSF          2.159e-04  1.039e-04   2.078 0.037976 *  \n",
       "GrLivArea                    NA         NA      NA       NA    \n",
       "BsmtFullBath          4.658e-02  1.208e-02   3.856 0.000124 ***\n",
       "BsmtHalfBath          1.397e-02  2.035e-02   0.686 0.492677    \n",
       "FullBath              3.731e-02  1.356e-02   2.751 0.006054 ** \n",
       "HalfBath              3.843e-02  1.303e-02   2.950 0.003259 ** \n",
       "BedroomAbvGr          1.752e-02  8.287e-03   2.114 0.034744 *  \n",
       "KitchenAbvGr         -6.858e-02  3.636e-02  -1.886 0.059556 .  \n",
       "KitchenQualFa        -9.128e-02  3.734e-02  -2.445 0.014675 *  \n",
       "KitchenQualGd        -7.890e-02  2.077e-02  -3.800 0.000155 ***\n",
       "KitchenQualTA        -7.988e-02  2.354e-02  -3.393 0.000720 ***\n",
       "TotRmsAbvGrd          9.037e-03  5.767e-03   1.567 0.117423    \n",
       "FunctionalMaj2       -2.100e-01  9.077e-02  -2.313 0.020941 *  \n",
       "FunctionalMin1       -6.564e-02  5.608e-02  -1.170 0.242113    \n",
       "FunctionalMin2       -4.656e-02  5.549e-02  -0.839 0.401699    \n",
       "FunctionalMod        -1.197e-01  6.481e-02  -1.848 0.064959 .  \n",
       "FunctionalSev        -3.465e-01  1.682e-01  -2.060 0.039661 *  \n",
       "FunctionalTyp        -1.686e-02  4.833e-02  -0.349 0.727299    \n",
       "Fireplaces            2.735e-02  8.225e-03   3.325 0.000918 ***\n",
       "GarageTypeAttchd      2.011e-01  1.027e-01   1.957 0.050620 .  \n",
       "GarageTypeBasment     1.967e-01  1.083e-01   1.816 0.069705 .  \n",
       "GarageTypeBuiltIn     1.635e-01  1.046e-01   1.563 0.118466    \n",
       "GarageTypeCarPort     1.662e-01  1.152e-01   1.442 0.149655    \n",
       "GarageTypeDetchd      1.879e-01  1.024e-01   1.836 0.066723 .  \n",
       "GarageYrBlt          -2.530e-04  3.978e-04  -0.636 0.524974    \n",
       "GarageFinishRFn      -1.116e-02  1.212e-02  -0.921 0.357160    \n",
       "GarageFinishUnf      -1.874e-02  1.500e-02  -1.249 0.211985    \n",
       "GarageCars            6.790e-02  1.318e-02   5.152 3.16e-07 ***\n",
       "GarageArea            2.554e-05  4.848e-05   0.527 0.598472    \n",
       "GarageQualFa         -1.281e-01  1.391e-01  -0.920 0.357574    \n",
       "GarageQualGd         -8.179e-03  1.418e-01  -0.058 0.954026    \n",
       "GarageQualPo         -2.431e-01  1.839e-01  -1.322 0.186494    \n",
       "GarageQualTA         -7.845e-02  1.354e-01  -0.579 0.562474    \n",
       "GarageCondFa         -2.636e-02  3.671e-02  -0.718 0.472834    \n",
       "GarageCondGd         -2.843e-02  5.576e-02  -0.510 0.610299    \n",
       "GarageCondPo          9.544e-02  7.682e-02   1.242 0.214435    \n",
       "GarageCondTA                 NA         NA      NA       NA    \n",
       "PavedDriveP           2.529e-02  3.512e-02   0.720 0.471627    \n",
       "PavedDriveY           7.695e-03  2.093e-02   0.368 0.713261    \n",
       "WoodDeckSF            1.468e-04  3.792e-05   3.870 0.000117 ***\n",
       "OpenPorchSF           8.847e-05  7.097e-05   1.246 0.212912    \n",
       "EnclosedPorch         1.958e-04  7.556e-05   2.591 0.009724 ** \n",
       "X3SsnPorch            4.154e-04  1.466e-04   2.833 0.004707 ** \n",
       "ScreenPorch           2.927e-04  7.446e-05   3.930 9.12e-05 ***\n",
       "PoolArea             -8.749e-05  9.892e-05  -0.884 0.376707    \n",
       "MiscVal               2.183e-06  7.775e-06   0.281 0.778920    \n",
       "MoSold               -8.066e-04  1.508e-03  -0.535 0.592820    \n",
       "YrSold               -8.852e-04  3.138e-03  -0.282 0.777941    \n",
       "SaleTypeCon           1.085e-01  9.576e-02   1.133 0.257483    \n",
       "SaleTypeConLD         1.540e-01  5.643e-02   2.729 0.006473 ** \n",
       "SaleTypeConLI         8.005e-03  8.175e-02   0.098 0.922013    \n",
       "SaleTypeConLw        -6.725e-02  8.541e-02  -0.787 0.431297    \n",
       "SaleTypeCWD           8.025e-02  7.091e-02   1.132 0.258044    \n",
       "SaleTypeNew           1.838e-01  1.030e-01   1.784 0.074717 .  \n",
       "SaleTypeOth           7.509e-02  7.867e-02   0.955 0.340071    \n",
       "SaleTypeWD           -8.418e-03  2.527e-02  -0.333 0.739103    \n",
       "SaleConditionAdjLand -1.118e-02  8.649e-02  -0.129 0.897169    \n",
       "SaleConditionAlloca   8.699e-02  5.561e-02   1.564 0.118079    \n",
       "SaleConditionFamily   4.331e-04  3.966e-02   0.011 0.991289    \n",
       "SaleConditionNormal   5.519e-02  1.716e-02   3.217 0.001341 ** \n",
       "SaleConditionPartial -9.379e-02  9.933e-02  -0.944 0.345294    \n",
       "---\n",
       "Signif. codes:  0 '***' 0.001 '**' 0.01 '*' 0.05 '.' 0.1 ' ' 1\n",
       "\n",
       "Residual standard error: 0.1225 on 917 degrees of freedom\n",
       "Multiple R-squared:  0.9187,\tAdjusted R-squared:  0.903 \n",
       "F-statistic: 58.56 on 177 and 917 DF,  p-value: < 2.2e-16\n"
      ]
     },
     "metadata": {},
     "output_type": "display_data"
    }
   ],
   "source": [
    "model_baseline = lm(log(train$SalePrice)~., data=train_b)\n",
    "summary(model_baseline)"
   ]
  },
  {
   "cell_type": "markdown",
   "id": "d6b905af",
   "metadata": {},
   "source": [
    "### Validation du modèle ???"
   ]
  },
  {
   "cell_type": "code",
   "execution_count": 62,
   "id": "89a7fd98",
   "metadata": {},
   "outputs": [
    {
     "name": "stdout",
     "output_type": "stream",
     "text": [
      "[1] \"RMSE sur le dataset de train:\"\n",
      "[1] 23707\n",
      "[1] \"RMSE sur le dataset de test:\"\n",
      "[1] 26677\n"
     ]
    }
   ],
   "source": [
    "y_train_pred = (predict(model_baseline, newdata=train_b))\n",
    "y_testt_pred = (predict(model_baseline, newdata=testt_b))\n",
    "\n",
    "\n",
    "RMSE_train = c(sqrt(mean((exp(y_train_pred)-train$SalePrice)^2)))\n",
    "RMSE_testt = c(sqrt(mean((exp(y_testt_pred)-testt$SalePrice)^2)))\n",
    "\n",
    "print(\"RMSE sur le dataset de train:\"); print(RMSE_train, digits=5)\n",
    "\n",
    "print(\"RMSE sur le dataset de test:\"); print(RMSE_testt, digits=5)"
   ]
  },
  {
   "cell_type": "markdown",
   "id": "99a6acca",
   "metadata": {},
   "source": [
    "Comparaison des erreurs par rapport à la moyenne:"
   ]
  },
  {
   "cell_type": "code",
   "execution_count": 63,
   "id": "55a8600b",
   "metadata": {},
   "outputs": [
    {
     "data": {
      "text/plain": [
       "   Min. 1st Qu.  Median    Mean 3rd Qu.    Max. \n",
       "  34900  129975  163000  180921  214000  755000 "
      ]
     },
     "metadata": {},
     "output_type": "display_data"
    }
   ],
   "source": [
    "summary(df_all$SalePrice)"
   ]
  },
  {
   "cell_type": "markdown",
   "id": "94e2b762",
   "metadata": {},
   "source": [
    "Cela représente une plage d'erreur de 15% soit + ou - 7.5% par rapport à la moyenne:"
   ]
  },
  {
   "cell_type": "code",
   "execution_count": 64,
   "id": "586f9cf6",
   "metadata": {},
   "outputs": [
    {
     "data": {
      "text/html": [
       "0.147451097440319"
      ],
      "text/latex": [
       "0.147451097440319"
      ],
      "text/markdown": [
       "0.147451097440319"
      ],
      "text/plain": [
       "[1] 0.1474511"
      ]
     },
     "metadata": {},
     "output_type": "display_data"
    }
   ],
   "source": [
    "26677/180921  "
   ]
  },
  {
   "cell_type": "markdown",
   "id": "c278e73b",
   "metadata": {},
   "source": [
    "## 2.regression à partir de toutes les features - remplacement des outliers"
   ]
  },
  {
   "cell_type": "code",
   "execution_count": 65,
   "id": "da752955",
   "metadata": {},
   "outputs": [
    {
     "data": {
      "text/plain": [
       "       rstudent unadjusted p-value Bonferonni p\n",
       "720  -13.451273         9.0116e-38   9.7866e-35\n",
       "819   -8.974342         1.5837e-18   1.7199e-15\n",
       "743   -6.068188         1.8915e-09   2.0542e-06\n",
       "814   -5.249783         1.8934e-07   2.0563e-04\n",
       "1079  -4.919100         1.0304e-06   1.1190e-03\n",
       "661   -4.303352         1.8633e-05   2.0236e-02"
      ]
     },
     "metadata": {},
     "output_type": "display_data"
    }
   ],
   "source": [
    "outlierTest(model_baseline)"
   ]
  },
  {
   "cell_type": "code",
   "execution_count": 66,
   "id": "92aafac7",
   "metadata": {},
   "outputs": [
    {
     "data": {
      "text/html": [
       "<ol class=list-inline>\n",
       "\t<li>1084</li>\n",
       "\t<li>69</li>\n",
       "</ol>\n"
      ],
      "text/latex": [
       "\\begin{enumerate*}\n",
       "\\item 1084\n",
       "\\item 69\n",
       "\\end{enumerate*}\n"
      ],
      "text/markdown": [
       "1. 1084\n",
       "2. 69\n",
       "\n",
       "\n"
      ],
      "text/plain": [
       "[1] 1084   69"
      ]
     },
     "metadata": {},
     "output_type": "display_data"
    },
    {
     "data": {
      "text/html": [
       "<ol class=list-inline>\n",
       "\t<li>365</li>\n",
       "\t<li>69</li>\n",
       "</ol>\n"
      ],
      "text/latex": [
       "\\begin{enumerate*}\n",
       "\\item 365\n",
       "\\item 69\n",
       "\\end{enumerate*}\n"
      ],
      "text/markdown": [
       "1. 365\n",
       "2. 69\n",
       "\n",
       "\n"
      ],
      "text/plain": [
       "[1] 365  69"
      ]
     },
     "metadata": {},
     "output_type": "display_data"
    }
   ],
   "source": [
    "train = subset(df_train, select=-c(Condition2, RoofMatl, Exterior1st, Exterior2nd, Heating, Electrical))\n",
    "testt = subset(df_testt, select=-c(Condition2, RoofMatl, Exterior1st, Exterior2nd, Heating, Electrical))\n",
    "\n",
    "# on enlève les variables fortement corrélées\n",
    "#train = subset(train, select=-c(YearRemodAdd, GarageYrBlt, GarageArea, GarageCond, TotalBsmtSF, TotRmsAbvGrd, BsmtFinSF1))\n",
    "#testt = subset(testt, select=-c(YearRemodAdd, GarageYrBlt, GarageArea, GarageCond, TotalBsmtSF, TotRmsAbvGrd, BsmtFinSF1))\n",
    "\n",
    "# outliers issue de bonferonni\n",
    "train = train[-c(720,819,743,661,814),]\n",
    "testt = testt[-c(720,819,743,661,814),]\n",
    "\n",
    "# outliers mis en évidence lors de l'analyse\n",
    "train = subset(train, GrLivArea < 4000)\n",
    "train = subset(train, GarageArea < 1250)\n",
    "train = subset(train, TotalBsmtSF < 4000)\n",
    "train = subset(train, MasVnrArea < 1000)\n",
    "train = subset(train, TotalBsmtSF < 4000)\n",
    "train = subset(train, X1stFlrSF < 4500)\n",
    "train = subset(train, TotalBsmtSF < 6000)\n",
    "\n",
    "dim(train)\n",
    "dim(testt)"
   ]
  },
  {
   "cell_type": "code",
   "execution_count": 67,
   "id": "da01e971",
   "metadata": {},
   "outputs": [
    {
     "data": {
      "text/html": [
       "<ol class=list-inline>\n",
       "\t<li>1084</li>\n",
       "\t<li>68</li>\n",
       "</ol>\n"
      ],
      "text/latex": [
       "\\begin{enumerate*}\n",
       "\\item 1084\n",
       "\\item 68\n",
       "\\end{enumerate*}\n"
      ],
      "text/markdown": [
       "1. 1084\n",
       "2. 68\n",
       "\n",
       "\n"
      ],
      "text/plain": [
       "[1] 1084   68"
      ]
     },
     "metadata": {},
     "output_type": "display_data"
    },
    {
     "data": {
      "text/html": [
       "<ol class=list-inline>\n",
       "\t<li>365</li>\n",
       "\t<li>68</li>\n",
       "</ol>\n"
      ],
      "text/latex": [
       "\\begin{enumerate*}\n",
       "\\item 365\n",
       "\\item 68\n",
       "\\end{enumerate*}\n"
      ],
      "text/markdown": [
       "1. 365\n",
       "2. 68\n",
       "\n",
       "\n"
      ],
      "text/plain": [
       "[1] 365  68"
      ]
     },
     "metadata": {},
     "output_type": "display_data"
    }
   ],
   "source": [
    "train_b = subset(train, select=-c(SalePrice))\n",
    "testt_b = subset(testt, select=-c(SalePrice))\n",
    "dim(train_b)\n",
    "dim(testt_b)"
   ]
  },
  {
   "cell_type": "code",
   "execution_count": 68,
   "id": "a3ddd10c",
   "metadata": {},
   "outputs": [
    {
     "data": {
      "text/plain": [
       "\n",
       "Call:\n",
       "lm(formula = log(train$SalePrice) ~ ., data = train_b)\n",
       "\n",
       "Residuals:\n",
       "     Min       1Q   Median       3Q      Max \n",
       "-0.55536 -0.04482  0.00417  0.04947  0.39529 \n",
       "\n",
       "Coefficients: (3 not defined because of singularities)\n",
       "                       Estimate Std. Error t value Pr(>|t|)    \n",
       "(Intercept)           5.640e+00  5.016e+00   1.125 0.261078    \n",
       "MSSubClass           -4.618e-04  3.843e-04  -1.201 0.229891    \n",
       "MSZoningFV            2.146e-01  6.718e-02   3.194 0.001452 ** \n",
       "MSZoningRH            1.465e-01  6.888e-02   2.126 0.033746 *  \n",
       "MSZoningRL            1.702e-01  6.058e-02   2.810 0.005063 ** \n",
       "MSZoningRM            1.201e-01  5.737e-02   2.094 0.036521 *  \n",
       "LotFrontage           7.975e-05  2.197e-04   0.363 0.716671    \n",
       "LotArea               2.832e-06  5.124e-07   5.527 4.27e-08 ***\n",
       "StreetPave            1.545e-01  5.548e-02   2.785 0.005464 ** \n",
       "LotShapeIR2           1.862e-02  2.079e-02   0.895 0.370896    \n",
       "LotShapeIR3          -8.121e-03  4.513e-02  -0.180 0.857241    \n",
       "LotShapeReg           3.311e-03  7.768e-03   0.426 0.670087    \n",
       "LandContourHLS        2.666e-03  2.471e-02   0.108 0.914078    \n",
       "LandContourLow       -2.791e-02  3.221e-02  -0.866 0.386446    \n",
       "LandContourLvl        9.657e-03  1.853e-02   0.521 0.602342    \n",
       "UtilitiesNoSeWa      -1.147e-01  1.138e-01  -1.008 0.313925    \n",
       "LotConfigCulDSac      3.924e-02  1.659e-02   2.365 0.018243 *  \n",
       "LotConfigFR2         -3.652e-02  1.926e-02  -1.896 0.058261 .  \n",
       "LotConfigFR3         -4.755e-02  5.860e-02  -0.811 0.417308    \n",
       "LotConfigInside      -1.085e-03  8.884e-03  -0.122 0.902824    \n",
       "LandSlopeMod          1.941e-02  1.965e-02   0.988 0.323448    \n",
       "LandSlopeSev         -1.462e-01  5.626e-02  -2.599 0.009494 ** \n",
       "NeighborhoodBlueste   4.710e-02  1.171e-01   0.402 0.687494    \n",
       "NeighborhoodBrDale   -7.237e-02  5.732e-02  -1.263 0.207026    \n",
       "NeighborhoodBrkSide   1.336e-02  4.389e-02   0.304 0.760947    \n",
       "NeighborhoodClearCr  -5.032e-03  4.250e-02  -0.118 0.905781    \n",
       "NeighborhoodCollgCr  -2.200e-02  3.361e-02  -0.655 0.512907    \n",
       "NeighborhoodCrawfor   1.242e-01  3.994e-02   3.111 0.001924 ** \n",
       "NeighborhoodEdwards  -9.517e-02  3.734e-02  -2.549 0.010982 *  \n",
       "NeighborhoodGilbert  -3.151e-02  3.589e-02  -0.878 0.380201    \n",
       "NeighborhoodIDOTRR   -2.552e-02  5.038e-02  -0.507 0.612506    \n",
       "NeighborhoodMeadowV  -1.537e-01  4.997e-02  -3.077 0.002155 ** \n",
       "NeighborhoodMitchel  -7.743e-02  3.846e-02  -2.013 0.044421 *  \n",
       "NeighborhoodNAmes    -3.413e-02  3.634e-02  -0.939 0.347912    \n",
       "NeighborhoodNoRidge   2.189e-02  4.010e-02   0.546 0.585221    \n",
       "NeighborhoodNPkVill  -1.361e-02  5.303e-02  -0.257 0.797576    \n",
       "NeighborhoodNridgHt   4.485e-02  3.521e-02   1.274 0.203097    \n",
       "NeighborhoodNWAmes   -4.411e-02  3.725e-02  -1.184 0.236630    \n",
       "NeighborhoodOldTown  -4.736e-02  4.494e-02  -1.054 0.292229    \n",
       "NeighborhoodSawyer   -4.334e-02  3.824e-02  -1.133 0.257410    \n",
       "NeighborhoodSawyerW  -2.761e-02  3.574e-02  -0.772 0.440051    \n",
       "NeighborhoodSomerst  -1.455e-02  4.186e-02  -0.348 0.728287    \n",
       "NeighborhoodStoneBr   9.673e-02  3.878e-02   2.494 0.012803 *  \n",
       "NeighborhoodSWISU    -1.922e-02  4.811e-02  -0.400 0.689547    \n",
       "NeighborhoodTimber   -9.834e-03  3.753e-02  -0.262 0.793375    \n",
       "NeighborhoodVeenker   3.352e-02  4.810e-02   0.697 0.486057    \n",
       "Condition1Feedr       4.395e-02  2.392e-02   1.837 0.066550 .  \n",
       "Condition1Norm        8.016e-02  2.021e-02   3.967 7.86e-05 ***\n",
       "Condition1PosA        4.578e-02  4.329e-02   1.057 0.290608    \n",
       "Condition1PosN        2.974e-02  3.388e-02   0.878 0.380174    \n",
       "Condition1RRAe       -5.905e-02  4.595e-02  -1.285 0.199053    \n",
       "Condition1RRAn        6.511e-02  3.264e-02   1.995 0.046380 *  \n",
       "Condition1RRNe        9.554e-02  1.004e-01   0.952 0.341459    \n",
       "Condition1RRNn        2.050e-01  8.544e-02   2.400 0.016609 *  \n",
       "BldgType2fmCon        4.247e-02  5.782e-02   0.735 0.462799    \n",
       "BldgTypeDuplex        2.857e-02  3.659e-02   0.781 0.435167    \n",
       "BldgTypeTwnhs        -3.841e-02  4.733e-02  -0.812 0.417271    \n",
       "BldgTypeTwnhsE        1.229e-02  4.172e-02   0.295 0.768335    \n",
       "HouseStyle1.5Unf      1.157e-02  3.554e-02   0.326 0.744817    \n",
       "HouseStyle1Story     -3.353e-03  2.041e-02  -0.164 0.869580    \n",
       "HouseStyle2.5Fin     -1.079e-01  6.266e-02  -1.721 0.085528 .  \n",
       "HouseStyle2.5Unf      4.073e-02  4.446e-02   0.916 0.359851    \n",
       "HouseStyle2Story     -1.961e-02  1.688e-02  -1.162 0.245539    \n",
       "HouseStyleSFoyer      1.642e-02  2.962e-02   0.554 0.579509    \n",
       "HouseStyleSLvl        2.702e-02  2.553e-02   1.059 0.290088    \n",
       "OverallQual           4.055e-02  4.921e-03   8.239 6.05e-16 ***\n",
       "OverallCond           3.604e-02  4.218e-03   8.545  < 2e-16 ***\n",
       "YearBuilt             1.859e-03  3.606e-04   5.156 3.10e-07 ***\n",
       "YearRemodAdd          6.578e-04  2.677e-04   2.458 0.014173 *  \n",
       "RoofStyleGable       -7.314e-02  4.931e-02  -1.483 0.138339    \n",
       "RoofStyleGambrel     -1.966e-02  6.175e-02  -0.318 0.750262    \n",
       "RoofStyleHip         -6.279e-02  4.995e-02  -1.257 0.209046    \n",
       "RoofStyleMansard     -5.579e-03  6.304e-02  -0.089 0.929498    \n",
       "RoofStyleShed         2.405e-01  1.168e-01   2.059 0.039827 *  \n",
       "MasVnrTypeBrkFace     4.652e-02  3.383e-02   1.375 0.169360    \n",
       "MasVnrTypeNone        5.008e-02  3.424e-02   1.463 0.143919    \n",
       "MasVnrTypeStone       7.427e-02  3.553e-02   2.091 0.036845 *  \n",
       "MasVnrArea           -1.751e-05  3.336e-05  -0.525 0.599728    \n",
       "ExterQualFa          -6.074e-02  5.246e-02  -1.158 0.247257    \n",
       "ExterQualGd           2.920e-03  2.359e-02   0.124 0.901526    \n",
       "ExterQualTA           5.031e-04  2.589e-02   0.019 0.984503    \n",
       "ExterCondFa          -2.078e-02  7.770e-02  -0.267 0.789219    \n",
       "ExterCondGd          -5.399e-02  7.305e-02  -0.739 0.460065    \n",
       "ExterCondPo          -1.169e-01  1.331e-01  -0.878 0.379937    \n",
       "ExterCondTA          -4.131e-02  7.286e-02  -0.567 0.570811    \n",
       "FoundationCBlock      9.533e-03  1.497e-02   0.637 0.524511    \n",
       "FoundationPConc       2.980e-02  1.654e-02   1.802 0.071865 .  \n",
       "FoundationSlab        1.631e-02  3.615e-02   0.451 0.651862    \n",
       "FoundationStone       6.788e-02  4.702e-02   1.444 0.149191    \n",
       "FoundationWood       -1.289e-01  7.669e-02  -1.681 0.093108 .  \n",
       "BsmtQualFa           -4.304e-02  3.114e-02  -1.382 0.167311    \n",
       "BsmtQualGd           -3.268e-02  1.589e-02  -2.056 0.040058 *  \n",
       "BsmtQualTA           -3.195e-02  1.976e-02  -1.617 0.106315    \n",
       "BsmtCondGd            4.471e-02  2.612e-02   1.712 0.087290 .  \n",
       "BsmtCondPo            2.442e-01  1.330e-01   1.836 0.066738 .  \n",
       "BsmtCondTA            3.625e-02  2.064e-02   1.756 0.079434 .  \n",
       "BsmtExposureGd        3.487e-02  1.452e-02   2.402 0.016510 *  \n",
       "BsmtExposureMn       -1.023e-02  1.437e-02  -0.712 0.476505    \n",
       "BsmtExposureNo       -7.712e-03  1.046e-02  -0.738 0.460966    \n",
       "BsmtFinType1BLQ      -9.398e-03  1.325e-02  -0.709 0.478396    \n",
       "BsmtFinType1GLQ      -1.382e-03  1.238e-02  -0.112 0.911122    \n",
       "BsmtFinType1LwQ      -3.120e-02  1.868e-02  -1.670 0.095228 .  \n",
       "BsmtFinType1Rec      -1.589e-02  1.482e-02  -1.072 0.283964    \n",
       "BsmtFinType1Unf      -2.668e-02  1.406e-02  -1.898 0.058007 .  \n",
       "BsmtFinSF1            1.646e-04  2.223e-05   7.406 2.98e-13 ***\n",
       "BsmtFinType2BLQ      -7.396e-02  3.877e-02  -1.908 0.056741 .  \n",
       "BsmtFinType2GLQ      -4.686e-02  4.682e-02  -1.001 0.317106    \n",
       "BsmtFinType2LwQ      -5.928e-02  3.718e-02  -1.594 0.111199    \n",
       "BsmtFinType2Rec      -4.705e-02  3.620e-02  -1.300 0.193989    \n",
       "BsmtFinType2Unf      -2.319e-02  3.870e-02  -0.599 0.549180    \n",
       "BsmtFinSF2            1.580e-04  4.096e-05   3.857 0.000123 ***\n",
       "BsmtUnfSF             9.998e-05  1.868e-05   5.352 1.10e-07 ***\n",
       "TotalBsmtSF                  NA         NA      NA       NA    \n",
       "HeatingQCFa          -3.877e-02  2.077e-02  -1.867 0.062199 .  \n",
       "HeatingQCGd          -1.992e-02  1.005e-02  -1.983 0.047717 *  \n",
       "HeatingQCPo          -1.004e-01  1.155e-01  -0.869 0.384826    \n",
       "HeatingQCTA          -3.473e-02  9.968e-03  -3.484 0.000517 ***\n",
       "CentralAirY           2.804e-02  1.719e-02   1.631 0.103142    \n",
       "X1stFlrSF             2.604e-04  2.449e-05  10.632  < 2e-16 ***\n",
       "X2ndFlrSF             2.828e-04  2.672e-05  10.582  < 2e-16 ***\n",
       "LowQualFinSF          1.577e-04  8.123e-05   1.942 0.052455 .  \n",
       "GrLivArea                    NA         NA      NA       NA    \n",
       "BsmtFullBath          1.437e-02  9.609e-03   1.495 0.135246    \n",
       "BsmtHalfBath         -2.105e-02  1.599e-02  -1.317 0.188154    \n",
       "FullBath              1.672e-02  1.068e-02   1.566 0.117720    \n",
       "HalfBath              2.371e-02  1.024e-02   2.316 0.020763 *  \n",
       "BedroomAbvGr          3.553e-03  6.508e-03   0.546 0.585237    \n",
       "KitchenAbvGr         -7.261e-02  2.837e-02  -2.560 0.010638 *  \n",
       "KitchenQualFa        -9.968e-02  2.919e-02  -3.415 0.000666 ***\n",
       "KitchenQualGd        -6.713e-02  1.631e-02  -4.115 4.23e-05 ***\n",
       "KitchenQualTA        -6.233e-02  1.845e-02  -3.378 0.000760 ***\n",
       "TotRmsAbvGrd         -2.072e-03  4.552e-03  -0.455 0.649165    \n",
       "FunctionalMaj2       -1.419e-01  7.088e-02  -2.002 0.045559 *  \n",
       "FunctionalMin1       -9.493e-04  4.388e-02  -0.022 0.982745    \n",
       "FunctionalMin2        1.782e-02  4.339e-02   0.411 0.681325    \n",
       "FunctionalMod        -8.426e-02  5.058e-02  -1.666 0.096099 .  \n",
       "FunctionalSev        -3.404e-01  1.312e-01  -2.593 0.009657 ** \n",
       "FunctionalTyp         5.573e-02  3.786e-02   1.472 0.141316    \n",
       "Fireplaces            1.853e-02  6.473e-03   2.863 0.004295 ** \n",
       "GarageTypeAttchd      1.369e-01  8.031e-02   1.704 0.088701 .  \n",
       "GarageTypeBasment     1.222e-01  8.463e-02   1.444 0.149097    \n",
       "GarageTypeBuiltIn     1.213e-01  8.173e-02   1.485 0.138007    \n",
       "GarageTypeCarPort     1.111e-01  8.997e-02   1.235 0.217207    \n",
       "GarageTypeDetchd      1.445e-01  7.996e-02   1.807 0.071143 .  \n",
       "GarageYrBlt           4.571e-05  3.121e-04   0.146 0.883586    \n",
       "GarageFinishRFn      -9.258e-03  9.490e-03  -0.976 0.329549    \n",
       "GarageFinishUnf      -6.132e-03  1.176e-02  -0.521 0.602158    \n",
       "GarageCars            2.982e-02  1.060e-02   2.814 0.005006 ** \n",
       "GarageArea            9.043e-05  3.931e-05   2.300 0.021657 *  \n",
       "GarageQualFa         -8.428e-02  1.086e-01  -0.776 0.438061    \n",
       "GarageQualGd          1.807e-03  1.108e-01   0.016 0.986988    \n",
       "GarageQualPo         -2.121e-01  1.435e-01  -1.478 0.139622    \n",
       "GarageQualTA         -4.888e-02  1.057e-01  -0.462 0.643998    \n",
       "GarageCondFa         -2.052e-02  2.863e-02  -0.717 0.473709    \n",
       "GarageCondGd         -2.533e-02  4.350e-02  -0.582 0.560543    \n",
       "GarageCondPo          9.144e-02  5.989e-02   1.527 0.127117    \n",
       "GarageCondTA                 NA         NA      NA       NA    \n",
       "PavedDriveP           2.341e-02  2.741e-02   0.854 0.393340    \n",
       "PavedDriveY           1.510e-02  1.634e-02   0.924 0.355759    \n",
       "WoodDeckSF            1.279e-04  2.971e-05   4.303 1.87e-05 ***\n",
       "OpenPorchSF           1.475e-04  5.563e-05   2.651 0.008163 ** \n",
       "EnclosedPorch         1.595e-04  5.982e-05   2.666 0.007813 ** \n",
       "X3SsnPorch            2.956e-04  1.146e-04   2.580 0.010051 *  \n",
       "ScreenPorch           2.374e-04  5.828e-05   4.073 5.04e-05 ***\n",
       "PoolArea              1.148e-04  8.459e-05   1.357 0.175277    \n",
       "MiscVal               1.906e-06  6.067e-06   0.314 0.753507    \n",
       "MoSold                4.144e-04  1.182e-03   0.351 0.725935    \n",
       "YrSold               -1.067e-04  2.467e-03  -0.043 0.965519    \n",
       "SaleTypeCon           1.106e-01  7.468e-02   1.481 0.138853    \n",
       "SaleTypeConLD         1.004e-01  4.415e-02   2.275 0.023163 *  \n",
       "SaleTypeConLI        -3.646e-02  6.391e-02  -0.570 0.568532    \n",
       "SaleTypeConLw         7.446e-03  6.671e-02   0.112 0.911160    \n",
       "SaleTypeCWD           7.145e-02  5.536e-02   1.291 0.197117    \n",
       "SaleTypeNew           1.502e-01  8.053e-02   1.866 0.062403 .  \n",
       "SaleTypeOth           6.421e-02  6.134e-02   1.047 0.295469    \n",
       "SaleTypeWD           -2.373e-03  1.980e-02  -0.120 0.904614    \n",
       "SaleConditionAdjLand  2.138e-02  6.748e-02   0.317 0.751398    \n",
       "SaleConditionAlloca   3.993e-02  4.382e-02   0.911 0.362330    \n",
       "SaleConditionFamily   5.680e-02  3.200e-02   1.775 0.076288 .  \n",
       "SaleConditionNormal   5.968e-02  1.347e-02   4.430 1.06e-05 ***\n",
       "SaleConditionPartial -4.400e-02  7.765e-02  -0.567 0.571105    \n",
       "---\n",
       "Signif. codes:  0 '***' 0.001 '**' 0.01 '*' 0.05 '.' 0.1 ' ' 1\n",
       "\n",
       "Residual standard error: 0.09544 on 906 degrees of freedom\n",
       "Multiple R-squared:  0.9487,\tAdjusted R-squared:  0.9387 \n",
       "F-statistic: 94.74 on 177 and 906 DF,  p-value: < 2.2e-16\n"
      ]
     },
     "metadata": {},
     "output_type": "display_data"
    }
   ],
   "source": [
    "model_outliers = lm(log(train$SalePrice)~., data=train_b)\n",
    "summary(model_outliers)"
   ]
  },
  {
   "cell_type": "markdown",
   "id": "004b87d1",
   "metadata": {},
   "source": [
    "### Validation du modèle ???"
   ]
  },
  {
   "cell_type": "code",
   "execution_count": 69,
   "id": "50aed0bb",
   "metadata": {},
   "outputs": [
    {
     "name": "stdout",
     "output_type": "stream",
     "text": [
      "[1] \"RMSE sur le dataset de train:\"\n",
      "[1] 16303\n",
      "[1] \"RMSE sur le dataset de test:\"\n",
      "[1] 21690\n"
     ]
    }
   ],
   "source": [
    "y_train_pred = (predict(model_outliers, newdata=train_b))\n",
    "y_testt_pred = (predict(model_outliers, newdata=testt_b))\n",
    "\n",
    "\n",
    "RMSE_train = c(sqrt(mean((exp(y_train_pred)-train$SalePrice)^2)))\n",
    "RMSE_testt = c(sqrt(mean((exp(y_testt_pred)-testt$SalePrice)^2)))\n",
    "\n",
    "print(\"RMSE sur le dataset de train:\"); print(RMSE_train, digits=5)\n",
    "\n",
    "print(\"RMSE sur le dataset de test:\"); print(RMSE_testt, digits=5)"
   ]
  },
  {
   "cell_type": "markdown",
   "id": "77333e45",
   "metadata": {},
   "source": [
    "Comparaison des erreurs par rapport à la moyenne:"
   ]
  },
  {
   "cell_type": "code",
   "execution_count": 70,
   "id": "fe814079",
   "metadata": {},
   "outputs": [
    {
     "data": {
      "text/plain": [
       "   Min. 1st Qu.  Median    Mean 3rd Qu.    Max. \n",
       "  34900  129975  163000  180921  214000  755000 "
      ]
     },
     "metadata": {},
     "output_type": "display_data"
    }
   ],
   "source": [
    "summary(df_all$SalePrice)"
   ]
  },
  {
   "cell_type": "markdown",
   "id": "79e9586c",
   "metadata": {},
   "source": [
    "Cela représente une plage d'erreur de 15% soit + ou - 7.5% par rapport à la moyenne:"
   ]
  },
  {
   "cell_type": "code",
   "execution_count": 71,
   "id": "64b7b1b1",
   "metadata": {},
   "outputs": [
    {
     "data": {
      "text/html": [
       "0.119886580330642"
      ],
      "text/latex": [
       "0.119886580330642"
      ],
      "text/markdown": [
       "0.119886580330642"
      ],
      "text/plain": [
       "[1] 0.1198866"
      ]
     },
     "metadata": {},
     "output_type": "display_data"
    }
   ],
   "source": [
    "21690/180921  "
   ]
  },
  {
   "cell_type": "markdown",
   "id": "71bd9143",
   "metadata": {},
   "source": [
    "## 3.selection de features\n",
    "modèle avec les 7 features classées par importance selon le randomforrest"
   ]
  },
  {
   "cell_type": "code",
   "execution_count": 72,
   "id": "10e73561",
   "metadata": {},
   "outputs": [
    {
     "data": {
      "image/png": "[encoded data removed]",
      "text/plain": [
       "Plot with title \"rf\""
      ]
     },
     "metadata": {},
     "output_type": "display_data"
    }
   ],
   "source": [
    "rf = randomForest(SalePrice~ .,data=df_train)\n",
    "varImpPlot(rf)"
   ]
  },
  {
   "cell_type": "code",
   "execution_count": 73,
   "id": "c46df220",
   "metadata": {},
   "outputs": [
    {
     "data": {
      "text/html": [
       "<table>\n",
       "<thead><tr><th scope=col>OverallQual</th><th scope=col>Neighborhood</th><th scope=col>GrLivArea</th><th scope=col>GarageCars</th><th scope=col>ExterQual</th><th scope=col>TotalBsmtSF</th><th scope=col>X1stFlrSF</th><th scope=col>GarageArea</th><th scope=col>BsmtFinSF1</th><th scope=col>KitchenQual</th><th scope=col>X2ndFlrSF</th><th scope=col>BsmtQual</th><th scope=col>SalePrice</th></tr></thead>\n",
       "<tbody>\n",
       "\t<tr><td>7      </td><td>Gilbert</td><td>1509   </td><td>2      </td><td>Gd     </td><td> 783   </td><td> 807   </td><td>393    </td><td>  0    </td><td>Gd     </td><td> 702   </td><td>Gd     </td><td>180000 </td></tr>\n",
       "\t<tr><td>5      </td><td>Edwards</td><td>1355   </td><td>0      </td><td>TA     </td><td> 644   </td><td> 808   </td><td>  0    </td><td>351    </td><td>TA     </td><td> 547   </td><td>TA     </td><td>127500 </td></tr>\n",
       "\t<tr><td>5      </td><td>Mitchel</td><td>1140   </td><td>0      </td><td>TA     </td><td>1140   </td><td>1140   </td><td>  0    </td><td>  0    </td><td>TA     </td><td>   0   </td><td>Gd     </td><td> 84500 </td></tr>\n",
       "\t<tr><td>4      </td><td>Edwards</td><td>1440   </td><td>0      </td><td>TA     </td><td>1440   </td><td>1440   </td><td>  0    </td><td>133    </td><td>Fa     </td><td>   0   </td><td>TA     </td><td>118000 </td></tr>\n",
       "\t<tr><td>7      </td><td>SawyerW</td><td>1349   </td><td>2      </td><td>TA     </td><td>1349   </td><td>1349   </td><td>539    </td><td>  0    </td><td>TA     </td><td>   0   </td><td>Gd     </td><td>179000 </td></tr>\n",
       "\t<tr><td>7      </td><td>Crawfor</td><td>2057   </td><td>1      </td><td>Gd     </td><td>1017   </td><td>1020   </td><td>180    </td><td>223    </td><td>Gd     </td><td>1037   </td><td>Gd     </td><td>250000 </td></tr>\n",
       "</tbody>\n",
       "</table>\n"
      ],
      "text/latex": [
       "\\begin{tabular}{r|lllllllllllll}\n",
       " OverallQual & Neighborhood & GrLivArea & GarageCars & ExterQual & TotalBsmtSF & X1stFlrSF & GarageArea & BsmtFinSF1 & KitchenQual & X2ndFlrSF & BsmtQual & SalePrice\\\\\n",
       "\\hline\n",
       "\t 7       & Gilbert & 1509    & 2       & Gd      &  783    &  807    & 393     &   0     & Gd      &  702    & Gd      & 180000 \\\\\n",
       "\t 5       & Edwards & 1355    & 0       & TA      &  644    &  808    &   0     & 351     & TA      &  547    & TA      & 127500 \\\\\n",
       "\t 5       & Mitchel & 1140    & 0       & TA      & 1140    & 1140    &   0     &   0     & TA      &    0    & Gd      &  84500 \\\\\n",
       "\t 4       & Edwards & 1440    & 0       & TA      & 1440    & 1440    &   0     & 133     & Fa      &    0    & TA      & 118000 \\\\\n",
       "\t 7       & SawyerW & 1349    & 2       & TA      & 1349    & 1349    & 539     &   0     & TA      &    0    & Gd      & 179000 \\\\\n",
       "\t 7       & Crawfor & 2057    & 1       & Gd      & 1017    & 1020    & 180     & 223     & Gd      & 1037    & Gd      & 250000 \\\\\n",
       "\\end{tabular}\n"
      ],
      "text/markdown": [
       "\n",
       "| OverallQual | Neighborhood | GrLivArea | GarageCars | ExterQual | TotalBsmtSF | X1stFlrSF | GarageArea | BsmtFinSF1 | KitchenQual | X2ndFlrSF | BsmtQual | SalePrice |\n",
       "|---|---|---|---|---|---|---|---|---|---|---|---|---|\n",
       "| 7       | Gilbert | 1509    | 2       | Gd      |  783    |  807    | 393     |   0     | Gd      |  702    | Gd      | 180000  |\n",
       "| 5       | Edwards | 1355    | 0       | TA      |  644    |  808    |   0     | 351     | TA      |  547    | TA      | 127500  |\n",
       "| 5       | Mitchel | 1140    | 0       | TA      | 1140    | 1140    |   0     |   0     | TA      |    0    | Gd      |  84500  |\n",
       "| 4       | Edwards | 1440    | 0       | TA      | 1440    | 1440    |   0     | 133     | Fa      |    0    | TA      | 118000  |\n",
       "| 7       | SawyerW | 1349    | 2       | TA      | 1349    | 1349    | 539     |   0     | TA      |    0    | Gd      | 179000  |\n",
       "| 7       | Crawfor | 2057    | 1       | Gd      | 1017    | 1020    | 180     | 223     | Gd      | 1037    | Gd      | 250000  |\n",
       "\n"
      ],
      "text/plain": [
       "  OverallQual Neighborhood GrLivArea GarageCars ExterQual TotalBsmtSF X1stFlrSF\n",
       "1 7           Gilbert      1509      2          Gd         783         807     \n",
       "2 5           Edwards      1355      0          TA         644         808     \n",
       "3 5           Mitchel      1140      0          TA        1140        1140     \n",
       "4 4           Edwards      1440      0          TA        1440        1440     \n",
       "5 7           SawyerW      1349      2          TA        1349        1349     \n",
       "6 7           Crawfor      2057      1          Gd        1017        1020     \n",
       "  GarageArea BsmtFinSF1 KitchenQual X2ndFlrSF BsmtQual SalePrice\n",
       "1 393          0        Gd           702      Gd       180000   \n",
       "2   0        351        TA           547      TA       127500   \n",
       "3   0          0        TA             0      Gd        84500   \n",
       "4   0        133        Fa             0      TA       118000   \n",
       "5 539          0        TA             0      Gd       179000   \n",
       "6 180        223        Gd          1037      Gd       250000   "
      ]
     },
     "metadata": {},
     "output_type": "display_data"
    }
   ],
   "source": [
    "train = subset(df_train, select=-c(Condition2, RoofMatl, Exterior1st, Exterior2nd, Heating, Electrical))\n",
    "testt = subset(df_testt, select=-c(Condition2, RoofMatl, Exterior1st, Exterior2nd, Heating, Electrical))\n",
    "\n",
    "# outliers issue de bonferonni\n",
    "train = train[-c(720,819,743,661,814),]\n",
    "testt = testt[-c(720,819,743,661,814),]\n",
    "\n",
    "# outliers mis en évidence lors de l'analyse\n",
    "train = subset(train, GrLivArea < 4000)\n",
    "train = subset(train, GarageArea < 1250)\n",
    "train = subset(train, TotalBsmtSF < 4000)\n",
    "train = subset(train, MasVnrArea < 1000)\n",
    "train = subset(train, TotalBsmtSF < 4000)\n",
    "train = subset(train, X1stFlrSF < 4500)\n",
    "train = subset(train, TotalBsmtSF < 6000)\n",
    "\n",
    "\n",
    "train = (subset(train, select=c(OverallQual, Neighborhood, GrLivArea, GarageCars, ExterQual, TotalBsmtSF, X1stFlrSF, GarageArea, BsmtFinSF1, KitchenQual, X2ndFlrSF, BsmtQual, SalePrice)))\n",
    "testt = (subset(testt, select=c(OverallQual, Neighborhood, GrLivArea, GarageCars, ExterQual, TotalBsmtSF, X1stFlrSF, GarageArea, BsmtFinSF1, KitchenQual, X2ndFlrSF, BsmtQual, SalePrice)))\n",
    "\n",
    "head(train)"
   ]
  },
  {
   "cell_type": "code",
   "execution_count": 74,
   "id": "34b48f50",
   "metadata": {},
   "outputs": [
    {
     "data": {
      "text/html": [
       "<table>\n",
       "<thead><tr><th scope=col>OverallQual</th><th scope=col>Neighborhood</th><th scope=col>GrLivArea</th><th scope=col>GarageCars</th><th scope=col>ExterQual</th><th scope=col>TotalBsmtSF</th><th scope=col>X1stFlrSF</th><th scope=col>GarageArea</th><th scope=col>BsmtFinSF1</th><th scope=col>KitchenQual</th><th scope=col>X2ndFlrSF</th><th scope=col>BsmtQual</th></tr></thead>\n",
       "<tbody>\n",
       "\t<tr><td>7      </td><td>Gilbert</td><td>1509   </td><td>2      </td><td>Gd     </td><td> 783   </td><td> 807   </td><td>393    </td><td>  0    </td><td>Gd     </td><td> 702   </td><td>Gd     </td></tr>\n",
       "\t<tr><td>5      </td><td>Edwards</td><td>1355   </td><td>0      </td><td>TA     </td><td> 644   </td><td> 808   </td><td>  0    </td><td>351    </td><td>TA     </td><td> 547   </td><td>TA     </td></tr>\n",
       "\t<tr><td>5      </td><td>Mitchel</td><td>1140   </td><td>0      </td><td>TA     </td><td>1140   </td><td>1140   </td><td>  0    </td><td>  0    </td><td>TA     </td><td>   0   </td><td>Gd     </td></tr>\n",
       "\t<tr><td>4      </td><td>Edwards</td><td>1440   </td><td>0      </td><td>TA     </td><td>1440   </td><td>1440   </td><td>  0    </td><td>133    </td><td>Fa     </td><td>   0   </td><td>TA     </td></tr>\n",
       "\t<tr><td>7      </td><td>SawyerW</td><td>1349   </td><td>2      </td><td>TA     </td><td>1349   </td><td>1349   </td><td>539    </td><td>  0    </td><td>TA     </td><td>   0   </td><td>Gd     </td></tr>\n",
       "\t<tr><td>7      </td><td>Crawfor</td><td>2057   </td><td>1      </td><td>Gd     </td><td>1017   </td><td>1020   </td><td>180    </td><td>223    </td><td>Gd     </td><td>1037   </td><td>Gd     </td></tr>\n",
       "</tbody>\n",
       "</table>\n"
      ],
      "text/latex": [
       "\\begin{tabular}{r|llllllllllll}\n",
       " OverallQual & Neighborhood & GrLivArea & GarageCars & ExterQual & TotalBsmtSF & X1stFlrSF & GarageArea & BsmtFinSF1 & KitchenQual & X2ndFlrSF & BsmtQual\\\\\n",
       "\\hline\n",
       "\t 7       & Gilbert & 1509    & 2       & Gd      &  783    &  807    & 393     &   0     & Gd      &  702    & Gd     \\\\\n",
       "\t 5       & Edwards & 1355    & 0       & TA      &  644    &  808    &   0     & 351     & TA      &  547    & TA     \\\\\n",
       "\t 5       & Mitchel & 1140    & 0       & TA      & 1140    & 1140    &   0     &   0     & TA      &    0    & Gd     \\\\\n",
       "\t 4       & Edwards & 1440    & 0       & TA      & 1440    & 1440    &   0     & 133     & Fa      &    0    & TA     \\\\\n",
       "\t 7       & SawyerW & 1349    & 2       & TA      & 1349    & 1349    & 539     &   0     & TA      &    0    & Gd     \\\\\n",
       "\t 7       & Crawfor & 2057    & 1       & Gd      & 1017    & 1020    & 180     & 223     & Gd      & 1037    & Gd     \\\\\n",
       "\\end{tabular}\n"
      ],
      "text/markdown": [
       "\n",
       "| OverallQual | Neighborhood | GrLivArea | GarageCars | ExterQual | TotalBsmtSF | X1stFlrSF | GarageArea | BsmtFinSF1 | KitchenQual | X2ndFlrSF | BsmtQual |\n",
       "|---|---|---|---|---|---|---|---|---|---|---|---|\n",
       "| 7       | Gilbert | 1509    | 2       | Gd      |  783    |  807    | 393     |   0     | Gd      |  702    | Gd      |\n",
       "| 5       | Edwards | 1355    | 0       | TA      |  644    |  808    |   0     | 351     | TA      |  547    | TA      |\n",
       "| 5       | Mitchel | 1140    | 0       | TA      | 1140    | 1140    |   0     |   0     | TA      |    0    | Gd      |\n",
       "| 4       | Edwards | 1440    | 0       | TA      | 1440    | 1440    |   0     | 133     | Fa      |    0    | TA      |\n",
       "| 7       | SawyerW | 1349    | 2       | TA      | 1349    | 1349    | 539     |   0     | TA      |    0    | Gd      |\n",
       "| 7       | Crawfor | 2057    | 1       | Gd      | 1017    | 1020    | 180     | 223     | Gd      | 1037    | Gd      |\n",
       "\n"
      ],
      "text/plain": [
       "  OverallQual Neighborhood GrLivArea GarageCars ExterQual TotalBsmtSF X1stFlrSF\n",
       "1 7           Gilbert      1509      2          Gd         783         807     \n",
       "2 5           Edwards      1355      0          TA         644         808     \n",
       "3 5           Mitchel      1140      0          TA        1140        1140     \n",
       "4 4           Edwards      1440      0          TA        1440        1440     \n",
       "5 7           SawyerW      1349      2          TA        1349        1349     \n",
       "6 7           Crawfor      2057      1          Gd        1017        1020     \n",
       "  GarageArea BsmtFinSF1 KitchenQual X2ndFlrSF BsmtQual\n",
       "1 393          0        Gd           702      Gd      \n",
       "2   0        351        TA           547      TA      \n",
       "3   0          0        TA             0      Gd      \n",
       "4   0        133        Fa             0      TA      \n",
       "5 539          0        TA             0      Gd      \n",
       "6 180        223        Gd          1037      Gd      "
      ]
     },
     "metadata": {},
     "output_type": "display_data"
    }
   ],
   "source": [
    "# pour l'entrainement on enlève la target\n",
    "train_b = subset(train, select=-c(SalePrice))\n",
    "testt_b = subset(testt, select=-c(SalePrice))\n",
    "\n",
    "head(train_b)"
   ]
  },
  {
   "cell_type": "code",
   "execution_count": 75,
   "id": "ca8a98f0",
   "metadata": {},
   "outputs": [
    {
     "data": {
      "text/html": [
       "<ol class=list-inline>\n",
       "\t<li>1084</li>\n",
       "\t<li>13</li>\n",
       "</ol>\n"
      ],
      "text/latex": [
       "\\begin{enumerate*}\n",
       "\\item 1084\n",
       "\\item 13\n",
       "\\end{enumerate*}\n"
      ],
      "text/markdown": [
       "1. 1084\n",
       "2. 13\n",
       "\n",
       "\n"
      ],
      "text/plain": [
       "[1] 1084   13"
      ]
     },
     "metadata": {},
     "output_type": "display_data"
    },
    {
     "data": {
      "text/html": [
       "<ol class=list-inline>\n",
       "\t<li>1084</li>\n",
       "\t<li>12</li>\n",
       "</ol>\n"
      ],
      "text/latex": [
       "\\begin{enumerate*}\n",
       "\\item 1084\n",
       "\\item 12\n",
       "\\end{enumerate*}\n"
      ],
      "text/markdown": [
       "1. 1084\n",
       "2. 12\n",
       "\n",
       "\n"
      ],
      "text/plain": [
       "[1] 1084   12"
      ]
     },
     "metadata": {},
     "output_type": "display_data"
    },
    {
     "data": {
      "text/html": [
       "<ol class=list-inline>\n",
       "\t<li>365</li>\n",
       "\t<li>13</li>\n",
       "</ol>\n"
      ],
      "text/latex": [
       "\\begin{enumerate*}\n",
       "\\item 365\n",
       "\\item 13\n",
       "\\end{enumerate*}\n"
      ],
      "text/markdown": [
       "1. 365\n",
       "2. 13\n",
       "\n",
       "\n"
      ],
      "text/plain": [
       "[1] 365  13"
      ]
     },
     "metadata": {},
     "output_type": "display_data"
    },
    {
     "data": {
      "text/html": [
       "<ol class=list-inline>\n",
       "\t<li>365</li>\n",
       "\t<li>12</li>\n",
       "</ol>\n"
      ],
      "text/latex": [
       "\\begin{enumerate*}\n",
       "\\item 365\n",
       "\\item 12\n",
       "\\end{enumerate*}\n"
      ],
      "text/markdown": [
       "1. 365\n",
       "2. 12\n",
       "\n",
       "\n"
      ],
      "text/plain": [
       "[1] 365  12"
      ]
     },
     "metadata": {},
     "output_type": "display_data"
    }
   ],
   "source": [
    "dim(train);dim(train_b)\n",
    "dim(testt);dim(testt_b)"
   ]
  },
  {
   "cell_type": "code",
   "execution_count": 76,
   "id": "b0ee6b02",
   "metadata": {},
   "outputs": [
    {
     "data": {
      "text/plain": [
       "\n",
       "Call:\n",
       "lm(formula = log(train$SalePrice) ~ ., data = train_b)\n",
       "\n",
       "Residuals:\n",
       "     Min       1Q   Median       3Q      Max \n",
       "-0.62083 -0.05687  0.01066  0.06948  0.47677 \n",
       "\n",
       "Coefficients:\n",
       "                      Estimate Std. Error t value Pr(>|t|)    \n",
       "(Intercept)          1.120e+01  6.362e-02 176.045  < 2e-16 ***\n",
       "OverallQual          6.776e-02  5.402e-03  12.545  < 2e-16 ***\n",
       "NeighborhoodBlueste -5.096e-02  1.301e-01  -0.392 0.695425    \n",
       "NeighborhoodBrDale  -2.444e-01  5.687e-02  -4.298 1.89e-05 ***\n",
       "NeighborhoodBrkSide -5.226e-02  4.193e-02  -1.246 0.212945    \n",
       "NeighborhoodClearCr  8.001e-02  4.550e-02   1.758 0.078971 .  \n",
       "NeighborhoodCollgCr  2.525e-03  3.638e-02   0.069 0.944675    \n",
       "NeighborhoodCrawfor  1.043e-01  4.132e-02   2.525 0.011729 *  \n",
       "NeighborhoodEdwards -1.020e-01  3.984e-02  -2.560 0.010598 *  \n",
       "NeighborhoodGilbert  4.536e-02  3.869e-02   1.172 0.241294    \n",
       "NeighborhoodIDOTRR  -1.635e-01  4.545e-02  -3.598 0.000336 ***\n",
       "NeighborhoodMeadowV -2.519e-01  5.276e-02  -4.774 2.06e-06 ***\n",
       "NeighborhoodMitchel -4.963e-02  4.238e-02  -1.171 0.241808    \n",
       "NeighborhoodNAmes   -4.757e-02  3.842e-02  -1.238 0.215868    \n",
       "NeighborhoodNoRidge  5.144e-02  4.283e-02   1.201 0.230053    \n",
       "NeighborhoodNPkVill -1.032e-01  6.258e-02  -1.648 0.099587 .  \n",
       "NeighborhoodNridgHt  2.936e-02  3.967e-02   0.740 0.459386    \n",
       "NeighborhoodNWAmes  -4.338e-03  3.991e-02  -0.109 0.913458    \n",
       "NeighborhoodOldTown -1.745e-01  4.007e-02  -4.356 1.46e-05 ***\n",
       "NeighborhoodSawyer  -4.510e-02  4.124e-02  -1.094 0.274423    \n",
       "NeighborhoodSawyerW -3.294e-02  3.941e-02  -0.836 0.403529    \n",
       "NeighborhoodSomerst  3.491e-02  3.793e-02   0.920 0.357701    \n",
       "NeighborhoodStoneBr  7.431e-02  4.516e-02   1.646 0.100167    \n",
       "NeighborhoodSWISU   -8.754e-02  5.207e-02  -1.681 0.093005 .  \n",
       "NeighborhoodTimber   9.344e-03  4.112e-02   0.227 0.820269    \n",
       "NeighborhoodVeenker  1.233e-01  5.410e-02   2.280 0.022820 *  \n",
       "GrLivArea           -4.071e-05  8.640e-05  -0.471 0.637589    \n",
       "GarageCars           2.865e-02  1.247e-02   2.297 0.021811 *  \n",
       "ExterQualFa         -2.112e-01  5.241e-02  -4.029 6.00e-05 ***\n",
       "ExterQualGd         -5.108e-02  2.780e-02  -1.837 0.066486 .  \n",
       "ExterQualTA         -5.679e-02  3.042e-02  -1.867 0.062248 .  \n",
       "TotalBsmtSF          1.168e-04  1.834e-05   6.366 2.90e-10 ***\n",
       "X1stFlrSF            2.784e-04  8.874e-05   3.138 0.001750 ** \n",
       "GarageArea           1.393e-04  4.273e-05   3.260 0.001149 ** \n",
       "BsmtFinSF1           1.111e-04  1.073e-05  10.350  < 2e-16 ***\n",
       "KitchenQualFa       -1.997e-01  3.438e-02  -5.809 8.35e-09 ***\n",
       "KitchenQualGd       -5.398e-02  1.990e-02  -2.713 0.006783 ** \n",
       "KitchenQualTA       -1.152e-01  2.195e-02  -5.248 1.86e-07 ***\n",
       "X2ndFlrSF            2.927e-04  8.739e-05   3.350 0.000838 ***\n",
       "BsmtQualFa          -1.169e-01  3.556e-02  -3.288 0.001042 ** \n",
       "BsmtQualGd          -5.351e-02  1.915e-02  -2.794 0.005297 ** \n",
       "BsmtQualTA          -8.272e-02  2.256e-02  -3.667 0.000258 ***\n",
       "---\n",
       "Signif. codes:  0 '***' 0.001 '**' 0.01 '*' 0.05 '.' 0.1 ' ' 1\n",
       "\n",
       "Residual standard error: 0.1246 on 1042 degrees of freedom\n",
       "Multiple R-squared:  0.8996,\tAdjusted R-squared:  0.8956 \n",
       "F-statistic: 227.6 on 41 and 1042 DF,  p-value: < 2.2e-16\n"
      ]
     },
     "metadata": {},
     "output_type": "display_data"
    }
   ],
   "source": [
    "model_select_feat = lm(log(train$SalePrice)~., data=train_b)\n",
    "summary(model_select_feat)"
   ]
  },
  {
   "cell_type": "markdown",
   "id": "f8635ff9",
   "metadata": {},
   "source": [
    "Prédictions et calcul des RMSE:"
   ]
  },
  {
   "cell_type": "code",
   "execution_count": 77,
   "id": "3e098746",
   "metadata": {},
   "outputs": [
    {
     "name": "stdout",
     "output_type": "stream",
     "text": [
      "[1] \"RMSE sur le dataset de train:\"\n",
      "[1] 22110\n",
      "[1] \"RMSE sur le dataset de test:\"\n",
      "[1] 26143\n"
     ]
    }
   ],
   "source": [
    "y_train_pred = (predict(model_select_feat, newdata=train_b))\n",
    "y_testt_pred = (predict(model_select_feat, newdata=testt_b))\n",
    "\n",
    "\n",
    "RMSE_train = c(sqrt(mean((exp(y_train_pred)-train$SalePrice)^2)))\n",
    "RMSE_testt = c(sqrt(mean((exp(y_testt_pred)-testt$SalePrice)^2)))\n",
    "\n",
    "print(\"RMSE sur le dataset de train:\"); print(RMSE_train, digits=5)\n",
    "\n",
    "print(\"RMSE sur le dataset de test:\"); print(RMSE_testt, digits=5)"
   ]
  },
  {
   "cell_type": "markdown",
   "id": "140bf465",
   "metadata": {},
   "source": [
    "## 4.selection de features + suppression des outliers\n"
   ]
  },
  {
   "cell_type": "code",
   "execution_count": 78,
   "id": "774db5e9",
   "metadata": {},
   "outputs": [],
   "source": [
    "train = (subset(df_train, select=c(OverallQual, Neighborhood, GrLivArea, GarageCars, ExterQual, TotalBsmtSF, X1stFlrSF, GarageArea, BsmtFinSF1, KitchenQual, X2ndFlrSF, BsmtQual, SalePrice)))\n",
    "testt = (subset(df_testt, select=c(OverallQual, Neighborhood, GrLivArea, GarageCars, ExterQual, TotalBsmtSF, X1stFlrSF, GarageArea, BsmtFinSF1, KitchenQual, X2ndFlrSF, BsmtQual, SalePrice)))"
   ]
  },
  {
   "cell_type": "code",
   "execution_count": 79,
   "id": "db2d6453",
   "metadata": {},
   "outputs": [
    {
     "data": {
      "text/html": [
       "<table>\n",
       "<thead><tr><th scope=col>OverallQual</th><th scope=col>Neighborhood</th><th scope=col>GrLivArea</th><th scope=col>GarageCars</th><th scope=col>ExterQual</th><th scope=col>TotalBsmtSF</th><th scope=col>X1stFlrSF</th><th scope=col>GarageArea</th><th scope=col>BsmtFinSF1</th><th scope=col>KitchenQual</th><th scope=col>X2ndFlrSF</th><th scope=col>BsmtQual</th></tr></thead>\n",
       "<tbody>\n",
       "\t<tr><td>7      </td><td>Gilbert</td><td>1509   </td><td>2      </td><td>Gd     </td><td> 783   </td><td> 807   </td><td>393    </td><td>  0    </td><td>Gd     </td><td> 702   </td><td>Gd     </td></tr>\n",
       "\t<tr><td>5      </td><td>Edwards</td><td>1355   </td><td>0      </td><td>TA     </td><td> 644   </td><td> 808   </td><td>  0    </td><td>351    </td><td>TA     </td><td> 547   </td><td>TA     </td></tr>\n",
       "\t<tr><td>5      </td><td>Mitchel</td><td>1140   </td><td>0      </td><td>TA     </td><td>1140   </td><td>1140   </td><td>  0    </td><td>  0    </td><td>TA     </td><td>   0   </td><td>Gd     </td></tr>\n",
       "\t<tr><td>4      </td><td>Edwards</td><td>1440   </td><td>0      </td><td>TA     </td><td>1440   </td><td>1440   </td><td>  0    </td><td>133    </td><td>Fa     </td><td>   0   </td><td>TA     </td></tr>\n",
       "\t<tr><td>7      </td><td>SawyerW</td><td>1349   </td><td>2      </td><td>TA     </td><td>1349   </td><td>1349   </td><td>539    </td><td>  0    </td><td>TA     </td><td>   0   </td><td>Gd     </td></tr>\n",
       "\t<tr><td>7      </td><td>Crawfor</td><td>2057   </td><td>1      </td><td>Gd     </td><td>1017   </td><td>1020   </td><td>180    </td><td>223    </td><td>Gd     </td><td>1037   </td><td>Gd     </td></tr>\n",
       "</tbody>\n",
       "</table>\n"
      ],
      "text/latex": [
       "\\begin{tabular}{r|llllllllllll}\n",
       " OverallQual & Neighborhood & GrLivArea & GarageCars & ExterQual & TotalBsmtSF & X1stFlrSF & GarageArea & BsmtFinSF1 & KitchenQual & X2ndFlrSF & BsmtQual\\\\\n",
       "\\hline\n",
       "\t 7       & Gilbert & 1509    & 2       & Gd      &  783    &  807    & 393     &   0     & Gd      &  702    & Gd     \\\\\n",
       "\t 5       & Edwards & 1355    & 0       & TA      &  644    &  808    &   0     & 351     & TA      &  547    & TA     \\\\\n",
       "\t 5       & Mitchel & 1140    & 0       & TA      & 1140    & 1140    &   0     &   0     & TA      &    0    & Gd     \\\\\n",
       "\t 4       & Edwards & 1440    & 0       & TA      & 1440    & 1440    &   0     & 133     & Fa      &    0    & TA     \\\\\n",
       "\t 7       & SawyerW & 1349    & 2       & TA      & 1349    & 1349    & 539     &   0     & TA      &    0    & Gd     \\\\\n",
       "\t 7       & Crawfor & 2057    & 1       & Gd      & 1017    & 1020    & 180     & 223     & Gd      & 1037    & Gd     \\\\\n",
       "\\end{tabular}\n"
      ],
      "text/markdown": [
       "\n",
       "| OverallQual | Neighborhood | GrLivArea | GarageCars | ExterQual | TotalBsmtSF | X1stFlrSF | GarageArea | BsmtFinSF1 | KitchenQual | X2ndFlrSF | BsmtQual |\n",
       "|---|---|---|---|---|---|---|---|---|---|---|---|\n",
       "| 7       | Gilbert | 1509    | 2       | Gd      |  783    |  807    | 393     |   0     | Gd      |  702    | Gd      |\n",
       "| 5       | Edwards | 1355    | 0       | TA      |  644    |  808    |   0     | 351     | TA      |  547    | TA      |\n",
       "| 5       | Mitchel | 1140    | 0       | TA      | 1140    | 1140    |   0     |   0     | TA      |    0    | Gd      |\n",
       "| 4       | Edwards | 1440    | 0       | TA      | 1440    | 1440    |   0     | 133     | Fa      |    0    | TA      |\n",
       "| 7       | SawyerW | 1349    | 2       | TA      | 1349    | 1349    | 539     |   0     | TA      |    0    | Gd      |\n",
       "| 7       | Crawfor | 2057    | 1       | Gd      | 1017    | 1020    | 180     | 223     | Gd      | 1037    | Gd      |\n",
       "\n"
      ],
      "text/plain": [
       "  OverallQual Neighborhood GrLivArea GarageCars ExterQual TotalBsmtSF X1stFlrSF\n",
       "1 7           Gilbert      1509      2          Gd         783         807     \n",
       "2 5           Edwards      1355      0          TA         644         808     \n",
       "3 5           Mitchel      1140      0          TA        1140        1140     \n",
       "4 4           Edwards      1440      0          TA        1440        1440     \n",
       "5 7           SawyerW      1349      2          TA        1349        1349     \n",
       "6 7           Crawfor      2057      1          Gd        1017        1020     \n",
       "  GarageArea BsmtFinSF1 KitchenQual X2ndFlrSF BsmtQual\n",
       "1 393          0        Gd           702      Gd      \n",
       "2   0        351        TA           547      TA      \n",
       "3   0          0        TA             0      Gd      \n",
       "4   0        133        Fa             0      TA      \n",
       "5 539          0        TA             0      Gd      \n",
       "6 180        223        Gd          1037      Gd      "
      ]
     },
     "metadata": {},
     "output_type": "display_data"
    }
   ],
   "source": [
    "# pour l'entrainement on enlève la target\n",
    "train_b = subset(train, select=-c(SalePrice))\n",
    "testt_b = subset(testt, select=-c(SalePrice))\n",
    "\n",
    "head(train_b)"
   ]
  },
  {
   "cell_type": "code",
   "execution_count": 80,
   "id": "18154177",
   "metadata": {},
   "outputs": [
    {
     "data": {
      "text/plain": [
       "\n",
       "Call:\n",
       "lm(formula = log(train$SalePrice) ~ ., data = train_b)\n",
       "\n",
       "Residuals:\n",
       "     Min       1Q   Median       3Q      Max \n",
       "-1.77259 -0.05827  0.01111  0.07818  0.46437 \n",
       "\n",
       "Coefficients:\n",
       "                      Estimate Std. Error t value Pr(>|t|)    \n",
       "(Intercept)          1.119e+01  7.714e-02 145.109  < 2e-16 ***\n",
       "OverallQual          7.432e-02  6.544e-03  11.358  < 2e-16 ***\n",
       "NeighborhoodBlueste -5.949e-02  1.594e-01  -0.373 0.709011    \n",
       "NeighborhoodBrDale  -2.628e-01  6.959e-02  -3.776 0.000168 ***\n",
       "NeighborhoodBrkSide -5.360e-02  5.131e-02  -1.045 0.296464    \n",
       "NeighborhoodClearCr  1.473e-01  5.554e-02   2.653 0.008108 ** \n",
       "NeighborhoodCollgCr  3.724e-02  4.450e-02   0.837 0.402839    \n",
       "NeighborhoodCrawfor  1.476e-01  5.050e-02   2.922 0.003551 ** \n",
       "NeighborhoodEdwards -1.255e-01  4.869e-02  -2.577 0.010095 *  \n",
       "NeighborhoodGilbert  4.317e-02  4.737e-02   0.911 0.362313    \n",
       "NeighborhoodIDOTRR  -1.882e-01  5.534e-02  -3.401 0.000697 ***\n",
       "NeighborhoodMeadowV -2.587e-01  6.455e-02  -4.007 6.57e-05 ***\n",
       "NeighborhoodMitchel -1.835e-02  5.183e-02  -0.354 0.723349    \n",
       "NeighborhoodNAmes   -2.113e-02  4.695e-02  -0.450 0.652844    \n",
       "NeighborhoodNoRidge  1.584e-01  5.180e-02   3.057 0.002291 ** \n",
       "NeighborhoodNPkVill -1.022e-01  7.662e-02  -1.334 0.182493    \n",
       "NeighborhoodNridgHt  1.269e-01  4.819e-02   2.633 0.008585 ** \n",
       "NeighborhoodNWAmes   2.550e-02  4.870e-02   0.524 0.600652    \n",
       "NeighborhoodOldTown -1.701e-01  4.902e-02  -3.471 0.000540 ***\n",
       "NeighborhoodSawyer  -3.594e-02  5.038e-02  -0.713 0.475702    \n",
       "NeighborhoodSawyerW  6.994e-03  4.819e-02   0.145 0.884645    \n",
       "NeighborhoodSomerst  6.748e-02  4.634e-02   1.456 0.145662    \n",
       "NeighborhoodStoneBr  1.684e-01  5.499e-02   3.062 0.002254 ** \n",
       "NeighborhoodSWISU   -6.549e-02  6.371e-02  -1.028 0.304252    \n",
       "NeighborhoodTimber   6.294e-02  5.023e-02   1.253 0.210440    \n",
       "NeighborhoodVeenker  1.754e-01  6.617e-02   2.651 0.008157 ** \n",
       "GrLivArea            1.355e-06  1.058e-04   0.013 0.989785    \n",
       "GarageCars           7.122e-02  1.484e-02   4.801 1.81e-06 ***\n",
       "ExterQualFa         -1.308e-01  6.365e-02  -2.055 0.040112 *  \n",
       "ExterQualGd          2.606e-02  3.339e-02   0.780 0.435325    \n",
       "ExterQualTA          2.525e-02  3.658e-02   0.690 0.490268    \n",
       "TotalBsmtSF          3.256e-05  2.187e-05   1.489 0.136917    \n",
       "X1stFlrSF            2.153e-04  1.086e-04   1.983 0.047639 *  \n",
       "GarageArea           7.704e-06  5.059e-05   0.152 0.878999    \n",
       "BsmtFinSF1           6.899e-05  1.271e-05   5.429 7.03e-08 ***\n",
       "KitchenQualFa       -2.065e-01  4.198e-02  -4.919 1.01e-06 ***\n",
       "KitchenQualGd       -5.392e-02  2.420e-02  -2.228 0.026114 *  \n",
       "KitchenQualTA       -1.182e-01  2.674e-02  -4.421 1.08e-05 ***\n",
       "X2ndFlrSF            1.938e-04  1.069e-04   1.813 0.070056 .  \n",
       "BsmtQualFa          -1.246e-01  4.343e-02  -2.868 0.004208 ** \n",
       "BsmtQualGd          -5.631e-02  2.316e-02  -2.432 0.015194 *  \n",
       "BsmtQualTA          -8.599e-02  2.742e-02  -3.136 0.001760 ** \n",
       "---\n",
       "Signif. codes:  0 '***' 0.001 '**' 0.01 '*' 0.05 '.' 0.1 ' ' 1\n",
       "\n",
       "Residual standard error: 0.1526 on 1053 degrees of freedom\n",
       "Multiple R-squared:  0.8551,\tAdjusted R-squared:  0.8494 \n",
       "F-statistic: 151.5 on 41 and 1053 DF,  p-value: < 2.2e-16\n"
      ]
     },
     "metadata": {},
     "output_type": "display_data"
    }
   ],
   "source": [
    "model_select_feat = lm(log(train$SalePrice)~., data=train_b)\n",
    "summary(model_select_feat)"
   ]
  },
  {
   "cell_type": "markdown",
   "id": "5b261448",
   "metadata": {},
   "source": [
    "Prédictions et calcul des RMSE:"
   ]
  },
  {
   "cell_type": "code",
   "execution_count": 81,
   "id": "51aa6709",
   "metadata": {},
   "outputs": [
    {
     "name": "stdout",
     "output_type": "stream",
     "text": [
      "[1] \"RMSE sur le dataset de train:\"\n",
      "[1] 36363\n",
      "[1] \"RMSE sur le dataset de test:\"\n",
      "[1] 29176\n"
     ]
    }
   ],
   "source": [
    "y_train_pred = (predict(model_select_feat, newdata=train_b))\n",
    "y_testt_pred = (predict(model_select_feat, newdata=testt_b))\n",
    "\n",
    "\n",
    "RMSE_train = c(sqrt(mean((exp(y_train_pred)-train$SalePrice)^2)))\n",
    "RMSE_testt = c(sqrt(mean((exp(y_testt_pred)-testt$SalePrice)^2)))\n",
    "\n",
    "print(\"RMSE sur le dataset de train:\"); print(RMSE_train, digits=5)\n",
    "\n",
    "print(\"RMSE sur le dataset de test:\"); print(RMSE_testt, digits=5)"
   ]
  },
  {
   "cell_type": "markdown",
   "id": "7973a809",
   "metadata": {},
   "source": [
    "## 5. modéle sans outliers & normalisé"
   ]
  },
  {
   "cell_type": "markdown",
   "id": "b22c48a7",
   "metadata": {},
   "source": [
    "essai en fusionnant les train & test"
   ]
  },
  {
   "cell_type": "code",
   "execution_count": null,
   "id": "aee0a14c",
   "metadata": {},
   "outputs": [],
   "source": [
    "train = subset(df_train, select=-c(Condition2, RoofMatl, Exterior1st, Exterior2nd, Heating, Electrical))\n",
    "testt = subset(df_testt, select=-c(Condition2, RoofMatl, Exterior1st, Exterior2nd, Heating, Electrical))\n",
    "\n",
    "# outliers issue de bonferonni\n",
    "train = train[-c(720,819,743,661,814),]\n",
    "testt = testt[-c(720,819,743,661,814),]\n",
    "\n",
    "# outliers mis en évidence lors de l'analyse\n",
    "train = subset(train, GrLivArea < 4000)\n",
    "train = subset(train, GarageArea < 1250)\n",
    "train = subset(train, TotalBsmtSF < 4000)\n",
    "train = subset(train, MasVnrArea < 1000)\n",
    "train = subset(train, TotalBsmtSF < 4000)\n",
    "train = subset(train, X1stFlrSF < 4500)\n",
    "train = subset(train, TotalBsmtSF < 6000)\n",
    "\n",
    "dim(train)\n",
    "dim(testt)"
   ]
  },
  {
   "cell_type": "code",
   "execution_count": null,
   "id": "2be2f6d5",
   "metadata": {},
   "outputs": [],
   "source": [
    "all_tmp <- rbind(train, testt)"
   ]
  },
  {
   "cell_type": "code",
   "execution_count": null,
   "id": "f8d57a9e",
   "metadata": {},
   "outputs": [],
   "source": [
    "numericVars <- which(sapply(all_tmp, is.numeric)) #index vector numeric variables\n",
    "numericVarNames <- names(numericVars)\n",
    "print(numericVarNames)"
   ]
  },
  {
   "cell_type": "code",
   "execution_count": null,
   "id": "84fbf909",
   "metadata": {},
   "outputs": [],
   "source": [
    "DFnumeric <- all_tmp[, names(all_tmp) %in% numericVarNames]\n",
    "\n",
    "DFtarget = subset(DFnumeric, select=c(SalePrice))\n",
    "DFnumeric = subset(DFnumeric, select=-c(SalePrice))\n",
    "\n",
    "DFfactors <- all_tmp[, !(names(all_tmp) %in% numericVarNames)]\n",
    "\n",
    "dim(DFnumeric)\n",
    "dim(DFtarget)\n",
    "dim(DFfactors)"
   ]
  },
  {
   "cell_type": "code",
   "execution_count": null,
   "id": "03e5dfb5",
   "metadata": {},
   "outputs": [],
   "source": [
    "PreNum <- preProcess(DFnumeric, method=c(\"center\", \"scale\"))\n",
    "print(PreNum)"
   ]
  },
  {
   "cell_type": "code",
   "execution_count": null,
   "id": "3022191d",
   "metadata": {},
   "outputs": [],
   "source": [
    "DFnorm <- predict(PreNum, DFnumeric)\n",
    "dim(DFnorm)"
   ]
  },
  {
   "cell_type": "code",
   "execution_count": null,
   "id": "05cd5bb1",
   "metadata": {},
   "outputs": [],
   "source": [
    "DFdummies <- as.data.frame(model.matrix(~.-1, DFfactors))"
   ]
  },
  {
   "cell_type": "code",
   "execution_count": null,
   "id": "371c417f",
   "metadata": {},
   "outputs": [],
   "source": [
    "all_tmp <- cbind(DFnorm, DFdummies, DFtarget) #combining all (now numeric) predictors into one dataframe \n",
    "dim(all_tmp)"
   ]
  },
  {
   "cell_type": "code",
   "execution_count": null,
   "id": "e62b500b",
   "metadata": {},
   "outputs": [],
   "source": [
    "train = all_tmp[0:1084, ]\n",
    "testt = all_tmp[1085:1449, ]"
   ]
  },
  {
   "cell_type": "code",
   "execution_count": null,
   "id": "fee39493",
   "metadata": {},
   "outputs": [],
   "source": [
    "dim(train)\n",
    "dim(testt)\n",
    "\n",
    "train_b = subset(train, select=-c(SalePrice))\n",
    "testt_b = subset(testt, select=-c(SalePrice))\n",
    "\n",
    "dim(train_b)\n",
    "dim(testt_b)\n",
    "\n",
    "#tail(train)\n",
    "#head(testt)"
   ]
  },
  {
   "cell_type": "code",
   "execution_count": null,
   "id": "15f4523a",
   "metadata": {},
   "outputs": [],
   "source": [
    "model_scale = lm(log(train$SalePrice)~., data=train_b)\n",
    "summary(model_scale)"
   ]
  },
  {
   "cell_type": "code",
   "execution_count": null,
   "id": "a12e7815",
   "metadata": {},
   "outputs": [],
   "source": [
    "y_train_pred = (predict(model_select_feat, newdata=train_b))\n",
    "y_testt_pred = (predict(model_select_feat, newdata=testt_b))\n",
    "\n",
    "\n",
    "RMSE_train = c(sqrt(mean((exp(y_train_pred)-train$SalePrice)^2)))\n",
    "RMSE_testt = c(sqrt(mean((exp(y_testt_pred)-testt$SalePrice)^2)))\n",
    "\n",
    "print(\"RMSE sur le dataset de train:\"); print(RMSE_train, digits=5)\n",
    "\n",
    "print(\"RMSE sur le dataset de test:\"); print(RMSE_testt, digits=5)"
   ]
  },
  {
   "cell_type": "markdown",
   "id": "9456c1b3",
   "metadata": {},
   "source": [
    "---\n",
    "# essai mais pb résultat"
   ]
  },
  {
   "cell_type": "markdown",
   "id": "de80755f",
   "metadata": {},
   "source": [
    "récupération des lignes qui sont mises en évidence comme outliers selon les valeurs de Bonderonni:"
   ]
  },
  {
   "cell_type": "code",
   "execution_count": null,
   "id": "bf237777",
   "metadata": {},
   "outputs": [],
   "source": [
    "train = subset(df_train, select=-c(Condition2, RoofMatl, Exterior1st, Exterior2nd, Heating, Electrical))\n",
    "testt = subset(df_testt, select=-c(Condition2, RoofMatl, Exterior1st, Exterior2nd, Heating, Electrical))\n",
    "\n",
    "# outliers issue de bonferonni\n",
    "train = train[-c(720,819,743,661,814),]\n",
    "testt = testt[-c(720,819,743,661,814),]\n",
    "\n",
    "# outliers mis en évidence lors de l'analyse\n",
    "train = subset(train, GrLivArea < 4000)\n",
    "train = subset(train, GarageArea < 1250)\n",
    "train = subset(train, TotalBsmtSF < 4000)\n",
    "train = subset(train, MasVnrArea < 1000)\n",
    "train = subset(train, TotalBsmtSF < 4000)\n",
    "train = subset(train, X1stFlrSF < 4500)\n",
    "train = subset(train, TotalBsmtSF < 6000)\n",
    "\n",
    "dim(train)\n",
    "dim(testt)"
   ]
  },
  {
   "cell_type": "code",
   "execution_count": null,
   "id": "d5a0865b",
   "metadata": {},
   "outputs": [],
   "source": [
    "numericVars <- which(sapply(train, is.numeric)) #index vector numeric variables\n",
    "numericVarNames <- names(numericVars)\n",
    "print(numericVarNames)"
   ]
  },
  {
   "cell_type": "code",
   "execution_count": null,
   "id": "fa370e59",
   "metadata": {},
   "outputs": [],
   "source": [
    "DFnumeric <- train[, names(train) %in% numericVarNames]\n",
    "\n",
    "DFtarget = subset(DFnumeric, select=c(SalePrice))\n",
    "DFnumeric = subset(DFnumeric, select=-c(SalePrice))\n",
    "\n",
    "DFfactors <- train[, !(names(train) %in% numericVarNames)]\n",
    "\n",
    "dim(DFnumeric)\n",
    "dim(DFtarget)\n",
    "dim(DFfactors)"
   ]
  },
  {
   "cell_type": "code",
   "execution_count": null,
   "id": "eb5146ca",
   "metadata": {},
   "outputs": [],
   "source": [
    "PreNum <- preProcess(DFnumeric, method=c(\"center\", \"scale\"))\n",
    "print(PreNum)"
   ]
  },
  {
   "cell_type": "code",
   "execution_count": null,
   "id": "2e35b161",
   "metadata": {},
   "outputs": [],
   "source": [
    "DFnorm <- predict(PreNum, DFnumeric)\n",
    "dim(DFnorm)"
   ]
  },
  {
   "cell_type": "code",
   "execution_count": null,
   "id": "3d2180b9",
   "metadata": {},
   "outputs": [],
   "source": [
    "DFdummies <- as.data.frame(model.matrix(~.-1, DFfactors))"
   ]
  },
  {
   "cell_type": "code",
   "execution_count": null,
   "id": "08cf39d0",
   "metadata": {},
   "outputs": [],
   "source": [
    "train <- cbind(DFnorm, DFdummies, DFtarget) #combining all (now numeric) predictors into one dataframe \n",
    "dim(train)"
   ]
  },
  {
   "cell_type": "markdown",
   "id": "a4317ae5",
   "metadata": {},
   "source": [
    "meme chose pour le test"
   ]
  },
  {
   "cell_type": "code",
   "execution_count": null,
   "id": "19bcc9fe",
   "metadata": {},
   "outputs": [],
   "source": [
    "DFnumeric <- testt[, names(testt) %in% numericVarNames]\n",
    "\n",
    "DFtarget = subset(DFnumeric, select=c(SalePrice))\n",
    "DFnumeric = subset(DFnumeric, select=-c(SalePrice))\n",
    "\n",
    "DFfactors <- testt[, !(names(testt) %in% numericVarNames)]\n",
    "\n",
    "dim(DFnumeric)\n",
    "dim(DFtarget)\n",
    "dim(DFfactors)"
   ]
  },
  {
   "cell_type": "code",
   "execution_count": null,
   "id": "931fb025",
   "metadata": {},
   "outputs": [],
   "source": [
    "PreNum <- preProcess(DFnumeric, method=c(\"center\", \"scale\"))\n",
    "print(PreNum)"
   ]
  },
  {
   "cell_type": "code",
   "execution_count": null,
   "id": "79b7a050",
   "metadata": {},
   "outputs": [],
   "source": [
    "DFnorm <- predict(PreNum, DFnumeric)\n",
    "dim(DFnorm)"
   ]
  },
  {
   "cell_type": "code",
   "execution_count": null,
   "id": "99cb9130",
   "metadata": {},
   "outputs": [],
   "source": [
    "DFdummies <- as.data.frame(model.matrix(~.-1, DFfactors))"
   ]
  },
  {
   "cell_type": "code",
   "execution_count": null,
   "id": "81fd16a2",
   "metadata": {},
   "outputs": [],
   "source": [
    "testt <- cbind(DFnorm, DFfactors, DFtarget) #combining all (now numeric) predictors into one dataframe \n",
    "dim(testt)"
   ]
  },
  {
   "cell_type": "markdown",
   "id": "2e2b6b62",
   "metadata": {},
   "source": [
    "préparation des données"
   ]
  },
  {
   "cell_type": "code",
   "execution_count": null,
   "id": "4f51c6d0",
   "metadata": {},
   "outputs": [],
   "source": [
    "dim(train)\n",
    "dim(testt)\n",
    "\n",
    "train_b = subset(train, select=-c(SalePrice))\n",
    "testt_b = subset(testt, select=-c(SalePrice))\n",
    "\n",
    "dim(train_b)\n",
    "dim(testt_b)"
   ]
  },
  {
   "cell_type": "code",
   "execution_count": null,
   "id": "4d66254c",
   "metadata": {},
   "outputs": [],
   "source": []
  },
  {
   "cell_type": "code",
   "execution_count": null,
   "id": "c72944e3",
   "metadata": {},
   "outputs": [],
   "source": []
  },
  {
   "cell_type": "code",
   "execution_count": null,
   "id": "64fc045e",
   "metadata": {},
   "outputs": [],
   "source": []
  },
  {
   "cell_type": "code",
   "execution_count": null,
   "id": "45bfbf25",
   "metadata": {},
   "outputs": [],
   "source": []
  },
  {
   "cell_type": "code",
   "execution_count": null,
   "id": "008cf052",
   "metadata": {},
   "outputs": [],
   "source": []
  },
  {
   "cell_type": "code",
   "execution_count": null,
   "id": "71bca4fe",
   "metadata": {},
   "outputs": [],
   "source": []
  },
  {
   "cell_type": "code",
   "execution_count": null,
   "id": "8efb5432",
   "metadata": {},
   "outputs": [],
   "source": []
  },
  {
   "cell_type": "markdown",
   "id": "48c394fb",
   "metadata": {},
   "source": [
    "# Feat eng"
   ]
  },
  {
   "cell_type": "markdown",
   "id": "0f3ae937",
   "metadata": {},
   "source": [
    "neighboorhood"
   ]
  },
  {
   "cell_type": "code",
   "execution_count": null,
   "id": "06edc459",
   "metadata": {},
   "outputs": [],
   "source": [
    "ggplot(df_all[!is.na(df_all$SalePrice),], aes(x=Neighborhood, y=SalePrice)) +\n",
    "        geom_bar(stat='summary', fun.y = \"median\", fill='blue') +\n",
    "        theme(axis.text.x = element_text(angle = 45, hjust = 1)) +\n",
    "        scale_y_continuous(breaks= seq(0, 800000, by=50000)) +\n",
    "        geom_label(stat = \"count\", aes(label = ..count.., y = ..count..), size=3) +\n",
    "        geom_hline(yintercept=163000, linetype=\"dashed\", color = \"red\")"
   ]
  },
  {
   "cell_type": "code",
   "execution_count": null,
   "id": "d52001b4",
   "metadata": {},
   "outputs": [],
   "source": [
    "ggplot(data=df_all, aes(x=Neighborhood)) +\n",
    "        geom_histogram(stat='count')+\n",
    "        geom_label(stat = \"count\", aes(label = ..count.., y = ..count..), size=3)+\n",
    "        theme(axis.text.x = element_text(angle = 45, hjust = 1))"
   ]
  },
  {
   "cell_type": "code",
   "execution_count": null,
   "id": "6554723a",
   "metadata": {},
   "outputs": [],
   "source": [
    "train$NeighRich[train$Neighborhood %in% c('StoneBr', 'NridgHt', 'NoRidge')] <- 2\n",
    "testt$NeighRich[testt$Neighborhood %in% c('StoneBr', 'NridgHt', 'NoRidge')] <- 2\n",
    "\n",
    "train$NeighRich[!train$Neighborhood %in% c('MeadowV', 'IDOTRR', 'BrDale', 'StoneBr', 'NridgHt', 'NoRidge')] <- 1\n",
    "testt$NeighRich[!testt$Neighborhood %in% c('MeadowV', 'IDOTRR', 'BrDale', 'StoneBr', 'NridgHt', 'NoRidge')] <- 1\n",
    "\n",
    "train$NeighRich[train$Neighborhood %in% c('MeadowV', 'IDOTRR', 'BrDale')] <- 0\n",
    "testt$NeighRich[testt$Neighborhood %in% c('MeadowV', 'IDOTRR', 'BrDale')] <- 0\n",
    "\n",
    "train = train[,-c(2)]\n",
    "testt = testt[,-c(2)]\n",
    "\n",
    "head(train)"
   ]
  },
  {
   "cell_type": "code",
   "execution_count": null,
   "id": "7da8705f",
   "metadata": {},
   "outputs": [],
   "source": [
    "train$Area <- train$GrLivArea + train$TotalBsmtSF\n",
    "testt$Area <- testt$GrLivArea + testt$TotalBsmtSF\n",
    "\n",
    "train = (subset(train, select=-c(GrLivArea,TotalBsmtSF)))\n",
    "testt = (subset(testt, select=-c(GrLivArea,TotalBsmtSF)))"
   ]
  },
  {
   "cell_type": "code",
   "execution_count": null,
   "id": "a098b129",
   "metadata": {},
   "outputs": [],
   "source": [
    "head(train)"
   ]
  },
  {
   "cell_type": "markdown",
   "id": "5adfe426",
   "metadata": {},
   "source": [
    "Normalizing the data"
   ]
  },
  {
   "cell_type": "code",
   "execution_count": null,
   "id": "c4c1f81f",
   "metadata": {},
   "outputs": [],
   "source": [
    "#c('OverallQual','GrLivArea','GarageCars','TotalBsmtSF','X1stFlrSF')\n",
    "\n",
    "#train_num <- train[, names(train) %in% c('X1stFlrSF', 'Area')]\n",
    "#testt_num <- testt[, names(testt) %in% c('X1stFlrSF', 'Area')]\n",
    "\n",
    "train_num <- subset(train, select=c(X1stFlrSF, Area))\n",
    "testt_num <- subset(testt, select=c(X1stFlrSF, Area))\n",
    "\n",
    "train_cat <- subset(train, select=c(ExterQual))\n",
    "testt_cat <- subset(testt, select=c(ExterQual))\n",
    "\n",
    "PreNum <- caret::preProcess(train_num, method=c(\"center\", \"scale\"))\n",
    "print(PreNum)"
   ]
  },
  {
   "cell_type": "code",
   "execution_count": null,
   "id": "83d86012",
   "metadata": {},
   "outputs": [],
   "source": [
    "train_num_norm <- predict(PreNum, train_num)\n",
    "\n",
    "PreNum <- caret::preProcess(testt_num, method=c(\"center\", \"scale\"))\n",
    "testt_num_norm <- predict(PreNum, testt_num)\n",
    "\n",
    "\n",
    "dim(train_num_norm)\n",
    "dim(testt_num_norm)"
   ]
  },
  {
   "cell_type": "markdown",
   "id": "686f3bad",
   "metadata": {},
   "source": [
    "dummies"
   ]
  },
  {
   "cell_type": "code",
   "execution_count": null,
   "id": "81ea129a",
   "metadata": {},
   "outputs": [],
   "source": [
    "df_cat <- as.data.frame(model.matrix(~.-1, df_cat))\n",
    "dim(df_cat)"
   ]
  },
  {
   "cell_type": "code",
   "execution_count": null,
   "id": "e8810245",
   "metadata": {},
   "outputs": [],
   "source": [
    "#train <- cbind(df_norm, df_cat)\n",
    "train <- cbind(train_num_norm, train_cat, \n",
    "                 subset(train, select=c(OverallQual, GarageCars, NeighRich)), train_target)#train_target)\n",
    "testt <- cbind(testt_num_norm, testt_cat, \n",
    "                 subset(testt, select=c(OverallQual, GarageCars, NeighRich)), testt_target)#_target)"
   ]
  },
  {
   "cell_type": "code",
   "execution_count": null,
   "id": "742e51a7",
   "metadata": {},
   "outputs": [],
   "source": [
    "head(train)"
   ]
  },
  {
   "cell_type": "code",
   "execution_count": null,
   "id": "655f0807",
   "metadata": {},
   "outputs": [],
   "source": [
    "str(train)"
   ]
  },
  {
   "cell_type": "code",
   "execution_count": null,
   "id": "4e147c10",
   "metadata": {},
   "outputs": [],
   "source": [
    "train_b = subset(train, select=-c(SalePrice))\n",
    "testt_b = subset(testt, select=-c(SalePrice))"
   ]
  },
  {
   "cell_type": "code",
   "execution_count": null,
   "id": "894e77e3",
   "metadata": {},
   "outputs": [],
   "source": [
    "model_norm = lm(log(train$SalePrice)~., data=train_b)\n",
    "summary(model_norm)"
   ]
  },
  {
   "cell_type": "code",
   "execution_count": null,
   "id": "1ff3465b",
   "metadata": {},
   "outputs": [],
   "source": [
    "y_train_pred = (predict(model_norm, newdata=train))\n",
    "y_testt_pred = (predict(model_norm, newdata=testt))"
   ]
  },
  {
   "cell_type": "code",
   "execution_count": null,
   "id": "7278f193",
   "metadata": {},
   "outputs": [],
   "source": [
    "RMSE_train = c(sqrt(mean((exp(y_train_pred)-train$SalePrice)^2)))\n",
    "RMSE_testt = c(sqrt(mean((exp(y_testt_pred)-testt$SalePrice)^2)))\n",
    "\n",
    "print(\"RMSE sur le dataset de train:\"); print(RMSE_train, digits=5)\n",
    "\n",
    "print(\"RMSE sur le dataset de test:\"); print(RMSE_testt, digits=5)"
   ]
  },
  {
   "cell_type": "code",
   "execution_count": null,
   "id": "5e1e1685",
   "metadata": {},
   "outputs": [],
   "source": [
    "summary(df_all$SalePrice)"
   ]
  },
  {
   "cell_type": "code",
   "execution_count": null,
   "id": "3cf9d7e6",
   "metadata": {},
   "outputs": [],
   "source": [
    "summary(model_norm)"
   ]
  },
  {
   "cell_type": "markdown",
   "id": "b226fd3f",
   "metadata": {},
   "source": [
    "---\n",
    "# Modèles finale et comparaison des RMSE"
   ]
  },
  {
   "cell_type": "code",
   "execution_count": 122,
   "id": "48418e71",
   "metadata": {},
   "outputs": [
    {
     "data": {
      "text/html": [
       "<table>\n",
       "<thead><tr><th scope=col>train_test</th><th scope=col>model</th><th scope=col>rmse</th></tr></thead>\n",
       "<tbody>\n",
       "\t<tr><td>train             </td><td>1.all             </td><td>23707             </td></tr>\n",
       "\t<tr><td>train             </td><td>2.all w/o outilers</td><td>16303             </td></tr>\n",
       "\t<tr><td>train             </td><td>3.sel             </td><td>22110             </td></tr>\n",
       "\t<tr><td>train             </td><td>4.sel w/o outliers</td><td>36363             </td></tr>\n",
       "\t<tr><td>test              </td><td>1.all             </td><td>26677             </td></tr>\n",
       "\t<tr><td>test              </td><td>2.all w/o outilers</td><td>21690             </td></tr>\n",
       "\t<tr><td>test              </td><td>3.sel             </td><td>26143             </td></tr>\n",
       "\t<tr><td>test              </td><td>4.sel w/o outliers</td><td>29176             </td></tr>\n",
       "</tbody>\n",
       "</table>\n"
      ],
      "text/latex": [
       "\\begin{tabular}{r|lll}\n",
       " train\\_test & model & rmse\\\\\n",
       "\\hline\n",
       "\t train              & 1.all              & 23707             \\\\\n",
       "\t train              & 2.all w/o outilers & 16303             \\\\\n",
       "\t train              & 3.sel              & 22110             \\\\\n",
       "\t train              & 4.sel w/o outliers & 36363             \\\\\n",
       "\t test               & 1.all              & 26677             \\\\\n",
       "\t test               & 2.all w/o outilers & 21690             \\\\\n",
       "\t test               & 3.sel              & 26143             \\\\\n",
       "\t test               & 4.sel w/o outliers & 29176             \\\\\n",
       "\\end{tabular}\n"
      ],
      "text/markdown": [
       "\n",
       "| train_test | model | rmse |\n",
       "|---|---|---|\n",
       "| train              | 1.all              | 23707              |\n",
       "| train              | 2.all w/o outilers | 16303              |\n",
       "| train              | 3.sel              | 22110              |\n",
       "| train              | 4.sel w/o outliers | 36363              |\n",
       "| test               | 1.all              | 26677              |\n",
       "| test               | 2.all w/o outilers | 21690              |\n",
       "| test               | 3.sel              | 26143              |\n",
       "| test               | 4.sel w/o outliers | 29176              |\n",
       "\n"
      ],
      "text/plain": [
       "  train_test model              rmse \n",
       "1 train      1.all              23707\n",
       "2 train      2.all w/o outilers 16303\n",
       "3 train      3.sel              22110\n",
       "4 train      4.sel w/o outliers 36363\n",
       "5 test       1.all              26677\n",
       "6 test       2.all w/o outilers 21690\n",
       "7 test       3.sel              26143\n",
       "8 test       4.sel w/o outliers 29176"
      ]
     },
     "metadata": {},
     "output_type": "display_data"
    }
   ],
   "source": [
    "resultats = data.frame(train_test=c(\"train\", \"train\", \"train\", \"train\", \"test\", \"test\", \"test\", \"test\"),\n",
    "                model=c(\"1.all\", \"2.all w/o outilers\", \"3.sel\", \"4.sel w/o outliers\",\n",
    "                        \"1.all\", \"2.all w/o outilers\", \"3.sel\", \"4.sel w/o outliers\"),\n",
    "                rmse=c(23707, 16303, 22110, 36363, 26677, 21690, 26143, 29176))\n",
    "resultats"
   ]
  },
  {
   "cell_type": "code",
   "execution_count": 123,
   "id": "bfa00b2c",
   "metadata": {},
   "outputs": [
    {
     "data": {
      "image/png": "[encoded data removed]",
      "text/plain": [
       "plot without title"
      ]
     },
     "metadata": {},
     "output_type": "display_data"
    }
   ],
   "source": [
    "ggplot(data=resultats, aes(x=model, y=rmse, fill=train_test)) +\n",
    "geom_bar(stat=\"identity\", color=\"black\", position=position_dodge()) + theme_minimal()"
   ]
  },
  {
   "cell_type": "markdown",
   "id": "fd8f043d",
   "metadata": {},
   "source": [
    "aptitude à généraliser et meilleurs rmse pour le choix\n",
    "\n",
    "\n",
    "# Discussion\n",
    "- factorisation du code\n",
    "- régularization\n",
    "- ouverture à d'autres modèles tree-based & ensembliste, NN\n",
    "- ici si besoin d'explicabilité reg lin intéressante mais nécessite plus de feat eng.\n",
    "- pour améliorer: plus de data, plus de feat eng., comparer de nouveaux modèles..."
   ]
  },
  {
   "cell_type": "markdown",
   "id": "7f35aecc",
   "metadata": {},
   "source": [
    "to do\n",
    "- enlever les outliers du testt !!\n",
    "- scale !!"
   ]
  },
  {
   "cell_type": "code",
   "execution_count": null,
   "id": "63666411",
   "metadata": {},
   "outputs": [],
   "source": [
    "for (colName in names(train[,unlist(lapply(train, is.numeric))])) {\n",
    "            if(colName != 'SalePrice') {\n",
    "                # Scale this column (scale() function applies z-scaling).\n",
    "                train[,colName] <- scale(train[,colName])\n",
    "            }\n",
    "    }"
   ]
  }
 ],
 "metadata": {
  "kernelspec": {
   "display_name": "R",
   "language": "R",
   "name": "ir"
  },
  "language_info": {
   "codemirror_mode": "r",
   "file_extension": ".r",
   "mimetype": "text/x-r-source",
   "name": "R",
   "pygments_lexer": "r",
   "version": "3.6.1"
  }
 },
 "nbformat": 4,
 "nbformat_minor": 5
}
