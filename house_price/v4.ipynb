{
 "cells": [
  {
   "cell_type": "markdown",
   "id": "db469aa5",
   "metadata": {},
   "source": [
    "# Introduction\n",
    "- description problème de recherche\n",
    "- hypothèse de recherche"
   ]
  },
  {
   "cell_type": "code",
   "execution_count": 1,
   "id": "a91c224b",
   "metadata": {},
   "outputs": [
    {
     "name": "stderr",
     "output_type": "stream",
     "text": [
      "Registered S3 methods overwritten by 'ggplot2':\n",
      "  method         from \n",
      "  [.quosures     rlang\n",
      "  c.quosures     rlang\n",
      "  print.quosures rlang\n",
      "Warning message:\n",
      "\"package 'fitdistrplus' was built under R version 3.6.3\"Loading required package: MASS\n",
      "Loading required package: survival\n",
      "corrplot 0.84 loaded\n",
      "randomForest 4.6-14\n",
      "Type rfNews() to see new features/changes/bug fixes.\n",
      "\n",
      "Attaching package: 'randomForest'\n",
      "\n",
      "The following object is masked from 'package:ggplot2':\n",
      "\n",
      "    margin\n",
      "\n",
      "Loading required package: carData\n"
     ]
    }
   ],
   "source": [
    "library(ggplot2);library(fitdistrplus);library(corrplot)\n",
    "library(randomForest);library(car)"
   ]
  },
  {
   "cell_type": "code",
   "execution_count": 2,
   "id": "30216faf",
   "metadata": {},
   "outputs": [],
   "source": [
    "# library(cowplot)\n",
    "# library(gclus);\n",
    "# library(utils);library(plyr);library(fitdistrplus)\n",
    "# library(Metrics)\n",
    "# slibrary(ggfortify);\n",
    "# library(gridExtra);library(stats);\n",
    "# library(kableExtra)\n",
    "# library(MASS); library(knitr);library(ggplot2)\n",
    "# library(cowplot);library(reshape2);library(dplyr)\n",
    "# library(GGally);library(corrplot);library(carData)\n",
    "# library(car);library(questionr);library(multcomp)\n",
    "# library(dplyr);library(leaps);library(tinytex);library(latexpdf);\n",
    "# library(rmarkdown);library(markdown);library(TeachingDemos)\n",
    "# library(e1071);library(tidyverse);library(fitdistrplus);library(lmtest); library(randomForest);library(caret)"
   ]
  },
  {
   "cell_type": "code",
   "execution_count": 3,
   "id": "7b620c50",
   "metadata": {},
   "outputs": [
    {
     "data": {
      "text/html": [
       "<ol class=list-inline>\n",
       "\t<li>'MSSubClass'</li>\n",
       "\t<li>'MSZoning'</li>\n",
       "\t<li>'LotFrontage'</li>\n",
       "\t<li>'LotArea'</li>\n",
       "\t<li>'Street'</li>\n",
       "\t<li>'LotShape'</li>\n",
       "\t<li>'LandContour'</li>\n",
       "\t<li>'Utilities'</li>\n",
       "\t<li>'LotConfig'</li>\n",
       "\t<li>'LandSlope'</li>\n",
       "\t<li>'Neighborhood'</li>\n",
       "\t<li>'Condition1'</li>\n",
       "\t<li>'Condition2'</li>\n",
       "\t<li>'BldgType'</li>\n",
       "\t<li>'HouseStyle'</li>\n",
       "\t<li>'OverallQual'</li>\n",
       "\t<li>'OverallCond'</li>\n",
       "\t<li>'YearBuilt'</li>\n",
       "\t<li>'YearRemodAdd'</li>\n",
       "\t<li>'RoofStyle'</li>\n",
       "\t<li>'RoofMatl'</li>\n",
       "\t<li>'Exterior1st'</li>\n",
       "\t<li>'Exterior2nd'</li>\n",
       "\t<li>'MasVnrType'</li>\n",
       "\t<li>'MasVnrArea'</li>\n",
       "\t<li>'ExterQual'</li>\n",
       "\t<li>'ExterCond'</li>\n",
       "\t<li>'Foundation'</li>\n",
       "\t<li>'BsmtQual'</li>\n",
       "\t<li>'BsmtCond'</li>\n",
       "\t<li>'BsmtExposure'</li>\n",
       "\t<li>'BsmtFinType1'</li>\n",
       "\t<li>'BsmtFinSF1'</li>\n",
       "\t<li>'BsmtFinType2'</li>\n",
       "\t<li>'BsmtFinSF2'</li>\n",
       "\t<li>'BsmtUnfSF'</li>\n",
       "\t<li>'TotalBsmtSF'</li>\n",
       "\t<li>'Heating'</li>\n",
       "\t<li>'HeatingQC'</li>\n",
       "\t<li>'CentralAir'</li>\n",
       "\t<li>'Electrical'</li>\n",
       "\t<li>'X1stFlrSF'</li>\n",
       "\t<li>'X2ndFlrSF'</li>\n",
       "\t<li>'LowQualFinSF'</li>\n",
       "\t<li>'GrLivArea'</li>\n",
       "\t<li>'BsmtFullBath'</li>\n",
       "\t<li>'BsmtHalfBath'</li>\n",
       "\t<li>'FullBath'</li>\n",
       "\t<li>'HalfBath'</li>\n",
       "\t<li>'BedroomAbvGr'</li>\n",
       "\t<li>'KitchenAbvGr'</li>\n",
       "\t<li>'KitchenQual'</li>\n",
       "\t<li>'TotRmsAbvGrd'</li>\n",
       "\t<li>'Functional'</li>\n",
       "\t<li>'Fireplaces'</li>\n",
       "\t<li>'GarageType'</li>\n",
       "\t<li>'GarageYrBlt'</li>\n",
       "\t<li>'GarageFinish'</li>\n",
       "\t<li>'GarageCars'</li>\n",
       "\t<li>'GarageArea'</li>\n",
       "\t<li>'GarageQual'</li>\n",
       "\t<li>'GarageCond'</li>\n",
       "\t<li>'PavedDrive'</li>\n",
       "\t<li>'WoodDeckSF'</li>\n",
       "\t<li>'OpenPorchSF'</li>\n",
       "\t<li>'EnclosedPorch'</li>\n",
       "\t<li>'X3SsnPorch'</li>\n",
       "\t<li>'ScreenPorch'</li>\n",
       "\t<li>'PoolArea'</li>\n",
       "\t<li>'MiscVal'</li>\n",
       "\t<li>'MoSold'</li>\n",
       "\t<li>'YrSold'</li>\n",
       "\t<li>'SaleType'</li>\n",
       "\t<li>'SaleCondition'</li>\n",
       "\t<li>'SalePrice'</li>\n",
       "</ol>\n"
      ],
      "text/latex": [
       "\\begin{enumerate*}\n",
       "\\item 'MSSubClass'\n",
       "\\item 'MSZoning'\n",
       "\\item 'LotFrontage'\n",
       "\\item 'LotArea'\n",
       "\\item 'Street'\n",
       "\\item 'LotShape'\n",
       "\\item 'LandContour'\n",
       "\\item 'Utilities'\n",
       "\\item 'LotConfig'\n",
       "\\item 'LandSlope'\n",
       "\\item 'Neighborhood'\n",
       "\\item 'Condition1'\n",
       "\\item 'Condition2'\n",
       "\\item 'BldgType'\n",
       "\\item 'HouseStyle'\n",
       "\\item 'OverallQual'\n",
       "\\item 'OverallCond'\n",
       "\\item 'YearBuilt'\n",
       "\\item 'YearRemodAdd'\n",
       "\\item 'RoofStyle'\n",
       "\\item 'RoofMatl'\n",
       "\\item 'Exterior1st'\n",
       "\\item 'Exterior2nd'\n",
       "\\item 'MasVnrType'\n",
       "\\item 'MasVnrArea'\n",
       "\\item 'ExterQual'\n",
       "\\item 'ExterCond'\n",
       "\\item 'Foundation'\n",
       "\\item 'BsmtQual'\n",
       "\\item 'BsmtCond'\n",
       "\\item 'BsmtExposure'\n",
       "\\item 'BsmtFinType1'\n",
       "\\item 'BsmtFinSF1'\n",
       "\\item 'BsmtFinType2'\n",
       "\\item 'BsmtFinSF2'\n",
       "\\item 'BsmtUnfSF'\n",
       "\\item 'TotalBsmtSF'\n",
       "\\item 'Heating'\n",
       "\\item 'HeatingQC'\n",
       "\\item 'CentralAir'\n",
       "\\item 'Electrical'\n",
       "\\item 'X1stFlrSF'\n",
       "\\item 'X2ndFlrSF'\n",
       "\\item 'LowQualFinSF'\n",
       "\\item 'GrLivArea'\n",
       "\\item 'BsmtFullBath'\n",
       "\\item 'BsmtHalfBath'\n",
       "\\item 'FullBath'\n",
       "\\item 'HalfBath'\n",
       "\\item 'BedroomAbvGr'\n",
       "\\item 'KitchenAbvGr'\n",
       "\\item 'KitchenQual'\n",
       "\\item 'TotRmsAbvGrd'\n",
       "\\item 'Functional'\n",
       "\\item 'Fireplaces'\n",
       "\\item 'GarageType'\n",
       "\\item 'GarageYrBlt'\n",
       "\\item 'GarageFinish'\n",
       "\\item 'GarageCars'\n",
       "\\item 'GarageArea'\n",
       "\\item 'GarageQual'\n",
       "\\item 'GarageCond'\n",
       "\\item 'PavedDrive'\n",
       "\\item 'WoodDeckSF'\n",
       "\\item 'OpenPorchSF'\n",
       "\\item 'EnclosedPorch'\n",
       "\\item 'X3SsnPorch'\n",
       "\\item 'ScreenPorch'\n",
       "\\item 'PoolArea'\n",
       "\\item 'MiscVal'\n",
       "\\item 'MoSold'\n",
       "\\item 'YrSold'\n",
       "\\item 'SaleType'\n",
       "\\item 'SaleCondition'\n",
       "\\item 'SalePrice'\n",
       "\\end{enumerate*}\n"
      ],
      "text/markdown": [
       "1. 'MSSubClass'\n",
       "2. 'MSZoning'\n",
       "3. 'LotFrontage'\n",
       "4. 'LotArea'\n",
       "5. 'Street'\n",
       "6. 'LotShape'\n",
       "7. 'LandContour'\n",
       "8. 'Utilities'\n",
       "9. 'LotConfig'\n",
       "10. 'LandSlope'\n",
       "11. 'Neighborhood'\n",
       "12. 'Condition1'\n",
       "13. 'Condition2'\n",
       "14. 'BldgType'\n",
       "15. 'HouseStyle'\n",
       "16. 'OverallQual'\n",
       "17. 'OverallCond'\n",
       "18. 'YearBuilt'\n",
       "19. 'YearRemodAdd'\n",
       "20. 'RoofStyle'\n",
       "21. 'RoofMatl'\n",
       "22. 'Exterior1st'\n",
       "23. 'Exterior2nd'\n",
       "24. 'MasVnrType'\n",
       "25. 'MasVnrArea'\n",
       "26. 'ExterQual'\n",
       "27. 'ExterCond'\n",
       "28. 'Foundation'\n",
       "29. 'BsmtQual'\n",
       "30. 'BsmtCond'\n",
       "31. 'BsmtExposure'\n",
       "32. 'BsmtFinType1'\n",
       "33. 'BsmtFinSF1'\n",
       "34. 'BsmtFinType2'\n",
       "35. 'BsmtFinSF2'\n",
       "36. 'BsmtUnfSF'\n",
       "37. 'TotalBsmtSF'\n",
       "38. 'Heating'\n",
       "39. 'HeatingQC'\n",
       "40. 'CentralAir'\n",
       "41. 'Electrical'\n",
       "42. 'X1stFlrSF'\n",
       "43. 'X2ndFlrSF'\n",
       "44. 'LowQualFinSF'\n",
       "45. 'GrLivArea'\n",
       "46. 'BsmtFullBath'\n",
       "47. 'BsmtHalfBath'\n",
       "48. 'FullBath'\n",
       "49. 'HalfBath'\n",
       "50. 'BedroomAbvGr'\n",
       "51. 'KitchenAbvGr'\n",
       "52. 'KitchenQual'\n",
       "53. 'TotRmsAbvGrd'\n",
       "54. 'Functional'\n",
       "55. 'Fireplaces'\n",
       "56. 'GarageType'\n",
       "57. 'GarageYrBlt'\n",
       "58. 'GarageFinish'\n",
       "59. 'GarageCars'\n",
       "60. 'GarageArea'\n",
       "61. 'GarageQual'\n",
       "62. 'GarageCond'\n",
       "63. 'PavedDrive'\n",
       "64. 'WoodDeckSF'\n",
       "65. 'OpenPorchSF'\n",
       "66. 'EnclosedPorch'\n",
       "67. 'X3SsnPorch'\n",
       "68. 'ScreenPorch'\n",
       "69. 'PoolArea'\n",
       "70. 'MiscVal'\n",
       "71. 'MoSold'\n",
       "72. 'YrSold'\n",
       "73. 'SaleType'\n",
       "74. 'SaleCondition'\n",
       "75. 'SalePrice'\n",
       "\n",
       "\n"
      ],
      "text/plain": [
       " [1] \"MSSubClass\"    \"MSZoning\"      \"LotFrontage\"   \"LotArea\"      \n",
       " [5] \"Street\"        \"LotShape\"      \"LandContour\"   \"Utilities\"    \n",
       " [9] \"LotConfig\"     \"LandSlope\"     \"Neighborhood\"  \"Condition1\"   \n",
       "[13] \"Condition2\"    \"BldgType\"      \"HouseStyle\"    \"OverallQual\"  \n",
       "[17] \"OverallCond\"   \"YearBuilt\"     \"YearRemodAdd\"  \"RoofStyle\"    \n",
       "[21] \"RoofMatl\"      \"Exterior1st\"   \"Exterior2nd\"   \"MasVnrType\"   \n",
       "[25] \"MasVnrArea\"    \"ExterQual\"     \"ExterCond\"     \"Foundation\"   \n",
       "[29] \"BsmtQual\"      \"BsmtCond\"      \"BsmtExposure\"  \"BsmtFinType1\" \n",
       "[33] \"BsmtFinSF1\"    \"BsmtFinType2\"  \"BsmtFinSF2\"    \"BsmtUnfSF\"    \n",
       "[37] \"TotalBsmtSF\"   \"Heating\"       \"HeatingQC\"     \"CentralAir\"   \n",
       "[41] \"Electrical\"    \"X1stFlrSF\"     \"X2ndFlrSF\"     \"LowQualFinSF\" \n",
       "[45] \"GrLivArea\"     \"BsmtFullBath\"  \"BsmtHalfBath\"  \"FullBath\"     \n",
       "[49] \"HalfBath\"      \"BedroomAbvGr\"  \"KitchenAbvGr\"  \"KitchenQual\"  \n",
       "[53] \"TotRmsAbvGrd\"  \"Functional\"    \"Fireplaces\"    \"GarageType\"   \n",
       "[57] \"GarageYrBlt\"   \"GarageFinish\"  \"GarageCars\"    \"GarageArea\"   \n",
       "[61] \"GarageQual\"    \"GarageCond\"    \"PavedDrive\"    \"WoodDeckSF\"   \n",
       "[65] \"OpenPorchSF\"   \"EnclosedPorch\" \"X3SsnPorch\"    \"ScreenPorch\"  \n",
       "[69] \"PoolArea\"      \"MiscVal\"       \"MoSold\"        \"YrSold\"       \n",
       "[73] \"SaleType\"      \"SaleCondition\" \"SalePrice\"    "
      ]
     },
     "metadata": {},
     "output_type": "display_data"
    }
   ],
   "source": [
    "df_train = read.csv(\"../data/Train.csv\", header=TRUE)\n",
    "df_test = read.csv(\"../data/Test.csv\", header=TRUE)\n",
    "\n",
    "names(df_train)"
   ]
  },
  {
   "cell_type": "code",
   "execution_count": 4,
   "id": "a6363fc1",
   "metadata": {},
   "outputs": [
    {
     "data": {
      "text/html": [
       "<ol class=list-inline>\n",
       "\t<li>1095</li>\n",
       "\t<li>75</li>\n",
       "</ol>\n"
      ],
      "text/latex": [
       "\\begin{enumerate*}\n",
       "\\item 1095\n",
       "\\item 75\n",
       "\\end{enumerate*}\n"
      ],
      "text/markdown": [
       "1. 1095\n",
       "2. 75\n",
       "\n",
       "\n"
      ],
      "text/plain": [
       "[1] 1095   75"
      ]
     },
     "metadata": {},
     "output_type": "display_data"
    },
    {
     "data": {
      "text/html": [
       "<ol class=list-inline>\n",
       "\t<li>365</li>\n",
       "\t<li>75</li>\n",
       "</ol>\n"
      ],
      "text/latex": [
       "\\begin{enumerate*}\n",
       "\\item 365\n",
       "\\item 75\n",
       "\\end{enumerate*}\n"
      ],
      "text/markdown": [
       "1. 365\n",
       "2. 75\n",
       "\n",
       "\n"
      ],
      "text/plain": [
       "[1] 365  75"
      ]
     },
     "metadata": {},
     "output_type": "display_data"
    },
    {
     "data": {
      "text/html": [
       "<ol class=list-inline>\n",
       "\t<li>1460</li>\n",
       "\t<li>75</li>\n",
       "</ol>\n"
      ],
      "text/latex": [
       "\\begin{enumerate*}\n",
       "\\item 1460\n",
       "\\item 75\n",
       "\\end{enumerate*}\n"
      ],
      "text/markdown": [
       "1. 1460\n",
       "2. 75\n",
       "\n",
       "\n"
      ],
      "text/plain": [
       "[1] 1460   75"
      ]
     },
     "metadata": {},
     "output_type": "display_data"
    }
   ],
   "source": [
    "df_all <- rbind(df_train, df_test)\n",
    "\n",
    "dim(df_train)\n",
    "dim(df_test)\n",
    "dim(df_all)"
   ]
  },
  {
   "cell_type": "code",
   "execution_count": 5,
   "id": "7e245efe",
   "metadata": {},
   "outputs": [
    {
     "name": "stdout",
     "output_type": "stream",
     "text": [
      "'data.frame':\t1095 obs. of  11 variables:\n",
      " $ MSSubClass : int  60 190 20 90 20 50 90 20 60 20 ...\n",
      " $ MSZoning   : Factor w/ 5 levels \"C (all)\",\"FV\",..: 4 4 4 4 4 4 4 4 4 4 ...\n",
      " $ LotFrontage: int  63 62 90 92 65 86 75 71 74 63 ...\n",
      " $ LotArea    : int  7875 10106 17217 12108 8450 11500 9825 9230 7472 8487 ...\n",
      " $ Street     : Factor w/ 2 levels \"Grvl\",\"Pave\": 2 2 2 2 2 2 2 2 2 2 ...\n",
      " $ LotShape   : Factor w/ 4 levels \"IR1\",\"IR2\",\"IR3\",..: 4 4 4 4 4 1 4 4 1 4 ...\n",
      " $ LandContour: Factor w/ 4 levels \"Bnk\",\"HLS\",\"Low\",..: 4 4 4 4 4 4 4 4 4 4 ...\n",
      " $ Utilities  : Factor w/ 2 levels \"AllPub\",\"NoSeWa\": 1 1 1 1 1 1 1 1 1 1 ...\n",
      " $ LotConfig  : Factor w/ 5 levels \"Corner\",\"CulDSac\",..: 5 5 5 5 5 5 5 1 2 3 ...\n",
      " $ LandSlope  : Factor w/ 3 levels \"Gtl\",\"Mod\",\"Sev\": 1 1 1 1 1 1 1 1 1 1 ...\n",
      " $ SalePrice  : int  180000 127500 84500 118000 179000 250000 100000 146000 184000 190000 ...\n"
     ]
    }
   ],
   "source": [
    "# affiche les 10 premières features et la target\n",
    "str(df_train[,c(1:10, 75)])"
   ]
  },
  {
   "cell_type": "code",
   "execution_count": 6,
   "id": "a02bd052",
   "metadata": {},
   "outputs": [
    {
     "data": {
      "text/html": [
       "<table>\n",
       "<thead><tr><th scope=col>MSSubClass</th><th scope=col>MSZoning</th><th scope=col>LotFrontage</th><th scope=col>LotArea</th><th scope=col>Street</th><th scope=col>LotShape</th><th scope=col>LandContour</th><th scope=col>Utilities</th><th scope=col>LotConfig</th><th scope=col>LandSlope</th><th scope=col>SalePrice</th></tr></thead>\n",
       "<tbody>\n",
       "\t<tr><td> 60   </td><td>RL    </td><td>63    </td><td> 7875 </td><td>Pave  </td><td>Reg   </td><td>Lvl   </td><td>AllPub</td><td>Inside</td><td>Gtl   </td><td>180000</td></tr>\n",
       "\t<tr><td>190   </td><td>RL    </td><td>62    </td><td>10106 </td><td>Pave  </td><td>Reg   </td><td>Lvl   </td><td>AllPub</td><td>Inside</td><td>Gtl   </td><td>127500</td></tr>\n",
       "\t<tr><td> 20   </td><td>RL    </td><td>90    </td><td>17217 </td><td>Pave  </td><td>Reg   </td><td>Lvl   </td><td>AllPub</td><td>Inside</td><td>Gtl   </td><td> 84500</td></tr>\n",
       "\t<tr><td> 90   </td><td>RL    </td><td>92    </td><td>12108 </td><td>Pave  </td><td>Reg   </td><td>Lvl   </td><td>AllPub</td><td>Inside</td><td>Gtl   </td><td>118000</td></tr>\n",
       "\t<tr><td> 20   </td><td>RL    </td><td>65    </td><td> 8450 </td><td>Pave  </td><td>Reg   </td><td>Lvl   </td><td>AllPub</td><td>Inside</td><td>Gtl   </td><td>179000</td></tr>\n",
       "\t<tr><td> 50   </td><td>RL    </td><td>86    </td><td>11500 </td><td>Pave  </td><td>IR1   </td><td>Lvl   </td><td>AllPub</td><td>Inside</td><td>Gtl   </td><td>250000</td></tr>\n",
       "</tbody>\n",
       "</table>\n"
      ],
      "text/latex": [
       "\\begin{tabular}{r|lllllllllll}\n",
       " MSSubClass & MSZoning & LotFrontage & LotArea & Street & LotShape & LandContour & Utilities & LotConfig & LandSlope & SalePrice\\\\\n",
       "\\hline\n",
       "\t  60    & RL     & 63     &  7875  & Pave   & Reg    & Lvl    & AllPub & Inside & Gtl    & 180000\\\\\n",
       "\t 190    & RL     & 62     & 10106  & Pave   & Reg    & Lvl    & AllPub & Inside & Gtl    & 127500\\\\\n",
       "\t  20    & RL     & 90     & 17217  & Pave   & Reg    & Lvl    & AllPub & Inside & Gtl    &  84500\\\\\n",
       "\t  90    & RL     & 92     & 12108  & Pave   & Reg    & Lvl    & AllPub & Inside & Gtl    & 118000\\\\\n",
       "\t  20    & RL     & 65     &  8450  & Pave   & Reg    & Lvl    & AllPub & Inside & Gtl    & 179000\\\\\n",
       "\t  50    & RL     & 86     & 11500  & Pave   & IR1    & Lvl    & AllPub & Inside & Gtl    & 250000\\\\\n",
       "\\end{tabular}\n"
      ],
      "text/markdown": [
       "\n",
       "| MSSubClass | MSZoning | LotFrontage | LotArea | Street | LotShape | LandContour | Utilities | LotConfig | LandSlope | SalePrice |\n",
       "|---|---|---|---|---|---|---|---|---|---|---|\n",
       "|  60    | RL     | 63     |  7875  | Pave   | Reg    | Lvl    | AllPub | Inside | Gtl    | 180000 |\n",
       "| 190    | RL     | 62     | 10106  | Pave   | Reg    | Lvl    | AllPub | Inside | Gtl    | 127500 |\n",
       "|  20    | RL     | 90     | 17217  | Pave   | Reg    | Lvl    | AllPub | Inside | Gtl    |  84500 |\n",
       "|  90    | RL     | 92     | 12108  | Pave   | Reg    | Lvl    | AllPub | Inside | Gtl    | 118000 |\n",
       "|  20    | RL     | 65     |  8450  | Pave   | Reg    | Lvl    | AllPub | Inside | Gtl    | 179000 |\n",
       "|  50    | RL     | 86     | 11500  | Pave   | IR1    | Lvl    | AllPub | Inside | Gtl    | 250000 |\n",
       "\n"
      ],
      "text/plain": [
       "  MSSubClass MSZoning LotFrontage LotArea Street LotShape LandContour Utilities\n",
       "1  60        RL       63           7875   Pave   Reg      Lvl         AllPub   \n",
       "2 190        RL       62          10106   Pave   Reg      Lvl         AllPub   \n",
       "3  20        RL       90          17217   Pave   Reg      Lvl         AllPub   \n",
       "4  90        RL       92          12108   Pave   Reg      Lvl         AllPub   \n",
       "5  20        RL       65           8450   Pave   Reg      Lvl         AllPub   \n",
       "6  50        RL       86          11500   Pave   IR1      Lvl         AllPub   \n",
       "  LotConfig LandSlope SalePrice\n",
       "1 Inside    Gtl       180000   \n",
       "2 Inside    Gtl       127500   \n",
       "3 Inside    Gtl        84500   \n",
       "4 Inside    Gtl       118000   \n",
       "5 Inside    Gtl       179000   \n",
       "6 Inside    Gtl       250000   "
      ]
     },
     "metadata": {},
     "output_type": "display_data"
    }
   ],
   "source": [
    "head(df_all[,c(1:10, 75)])"
   ]
  },
  {
   "cell_type": "code",
   "execution_count": 7,
   "id": "82c24b19",
   "metadata": {},
   "outputs": [
    {
     "data": {
      "text/html": [
       "0"
      ],
      "text/latex": [
       "0"
      ],
      "text/markdown": [
       "0"
      ],
      "text/plain": [
       "[1] 0"
      ]
     },
     "metadata": {},
     "output_type": "display_data"
    },
    {
     "data": {
      "text/html": [
       "0"
      ],
      "text/latex": [
       "0"
      ],
      "text/markdown": [
       "0"
      ],
      "text/plain": [
       "[1] 0"
      ]
     },
     "metadata": {},
     "output_type": "display_data"
    }
   ],
   "source": [
    "nrow(df_train) - nrow(unique(df_train))\n",
    "nrow(df_test) - nrow(unique(df_test))"
   ]
  },
  {
   "cell_type": "code",
   "execution_count": 8,
   "id": "df5bc2af",
   "metadata": {},
   "outputs": [
    {
     "data": {
      "text/html": [
       "0"
      ],
      "text/latex": [
       "0"
      ],
      "text/markdown": [
       "0"
      ],
      "text/plain": [
       "[1] 0"
      ]
     },
     "metadata": {},
     "output_type": "display_data"
    },
    {
     "data": {
      "text/html": [
       "0"
      ],
      "text/latex": [
       "0"
      ],
      "text/markdown": [
       "0"
      ],
      "text/plain": [
       "[1] 0"
      ]
     },
     "metadata": {},
     "output_type": "display_data"
    }
   ],
   "source": [
    "sum(is.na(df_train)) \n",
    "sum(is.na(df_test))"
   ]
  },
  {
   "cell_type": "code",
   "execution_count": null,
   "id": "c4c91698",
   "metadata": {},
   "outputs": [],
   "source": []
  },
  {
   "cell_type": "markdown",
   "id": "11aa88f5",
   "metadata": {},
   "source": [
    "---\n",
    "# Analyse exploratoire\n",
    "- graphes statistiques élémentaires pour les variables et paires de variables\n",
    "- Cullen-Frey pour l’étude de la distribution de la variable cible.\n",
    "- Décrivez vos résultats"
   ]
  },
  {
   "cell_type": "markdown",
   "id": "3fae633e",
   "metadata": {},
   "source": [
    "## Compréhension de la target"
   ]
  },
  {
   "cell_type": "code",
   "execution_count": 9,
   "id": "14e8e9cd",
   "metadata": {},
   "outputs": [
    {
     "data": {
      "text/plain": [
       "summary statistics\n",
       "------\n",
       "min:  34900   max:  755000 \n",
       "median:  163000 \n",
       "mean:  180921.2 \n",
       "estimated sd:  79442.5 \n",
       "estimated skewness:  1.882876 \n",
       "estimated kurtosis:  9.536282 "
      ]
     },
     "metadata": {},
     "output_type": "display_data"
    },
    {
     "data": {
      "image/png": "[encoded data removed]",
      "text/plain": [
       "Plot with title \"Cullen and Frey graph\""
      ]
     },
     "metadata": {},
     "output_type": "display_data"
    }
   ],
   "source": [
    "options(repr.plot.width = 4, repr.plot.height = 4)\n",
    "\n",
    "descdist(df_all$SalePrice)"
   ]
  },
  {
   "cell_type": "markdown",
   "id": "b686af24",
   "metadata": {},
   "source": [
    "dddddddddddd"
   ]
  },
  {
   "cell_type": "code",
   "execution_count": 10,
   "id": "d03afba7",
   "metadata": {},
   "outputs": [
    {
     "data": {
      "text/plain": [
       "summary statistics\n",
       "------\n",
       "min:  10.46024   max:  13.53447 \n",
       "median:  12.00151 \n",
       "mean:  12.02405 \n",
       "estimated sd:  0.3994519 \n",
       "estimated skewness:  0.1213351 \n",
       "estimated kurtosis:  3.809532 "
      ]
     },
     "metadata": {},
     "output_type": "display_data"
    },
    {
     "data": {
      "image/png": "[encoded data removed]",
      "text/plain": [
       "Plot with title \"Cullen and Frey graph\""
      ]
     },
     "metadata": {},
     "output_type": "display_data"
    }
   ],
   "source": [
    "descdist(log(df_all$SalePrice))"
   ]
  },
  {
   "cell_type": "markdown",
   "id": "753c0400",
   "metadata": {},
   "source": [
    "La target est décalée vers la gauche (skewed), ceci pourrait s'expliquer par le fait que les prix les plus élevés ne sont pas abordables pour la plupart des gens"
   ]
  },
  {
   "cell_type": "code",
   "execution_count": 11,
   "id": "0f7512fc",
   "metadata": {},
   "outputs": [
    {
     "data": {
      "image/png": "[encoded data removed]",
      "text/plain": [
       "plot without title"
      ]
     },
     "metadata": {},
     "output_type": "display_data"
    },
    {
     "data": {
      "image/png": "[encoded data removed]",
      "text/plain": [
       "plot without title"
      ]
     },
     "metadata": {},
     "output_type": "display_data"
    }
   ],
   "source": [
    "options(repr.plot.width = 6, repr.plot.height = 3)\n",
    "\n",
    "ggplot(data = df_all[!is.na(df_all$SalePrice),], aes(x=SalePrice)) +\n",
    "        geom_histogram(bins=100, fill=\"blue\", aes(y = ..density..)) +\n",
    "        geom_density() + labs(subtitle=\"Distribution de la target non modifiée\")\n",
    "\n",
    "ggplot(data=df_all[!is.na(df_all$SalePrice),], aes(x=log(SalePrice))) +\n",
    "        geom_histogram(bins=100, fill=\"blue\", aes(y = ..density..)) +\n",
    "        geom_density() + labs(subtitle=\"Distribution du log de la target\")"
   ]
  },
  {
   "cell_type": "markdown",
   "id": "6a30259d",
   "metadata": {},
   "source": [
    "## Analyse de certaines features"
   ]
  },
  {
   "cell_type": "code",
   "execution_count": 12,
   "id": "7774b41b",
   "metadata": {},
   "outputs": [
    {
     "data": {
      "image/png": "[encoded data removed]",
      "text/plain": [
       "plot without title"
      ]
     },
     "metadata": {},
     "output_type": "display_data"
    }
   ],
   "source": [
    "ggplot(data = df_all[!is.na(df_all$SalePrice),], aes(x=factor(OverallQual), y=SalePrice))+\n",
    "        geom_boxplot(col='blue') + labs(subtitle=\"Title\")"
   ]
  },
  {
   "cell_type": "markdown",
   "id": "0b9be47f",
   "metadata": {},
   "source": [
    "## Etudes des corrélations pour les features quantitatives\n",
    "regardons dans un 1er temps les features numériques qui sont les plus fortement corrélées avec la target pour voir qu'elles sont celles qui ont le plus d'influcence.\n",
    "\n",
    "Il y a 19 features numériques sur les 37 dont la corrélation est en valeur absolue supérieure à 0.3. Il est à noter que toute les corrélations sont positives car tous les chiffres sont positifs."
   ]
  },
  {
   "cell_type": "code",
   "execution_count": 13,
   "id": "7a851e48",
   "metadata": {},
   "outputs": [
    {
     "data": {
      "text/html": [
       "37"
      ],
      "text/latex": [
       "37"
      ],
      "text/markdown": [
       "37"
      ],
      "text/plain": [
       "[1] 37"
      ]
     },
     "metadata": {},
     "output_type": "display_data"
    }
   ],
   "source": [
    "# index des vecteur de variables numériques\n",
    "numericVars <- which(sapply(df_all, is.numeric))\n",
    "\n",
    "# liste des noms correspondants à ces vecteurs\n",
    "numericVarNames <- names(numericVars) \n",
    "\n",
    "# nombre\n",
    "length(numericVars)"
   ]
  },
  {
   "cell_type": "code",
   "execution_count": 14,
   "id": "9e01cc57",
   "metadata": {},
   "outputs": [
    {
     "data": {
      "image/png": "[encoded data removed]",
      "text/plain": [
       "Plot with title \"\""
      ]
     },
     "metadata": {},
     "output_type": "display_data"
    }
   ],
   "source": [
    "all_numVar <- df_all[, numericVars]\n",
    "\n",
    "# correlations de toutes les features numériques\n",
    "cor_numVar <- cor(all_numVar, use=\"pairwise.complete.obs\") \n",
    "\n",
    "options(repr.plot.width = 18, repr.plot.height = 9)\n",
    "\n",
    "# classement decroissant des corrélations avec la target\n",
    "cor_sorted <- as.matrix(sort(cor_numVar[,'SalePrice'], decreasing = TRUE))\n",
    "\n",
    "# filtre pour ne garder que les corrélations supérieurs en val. abs. à 0.3\n",
    "CorHigh <- names(which(apply(cor_sorted, 1, function(x) (x > 0.3 | x < -0.3))))\n",
    "cor_numVar <- cor_numVar[CorHigh, CorHigh]\n",
    "\n",
    "# affiche le graphe\n",
    "corrplot.mixed(cor_numVar, tl.col=\"black\", tl.pos = \"lt\")"
   ]
  },
  {
   "cell_type": "markdown",
   "id": "456cc3fb",
   "metadata": {},
   "source": [
    "---\n",
    "# Validité des modèles"
   ]
  },
  {
   "cell_type": "code",
   "execution_count": 15,
   "id": "10e73561",
   "metadata": {},
   "outputs": [
    {
     "data": {
      "image/png": "[encoded data removed]",
      "text/plain": [
       "Plot with title \"rf\""
      ]
     },
     "metadata": {},
     "output_type": "display_data"
    }
   ],
   "source": [
    "rf = randomForest(SalePrice~ .,data=df_train)\n",
    "varImpPlot(rf)"
   ]
  },
  {
   "cell_type": "markdown",
   "id": "71bd9143",
   "metadata": {},
   "source": [
    "## baseline\n",
    "1er modèle avec les 7 features classées par importance selon le randomforrest"
   ]
  },
  {
   "cell_type": "code",
   "execution_count": 16,
   "id": "c46df220",
   "metadata": {},
   "outputs": [
    {
     "data": {
      "text/html": [
       "<table>\n",
       "<thead><tr><th scope=col>OverallQual</th><th scope=col>Neighborhood</th><th scope=col>GrLivArea</th><th scope=col>GarageCars</th><th scope=col>ExterQual</th><th scope=col>TotalBsmtSF</th><th scope=col>X1stFlrSF</th><th scope=col>SalePrice</th></tr></thead>\n",
       "<tbody>\n",
       "\t<tr><td>7      </td><td>Gilbert</td><td>1509   </td><td>2      </td><td>Gd     </td><td> 783   </td><td> 807   </td><td>180000 </td></tr>\n",
       "\t<tr><td>5      </td><td>Edwards</td><td>1355   </td><td>0      </td><td>TA     </td><td> 644   </td><td> 808   </td><td>127500 </td></tr>\n",
       "\t<tr><td>5      </td><td>Mitchel</td><td>1140   </td><td>0      </td><td>TA     </td><td>1140   </td><td>1140   </td><td> 84500 </td></tr>\n",
       "\t<tr><td>4      </td><td>Edwards</td><td>1440   </td><td>0      </td><td>TA     </td><td>1440   </td><td>1440   </td><td>118000 </td></tr>\n",
       "\t<tr><td>7      </td><td>SawyerW</td><td>1349   </td><td>2      </td><td>TA     </td><td>1349   </td><td>1349   </td><td>179000 </td></tr>\n",
       "\t<tr><td>7      </td><td>Crawfor</td><td>2057   </td><td>1      </td><td>Gd     </td><td>1017   </td><td>1020   </td><td>250000 </td></tr>\n",
       "</tbody>\n",
       "</table>\n"
      ],
      "text/latex": [
       "\\begin{tabular}{r|llllllll}\n",
       " OverallQual & Neighborhood & GrLivArea & GarageCars & ExterQual & TotalBsmtSF & X1stFlrSF & SalePrice\\\\\n",
       "\\hline\n",
       "\t 7       & Gilbert & 1509    & 2       & Gd      &  783    &  807    & 180000 \\\\\n",
       "\t 5       & Edwards & 1355    & 0       & TA      &  644    &  808    & 127500 \\\\\n",
       "\t 5       & Mitchel & 1140    & 0       & TA      & 1140    & 1140    &  84500 \\\\\n",
       "\t 4       & Edwards & 1440    & 0       & TA      & 1440    & 1440    & 118000 \\\\\n",
       "\t 7       & SawyerW & 1349    & 2       & TA      & 1349    & 1349    & 179000 \\\\\n",
       "\t 7       & Crawfor & 2057    & 1       & Gd      & 1017    & 1020    & 250000 \\\\\n",
       "\\end{tabular}\n"
      ],
      "text/markdown": [
       "\n",
       "| OverallQual | Neighborhood | GrLivArea | GarageCars | ExterQual | TotalBsmtSF | X1stFlrSF | SalePrice |\n",
       "|---|---|---|---|---|---|---|---|\n",
       "| 7       | Gilbert | 1509    | 2       | Gd      |  783    |  807    | 180000  |\n",
       "| 5       | Edwards | 1355    | 0       | TA      |  644    |  808    | 127500  |\n",
       "| 5       | Mitchel | 1140    | 0       | TA      | 1140    | 1140    |  84500  |\n",
       "| 4       | Edwards | 1440    | 0       | TA      | 1440    | 1440    | 118000  |\n",
       "| 7       | SawyerW | 1349    | 2       | TA      | 1349    | 1349    | 179000  |\n",
       "| 7       | Crawfor | 2057    | 1       | Gd      | 1017    | 1020    | 250000  |\n",
       "\n"
      ],
      "text/plain": [
       "  OverallQual Neighborhood GrLivArea GarageCars ExterQual TotalBsmtSF X1stFlrSF\n",
       "1 7           Gilbert      1509      2          Gd         783         807     \n",
       "2 5           Edwards      1355      0          TA         644         808     \n",
       "3 5           Mitchel      1140      0          TA        1140        1140     \n",
       "4 4           Edwards      1440      0          TA        1440        1440     \n",
       "5 7           SawyerW      1349      2          TA        1349        1349     \n",
       "6 7           Crawfor      2057      1          Gd        1017        1020     \n",
       "  SalePrice\n",
       "1 180000   \n",
       "2 127500   \n",
       "3  84500   \n",
       "4 118000   \n",
       "5 179000   \n",
       "6 250000   "
      ]
     },
     "metadata": {},
     "output_type": "display_data"
    }
   ],
   "source": [
    "df_train_subset_one = (subset(df_train, select=c(OverallQual,Neighborhood,GrLivArea,GarageCars,ExterQual,TotalBsmtSF,X1stFlrSF,SalePrice)))\n",
    "df_test_subset_one = (subset(df_test, select=c(OverallQual,Neighborhood,GrLivArea,GarageCars,ExterQual,TotalBsmtSF,X1stFlrSF,SalePrice)))\n",
    "\n",
    "head(df_train_subset_one)"
   ]
  },
  {
   "cell_type": "code",
   "execution_count": 17,
   "id": "34b48f50",
   "metadata": {},
   "outputs": [
    {
     "data": {
      "text/html": [
       "<table>\n",
       "<thead><tr><th scope=col>OverallQual</th><th scope=col>Neighborhood</th><th scope=col>GrLivArea</th><th scope=col>GarageCars</th><th scope=col>ExterQual</th><th scope=col>TotalBsmtSF</th><th scope=col>X1stFlrSF</th></tr></thead>\n",
       "<tbody>\n",
       "\t<tr><td>7      </td><td>Gilbert</td><td>1509   </td><td>2      </td><td>Gd     </td><td> 783   </td><td> 807   </td></tr>\n",
       "\t<tr><td>5      </td><td>Edwards</td><td>1355   </td><td>0      </td><td>TA     </td><td> 644   </td><td> 808   </td></tr>\n",
       "\t<tr><td>5      </td><td>Mitchel</td><td>1140   </td><td>0      </td><td>TA     </td><td>1140   </td><td>1140   </td></tr>\n",
       "\t<tr><td>4      </td><td>Edwards</td><td>1440   </td><td>0      </td><td>TA     </td><td>1440   </td><td>1440   </td></tr>\n",
       "\t<tr><td>7      </td><td>SawyerW</td><td>1349   </td><td>2      </td><td>TA     </td><td>1349   </td><td>1349   </td></tr>\n",
       "\t<tr><td>7      </td><td>Crawfor</td><td>2057   </td><td>1      </td><td>Gd     </td><td>1017   </td><td>1020   </td></tr>\n",
       "</tbody>\n",
       "</table>\n"
      ],
      "text/latex": [
       "\\begin{tabular}{r|lllllll}\n",
       " OverallQual & Neighborhood & GrLivArea & GarageCars & ExterQual & TotalBsmtSF & X1stFlrSF\\\\\n",
       "\\hline\n",
       "\t 7       & Gilbert & 1509    & 2       & Gd      &  783    &  807   \\\\\n",
       "\t 5       & Edwards & 1355    & 0       & TA      &  644    &  808   \\\\\n",
       "\t 5       & Mitchel & 1140    & 0       & TA      & 1140    & 1140   \\\\\n",
       "\t 4       & Edwards & 1440    & 0       & TA      & 1440    & 1440   \\\\\n",
       "\t 7       & SawyerW & 1349    & 2       & TA      & 1349    & 1349   \\\\\n",
       "\t 7       & Crawfor & 2057    & 1       & Gd      & 1017    & 1020   \\\\\n",
       "\\end{tabular}\n"
      ],
      "text/markdown": [
       "\n",
       "| OverallQual | Neighborhood | GrLivArea | GarageCars | ExterQual | TotalBsmtSF | X1stFlrSF |\n",
       "|---|---|---|---|---|---|---|\n",
       "| 7       | Gilbert | 1509    | 2       | Gd      |  783    |  807    |\n",
       "| 5       | Edwards | 1355    | 0       | TA      |  644    |  808    |\n",
       "| 5       | Mitchel | 1140    | 0       | TA      | 1140    | 1140    |\n",
       "| 4       | Edwards | 1440    | 0       | TA      | 1440    | 1440    |\n",
       "| 7       | SawyerW | 1349    | 2       | TA      | 1349    | 1349    |\n",
       "| 7       | Crawfor | 2057    | 1       | Gd      | 1017    | 1020    |\n",
       "\n"
      ],
      "text/plain": [
       "  OverallQual Neighborhood GrLivArea GarageCars ExterQual TotalBsmtSF X1stFlrSF\n",
       "1 7           Gilbert      1509      2          Gd         783         807     \n",
       "2 5           Edwards      1355      0          TA         644         808     \n",
       "3 5           Mitchel      1140      0          TA        1140        1140     \n",
       "4 4           Edwards      1440      0          TA        1440        1440     \n",
       "5 7           SawyerW      1349      2          TA        1349        1349     \n",
       "6 7           Crawfor      2057      1          Gd        1017        1020     "
      ]
     },
     "metadata": {},
     "output_type": "display_data"
    }
   ],
   "source": [
    "df_train_one_b = df_train_subset_one[,-c(8)]\n",
    "df_test_one_b = df_test_subset_one[,-c(8)]\n",
    "\n",
    "head(df_train_one_b)"
   ]
  },
  {
   "cell_type": "code",
   "execution_count": 18,
   "id": "b0ee6b02",
   "metadata": {},
   "outputs": [
    {
     "data": {
      "text/plain": [
       "\n",
       "Call:\n",
       "lm(formula = log(df_train_subset_one$SalePrice) ~ ., data = df_train_one_b)\n",
       "\n",
       "Residuals:\n",
       "     Min       1Q   Median       3Q      Max \n",
       "-1.60311 -0.07002  0.01415  0.08761  0.50278 \n",
       "\n",
       "Coefficients:\n",
       "                      Estimate Std. Error t value Pr(>|t|)    \n",
       "(Intercept)          1.098e+01  7.337e-02 149.627  < 2e-16 ***\n",
       "OverallQual          8.644e-02  6.574e-03  13.148  < 2e-16 ***\n",
       "NeighborhoodBlueste -6.263e-02  1.655e-01  -0.378 0.705209    \n",
       "NeighborhoodBrDale  -2.571e-01  7.085e-02  -3.629 0.000298 ***\n",
       "NeighborhoodBrkSide -6.940e-02  5.169e-02  -1.342 0.179735    \n",
       "NeighborhoodClearCr  1.863e-01  5.680e-02   3.280 0.001073 ** \n",
       "NeighborhoodCollgCr  7.052e-02  4.555e-02   1.548 0.121811    \n",
       "NeighborhoodCrawfor  1.578e-01  5.163e-02   3.057 0.002295 ** \n",
       "NeighborhoodEdwards -1.058e-01  4.923e-02  -2.150 0.031806 *  \n",
       "NeighborhoodGilbert  5.097e-02  4.905e-02   1.039 0.298958    \n",
       "NeighborhoodIDOTRR  -1.951e-01  5.567e-02  -3.504 0.000478 ***\n",
       "NeighborhoodMeadowV -2.043e-01  6.620e-02  -3.086 0.002080 ** \n",
       "NeighborhoodMitchel  1.404e-02  5.273e-02   0.266 0.790027    \n",
       "NeighborhoodNAmes   -1.381e-02  4.692e-02  -0.294 0.768606    \n",
       "NeighborhoodNoRidge  1.921e-01  5.277e-02   3.640 0.000285 ***\n",
       "NeighborhoodNPkVill -7.602e-02  7.924e-02  -0.959 0.337614    \n",
       "NeighborhoodNridgHt  1.760e-01  4.879e-02   3.608 0.000323 ***\n",
       "NeighborhoodNWAmes   3.484e-02  4.969e-02   0.701 0.483352    \n",
       "NeighborhoodOldTown -1.827e-01  4.938e-02  -3.701 0.000226 ***\n",
       "NeighborhoodSawyer  -1.596e-02  5.059e-02  -0.316 0.752424    \n",
       "NeighborhoodSawyerW  4.653e-02  4.932e-02   0.943 0.345668    \n",
       "NeighborhoodSomerst  9.197e-02  4.746e-02   1.938 0.052883 .  \n",
       "NeighborhoodStoneBr  2.196e-01  5.635e-02   3.896 0.000104 ***\n",
       "NeighborhoodSWISU   -1.043e-01  6.365e-02  -1.639 0.101533    \n",
       "NeighborhoodTimber   1.008e-01  5.145e-02   1.960 0.050274 .  \n",
       "NeighborhoodVeenker  2.137e-01  6.796e-02   3.145 0.001705 ** \n",
       "GrLivArea            1.935e-04  1.411e-05  13.713  < 2e-16 ***\n",
       "GarageCars           8.568e-02  9.066e-03   9.450  < 2e-16 ***\n",
       "ExterQualFa         -2.619e-01  6.301e-02  -4.156  3.5e-05 ***\n",
       "ExterQualGd         -2.736e-02  3.154e-02  -0.867 0.385999    \n",
       "ExterQualTA         -5.447e-02  3.511e-02  -1.551 0.121140    \n",
       "TotalBsmtSF          7.622e-05  2.142e-05   3.558 0.000390 ***\n",
       "X1stFlrSF            2.577e-05  2.562e-05   1.006 0.314824    \n",
       "---\n",
       "Signif. codes:  0 '***' 0.001 '**' 0.01 '*' 0.05 '.' 0.1 ' ' 1\n",
       "\n",
       "Residual standard error: 0.1587 on 1062 degrees of freedom\n",
       "Multiple R-squared:  0.8419,\tAdjusted R-squared:  0.8372 \n",
       "F-statistic: 176.8 on 32 and 1062 DF,  p-value: < 2.2e-16\n"
      ]
     },
     "metadata": {},
     "output_type": "display_data"
    }
   ],
   "source": [
    "model_baseline = lm(log(df_train_subset_one$SalePrice)~., data=df_train_one_b)\n",
    "summary(model_baseline)"
   ]
  },
  {
   "cell_type": "code",
   "execution_count": 19,
   "id": "3e098746",
   "metadata": {},
   "outputs": [
    {
     "name": "stdout",
     "output_type": "stream",
     "text": [
      "[1] \"RMSE sur le dataset de train:\"\n",
      "[1] 35196\n"
     ]
    }
   ],
   "source": [
    "y_train_pred = (predict(model_baseline, newdata=df_train_one_b))\n",
    "y_test_pred =(predict(model_baseline, newdata=df_test_one_b ))\n",
    "\n",
    "\n",
    "RMSE_train = c(sqrt(mean((exp(y_train_pred)-df_train_subset_one$SalePrice)^2)))\n",
    "RMSE_test = c(sqrt(mean((exp(y_test_pred)-df_test_subset_one$SalePrice)^2)))\n",
    "\n",
    "print(\"RMSE sur le dataset de train:\"); print(RMSE_train, digits=5)"
   ]
  },
  {
   "cell_type": "code",
   "execution_count": 20,
   "id": "ed168d7a",
   "metadata": {},
   "outputs": [
    {
     "name": "stdout",
     "output_type": "stream",
     "text": [
      "[1] \"RMSE sur le dataset de test:\"\n",
      "[1] 29458\n"
     ]
    }
   ],
   "source": [
    "print(\"RMSE sur le dataset de test:\"); print(RMSE_test, digits=5)"
   ]
  },
  {
   "cell_type": "code",
   "execution_count": 21,
   "id": "55a8600b",
   "metadata": {},
   "outputs": [
    {
     "data": {
      "text/plain": [
       "   Min. 1st Qu.  Median    Mean 3rd Qu.    Max. \n",
       "  34900  129975  163000  180921  214000  755000 "
      ]
     },
     "metadata": {},
     "output_type": "display_data"
    }
   ],
   "source": [
    "summary(df_all$SalePrice)"
   ]
  },
  {
   "cell_type": "markdown",
   "id": "7973a809",
   "metadata": {},
   "source": [
    "## 2nd modèle - suppression des outliers"
   ]
  },
  {
   "cell_type": "code",
   "execution_count": 22,
   "id": "d58e4d9d",
   "metadata": {},
   "outputs": [
    {
     "data": {
      "text/plain": [
       "      rstudent unadjusted p-value Bonferonni p\n",
       "720 -12.224774         3.0199e-32   3.3038e-29\n",
       "819  -7.381171         3.1634e-13   3.4607e-10\n",
       "743  -5.350888         1.0721e-07   1.1729e-04\n",
       "661  -4.283613         2.0057e-05   2.1942e-02\n",
       "814  -4.102213         4.4053e-05   4.8194e-02"
      ]
     },
     "metadata": {},
     "output_type": "display_data"
    }
   ],
   "source": [
    "outlierTest(model_baseline)"
   ]
  },
  {
   "cell_type": "code",
   "execution_count": 23,
   "id": "ee7e0a93",
   "metadata": {},
   "outputs": [
    {
     "data": {
      "text/html": [
       "<ol class=list-inline>\n",
       "\t<li>1090</li>\n",
       "\t<li>8</li>\n",
       "</ol>\n"
      ],
      "text/latex": [
       "\\begin{enumerate*}\n",
       "\\item 1090\n",
       "\\item 8\n",
       "\\end{enumerate*}\n"
      ],
      "text/markdown": [
       "1. 1090\n",
       "2. 8\n",
       "\n",
       "\n"
      ],
      "text/plain": [
       "[1] 1090    8"
      ]
     },
     "metadata": {},
     "output_type": "display_data"
    },
    {
     "data": {
      "text/html": [
       "<ol class=list-inline>\n",
       "\t<li>1090</li>\n",
       "\t<li>7</li>\n",
       "</ol>\n"
      ],
      "text/latex": [
       "\\begin{enumerate*}\n",
       "\\item 1090\n",
       "\\item 7\n",
       "\\end{enumerate*}\n"
      ],
      "text/markdown": [
       "1. 1090\n",
       "2. 7\n",
       "\n",
       "\n"
      ],
      "text/plain": [
       "[1] 1090    7"
      ]
     },
     "metadata": {},
     "output_type": "display_data"
    }
   ],
   "source": [
    "df_train_subset_two = df_train_subset_one[-c(720,819,743,661,814),]\n",
    "df_train_subset_two_b = df_train_subset_two[,-c(8)]\n",
    "\n",
    "df_test_subset_two = df_test_subset_one[-c(720,819,743,661,814),]\n",
    "df_test_subset_two_b = df_test_subset_two[,-c(8)]\n",
    "\n",
    "dim(df_train_subset_two)\n",
    "dim(df_train_subset_two_b)"
   ]
  },
  {
   "cell_type": "code",
   "execution_count": 24,
   "id": "ba0ebfef",
   "metadata": {},
   "outputs": [
    {
     "data": {
      "text/plain": [
       "\n",
       "Call:\n",
       "lm(formula = log(df_train_subset_two$SalePrice) ~ ., data = df_train_subset_two_b)\n",
       "\n",
       "Residuals:\n",
       "     Min       1Q   Median       3Q      Max \n",
       "-0.66219 -0.06343  0.00992  0.08528  0.46549 \n",
       "\n",
       "Coefficients:\n",
       "                      Estimate Std. Error t value Pr(>|t|)    \n",
       "(Intercept)          1.096e+01  6.377e-02 171.804  < 2e-16 ***\n",
       "OverallQual          8.144e-02  5.740e-03  14.187  < 2e-16 ***\n",
       "NeighborhoodBlueste -4.093e-02  1.434e-01  -0.286 0.775304    \n",
       "NeighborhoodBrDale  -2.122e-01  6.144e-02  -3.453 0.000576 ***\n",
       "NeighborhoodBrkSide -4.454e-02  4.481e-02  -0.994 0.320513    \n",
       "NeighborhoodClearCr  1.634e-01  4.922e-02   3.320 0.000930 ***\n",
       "NeighborhoodCollgCr  7.058e-02  3.945e-02   1.789 0.073936 .  \n",
       "NeighborhoodCrawfor  1.467e-01  4.473e-02   3.280 0.001072 ** \n",
       "NeighborhoodEdwards -5.267e-02  4.279e-02  -1.231 0.218623    \n",
       "NeighborhoodGilbert  6.565e-02  4.250e-02   1.545 0.122660    \n",
       "NeighborhoodIDOTRR  -1.432e-01  4.849e-02  -2.953 0.003221 ** \n",
       "NeighborhoodMeadowV -1.639e-01  5.742e-02  -2.854 0.004406 ** \n",
       "NeighborhoodMitchel  2.146e-02  4.568e-02   0.470 0.638530    \n",
       "NeighborhoodNAmes   -3.952e-03  4.065e-02  -0.097 0.922578    \n",
       "NeighborhoodNoRidge  1.388e-01  4.585e-02   3.028 0.002523 ** \n",
       "NeighborhoodNPkVill -5.465e-02  6.866e-02  -0.796 0.426216    \n",
       "NeighborhoodNridgHt  1.180e-01  4.242e-02   2.781 0.005524 ** \n",
       "NeighborhoodNWAmes   4.172e-02  4.313e-02   0.967 0.333602    \n",
       "NeighborhoodOldTown -1.672e-01  4.279e-02  -3.908 9.90e-05 ***\n",
       "NeighborhoodSawyer   1.249e-02  4.392e-02   0.284 0.776166    \n",
       "NeighborhoodSawyerW  4.584e-02  4.272e-02   1.073 0.283517    \n",
       "NeighborhoodSomerst  9.080e-02  4.111e-02   2.209 0.027406 *  \n",
       "NeighborhoodStoneBr  1.742e-01  4.890e-02   3.562 0.000385 ***\n",
       "NeighborhoodSWISU   -1.056e-01  5.514e-02  -1.916 0.055668 .  \n",
       "NeighborhoodTimber   8.604e-02  4.458e-02   1.930 0.053837 .  \n",
       "NeighborhoodVeenker  2.050e-01  5.887e-02   3.482 0.000519 ***\n",
       "GrLivArea            2.396e-04  1.260e-05  19.011  < 2e-16 ***\n",
       "GarageCars           7.744e-02  7.885e-03   9.822  < 2e-16 ***\n",
       "ExterQualFa         -3.337e-01  5.488e-02  -6.082 1.66e-09 ***\n",
       "ExterQualGd         -1.002e-01  2.771e-02  -3.617 0.000312 ***\n",
       "ExterQualTA         -1.263e-01  3.077e-02  -4.105 4.35e-05 ***\n",
       "TotalBsmtSF          1.700e-04  1.945e-05   8.741  < 2e-16 ***\n",
       "X1stFlrSF           -3.245e-06  2.228e-05  -0.146 0.884208    \n",
       "---\n",
       "Signif. codes:  0 '***' 0.001 '**' 0.01 '*' 0.05 '.' 0.1 ' ' 1\n",
       "\n",
       "Residual standard error: 0.1375 on 1057 degrees of freedom\n",
       "Multiple R-squared:  0.8792,\tAdjusted R-squared:  0.8755 \n",
       "F-statistic: 240.3 on 32 and 1057 DF,  p-value: < 2.2e-16\n"
      ]
     },
     "metadata": {},
     "output_type": "display_data"
    }
   ],
   "source": [
    "model_outlier = lm(log(df_train_subset_two$SalePrice)~., data=df_train_subset_two_b)\n",
    "summary(model_outlier)"
   ]
  },
  {
   "cell_type": "code",
   "execution_count": 25,
   "id": "1aeea85e",
   "metadata": {},
   "outputs": [
    {
     "name": "stdout",
     "output_type": "stream",
     "text": [
      "[1] \"RMSE sur le dataset de train:\"\n",
      "[1] 25309\n"
     ]
    }
   ],
   "source": [
    "y_train_pred = (predict(model_outlier, newdata=df_train_subset_two_b))\n",
    "y_test_pred =(predict(model_outlier, newdata=df_test_subset_two_b ))\n",
    "\n",
    "\n",
    "RMSE_train = c(sqrt(mean((exp(y_train_pred)-df_train_subset_two$SalePrice)^2)))\n",
    "RMSE_test = c(sqrt(mean((exp(y_test_pred)-df_test_subset_two$SalePrice)^2)))\n",
    "\n",
    "print(\"RMSE sur le dataset de train:\"); print(RMSE_train, digits=5)"
   ]
  },
  {
   "cell_type": "code",
   "execution_count": 26,
   "id": "ecb1d844",
   "metadata": {},
   "outputs": [
    {
     "name": "stdout",
     "output_type": "stream",
     "text": [
      "[1] \"RMSE sur le dataset de test:\"\n",
      "[1] 26977\n"
     ]
    }
   ],
   "source": [
    "print(\"RMSE sur le dataset de test:\"); print(RMSE_test, digits=5)"
   ]
  },
  {
   "cell_type": "markdown",
   "id": "550010d4",
   "metadata": {},
   "source": [
    "## selection de features\n"
   ]
  },
  {
   "cell_type": "code",
   "execution_count": 27,
   "id": "71720bbb",
   "metadata": {},
   "outputs": [
    {
     "name": "stderr",
     "output_type": "stream",
     "text": [
      "Note: model has aliased coefficients\n",
      "      sums of squares computed by model comparison\n"
     ]
    },
    {
     "name": "stdout",
     "output_type": "stream",
     "text": [
      "Anova Table (Type II tests)\n",
      "\n",
      "Response: log(df_train$SalePrice)\n",
      "              Sum Sq  Df F value    Pr(>F)    \n",
      "MSSubClass    0.0075   1  0.6649 0.4150439    \n",
      "MSZoning      0.3238   4  7.1844 1.081e-05 ***\n",
      "LotFrontage   0.0033   1  0.2935 0.5881476    \n",
      "LotArea       0.1833   1 16.2716 5.969e-05 ***\n",
      "Street        0.0374   1  3.3167 0.0689219 .  \n",
      "LotShape      0.0370   3  1.0937 0.3508843    \n",
      "LandContour   0.0821   3  2.4282 0.0641023 .  \n",
      "Utilities     0.0307   1  2.7241 0.0992064 .  \n",
      "LotConfig     0.1464   4  3.2475 0.0117286 *  \n",
      "LandSlope     0.1015   2  4.5053 0.0113080 *  \n",
      "Neighborhood  1.6444  24  6.0815 < 2.2e-16 ***\n",
      "Condition1    0.3981   8  4.4169 2.960e-05 ***\n",
      "Condition2    0.9718   5 17.2515 2.642e-16 ***\n",
      "BldgType      0.0442   4  0.9799 0.4175675    \n",
      "HouseStyle    0.1031   7  1.3071 0.2435720    \n",
      "OverallQual   0.5397   1 47.9053 8.660e-12 ***\n",
      "OverallCond   0.6932   1 61.5302 1.271e-14 ***\n",
      "YearBuilt     0.1452   1 12.8870 0.0003493 ***\n",
      "YearRemodAdd  0.0477   1  4.2346 0.0399041 *  \n",
      "RoofStyle     0.1130   5  2.0058 0.0755543 .  \n",
      "RoofMatl      2.3963   6 35.4490 < 2.2e-16 ***\n",
      "Exterior1st   0.2434  12  1.8002 0.0440205 *  \n",
      "Exterior2nd   0.0832  14  0.5273 0.9181062    \n",
      "MasVnrType    0.0186   3  0.5490 0.6488915    \n",
      "MasVnrArea    0.0023   1  0.2071 0.6492017    \n",
      "ExterQual     0.0071   3  0.2101 0.8894350    \n",
      "ExterCond     0.0268   4  0.5945 0.6666934    \n",
      "Foundation    0.0839   5  1.4892 0.1907534    \n",
      "BsmtQual      0.0505   3  1.4939 0.2147381    \n",
      "BsmtCond      0.0482   3  1.4262 0.2336934    \n",
      "BsmtExposure  0.0482   3  1.4275 0.2333056    \n",
      "BsmtFinType1  0.0453   5  0.8045 0.5464889    \n",
      "BsmtFinSF1             0                      \n",
      "BsmtFinType2  0.0765   5  1.3585 0.2376953    \n",
      "BsmtFinSF2             0                      \n",
      "BsmtUnfSF              0                      \n",
      "TotalBsmtSF            0                      \n",
      "Heating       0.0516   4  1.1460 0.3334864    \n",
      "HeatingQC     0.0982   4  2.1782 0.0696288 .  \n",
      "CentralAir    0.0122   1  1.0858 0.2977023    \n",
      "Electrical    0.0249   3  0.7373 0.5299229    \n",
      "X1stFlrSF              0                      \n",
      "X2ndFlrSF              0                      \n",
      "LowQualFinSF           0                      \n",
      "GrLivArea              0                      \n",
      "BsmtFullBath  0.0581   1  5.1600 0.0233549 *  \n",
      "BsmtHalfBath  0.0030   1  0.2619 0.6089447    \n",
      "FullBath      0.0135   1  1.1964 0.2743391    \n",
      "HalfBath      0.0536   1  4.7601 0.0293922 *  \n",
      "BedroomAbvGr  0.0228   1  2.0246 0.1551311    \n",
      "KitchenAbvGr  0.0392   1  3.4822 0.0623655 .  \n",
      "KitchenQual   0.1360   3  4.0226 0.0074105 ** \n",
      "TotRmsAbvGrd  0.0003   1  0.0273 0.8687111    \n",
      "Functional    0.2730   6  4.0380 0.0005328 ***\n",
      "Fireplaces    0.1049   1  9.3150 0.0023417 ** \n",
      "GarageType    0.0743   5  1.3189 0.2537090    \n",
      "GarageYrBlt   0.0004   1  0.0359 0.8496793    \n",
      "GarageFinish  0.0081   2  0.3588 0.6986070    \n",
      "GarageCars    0.0554   1  4.9129 0.0269138 *  \n",
      "GarageArea    0.0726   1  6.4443 0.0113036 *  \n",
      "GarageQual    0.0683   3  2.0204 0.1095084    \n",
      "GarageCond    0.0537   3  1.5891 0.1904662    \n",
      "PavedDrive    0.0036   2  0.1584 0.8535519    \n",
      "WoodDeckSF    0.1673   1 14.8532 0.0001247 ***\n",
      "OpenPorchSF   0.0261   1  2.3127 0.1286836    \n",
      "EnclosedPorch 0.0360   1  3.1935 0.0742784 .  \n",
      "X3SsnPorch    0.0478   1  4.2383 0.0398189 *  \n",
      "ScreenPorch   0.1679   1 14.9039 0.0001215 ***\n",
      "PoolArea      0.0355   1  3.1511 0.0762240 .  \n",
      "MiscVal       0.0000   1  0.0004 0.9846903    \n",
      "MoSold        0.0112   1  0.9973 0.3182367    \n",
      "YrSold        0.0115   1  1.0223 0.3122529    \n",
      "SaleType      0.1556   8  1.7267 0.0884551 .  \n",
      "SaleCondition 0.2518   5  4.4698 0.0004999 ***\n",
      "Residuals     9.8357 873                      \n",
      "---\n",
      "Signif. codes:  0 '***' 0.001 '**' 0.01 '*' 0.05 '.' 0.1 ' ' 1\n"
     ]
    }
   ],
   "source": [
    "model_all = lm(log(df_train$SalePrice)~.,data=df_train)\n",
    "print(Anova(model_all))"
   ]
  },
  {
   "cell_type": "markdown",
   "id": "8a8cead2",
   "metadata": {},
   "source": [
    "    \n",
    "   qqqqqqqqqqqqqqqqqqqqqq"
   ]
  },
  {
   "cell_type": "code",
   "execution_count": 28,
   "id": "03d3cb10",
   "metadata": {},
   "outputs": [],
   "source": [
    "DatAnova = (subset(df_train, select=c(MSZoning,LotArea,LotConfig,LandSlope,Neighborhood,Condition1,Condition2,OverallQual,\n",
    "                                      OverallCond,YearBuilt,YearRemodAdd,RoofMatl,Exterior1st,BsmtFullBath,HalfBath,KitchenQual,\n",
    "                                      Functional,Fireplaces,GarageCars,GarageArea,WoodDeckSF,X3SsnPorch,ScreenPorch,\n",
    "                                      SaleCondition,SalePrice)))\n",
    "\n",
    "mod_Anova = lm(log(DatAnova$SalePrice)~., data=DatAnova)"
   ]
  },
  {
   "cell_type": "code",
   "execution_count": 29,
   "id": "06a988a4",
   "metadata": {},
   "outputs": [
    {
     "name": "stdout",
     "output_type": "stream",
     "text": [
      "Analysis of Variance Table\n",
      "\n",
      "Response: log(df_train$SalePrice)\n",
      "               Df Sum Sq Mean Sq   F value    Pr(>F)    \n",
      "MSSubClass      1  0.872  0.8722   77.4126 < 2.2e-16 ***\n",
      "MSZoning        4 29.336  7.3340  650.9481 < 2.2e-16 ***\n",
      "LotFrontage     1 10.582 10.5821  939.2406 < 2.2e-16 ***\n",
      "LotArea         1  2.824  2.8241  250.6626 < 2.2e-16 ***\n",
      "Street          1  0.529  0.5294   46.9874 1.350e-11 ***\n",
      "LotShape        3  5.377  1.7925  159.0977 < 2.2e-16 ***\n",
      "LandContour     3  2.132  0.7106   63.0707 < 2.2e-16 ***\n",
      "Utilities       1  0.123  0.1232   10.9333 0.0009831 ***\n",
      "LotConfig       4  1.590  0.3975   35.2824 < 2.2e-16 ***\n",
      "LandSlope       2  1.524  0.7619   67.6274 < 2.2e-16 ***\n",
      "Neighborhood   24 57.860  2.4108  213.9794 < 2.2e-16 ***\n",
      "Condition1      8  1.573  0.1966   17.4528 < 2.2e-16 ***\n",
      "Condition2      5  0.096  0.0192    1.7051 0.1308130    \n",
      "BldgType        4  2.128  0.5321   47.2253 < 2.2e-16 ***\n",
      "HouseStyle      7  1.499  0.2142   19.0124 < 2.2e-16 ***\n",
      "OverallQual     1 18.090 18.0902 1605.6451 < 2.2e-16 ***\n",
      "OverallCond     1  0.831  0.8310   73.7616 < 2.2e-16 ***\n",
      "YearBuilt       1  1.642  1.6415  145.7003 < 2.2e-16 ***\n",
      "YearRemodAdd    1  0.804  0.8035   71.3205 < 2.2e-16 ***\n",
      "RoofStyle       5  0.457  0.0913    8.1057 1.729e-07 ***\n",
      "RoofMatl        6  1.097  0.1829   16.2335 < 2.2e-16 ***\n",
      "Exterior1st    12  1.944  0.1620   14.3792 < 2.2e-16 ***\n",
      "Exterior2nd    14  0.624  0.0446    3.9557 1.254e-06 ***\n",
      "MasVnrType      3  0.589  0.1963   17.4218 5.424e-11 ***\n",
      "MasVnrArea      1  0.338  0.3379   29.9930 5.672e-08 ***\n",
      "ExterQual       3  0.256  0.0854    7.5770 5.251e-05 ***\n",
      "ExterCond       4  0.078  0.0195    1.7321 0.1407888    \n",
      "Foundation      5  0.733  0.1466   13.0079 3.145e-12 ***\n",
      "BsmtQual        3  0.656  0.2186   19.3989 3.501e-12 ***\n",
      "BsmtCond        3  0.172  0.0573    5.0879 0.0017004 ** \n",
      "BsmtExposure    3  0.608  0.2026   17.9867 2.476e-11 ***\n",
      "BsmtFinType1    5  1.089  0.2178   19.3273 < 2.2e-16 ***\n",
      "BsmtFinSF1      1  1.350  1.3505  119.8673 < 2.2e-16 ***\n",
      "BsmtFinType2    5  0.247  0.0493    4.3778 0.0006085 ***\n",
      "BsmtFinSF2      1  0.111  0.1109    9.8474 0.0017578 ** \n",
      "BsmtUnfSF       1  2.766  2.7663  245.5280 < 2.2e-16 ***\n",
      "Heating         4  0.201  0.0503    4.4675 0.0014060 ** \n",
      "HeatingQC       4  0.104  0.0261    2.3143 0.0558484 .  \n",
      "CentralAir      1  0.156  0.1564   13.8854 0.0002068 ***\n",
      "Electrical      3  0.007  0.0023    0.2005 0.8960705    \n",
      "X1stFlrSF       1  2.045  2.0451  181.5221 < 2.2e-16 ***\n",
      "X2ndFlrSF       1  1.721  1.7212  152.7714 < 2.2e-16 ***\n",
      "LowQualFinSF    1  0.012  0.0117    1.0362 0.3089971    \n",
      "BsmtFullBath    1  0.110  0.1102    9.7774 0.0018252 ** \n",
      "BsmtHalfBath    1  0.012  0.0117    1.0341 0.3094755    \n",
      "FullBath        1  0.000  0.0001    0.0128 0.9098504    \n",
      "HalfBath        1  0.069  0.0687    6.0996 0.0137111 *  \n",
      "BedroomAbvGr    1  0.005  0.0051    0.4536 0.5008068    \n",
      "KitchenAbvGr    1  0.032  0.0318    2.8195 0.0934842 .  \n",
      "KitchenQual     3  0.200  0.0667    5.9208 0.0005333 ***\n",
      "TotRmsAbvGrd    1  0.003  0.0028    0.2491 0.6178499    \n",
      "Functional      6  0.289  0.0481    4.2714 0.0002982 ***\n",
      "Fireplaces      1  0.164  0.1637   14.5282 0.0001478 ***\n",
      "GarageType      5  0.064  0.0128    1.1341 0.3405372    \n",
      "GarageYrBlt     1  0.103  0.1033    9.1706 0.0025317 ** \n",
      "GarageFinish    2  0.016  0.0081    0.7184 0.4878138    \n",
      "GarageCars      1  0.458  0.4583   40.6802 2.904e-10 ***\n",
      "GarageArea      1  0.094  0.0943    8.3681 0.0039137 ** \n",
      "GarageQual      4  0.067  0.0168    1.4937 0.2020532    \n",
      "GarageCond      3  0.045  0.0151    1.3382 0.2606260    \n",
      "PavedDrive      2  0.002  0.0010    0.0865 0.9171637    \n",
      "WoodDeckSF      1  0.083  0.0826    7.3276 0.0069231 ** \n",
      "OpenPorchSF     1  0.015  0.0151    1.3407 0.2472302    \n",
      "EnclosedPorch   1  0.028  0.0277    2.4601 0.1171356    \n",
      "X3SsnPorch      1  0.044  0.0435    3.8648 0.0496268 *  \n",
      "ScreenPorch     1  0.150  0.1500   13.3107 0.0002795 ***\n",
      "PoolArea        1  0.036  0.0359    3.1876 0.0745469 .  \n",
      "MiscVal         1  0.000  0.0000    0.0014 0.9702315    \n",
      "MoSold          1  0.002  0.0018    0.1567 0.6922908    \n",
      "YrSold          1  0.013  0.0130    1.1547 0.2828542    \n",
      "SaleType        8  0.219  0.0274    2.4338 0.0132254 *  \n",
      "SaleCondition   5  0.252  0.0504    4.4698 0.0004999 ***\n",
      "Residuals     873  9.836  0.0113                        \n",
      "---\n",
      "Signif. codes:  0 '***' 0.001 '**' 0.01 '*' 0.05 '.' 0.1 ' ' 1\n"
     ]
    }
   ],
   "source": [
    "print(anova(model_all))"
   ]
  },
  {
   "cell_type": "code",
   "execution_count": 30,
   "id": "4f6e235e",
   "metadata": {},
   "outputs": [],
   "source": [
    "Dat_anova = (subset(df_train, select=-c(Condition2,ExterCond,Heating,HeatingQC,Electrical,LowQualFinSF, BsmtHalfBath,\n",
    "                                               FullBath,HalfBath,BedroomAbvGr,TotRmsAbvGrd,GarageType,GarageFinish,GarageQual,\n",
    "                                               GarageCond,PavedDrive,OpenPorchSF,EnclosedPorch,MiscVal,MoSold,YrSold)))\n",
    "\n",
    "mod_anova = lm(log(Dat_anova$SalePrice)~., data=Dat_anova)"
   ]
  },
  {
   "cell_type": "code",
   "execution_count": null,
   "id": "da79f94d",
   "metadata": {},
   "outputs": [],
   "source": []
  },
  {
   "cell_type": "code",
   "execution_count": null,
   "id": "4a6c543f",
   "metadata": {},
   "outputs": [],
   "source": []
  },
  {
   "cell_type": "markdown",
   "id": "703f6b4a",
   "metadata": {},
   "source": [
    "Modèle par la méthode 'forward'"
   ]
  },
  {
   "cell_type": "code",
   "execution_count": 31,
   "id": "6b7d6ba2",
   "metadata": {},
   "outputs": [
    {
     "data": {
      "text/html": [
       "<ol class=list-inline>\n",
       "\t<li>'MSSubClass'</li>\n",
       "\t<li>'MSZoning'</li>\n",
       "\t<li>'LotFrontage'</li>\n",
       "\t<li>'LotArea'</li>\n",
       "\t<li>'Street'</li>\n",
       "\t<li>'LotShape'</li>\n",
       "\t<li>'LandContour'</li>\n",
       "\t<li>'Utilities'</li>\n",
       "\t<li>'LotConfig'</li>\n",
       "\t<li>'LandSlope'</li>\n",
       "\t<li>'Neighborhood'</li>\n",
       "\t<li>'Condition1'</li>\n",
       "\t<li>'Condition2'</li>\n",
       "\t<li>'BldgType'</li>\n",
       "\t<li>'HouseStyle'</li>\n",
       "\t<li>'OverallQual'</li>\n",
       "\t<li>'OverallCond'</li>\n",
       "\t<li>'YearBuilt'</li>\n",
       "\t<li>'YearRemodAdd'</li>\n",
       "\t<li>'RoofStyle'</li>\n",
       "\t<li>'RoofMatl'</li>\n",
       "\t<li>'Exterior1st'</li>\n",
       "\t<li>'Exterior2nd'</li>\n",
       "\t<li>'MasVnrType'</li>\n",
       "\t<li>'MasVnrArea'</li>\n",
       "\t<li>'ExterQual'</li>\n",
       "\t<li>'ExterCond'</li>\n",
       "\t<li>'Foundation'</li>\n",
       "\t<li>'BsmtQual'</li>\n",
       "\t<li>'BsmtCond'</li>\n",
       "\t<li>'BsmtExposure'</li>\n",
       "\t<li>'BsmtFinType1'</li>\n",
       "\t<li>'BsmtFinSF1'</li>\n",
       "\t<li>'BsmtFinType2'</li>\n",
       "\t<li>'BsmtFinSF2'</li>\n",
       "\t<li>'BsmtUnfSF'</li>\n",
       "\t<li>'TotalBsmtSF'</li>\n",
       "\t<li>'Heating'</li>\n",
       "\t<li>'HeatingQC'</li>\n",
       "\t<li>'CentralAir'</li>\n",
       "\t<li>'Electrical'</li>\n",
       "\t<li>'X1stFlrSF'</li>\n",
       "\t<li>'X2ndFlrSF'</li>\n",
       "\t<li>'LowQualFinSF'</li>\n",
       "\t<li>'GrLivArea'</li>\n",
       "\t<li>'BsmtFullBath'</li>\n",
       "\t<li>'BsmtHalfBath'</li>\n",
       "\t<li>'FullBath'</li>\n",
       "\t<li>'HalfBath'</li>\n",
       "\t<li>'BedroomAbvGr'</li>\n",
       "\t<li>'KitchenAbvGr'</li>\n",
       "\t<li>'KitchenQual'</li>\n",
       "\t<li>'TotRmsAbvGrd'</li>\n",
       "\t<li>'Functional'</li>\n",
       "\t<li>'Fireplaces'</li>\n",
       "\t<li>'GarageType'</li>\n",
       "\t<li>'GarageYrBlt'</li>\n",
       "\t<li>'GarageFinish'</li>\n",
       "\t<li>'GarageCars'</li>\n",
       "\t<li>'GarageArea'</li>\n",
       "\t<li>'GarageQual'</li>\n",
       "\t<li>'GarageCond'</li>\n",
       "\t<li>'PavedDrive'</li>\n",
       "\t<li>'WoodDeckSF'</li>\n",
       "\t<li>'OpenPorchSF'</li>\n",
       "\t<li>'EnclosedPorch'</li>\n",
       "\t<li>'X3SsnPorch'</li>\n",
       "\t<li>'ScreenPorch'</li>\n",
       "\t<li>'PoolArea'</li>\n",
       "\t<li>'MiscVal'</li>\n",
       "\t<li>'MoSold'</li>\n",
       "\t<li>'YrSold'</li>\n",
       "\t<li>'SaleType'</li>\n",
       "\t<li>'SaleCondition'</li>\n",
       "\t<li>'SalePrice'</li>\n",
       "</ol>\n"
      ],
      "text/latex": [
       "\\begin{enumerate*}\n",
       "\\item 'MSSubClass'\n",
       "\\item 'MSZoning'\n",
       "\\item 'LotFrontage'\n",
       "\\item 'LotArea'\n",
       "\\item 'Street'\n",
       "\\item 'LotShape'\n",
       "\\item 'LandContour'\n",
       "\\item 'Utilities'\n",
       "\\item 'LotConfig'\n",
       "\\item 'LandSlope'\n",
       "\\item 'Neighborhood'\n",
       "\\item 'Condition1'\n",
       "\\item 'Condition2'\n",
       "\\item 'BldgType'\n",
       "\\item 'HouseStyle'\n",
       "\\item 'OverallQual'\n",
       "\\item 'OverallCond'\n",
       "\\item 'YearBuilt'\n",
       "\\item 'YearRemodAdd'\n",
       "\\item 'RoofStyle'\n",
       "\\item 'RoofMatl'\n",
       "\\item 'Exterior1st'\n",
       "\\item 'Exterior2nd'\n",
       "\\item 'MasVnrType'\n",
       "\\item 'MasVnrArea'\n",
       "\\item 'ExterQual'\n",
       "\\item 'ExterCond'\n",
       "\\item 'Foundation'\n",
       "\\item 'BsmtQual'\n",
       "\\item 'BsmtCond'\n",
       "\\item 'BsmtExposure'\n",
       "\\item 'BsmtFinType1'\n",
       "\\item 'BsmtFinSF1'\n",
       "\\item 'BsmtFinType2'\n",
       "\\item 'BsmtFinSF2'\n",
       "\\item 'BsmtUnfSF'\n",
       "\\item 'TotalBsmtSF'\n",
       "\\item 'Heating'\n",
       "\\item 'HeatingQC'\n",
       "\\item 'CentralAir'\n",
       "\\item 'Electrical'\n",
       "\\item 'X1stFlrSF'\n",
       "\\item 'X2ndFlrSF'\n",
       "\\item 'LowQualFinSF'\n",
       "\\item 'GrLivArea'\n",
       "\\item 'BsmtFullBath'\n",
       "\\item 'BsmtHalfBath'\n",
       "\\item 'FullBath'\n",
       "\\item 'HalfBath'\n",
       "\\item 'BedroomAbvGr'\n",
       "\\item 'KitchenAbvGr'\n",
       "\\item 'KitchenQual'\n",
       "\\item 'TotRmsAbvGrd'\n",
       "\\item 'Functional'\n",
       "\\item 'Fireplaces'\n",
       "\\item 'GarageType'\n",
       "\\item 'GarageYrBlt'\n",
       "\\item 'GarageFinish'\n",
       "\\item 'GarageCars'\n",
       "\\item 'GarageArea'\n",
       "\\item 'GarageQual'\n",
       "\\item 'GarageCond'\n",
       "\\item 'PavedDrive'\n",
       "\\item 'WoodDeckSF'\n",
       "\\item 'OpenPorchSF'\n",
       "\\item 'EnclosedPorch'\n",
       "\\item 'X3SsnPorch'\n",
       "\\item 'ScreenPorch'\n",
       "\\item 'PoolArea'\n",
       "\\item 'MiscVal'\n",
       "\\item 'MoSold'\n",
       "\\item 'YrSold'\n",
       "\\item 'SaleType'\n",
       "\\item 'SaleCondition'\n",
       "\\item 'SalePrice'\n",
       "\\end{enumerate*}\n"
      ],
      "text/markdown": [
       "1. 'MSSubClass'\n",
       "2. 'MSZoning'\n",
       "3. 'LotFrontage'\n",
       "4. 'LotArea'\n",
       "5. 'Street'\n",
       "6. 'LotShape'\n",
       "7. 'LandContour'\n",
       "8. 'Utilities'\n",
       "9. 'LotConfig'\n",
       "10. 'LandSlope'\n",
       "11. 'Neighborhood'\n",
       "12. 'Condition1'\n",
       "13. 'Condition2'\n",
       "14. 'BldgType'\n",
       "15. 'HouseStyle'\n",
       "16. 'OverallQual'\n",
       "17. 'OverallCond'\n",
       "18. 'YearBuilt'\n",
       "19. 'YearRemodAdd'\n",
       "20. 'RoofStyle'\n",
       "21. 'RoofMatl'\n",
       "22. 'Exterior1st'\n",
       "23. 'Exterior2nd'\n",
       "24. 'MasVnrType'\n",
       "25. 'MasVnrArea'\n",
       "26. 'ExterQual'\n",
       "27. 'ExterCond'\n",
       "28. 'Foundation'\n",
       "29. 'BsmtQual'\n",
       "30. 'BsmtCond'\n",
       "31. 'BsmtExposure'\n",
       "32. 'BsmtFinType1'\n",
       "33. 'BsmtFinSF1'\n",
       "34. 'BsmtFinType2'\n",
       "35. 'BsmtFinSF2'\n",
       "36. 'BsmtUnfSF'\n",
       "37. 'TotalBsmtSF'\n",
       "38. 'Heating'\n",
       "39. 'HeatingQC'\n",
       "40. 'CentralAir'\n",
       "41. 'Electrical'\n",
       "42. 'X1stFlrSF'\n",
       "43. 'X2ndFlrSF'\n",
       "44. 'LowQualFinSF'\n",
       "45. 'GrLivArea'\n",
       "46. 'BsmtFullBath'\n",
       "47. 'BsmtHalfBath'\n",
       "48. 'FullBath'\n",
       "49. 'HalfBath'\n",
       "50. 'BedroomAbvGr'\n",
       "51. 'KitchenAbvGr'\n",
       "52. 'KitchenQual'\n",
       "53. 'TotRmsAbvGrd'\n",
       "54. 'Functional'\n",
       "55. 'Fireplaces'\n",
       "56. 'GarageType'\n",
       "57. 'GarageYrBlt'\n",
       "58. 'GarageFinish'\n",
       "59. 'GarageCars'\n",
       "60. 'GarageArea'\n",
       "61. 'GarageQual'\n",
       "62. 'GarageCond'\n",
       "63. 'PavedDrive'\n",
       "64. 'WoodDeckSF'\n",
       "65. 'OpenPorchSF'\n",
       "66. 'EnclosedPorch'\n",
       "67. 'X3SsnPorch'\n",
       "68. 'ScreenPorch'\n",
       "69. 'PoolArea'\n",
       "70. 'MiscVal'\n",
       "71. 'MoSold'\n",
       "72. 'YrSold'\n",
       "73. 'SaleType'\n",
       "74. 'SaleCondition'\n",
       "75. 'SalePrice'\n",
       "\n",
       "\n"
      ],
      "text/plain": [
       " [1] \"MSSubClass\"    \"MSZoning\"      \"LotFrontage\"   \"LotArea\"      \n",
       " [5] \"Street\"        \"LotShape\"      \"LandContour\"   \"Utilities\"    \n",
       " [9] \"LotConfig\"     \"LandSlope\"     \"Neighborhood\"  \"Condition1\"   \n",
       "[13] \"Condition2\"    \"BldgType\"      \"HouseStyle\"    \"OverallQual\"  \n",
       "[17] \"OverallCond\"   \"YearBuilt\"     \"YearRemodAdd\"  \"RoofStyle\"    \n",
       "[21] \"RoofMatl\"      \"Exterior1st\"   \"Exterior2nd\"   \"MasVnrType\"   \n",
       "[25] \"MasVnrArea\"    \"ExterQual\"     \"ExterCond\"     \"Foundation\"   \n",
       "[29] \"BsmtQual\"      \"BsmtCond\"      \"BsmtExposure\"  \"BsmtFinType1\" \n",
       "[33] \"BsmtFinSF1\"    \"BsmtFinType2\"  \"BsmtFinSF2\"    \"BsmtUnfSF\"    \n",
       "[37] \"TotalBsmtSF\"   \"Heating\"       \"HeatingQC\"     \"CentralAir\"   \n",
       "[41] \"Electrical\"    \"X1stFlrSF\"     \"X2ndFlrSF\"     \"LowQualFinSF\" \n",
       "[45] \"GrLivArea\"     \"BsmtFullBath\"  \"BsmtHalfBath\"  \"FullBath\"     \n",
       "[49] \"HalfBath\"      \"BedroomAbvGr\"  \"KitchenAbvGr\"  \"KitchenQual\"  \n",
       "[53] \"TotRmsAbvGrd\"  \"Functional\"    \"Fireplaces\"    \"GarageType\"   \n",
       "[57] \"GarageYrBlt\"   \"GarageFinish\"  \"GarageCars\"    \"GarageArea\"   \n",
       "[61] \"GarageQual\"    \"GarageCond\"    \"PavedDrive\"    \"WoodDeckSF\"   \n",
       "[65] \"OpenPorchSF\"   \"EnclosedPorch\" \"X3SsnPorch\"    \"ScreenPorch\"  \n",
       "[69] \"PoolArea\"      \"MiscVal\"       \"MoSold\"        \"YrSold\"       \n",
       "[73] \"SaleType\"      \"SaleCondition\" \"SalePrice\"    "
      ]
     },
     "metadata": {},
     "output_type": "display_data"
    }
   ],
   "source": [
    "names(df_train)"
   ]
  },
  {
   "cell_type": "code",
   "execution_count": 34,
   "id": "58e8cfea",
   "metadata": {},
   "outputs": [
    {
     "data": {
      "text/plain": [
       "\n",
       "Call:\n",
       "lm(formula = log(df_train$SalePrice) ~ OverallQual + Neighborhood + \n",
       "    GrLivArea + GarageCars + OverallCond + BsmtFullBath + RoofMatl + \n",
       "    TotalBsmtSF + YearBuilt + Condition2 + BldgType + BsmtFinSF1 + \n",
       "    SaleCondition + LotArea + KitchenQual + MSZoning + Functional + \n",
       "    Exterior1st + Condition1 + WoodDeckSF + ScreenPorch + Fireplaces + \n",
       "    YearRemodAdd + SaleType + BsmtQual + X3SsnPorch + BsmtExposure + \n",
       "    Street + GarageArea + HalfBath + HeatingQC + EnclosedPorch + \n",
       "    PoolArea + LandSlope + LandContour + Heating + LowQualFinSF + \n",
       "    CentralAir + LotConfig, data = df_train)\n",
       "\n",
       "Coefficients:\n",
       "         (Intercept)           OverallQual   NeighborhoodBlueste  \n",
       "           2.785e+00             4.655e-02            -9.074e-03  \n",
       "  NeighborhoodBrDale   NeighborhoodBrkSide   NeighborhoodClearCr  \n",
       "          -8.460e-02            -4.531e-03            -6.008e-03  \n",
       " NeighborhoodCollgCr   NeighborhoodCrawfor   NeighborhoodEdwards  \n",
       "          -3.813e-02             8.823e-02            -1.146e-01  \n",
       " NeighborhoodGilbert    NeighborhoodIDOTRR   NeighborhoodMeadowV  \n",
       "          -4.137e-02            -4.938e-02            -2.163e-01  \n",
       " NeighborhoodMitchel     NeighborhoodNAmes   NeighborhoodNoRidge  \n",
       "          -8.823e-02            -5.801e-02             3.155e-02  \n",
       " NeighborhoodNPkVill   NeighborhoodNridgHt    NeighborhoodNWAmes  \n",
       "          -1.049e-02             6.022e-02            -5.887e-02  \n",
       " NeighborhoodOldTown    NeighborhoodSawyer   NeighborhoodSawyerW  \n",
       "          -7.970e-02            -7.001e-02            -2.508e-02  \n",
       " NeighborhoodSomerst   NeighborhoodStoneBr     NeighborhoodSWISU  \n",
       "          -3.420e-03             1.067e-01            -1.818e-02  \n",
       "  NeighborhoodTimber   NeighborhoodVeenker             GrLivArea  \n",
       "          -3.621e-02             1.865e-02             2.410e-04  \n",
       "          GarageCars           OverallCond          BsmtFullBath  \n",
       "           3.319e-02             3.924e-02             3.310e-02  \n",
       "     RoofMatlCompShg         RoofMatlMetal          RoofMatlRoll  \n",
       "           2.525e+00             2.611e+00             2.642e+00  \n",
       "     RoofMatlTar&Grv       RoofMatlWdShake       RoofMatlWdShngl  \n",
       "           2.580e+00             2.553e+00             2.518e+00  \n",
       "         TotalBsmtSF             YearBuilt       Condition2Feedr  \n",
       "           9.549e-05             1.866e-03             2.241e-01  \n",
       "      Condition2Norm        Condition2PosN        Condition2RRAn  \n",
       "           4.947e-02            -7.748e-01            -6.960e-02  \n",
       "      Condition2RRNn        BldgType2fmCon        BldgTypeDuplex  \n",
       "           9.919e-02            -4.623e-02            -4.426e-02  \n",
       "       BldgTypeTwnhs        BldgTypeTwnhsE            BsmtFinSF1  \n",
       "          -1.107e-01            -5.320e-02             6.432e-05  \n",
       "SaleConditionAdjLand   SaleConditionAlloca   SaleConditionFamily  \n",
       "           1.059e-01             4.770e-02            -1.011e-02  \n",
       " SaleConditionNormal  SaleConditionPartial               LotArea  \n",
       "           6.338e-02            -9.587e-02             2.000e-06  \n",
       "       KitchenQualFa         KitchenQualGd         KitchenQualTA  \n",
       "          -9.665e-02            -4.826e-02            -5.718e-02  \n",
       "          MSZoningFV            MSZoningRH            MSZoningRL  \n",
       "           3.304e-01             2.626e-01             2.938e-01  \n",
       "          MSZoningRM        FunctionalMaj2        FunctionalMin1  \n",
       "           2.476e-01            -2.022e-01            -2.300e-02  \n",
       "      FunctionalMin2         FunctionalMod         FunctionalSev  \n",
       "          -1.201e-02            -1.218e-01            -3.666e-01  \n",
       "       FunctionalTyp    Exterior1stAsphShn    Exterior1stBrkFace  \n",
       "           2.235e-02             7.599e-02             1.708e-01  \n",
       "  Exterior1stCemntBd    Exterior1stHdBoard    Exterior1stImStucc  \n",
       "           1.181e-01             7.001e-02             7.640e-02  \n",
       "  Exterior1stMetalSd    Exterior1stPlywood      Exterior1stStone  \n",
       "           9.712e-02             7.982e-02             9.157e-02  \n",
       "   Exterior1stStucco    Exterior1stVinylSd    Exterior1stWd Sdng  \n",
       "           6.791e-02             1.059e-01             6.597e-02  \n",
       "  Exterior1stWdShing       Condition1Feedr        Condition1Norm  \n",
       "           7.475e-02             4.819e-02             8.951e-02  \n",
       "      Condition1PosA        Condition1PosN        Condition1RRAe  \n",
       "           6.960e-02             7.158e-02            -4.718e-02  \n",
       "      Condition1RRAn        Condition1RRNe        Condition1RRNn  \n",
       "           7.274e-02             1.354e-01             2.100e-01  \n",
       "          WoodDeckSF           ScreenPorch            Fireplaces  \n",
       "           1.156e-04             2.234e-04             2.325e-02  \n",
       "        YearRemodAdd           SaleTypeCon         SaleTypeConLD  \n",
       "           6.249e-04             5.229e-02             9.410e-02  \n",
       "       SaleTypeConLI         SaleTypeConLw           SaleTypeCWD  \n",
       "          -6.348e-02             1.193e-02             8.855e-02  \n",
       "         SaleTypeNew           SaleTypeOth            SaleTypeWD  \n",
       "           1.943e-01             6.239e-02            -1.028e-02  \n",
       "          BsmtQualFa            BsmtQualGd            BsmtQualTA  \n",
       "          -6.494e-02            -4.229e-02            -4.744e-02  \n",
       "          X3SsnPorch        BsmtExposureGd        BsmtExposureMn  \n",
       "           3.086e-04             2.640e-02            -6.072e-03  \n",
       "      BsmtExposureNo            StreetPave            GarageArea  \n",
       "          -1.637e-02             1.382e-01             8.174e-05  \n",
       "            HalfBath           HeatingQCFa           HeatingQCGd  \n",
       "           1.933e-02            -1.617e-02            -2.842e-02  \n",
       "         HeatingQCPo           HeatingQCTA         EnclosedPorch  \n",
       "          -9.945e-02            -2.780e-02             1.162e-04  \n",
       "            PoolArea          LandSlopeMod          LandSlopeSev  \n",
       "           1.620e-04             4.568e-02            -6.022e-02  \n",
       "      LandContourHLS        LandContourLow        LandContourLvl  \n",
       "           3.972e-02             2.093e-02             4.725e-02  \n",
       "         HeatingGasW           HeatingGrav           HeatingOthW  \n",
       "           6.732e-02            -9.248e-02            -6.400e-02  \n",
       "         HeatingWall          LowQualFinSF           CentralAirY  \n",
       "          -3.742e-02            -1.221e-04             3.013e-02  \n",
       "    LotConfigCulDSac          LotConfigFR2          LotConfigFR3  \n",
       "           2.992e-02            -2.168e-02            -5.481e-02  \n",
       "     LotConfigInside  \n",
       "          -3.387e-03  \n"
      ]
     },
     "metadata": {},
     "output_type": "display_data"
    }
   ],
   "source": [
    "mod_intercept = lm(log(df_train$SalePrice)~1,data=df_train)\n",
    " \n",
    "mod_forward = step(mod_intercept,log(df_train$SalePrice) ~ MSSubClass+MSZoning+LotFrontage+LotArea+Street+LotShape+LandContour+\n",
    "                   Utilities+LotConfig+LandSlope+Neighborhood+Condition1+Condition2+BldgType+HouseStyle+OverallQual+OverallCond+\n",
    "                   YearBuilt+YearRemodAdd+RoofStyle+RoofMatl+Exterior1st+Exterior2nd+MasVnrType+MasVnrArea+ExterQual+ExterCond+\n",
    "                   Foundation+BsmtQual+BsmtCond+BsmtExposure+BsmtFinType1+BsmtFinSF1+BsmtFinType2+BsmtFinSF2+BsmtUnfSF+TotalBsmtSF+\n",
    "                   Heating+HeatingQC+CentralAir+Electrical+X1stFlrSF+X2ndFlrSF+LowQualFinSF+GrLivArea+BsmtFullBath+BsmtHalfBath+\n",
    "                   FullBath+HalfBath+BedroomAbvGr+KitchenAbvGr+KitchenQual+TotRmsAbvGrd+Functional+Fireplaces+GarageType+\n",
    "                   GarageYrBlt+GarageFinish+GarageCars+GarageArea+GarageQual+GarageCond+PavedDrive+WoodDeckSF+OpenPorchSF+\n",
    "                   EnclosedPorch+X3SsnPorch+ScreenPorch+PoolArea+MiscVal+MoSold+YrSold+SaleType+SaleCondition,\n",
    "                   data=df_train, trace=F, direction=c('forward'))\n",
    "mod_forward"
   ]
  },
  {
   "cell_type": "code",
   "execution_count": 35,
   "id": "c03c6c28",
   "metadata": {},
   "outputs": [
    {
     "data": {
      "text/plain": [
       "\n",
       "Call:\n",
       "lm(formula = log(df_train$SalePrice) ~ OverallQual + Neighborhood + \n",
       "    GrLivArea + GarageCars + OverallCond + BsmtFullBath + RoofMatl + \n",
       "    TotalBsmtSF + YearBuilt + Condition2 + BldgType + BsmtFinSF1 + \n",
       "    SaleCondition + LotArea + KitchenQual + MSZoning + Functional + \n",
       "    Exterior1st + Condition1 + WoodDeckSF + ScreenPorch + Fireplaces + \n",
       "    YearRemodAdd + SaleType + BsmtQual + X3SsnPorch + BsmtExposure + \n",
       "    Street + GarageArea + HalfBath + HeatingQC + EnclosedPorch + \n",
       "    PoolArea + LandSlope + LandContour + Heating + LowQualFinSF + \n",
       "    CentralAir + LotConfig, data = df_train)\n",
       "\n",
       "Coefficients:\n",
       "         (Intercept)           OverallQual   NeighborhoodBlueste  \n",
       "           2.785e+00             4.655e-02            -9.074e-03  \n",
       "  NeighborhoodBrDale   NeighborhoodBrkSide   NeighborhoodClearCr  \n",
       "          -8.460e-02            -4.531e-03            -6.008e-03  \n",
       " NeighborhoodCollgCr   NeighborhoodCrawfor   NeighborhoodEdwards  \n",
       "          -3.813e-02             8.823e-02            -1.146e-01  \n",
       " NeighborhoodGilbert    NeighborhoodIDOTRR   NeighborhoodMeadowV  \n",
       "          -4.137e-02            -4.938e-02            -2.163e-01  \n",
       " NeighborhoodMitchel     NeighborhoodNAmes   NeighborhoodNoRidge  \n",
       "          -8.823e-02            -5.801e-02             3.155e-02  \n",
       " NeighborhoodNPkVill   NeighborhoodNridgHt    NeighborhoodNWAmes  \n",
       "          -1.049e-02             6.022e-02            -5.887e-02  \n",
       " NeighborhoodOldTown    NeighborhoodSawyer   NeighborhoodSawyerW  \n",
       "          -7.970e-02            -7.001e-02            -2.508e-02  \n",
       " NeighborhoodSomerst   NeighborhoodStoneBr     NeighborhoodSWISU  \n",
       "          -3.420e-03             1.067e-01            -1.818e-02  \n",
       "  NeighborhoodTimber   NeighborhoodVeenker             GrLivArea  \n",
       "          -3.621e-02             1.865e-02             2.410e-04  \n",
       "          GarageCars           OverallCond          BsmtFullBath  \n",
       "           3.319e-02             3.924e-02             3.310e-02  \n",
       "     RoofMatlCompShg         RoofMatlMetal          RoofMatlRoll  \n",
       "           2.525e+00             2.611e+00             2.642e+00  \n",
       "     RoofMatlTar&Grv       RoofMatlWdShake       RoofMatlWdShngl  \n",
       "           2.580e+00             2.553e+00             2.518e+00  \n",
       "         TotalBsmtSF             YearBuilt       Condition2Feedr  \n",
       "           9.549e-05             1.866e-03             2.241e-01  \n",
       "      Condition2Norm        Condition2PosN        Condition2RRAn  \n",
       "           4.947e-02            -7.748e-01            -6.960e-02  \n",
       "      Condition2RRNn        BldgType2fmCon        BldgTypeDuplex  \n",
       "           9.919e-02            -4.623e-02            -4.426e-02  \n",
       "       BldgTypeTwnhs        BldgTypeTwnhsE            BsmtFinSF1  \n",
       "          -1.107e-01            -5.320e-02             6.432e-05  \n",
       "SaleConditionAdjLand   SaleConditionAlloca   SaleConditionFamily  \n",
       "           1.059e-01             4.770e-02            -1.011e-02  \n",
       " SaleConditionNormal  SaleConditionPartial               LotArea  \n",
       "           6.338e-02            -9.587e-02             2.000e-06  \n",
       "       KitchenQualFa         KitchenQualGd         KitchenQualTA  \n",
       "          -9.665e-02            -4.826e-02            -5.718e-02  \n",
       "          MSZoningFV            MSZoningRH            MSZoningRL  \n",
       "           3.304e-01             2.626e-01             2.938e-01  \n",
       "          MSZoningRM        FunctionalMaj2        FunctionalMin1  \n",
       "           2.476e-01            -2.022e-01            -2.300e-02  \n",
       "      FunctionalMin2         FunctionalMod         FunctionalSev  \n",
       "          -1.201e-02            -1.218e-01            -3.666e-01  \n",
       "       FunctionalTyp    Exterior1stAsphShn    Exterior1stBrkFace  \n",
       "           2.235e-02             7.599e-02             1.708e-01  \n",
       "  Exterior1stCemntBd    Exterior1stHdBoard    Exterior1stImStucc  \n",
       "           1.181e-01             7.001e-02             7.640e-02  \n",
       "  Exterior1stMetalSd    Exterior1stPlywood      Exterior1stStone  \n",
       "           9.712e-02             7.982e-02             9.157e-02  \n",
       "   Exterior1stStucco    Exterior1stVinylSd    Exterior1stWd Sdng  \n",
       "           6.791e-02             1.059e-01             6.597e-02  \n",
       "  Exterior1stWdShing       Condition1Feedr        Condition1Norm  \n",
       "           7.475e-02             4.819e-02             8.951e-02  \n",
       "      Condition1PosA        Condition1PosN        Condition1RRAe  \n",
       "           6.960e-02             7.158e-02            -4.718e-02  \n",
       "      Condition1RRAn        Condition1RRNe        Condition1RRNn  \n",
       "           7.274e-02             1.354e-01             2.100e-01  \n",
       "          WoodDeckSF           ScreenPorch            Fireplaces  \n",
       "           1.156e-04             2.234e-04             2.325e-02  \n",
       "        YearRemodAdd           SaleTypeCon         SaleTypeConLD  \n",
       "           6.249e-04             5.229e-02             9.410e-02  \n",
       "       SaleTypeConLI         SaleTypeConLw           SaleTypeCWD  \n",
       "          -6.348e-02             1.193e-02             8.855e-02  \n",
       "         SaleTypeNew           SaleTypeOth            SaleTypeWD  \n",
       "           1.943e-01             6.239e-02            -1.028e-02  \n",
       "          BsmtQualFa            BsmtQualGd            BsmtQualTA  \n",
       "          -6.494e-02            -4.229e-02            -4.744e-02  \n",
       "          X3SsnPorch        BsmtExposureGd        BsmtExposureMn  \n",
       "           3.086e-04             2.640e-02            -6.072e-03  \n",
       "      BsmtExposureNo            StreetPave            GarageArea  \n",
       "          -1.637e-02             1.382e-01             8.174e-05  \n",
       "            HalfBath           HeatingQCFa           HeatingQCGd  \n",
       "           1.933e-02            -1.617e-02            -2.842e-02  \n",
       "         HeatingQCPo           HeatingQCTA         EnclosedPorch  \n",
       "          -9.945e-02            -2.780e-02             1.162e-04  \n",
       "            PoolArea          LandSlopeMod          LandSlopeSev  \n",
       "           1.620e-04             4.568e-02            -6.022e-02  \n",
       "      LandContourHLS        LandContourLow        LandContourLvl  \n",
       "           3.972e-02             2.093e-02             4.725e-02  \n",
       "         HeatingGasW           HeatingGrav           HeatingOthW  \n",
       "           6.732e-02            -9.248e-02            -6.400e-02  \n",
       "         HeatingWall          LowQualFinSF           CentralAirY  \n",
       "          -3.742e-02            -1.221e-04             3.013e-02  \n",
       "    LotConfigCulDSac          LotConfigFR2          LotConfigFR3  \n",
       "           2.992e-02            -2.168e-02            -5.481e-02  \n",
       "     LotConfigInside  \n",
       "          -3.387e-03  \n"
      ]
     },
     "metadata": {},
     "output_type": "display_data"
    }
   ],
   "source": [
    "mod_both = step(mod_intercept,log(df_train$SalePrice) ~ MSSubClass+MSZoning+LotFrontage+LotArea+Street+LotShape+LandContour+\n",
    "                   Utilities+LotConfig+LandSlope+Neighborhood+Condition1+Condition2+BldgType+HouseStyle+OverallQual+OverallCond+\n",
    "                   YearBuilt+YearRemodAdd+RoofStyle+RoofMatl+Exterior1st+Exterior2nd+MasVnrType+MasVnrArea+ExterQual+ExterCond+\n",
    "                   Foundation+BsmtQual+BsmtCond+BsmtExposure+BsmtFinType1+BsmtFinSF1+BsmtFinType2+BsmtFinSF2+BsmtUnfSF+TotalBsmtSF+\n",
    "                   Heating+HeatingQC+CentralAir+Electrical+X1stFlrSF+X2ndFlrSF+LowQualFinSF+GrLivArea+BsmtFullBath+BsmtHalfBath+\n",
    "                   FullBath+HalfBath+BedroomAbvGr+KitchenAbvGr+KitchenQual+TotRmsAbvGrd+Functional+Fireplaces+GarageType+\n",
    "                   GarageYrBlt+GarageFinish+GarageCars+GarageArea+GarageQual+GarageCond+PavedDrive+WoodDeckSF+OpenPorchSF+\n",
    "                   EnclosedPorch+X3SsnPorch+ScreenPorch+PoolArea+MiscVal+MoSold+YrSold+SaleType+SaleCondition,\n",
    "                   data=df_train, trace=F, direction=c('both'))\n",
    "mod_both"
   ]
  },
  {
   "cell_type": "code",
   "execution_count": 36,
   "id": "4cb59b30",
   "metadata": {},
   "outputs": [],
   "source": [
    "mod_backward=step(model_all,~.,trace=F,direction=c(\"backward\"))"
   ]
  },
  {
   "cell_type": "markdown",
   "id": "67577646",
   "metadata": {},
   "source": [
    "\n",
    "Model final par extraction de l’AIC\n"
   ]
  },
  {
   "cell_type": "code",
   "execution_count": 37,
   "id": "27fa0df5",
   "metadata": {},
   "outputs": [
    {
     "data": {
      "text/html": [
       "<dl class=dl-horizontal>\n",
       "\t<dt>model_all</dt>\n",
       "\t\t<dd>-4716.17226951048</dd>\n",
       "\t<dt>mod_Anova</dt>\n",
       "\t\t<dd>-4175.19251983296</dd>\n",
       "\t<dt>mod_anova</dt>\n",
       "\t\t<dd>-4641.14408031071</dd>\n",
       "\t<dt>mod_both</dt>\n",
       "\t\t<dd>-4795.98858337976</dd>\n",
       "\t<dt>mod_backward</dt>\n",
       "\t\t<dd>-4793.40290032567</dd>\n",
       "\t<dt>mod_forward</dt>\n",
       "\t\t<dd>-4795.98858337976</dd>\n",
       "</dl>\n"
      ],
      "text/latex": [
       "\\begin{description*}\n",
       "\\item[model\\textbackslash{}\\_all] -4716.17226951048\n",
       "\\item[mod\\textbackslash{}\\_Anova] -4175.19251983296\n",
       "\\item[mod\\textbackslash{}\\_anova] -4641.14408031071\n",
       "\\item[mod\\textbackslash{}\\_both] -4795.98858337976\n",
       "\\item[mod\\textbackslash{}\\_backward] -4793.40290032567\n",
       "\\item[mod\\textbackslash{}\\_forward] -4795.98858337976\n",
       "\\end{description*}\n"
      ],
      "text/markdown": [
       "model_all\n",
       ":   -4716.17226951048mod_Anova\n",
       ":   -4175.19251983296mod_anova\n",
       ":   -4641.14408031071mod_both\n",
       ":   -4795.98858337976mod_backward\n",
       ":   -4793.40290032567mod_forward\n",
       ":   -4795.98858337976\n",
       "\n"
      ],
      "text/plain": [
       "   model_all    mod_Anova    mod_anova     mod_both mod_backward  mod_forward \n",
       "   -4716.172    -4175.193    -4641.144    -4795.989    -4793.403    -4795.989 "
      ]
     },
     "metadata": {},
     "output_type": "display_data"
    }
   ],
   "source": [
    "AIC = c(extractAIC(model_all)[2],extractAIC(mod_Anova)[2],extractAIC(mod_anova)[2],extractAIC(mod_both)[2],extractAIC(mod_backward)[2],extractAIC(mod_forward)[2])\n",
    "names(AIC) = c('model_all','mod_Anova','mod_anova','mod_both','mod_backward','mod_forward')\n",
    "AIC"
   ]
  },
  {
   "cell_type": "code",
   "execution_count": 38,
   "id": "ec9f2721",
   "metadata": {},
   "outputs": [
    {
     "data": {
      "text/plain": [
       "      rstudent unadjusted p-value Bonferonni p\n",
       "743  -5.852151         6.5702e-09   7.1221e-06\n",
       "814  -4.923758         9.9255e-07   1.0759e-03\n",
       "1079 -4.159650         3.4608e-05   3.7516e-02"
      ]
     },
     "metadata": {},
     "output_type": "display_data"
    }
   ],
   "source": [
    "outlierTest(mod_Anova)"
   ]
  },
  {
   "cell_type": "code",
   "execution_count": 39,
   "id": "763c7a3f",
   "metadata": {},
   "outputs": [],
   "source": [
    "train_sansOutliers = DatAnova[-c(743,814,1079),]"
   ]
  },
  {
   "cell_type": "code",
   "execution_count": 40,
   "id": "7aa2af5b",
   "metadata": {},
   "outputs": [],
   "source": [
    "mod_final = lm(log(DatAnova$SalePrice)~., data=DatAnova)"
   ]
  },
  {
   "cell_type": "code",
   "execution_count": 45,
   "id": "75d30d1a",
   "metadata": {},
   "outputs": [
    {
     "name": "stderr",
     "output_type": "stream",
     "text": [
      "Warning message in exp(y_train_pred) - df_train_subset_two$SalePrice:\n",
      "\"la taille d'un objet plus long n'est pas multiple de la taille d'un objet plus court\""
     ]
    },
    {
     "name": "stdout",
     "output_type": "stream",
     "text": [
      "[1] \"RMSE sur le dataset de train:\"\n",
      "[1] 72237\n"
     ]
    }
   ],
   "source": [
    "y_train_pred = (predict(mod_final, newdata=train_sansOutliers[,-c(25)]))\n",
    "#y_test_pred =(predict(mod_final, newdata=df_test_subset_two_b ))\n",
    "\n",
    "\n",
    "RMSE_train = c(sqrt(mean((exp(y_train_pred)-df_train_subset_two$SalePrice)^2)))\n",
    "#RMSE_test = c(sqrt(mean((exp(y_test_pred)-df_test_subset_two$SalePrice)^2)))\n",
    "\n",
    "print(\"RMSE sur le dataset de train:\"); print(RMSE_train, digits=5)"
   ]
  },
  {
   "cell_type": "code",
   "execution_count": 43,
   "id": "237b5bb4",
   "metadata": {},
   "outputs": [
    {
     "data": {
      "text/html": [
       "<ol class=list-inline>\n",
       "\t<li>1092</li>\n",
       "\t<li>25</li>\n",
       "</ol>\n"
      ],
      "text/latex": [
       "\\begin{enumerate*}\n",
       "\\item 1092\n",
       "\\item 25\n",
       "\\end{enumerate*}\n"
      ],
      "text/markdown": [
       "1. 1092\n",
       "2. 25\n",
       "\n",
       "\n"
      ],
      "text/plain": [
       "[1] 1092   25"
      ]
     },
     "metadata": {},
     "output_type": "display_data"
    }
   ],
   "source": [
    "dim(train_sansOutliers)"
   ]
  },
  {
   "cell_type": "markdown",
   "id": "b226fd3f",
   "metadata": {},
   "source": [
    "---\n",
    "# Modèles finale et comparaison des RMSE"
   ]
  },
  {
   "cell_type": "code",
   "execution_count": null,
   "id": "5dc6f6a3",
   "metadata": {},
   "outputs": [],
   "source": []
  },
  {
   "cell_type": "markdown",
   "id": "9f6ddce1",
   "metadata": {},
   "source": [
    "---\n",
    "# Discussion\n",
    "- ouverture à d'autres modèles tree-based & ensembliste, NN\n",
    "- ici si besoin d'explicabilité reg lin intéressante mais nécessite plus de feat eng.\n",
    "- pour améliorer: plus de data, plus de feat eng., comparer de nouveaux modèles..."
   ]
  },
  {
   "cell_type": "code",
   "execution_count": null,
   "id": "7a422df1",
   "metadata": {},
   "outputs": [],
   "source": []
  }
 ],
 "metadata": {
  "kernelspec": {
   "display_name": "R",
   "language": "R",
   "name": "ir"
  },
  "language_info": {
   "codemirror_mode": "r",
   "file_extension": ".r",
   "mimetype": "text/x-r-source",
   "name": "R",
   "pygments_lexer": "r",
   "version": "3.6.1"
  }
 },
 "nbformat": 4,
 "nbformat_minor": 5
}
